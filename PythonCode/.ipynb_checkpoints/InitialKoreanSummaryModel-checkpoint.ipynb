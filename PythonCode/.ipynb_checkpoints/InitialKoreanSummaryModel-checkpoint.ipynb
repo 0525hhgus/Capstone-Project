{
 "cells": [
  {
   "cell_type": "markdown",
   "metadata": {},
   "source": [
    "# Korean News Summary Model"
   ]
  },
  {
   "cell_type": "code",
   "execution_count": 1,
   "metadata": {},
   "outputs": [
    {
     "name": "stderr",
     "output_type": "stream",
     "text": [
      "C:\\Users\\USER\\anaconda3\\lib\\site-packages\\tensorflow\\python\\framework\\dtypes.py:516: FutureWarning: Passing (type, 1) or '1type' as a synonym of type is deprecated; in a future version of numpy, it will be understood as (type, (1,)) / '(1,)type'.\n",
      "  _np_qint8 = np.dtype([(\"qint8\", np.int8, 1)])\n",
      "C:\\Users\\USER\\anaconda3\\lib\\site-packages\\tensorflow\\python\\framework\\dtypes.py:517: FutureWarning: Passing (type, 1) or '1type' as a synonym of type is deprecated; in a future version of numpy, it will be understood as (type, (1,)) / '(1,)type'.\n",
      "  _np_quint8 = np.dtype([(\"quint8\", np.uint8, 1)])\n",
      "C:\\Users\\USER\\anaconda3\\lib\\site-packages\\tensorflow\\python\\framework\\dtypes.py:518: FutureWarning: Passing (type, 1) or '1type' as a synonym of type is deprecated; in a future version of numpy, it will be understood as (type, (1,)) / '(1,)type'.\n",
      "  _np_qint16 = np.dtype([(\"qint16\", np.int16, 1)])\n",
      "C:\\Users\\USER\\anaconda3\\lib\\site-packages\\tensorflow\\python\\framework\\dtypes.py:519: FutureWarning: Passing (type, 1) or '1type' as a synonym of type is deprecated; in a future version of numpy, it will be understood as (type, (1,)) / '(1,)type'.\n",
      "  _np_quint16 = np.dtype([(\"quint16\", np.uint16, 1)])\n",
      "C:\\Users\\USER\\anaconda3\\lib\\site-packages\\tensorflow\\python\\framework\\dtypes.py:520: FutureWarning: Passing (type, 1) or '1type' as a synonym of type is deprecated; in a future version of numpy, it will be understood as (type, (1,)) / '(1,)type'.\n",
      "  _np_qint32 = np.dtype([(\"qint32\", np.int32, 1)])\n",
      "C:\\Users\\USER\\anaconda3\\lib\\site-packages\\tensorflow\\python\\framework\\dtypes.py:525: FutureWarning: Passing (type, 1) or '1type' as a synonym of type is deprecated; in a future version of numpy, it will be understood as (type, (1,)) / '(1,)type'.\n",
      "  np_resource = np.dtype([(\"resource\", np.ubyte, 1)])\n",
      "C:\\Users\\USER\\anaconda3\\lib\\site-packages\\tensorboard\\compat\\tensorflow_stub\\dtypes.py:541: FutureWarning: Passing (type, 1) or '1type' as a synonym of type is deprecated; in a future version of numpy, it will be understood as (type, (1,)) / '(1,)type'.\n",
      "  _np_qint8 = np.dtype([(\"qint8\", np.int8, 1)])\n",
      "C:\\Users\\USER\\anaconda3\\lib\\site-packages\\tensorboard\\compat\\tensorflow_stub\\dtypes.py:542: FutureWarning: Passing (type, 1) or '1type' as a synonym of type is deprecated; in a future version of numpy, it will be understood as (type, (1,)) / '(1,)type'.\n",
      "  _np_quint8 = np.dtype([(\"quint8\", np.uint8, 1)])\n",
      "C:\\Users\\USER\\anaconda3\\lib\\site-packages\\tensorboard\\compat\\tensorflow_stub\\dtypes.py:543: FutureWarning: Passing (type, 1) or '1type' as a synonym of type is deprecated; in a future version of numpy, it will be understood as (type, (1,)) / '(1,)type'.\n",
      "  _np_qint16 = np.dtype([(\"qint16\", np.int16, 1)])\n",
      "C:\\Users\\USER\\anaconda3\\lib\\site-packages\\tensorboard\\compat\\tensorflow_stub\\dtypes.py:544: FutureWarning: Passing (type, 1) or '1type' as a synonym of type is deprecated; in a future version of numpy, it will be understood as (type, (1,)) / '(1,)type'.\n",
      "  _np_quint16 = np.dtype([(\"quint16\", np.uint16, 1)])\n",
      "C:\\Users\\USER\\anaconda3\\lib\\site-packages\\tensorboard\\compat\\tensorflow_stub\\dtypes.py:545: FutureWarning: Passing (type, 1) or '1type' as a synonym of type is deprecated; in a future version of numpy, it will be understood as (type, (1,)) / '(1,)type'.\n",
      "  _np_qint32 = np.dtype([(\"qint32\", np.int32, 1)])\n",
      "C:\\Users\\USER\\anaconda3\\lib\\site-packages\\tensorboard\\compat\\tensorflow_stub\\dtypes.py:550: FutureWarning: Passing (type, 1) or '1type' as a synonym of type is deprecated; in a future version of numpy, it will be understood as (type, (1,)) / '(1,)type'.\n",
      "  np_resource = np.dtype([(\"resource\", np.ubyte, 1)])\n"
     ]
    }
   ],
   "source": [
    "import numpy as np\n",
    "import pandas as pd\n",
    "import re\n",
    "import matplotlib.pyplot as plt\n",
    "import nltk\n",
    "from bs4 import BeautifulSoup \n",
    "from tensorflow.keras.preprocessing.text import Tokenizer \n",
    "from tensorflow.keras.preprocessing.sequence import pad_sequences\n",
    "import urllib.request\n",
    "np.random.seed(seed=0)"
   ]
  },
  {
   "cell_type": "markdown",
   "metadata": {},
   "source": [
    "## Data"
   ]
  },
  {
   "cell_type": "code",
   "execution_count": 2,
   "metadata": {},
   "outputs": [
    {
     "name": "stdout",
     "output_type": "stream",
     "text": [
      "전체 뉴스 개수 : 262\n"
     ]
    }
   ],
   "source": [
    "data = pd.read_excel(\"정치 텍스트.xlsx\")\n",
    "print('전체 뉴스 개수 :',(len(data)))"
   ]
  },
  {
   "cell_type": "code",
   "execution_count": 3,
   "metadata": {
    "scrolled": true
   },
   "outputs": [
    {
     "data": {
      "text/html": [
       "<div>\n",
       "<style scoped>\n",
       "    .dataframe tbody tr th:only-of-type {\n",
       "        vertical-align: middle;\n",
       "    }\n",
       "\n",
       "    .dataframe tbody tr th {\n",
       "        vertical-align: top;\n",
       "    }\n",
       "\n",
       "    .dataframe thead th {\n",
       "        text-align: right;\n",
       "    }\n",
       "</style>\n",
       "<table border=\"1\" class=\"dataframe\">\n",
       "  <thead>\n",
       "    <tr style=\"text-align: right;\">\n",
       "      <th></th>\n",
       "      <th>기사번호</th>\n",
       "      <th>기사카테고리</th>\n",
       "      <th>매체유형</th>\n",
       "      <th>매체구분</th>\n",
       "      <th>매체명</th>\n",
       "      <th>기사대중소</th>\n",
       "      <th>기사본문글자수</th>\n",
       "      <th>발행일시</th>\n",
       "      <th>제목</th>\n",
       "      <th>내용</th>\n",
       "      <th>가독성</th>\n",
       "      <th>정확성</th>\n",
       "      <th>정보성</th>\n",
       "      <th>신뢰성</th>\n",
       "      <th>생성</th>\n",
       "      <th>추출1</th>\n",
       "      <th>추출2</th>\n",
       "      <th>추출3</th>\n",
       "    </tr>\n",
       "  </thead>\n",
       "  <tbody>\n",
       "    <tr>\n",
       "      <th>0</th>\n",
       "      <td>351874433</td>\n",
       "      <td>정치</td>\n",
       "      <td>online</td>\n",
       "      <td>지역지</td>\n",
       "      <td>광주매일신문</td>\n",
       "      <td>small</td>\n",
       "      <td>949</td>\n",
       "      <td>2019-07-08 19:18:00</td>\n",
       "      <td>광주형 맥주축제 ‘Beer Fest Gwangju’ 주목</td>\n",
       "      <td>테마파크 컨셉…타지역 맥주축제와 차별화\\n2019광주세계수영선수권대회를 기념해 열리...</td>\n",
       "      <td>3</td>\n",
       "      <td>4</td>\n",
       "      <td>4</td>\n",
       "      <td>4</td>\n",
       "      <td>2019광주세계수영선수권대회를 기념해 열리는 ‘2019 Beer Fest Gwang...</td>\n",
       "      <td>2019광주세계수영선수권대회를 기념해 열리는 ‘2019 Beer Fest Gwang...</td>\n",
       "      <td>오는 11일부터 20일까지 10일간, 8월9일부터 18일까지 10일간 총 20일간 ...</td>\n",
       "      <td>맥주축제의 원조격인 독일 ‘옥토버페스트’와 ‘컨테이너러브페스티벌’의 컨셉에 광주만의...</td>\n",
       "    </tr>\n",
       "    <tr>\n",
       "      <th>1</th>\n",
       "      <td>363605134</td>\n",
       "      <td>정치</td>\n",
       "      <td>online</td>\n",
       "      <td>지역지</td>\n",
       "      <td>광주매일신문</td>\n",
       "      <td>small</td>\n",
       "      <td>804</td>\n",
       "      <td>2019-10-17 18:53:00</td>\n",
       "      <td>신수정 “광주시 주요사업 시민·현장 소통 부족”</td>\n",
       "      <td>시정질문서 “실·국별 의견수렴 절차 패싱” 지적\\n\\n17일 광주시의회 본회의장에서...</td>\n",
       "      <td>3</td>\n",
       "      <td>4</td>\n",
       "      <td>4</td>\n",
       "      <td>4</td>\n",
       "      <td>광주시는 주요 사업을 추진함에 있어서 시민, 현장, 의회와 소통해야 한다.</td>\n",
       "      <td>광주시가 실국별로 진행하는 114개 주요사업에 시민과 현장 소통이 부족하다는 지적이...</td>\n",
       "      <td>이러한 현상은 사업추진 과정에서도 마찬가지였다.</td>\n",
       "      <td>신 의원은 “조례나 규정없이 집행된 주요사업의 예산이 무려 1조1천700억원이나 된...</td>\n",
       "    </tr>\n",
       "    <tr>\n",
       "      <th>2</th>\n",
       "      <td>351329927</td>\n",
       "      <td>정치</td>\n",
       "      <td>online</td>\n",
       "      <td>지역지</td>\n",
       "      <td>광주매일신문</td>\n",
       "      <td>medium</td>\n",
       "      <td>1331</td>\n",
       "      <td>2019-07-03 18:23:00</td>\n",
       "      <td>“CT연구원 유치·경제자유구역 조성”</td>\n",
       "      <td>市, 민선7기 향후 3년 문화·경제분야 비전 발표\\n융·복합적 시스템 산업화로 4차...</td>\n",
       "      <td>4</td>\n",
       "      <td>4</td>\n",
       "      <td>5</td>\n",
       "      <td>4</td>\n",
       "      <td>광주시는 품격있는 문화도시 광주를 만들기 위해 문화전당과 시가 연계한 융복합 문화콘...</td>\n",
       "      <td>광주시는 ‘품격있는 문화도시 광주’ 조성을 위해 문화예술과 기술, 산업과 행정을 아...</td>\n",
       "      <td>또 문화전당과 시, 광주정보문화산업진흥원 등과 연계한 융복합 문화콘텐츠 프로그램 개...</td>\n",
       "      <td>경제분야 성과로는 ▲4년 일자리정책로드맵 수립 ▲중소기업과 소상공인 지원 인프라 구...</td>\n",
       "    </tr>\n",
       "    <tr>\n",
       "      <th>3</th>\n",
       "      <td>346846078</td>\n",
       "      <td>정치</td>\n",
       "      <td>online</td>\n",
       "      <td>지역지</td>\n",
       "      <td>광주매일신문</td>\n",
       "      <td>medium</td>\n",
       "      <td>1254</td>\n",
       "      <td>2019-05-28 18:36:00</td>\n",
       "      <td>광주 ‘인쇄의 거리 활성화’ 나선다</td>\n",
       "      <td>市, 정부 ‘도시형 소공인 집적지구’ 지정 추진\\n판로개척·경진대회·컨설팅 등 역량...</td>\n",
       "      <td>4</td>\n",
       "      <td>5</td>\n",
       "      <td>5</td>\n",
       "      <td>4</td>\n",
       "      <td>광주시는 문화전당 일대 인쇄의거리 활성화를 위해 주민 간담회를 열고 인쇄의거리 입구...</td>\n",
       "      <td>광주시가 동구 인쇄의거리를 도시형 소공인 집적지구로 지정하는 방안을 추진하는 등 문...</td>\n",
       "      <td>이병훈 광주시 문화경제부시장은 28일 문화전당 일대 인쇄의거리 활성화를 위해 주민 ...</td>\n",
       "      <td>간담회에서는 ▲인쇄의거리 입구-전남대병원 오거리 도로 확장 ▲도시형 소공인 집적지구...</td>\n",
       "    </tr>\n",
       "    <tr>\n",
       "      <th>4</th>\n",
       "      <td>347417673</td>\n",
       "      <td>정치</td>\n",
       "      <td>online</td>\n",
       "      <td>지역지</td>\n",
       "      <td>광주매일신문</td>\n",
       "      <td>medium</td>\n",
       "      <td>1038</td>\n",
       "      <td>2019-06-02 18:05:00</td>\n",
       "      <td>순천, 이정현 무소속 출마 관심 속 민주 후보 설욕전</td>\n",
       "      <td>21대 총선 누가 뛰나\\n\\n지난 20대 총선 광주·전남 선거구에서 유일하게 ‘빨간...</td>\n",
       "      <td>4</td>\n",
       "      <td>5</td>\n",
       "      <td>5</td>\n",
       "      <td>4</td>\n",
       "      <td>지난 총선에서 순천 보수 정당 후보로 당선된 이정현 의원은 순천 표심을 얻고 있어 ...</td>\n",
       "      <td>지난 20대 총선 광주·전남 선거구에서 유일하게 ‘빨간 깃발’을 꽂았던 순천은 이정...</td>\n",
       "      <td>순천 표심의 향배가 당보다는 인물 중심으로 전략적 선택을 해왔던 적이 많았기 때문에...</td>\n",
       "      <td>지난 총선에서 보수 정당의 후보로 당선돼 호남 정치사를 새로 쓴 이 의원은 청와대에...</td>\n",
       "    </tr>\n",
       "  </tbody>\n",
       "</table>\n",
       "</div>"
      ],
      "text/plain": [
       "        기사번호 기사카테고리    매체유형 매체구분     매체명   기사대중소  기사본문글자수  \\\n",
       "0  351874433     정치  online  지역지  광주매일신문   small      949   \n",
       "1  363605134     정치  online  지역지  광주매일신문   small      804   \n",
       "2  351329927     정치  online  지역지  광주매일신문  medium     1331   \n",
       "3  346846078     정치  online  지역지  광주매일신문  medium     1254   \n",
       "4  347417673     정치  online  지역지  광주매일신문  medium     1038   \n",
       "\n",
       "                  발행일시                               제목  \\\n",
       "0  2019-07-08 19:18:00  광주형 맥주축제 ‘Beer Fest Gwangju’ 주목   \n",
       "1  2019-10-17 18:53:00       신수정 “광주시 주요사업 시민·현장 소통 부족”   \n",
       "2  2019-07-03 18:23:00             “CT연구원 유치·경제자유구역 조성”   \n",
       "3  2019-05-28 18:36:00              광주 ‘인쇄의 거리 활성화’ 나선다   \n",
       "4  2019-06-02 18:05:00    순천, 이정현 무소속 출마 관심 속 민주 후보 설욕전   \n",
       "\n",
       "                                                  내용  가독성  정확성  정보성  신뢰성  \\\n",
       "0  테마파크 컨셉…타지역 맥주축제와 차별화\\n2019광주세계수영선수권대회를 기념해 열리...    3    4    4    4   \n",
       "1  시정질문서 “실·국별 의견수렴 절차 패싱” 지적\\n\\n17일 광주시의회 본회의장에서...    3    4    4    4   \n",
       "2  市, 민선7기 향후 3년 문화·경제분야 비전 발표\\n융·복합적 시스템 산업화로 4차...    4    4    5    4   \n",
       "3  市, 정부 ‘도시형 소공인 집적지구’ 지정 추진\\n판로개척·경진대회·컨설팅 등 역량...    4    5    5    4   \n",
       "4  21대 총선 누가 뛰나\\n\\n지난 20대 총선 광주·전남 선거구에서 유일하게 ‘빨간...    4    5    5    4   \n",
       "\n",
       "                                                  생성  \\\n",
       "0  2019광주세계수영선수권대회를 기념해 열리는 ‘2019 Beer Fest Gwang...   \n",
       "1          광주시는 주요 사업을 추진함에 있어서 시민, 현장, 의회와 소통해야 한다.   \n",
       "2  광주시는 품격있는 문화도시 광주를 만들기 위해 문화전당과 시가 연계한 융복합 문화콘...   \n",
       "3  광주시는 문화전당 일대 인쇄의거리 활성화를 위해 주민 간담회를 열고 인쇄의거리 입구...   \n",
       "4  지난 총선에서 순천 보수 정당 후보로 당선된 이정현 의원은 순천 표심을 얻고 있어 ...   \n",
       "\n",
       "                                                 추출1  \\\n",
       "0  2019광주세계수영선수권대회를 기념해 열리는 ‘2019 Beer Fest Gwang...   \n",
       "1  광주시가 실국별로 진행하는 114개 주요사업에 시민과 현장 소통이 부족하다는 지적이...   \n",
       "2  광주시는 ‘품격있는 문화도시 광주’ 조성을 위해 문화예술과 기술, 산업과 행정을 아...   \n",
       "3  광주시가 동구 인쇄의거리를 도시형 소공인 집적지구로 지정하는 방안을 추진하는 등 문...   \n",
       "4  지난 20대 총선 광주·전남 선거구에서 유일하게 ‘빨간 깃발’을 꽂았던 순천은 이정...   \n",
       "\n",
       "                                                 추출2  \\\n",
       "0  오는 11일부터 20일까지 10일간, 8월9일부터 18일까지 10일간 총 20일간 ...   \n",
       "1                         이러한 현상은 사업추진 과정에서도 마찬가지였다.   \n",
       "2  또 문화전당과 시, 광주정보문화산업진흥원 등과 연계한 융복합 문화콘텐츠 프로그램 개...   \n",
       "3  이병훈 광주시 문화경제부시장은 28일 문화전당 일대 인쇄의거리 활성화를 위해 주민 ...   \n",
       "4  순천 표심의 향배가 당보다는 인물 중심으로 전략적 선택을 해왔던 적이 많았기 때문에...   \n",
       "\n",
       "                                                 추출3  \n",
       "0  맥주축제의 원조격인 독일 ‘옥토버페스트’와 ‘컨테이너러브페스티벌’의 컨셉에 광주만의...  \n",
       "1  신 의원은 “조례나 규정없이 집행된 주요사업의 예산이 무려 1조1천700억원이나 된...  \n",
       "2  경제분야 성과로는 ▲4년 일자리정책로드맵 수립 ▲중소기업과 소상공인 지원 인프라 구...  \n",
       "3  간담회에서는 ▲인쇄의거리 입구-전남대병원 오거리 도로 확장 ▲도시형 소공인 집적지구...  \n",
       "4  지난 총선에서 보수 정당의 후보로 당선돼 호남 정치사를 새로 쓴 이 의원은 청와대에...  "
      ]
     },
     "execution_count": 3,
     "metadata": {},
     "output_type": "execute_result"
    }
   ],
   "source": [
    "data.head()"
   ]
  },
  {
   "cell_type": "code",
   "execution_count": 4,
   "metadata": {},
   "outputs": [
    {
     "data": {
      "text/html": [
       "<div>\n",
       "<style scoped>\n",
       "    .dataframe tbody tr th:only-of-type {\n",
       "        vertical-align: middle;\n",
       "    }\n",
       "\n",
       "    .dataframe tbody tr th {\n",
       "        vertical-align: top;\n",
       "    }\n",
       "\n",
       "    .dataframe thead th {\n",
       "        text-align: right;\n",
       "    }\n",
       "</style>\n",
       "<table border=\"1\" class=\"dataframe\">\n",
       "  <thead>\n",
       "    <tr style=\"text-align: right;\">\n",
       "      <th></th>\n",
       "      <th>내용</th>\n",
       "      <th>생성</th>\n",
       "    </tr>\n",
       "  </thead>\n",
       "  <tbody>\n",
       "    <tr>\n",
       "      <th>0</th>\n",
       "      <td>테마파크 컨셉…타지역 맥주축제와 차별화\\n2019광주세계수영선수권대회를 기념해 열리...</td>\n",
       "      <td>2019광주세계수영선수권대회를 기념해 열리는 ‘2019 Beer Fest Gwang...</td>\n",
       "    </tr>\n",
       "    <tr>\n",
       "      <th>1</th>\n",
       "      <td>시정질문서 “실·국별 의견수렴 절차 패싱” 지적\\n\\n17일 광주시의회 본회의장에서...</td>\n",
       "      <td>광주시는 주요 사업을 추진함에 있어서 시민, 현장, 의회와 소통해야 한다.</td>\n",
       "    </tr>\n",
       "    <tr>\n",
       "      <th>2</th>\n",
       "      <td>市, 민선7기 향후 3년 문화·경제분야 비전 발표\\n융·복합적 시스템 산업화로 4차...</td>\n",
       "      <td>광주시는 품격있는 문화도시 광주를 만들기 위해 문화전당과 시가 연계한 융복합 문화콘...</td>\n",
       "    </tr>\n",
       "    <tr>\n",
       "      <th>3</th>\n",
       "      <td>市, 정부 ‘도시형 소공인 집적지구’ 지정 추진\\n판로개척·경진대회·컨설팅 등 역량...</td>\n",
       "      <td>광주시는 문화전당 일대 인쇄의거리 활성화를 위해 주민 간담회를 열고 인쇄의거리 입구...</td>\n",
       "    </tr>\n",
       "    <tr>\n",
       "      <th>4</th>\n",
       "      <td>21대 총선 누가 뛰나\\n\\n지난 20대 총선 광주·전남 선거구에서 유일하게 ‘빨간...</td>\n",
       "      <td>지난 총선에서 순천 보수 정당 후보로 당선된 이정현 의원은 순천 표심을 얻고 있어 ...</td>\n",
       "    </tr>\n",
       "  </tbody>\n",
       "</table>\n",
       "</div>"
      ],
      "text/plain": [
       "                                                  내용  \\\n",
       "0  테마파크 컨셉…타지역 맥주축제와 차별화\\n2019광주세계수영선수권대회를 기념해 열리...   \n",
       "1  시정질문서 “실·국별 의견수렴 절차 패싱” 지적\\n\\n17일 광주시의회 본회의장에서...   \n",
       "2  市, 민선7기 향후 3년 문화·경제분야 비전 발표\\n융·복합적 시스템 산업화로 4차...   \n",
       "3  市, 정부 ‘도시형 소공인 집적지구’ 지정 추진\\n판로개척·경진대회·컨설팅 등 역량...   \n",
       "4  21대 총선 누가 뛰나\\n\\n지난 20대 총선 광주·전남 선거구에서 유일하게 ‘빨간...   \n",
       "\n",
       "                                                  생성  \n",
       "0  2019광주세계수영선수권대회를 기념해 열리는 ‘2019 Beer Fest Gwang...  \n",
       "1          광주시는 주요 사업을 추진함에 있어서 시민, 현장, 의회와 소통해야 한다.  \n",
       "2  광주시는 품격있는 문화도시 광주를 만들기 위해 문화전당과 시가 연계한 융복합 문화콘...  \n",
       "3  광주시는 문화전당 일대 인쇄의거리 활성화를 위해 주민 간담회를 열고 인쇄의거리 입구...  \n",
       "4  지난 총선에서 순천 보수 정당 후보로 당선된 이정현 의원은 순천 표심을 얻고 있어 ...  "
      ]
     },
     "execution_count": 4,
     "metadata": {},
     "output_type": "execute_result"
    }
   ],
   "source": [
    "data = data[['내용','생성']]\n",
    "data.head()"
   ]
  },
  {
   "cell_type": "markdown",
   "metadata": {},
   "source": [
    "## Preprocessing"
   ]
  },
  {
   "cell_type": "code",
   "execution_count": 5,
   "metadata": {},
   "outputs": [
    {
     "name": "stdout",
     "output_type": "stream",
     "text": [
      "내용 열에서 중복을 배제한 유일한 샘플의 수 : 262\n",
      "생성 열에서 중복을 배제한 유일한 샘플의 수 : 262\n"
     ]
    }
   ],
   "source": [
    "print('내용 열에서 중복을 배제한 유일한 샘플의 수 :', data['내용'].nunique())\n",
    "print('생성 열에서 중복을 배제한 유일한 샘플의 수 :', data['생성'].nunique())"
   ]
  },
  {
   "cell_type": "code",
   "execution_count": 6,
   "metadata": {},
   "outputs": [
    {
     "name": "stdout",
     "output_type": "stream",
     "text": [
      "전체 샘플수 : 262\n"
     ]
    }
   ],
   "source": [
    "# text 열에서 중복인 내용이 있다면 중복 제거\n",
    "data.drop_duplicates(subset=['내용'], inplace=True)\n",
    "print(\"전체 샘플수 :\", len(data))"
   ]
  },
  {
   "cell_type": "code",
   "execution_count": 7,
   "metadata": {},
   "outputs": [
    {
     "name": "stdout",
     "output_type": "stream",
     "text": [
      "내용    0\n",
      "생성    0\n",
      "dtype: int64\n"
     ]
    }
   ],
   "source": [
    "print(data.isnull().sum())"
   ]
  },
  {
   "cell_type": "code",
   "execution_count": 8,
   "metadata": {},
   "outputs": [
    {
     "name": "stdout",
     "output_type": "stream",
     "text": [
      "전체 샘플수 : 262\n"
     ]
    }
   ],
   "source": [
    "# Null 값을 가진 샘플 제거\n",
    "data.dropna(axis=0, inplace=True)\n",
    "print('전체 샘플수 :',(len(data)))"
   ]
  },
  {
   "cell_type": "code",
   "execution_count": 9,
   "metadata": {
    "scrolled": false
   },
   "outputs": [
    {
     "name": "stdout",
     "output_type": "stream",
     "text": [
      "불용어 개수 : 95\n",
      "{'지금', '주', '있', '받', '이렇', '잘', '살', '앞', '여자', '크', '시키', '이', '그러나', '생각', '월', '사람', '생각하', '않', '좋', '문제', '그녀', '시간', '씨', '말하', '어떻', '나오', '아니', '싶', '번', '보', '만들', '어떤', '들', '등', '다시', '대하', '알', '다른', '놓', '지', '가', '소리', '내', '나', '경우', '가지', '사회', '이런', '좀', '그것', '한', '더', '데', '때문', '위하', '전', '그리고', '우리', '년', '통하', '중', '점', '사실', '그렇', '속', '수', '집', '정도', '하', '개', '그러', '또', '따르', '되', '안', '오', '자신', '하나', '적', '그런', '모르', '것', '두', '기자', '때', '말', '많', '명', '보이', '같', '원', '그', '일', '없', '못하'}\n"
     ]
    }
   ],
   "source": [
    "# 한글 불용어\n",
    "stopword = pd.read_csv('한국어불용어100.txt', sep = \"\\t\", encoding = \"utf-8\", header=None)\n",
    "stopword.loc[100] = ['기자', 'VX', 0.000483]\n",
    "stop_words =  set(stopword[0])\n",
    "print('불용어 개수 :', len(stop_words))\n",
    "print(stop_words)"
   ]
  },
  {
   "cell_type": "code",
   "execution_count": 10,
   "metadata": {},
   "outputs": [],
   "source": [
    "# from hangul_romanize import Transliter\n",
    "# from hangul_romanize.rule import academic\n",
    "# transliter = Transliter(academic)\n",
    "\n",
    "# 전처리 함수 #+ 로마화\n",
    "def preprocess_sentence(sentence, remove_stopwords = True):\n",
    "    sentence = sentence.lower() # 텍스트 소문자화\n",
    "    sentence = BeautifulSoup(sentence, \"lxml\").text # <br />, <a href = ...> 등의 html 태그 제거\n",
    "    sentence = re.sub(r'\\([^)]*\\)', '', sentence) # 괄호로 닫힌 문자열  제거 Ex) my husband (and myself) for => my husband for\n",
    "    sentence = re.sub('\"','', sentence) # 쌍따옴표 \" 제거\n",
    "    sentence = re.sub(r\"'s\\b\",\"\",sentence) # 소유격 제거. Ex) roland's -> roland\n",
    "    sentence = re.sub(\"[.,!?\\\"':;~()]\", \" \", sentence) # 문자(숫자, 특수문자 등) 공백으로 변환\n",
    "    sentence = re.sub(\"r'[^ ㄱ-ㅣ가-힣A-Za-z]\", \" \", sentence)\n",
    "    \n",
    "    # 불용어 제거 (Text)\n",
    "    if remove_stopwords:\n",
    "        tokens = ' '.join(word for word in sentence.split() if not word in stop_words if len(word) > 1)\n",
    "    # 불용어 미제거 (Summary)\n",
    "    else:\n",
    "        tokens = ' '.join(word for word in sentence.split() if len(word) > 1)\n",
    "        \n",
    "    # tokens = transliter.translit(tokens)\n",
    "    \n",
    "    return tokens"
   ]
  },
  {
   "cell_type": "code",
   "execution_count": 11,
   "metadata": {},
   "outputs": [
    {
     "name": "stdout",
     "output_type": "stream",
     "text": [
      "everything bought was great infact ordered twice and the third ordered wasfor my mother and father\n",
      "great way to start the day\n"
     ]
    }
   ],
   "source": [
    "temp_text = 'Everything I bought was great, infact I ordered twice and the third ordered was<br />for my mother and father.'\n",
    "temp_summary = 'Great way to start (or finish) the day!!!'\n",
    "print(preprocess_sentence(temp_text))\n",
    "print(preprocess_sentence(temp_summary, 0))"
   ]
  },
  {
   "cell_type": "code",
   "execution_count": 12,
   "metadata": {
    "scrolled": true
   },
   "outputs": [
    {
     "data": {
      "text/plain": [
       "['temapakeu keonseb…taji-yeog maegjuchugje-wa chabyeolhwa 2019gwangjusegyesu-yeongseonsugwondaehoeleul ginyeomhae yeollineun ‘2019 beer fest gwangju’ga da-yanghan kontencheuleul giban-eulo taji-yeog maegjuchugje-wa chabyeolhwaleul sido gwangjuleul daepyohaneun jisogganeunghan gwangwangkontencheuga geos-eulo gidaeleul mo-eugo issda oneun 11ilbuteo 20ilkkaji 10ilgan 8wol9ilbuteo 18ilkkaji 10ilgan 20ilgan gaechoedoeneun ibeon maegjuchugjeneun ‘masyeobrewer’ ‘ilmaegsangtong’ilaneun ileumcheoleom gwangjuman-ui dogteughan keonseb-ui chugjelo gwangjuleul chajneun gugnae-oe bangmungaeggwa simindeul-ui eo-ullim hanmadang-i yejeong-ida maegjuchugje-ui wonjogyeog-in dog-il ‘ogtobeopeseuteu’wa ‘keonte-ineoleobeupeseutibeol’ui keonseb-e gwangjuman-ui dogchangseong-eul gamihan ‘beer fest gwangju’neun mudaegong-yeon-i eobsneun maegjuchugjeda jachis simsimhan chugjelo bo-il iss-euna peullimakes leteulopeob potojon yagugeugjang da-yanghan kontencheuleul ya-oegwangjang guseogguseog-e chae-wo neohgo ‘eoleun-i’deul-eul wihan temapakeulo mandeul-eojil yejeong-ida haengsajang-in gimdaejungkeonbensyeonsenteoga honam-ui mu-yeogbijeuniseu jangso-in jeom-e chag-anhae keonte-ineoleul obeujelo hwal-yonghaessda silje suchulhyeonjang-e hwal-yonghadeon keonte-ineoleul maegjupanmae keonte-ineo-wa dije-ing buseulo gaejohae ‘leoseutig’han bun-wigi-ui potojon-i jeonmang-ida maegju-wa hamkkehal eumsig-eun daehanmingug daepyo pudeuteuleog-i damdanghanda baegjong-won-ui pudeuteuleog gwangjupyeon choejong-useungja-in bichgo-euldalggangjeong hankkibeogeo-wa hamkke pija sae-utwigim seute-ikeu tteogbokk-i-kkaji da-yanghan eumsig-eul 21dae-ui pudeuteuleog-eseo panmaehal yejeong-ida haengsaga sijaghaneun ohu5sibuteoneun 7si-kkajineun 1990nyeondae ga-yotobten 1wigog-eul gamsanghal issda haengsajang kyeon-eneun gaseoljae-wa seuteulingjomyeong-eulo yeoleumbam-ui unchileul deohal peullimakes-i yeollinda gwangju maegju-wa gwanlyeonseong-i nop-eun ttodaleun ki-wodeu-in ‘yagu’do saegdaleuge jeulgil issda oneun 17il kbc yutyubeu yagujunggye ‘mallohomleon’i maegjuchugje hyeonjang-eseo jinhaengdoenda /gimda-i gimda-i',\n",
       " 'sijeongjilmunseo “sil·gugbyeol uigyeonsulyeom jeolcha paesing” jijeog 17il gwangjusi-uihoe bonhoe-uijang-eseo yeollin ‘je283hoe imsihoe je5cha bonhoe-ui’eseo sinsujeong ui-won-i sijeongjil-uileul hago issda /gwangjusi-uihoe jegong gwangjusiga silgugbyeollo jinhaenghaneun 114gae ju-yosa-eob-e simingwa hyeonjang sotong-i bujoghadaneun jijeog-i na-wassda gwangjusi-uihoe sinsujeong ui-won-i 17il yeollin je283hoe sijeongjilmun-eul tonghae “gwangjusi sil·gugbyeol ju-yosa-eob 114gae simin-ina hyeonjang-ui je-an-eulo ju-yosa-eob-e ban-yeongdoen geos-i 1geondo eobs-eossda”myeo “sa-eobgyehoeg sulib dangye-eseo simin-uigyeon sulyeom seolmunjosa misilsi 53 5% hyeob-uihoena wi-wonhoe migaechoe 54 4% seongbyeol-yeonghyangpyeonggaleul golyeohaji anh-eun sa-eob-i 80 7%na dwaessda”go jijeoghaessda ileohan hyeonsang-eun sa-eobchujin gwajeong-eseodo machangaji-yeossda silgugbyeol ju-yosa-eob 114gae simin hyeonjang jungganbogohoe migaechoe 64% sa-eobchujin hyeonhwang-e daehan hompe-iji migonggae 50 9% sa-eobchujinhyeonhwang-e daehan uihoe bogo misilsi 50% deung-eulo natanassda ui-won-eun “ineun gwangjusiga ju-yosa-eob-eul chujinhaneun gwajeong-eseo simingwa hyeonjangppunman anila uihoe-e daehaeseodo jeolban isang-ina paesing geos”ilamyeo “sijang-eun kkeunh-im-eobs-i siminjungsim sijeong-eul pyeolchigessdago sicheong gongmu-wondeul-eun jeonhyeongjeog-in gwanlyohaengjeong-ija ilbanghaengjeong-eseo yeojeonhi beos-eonaji moshago iss-eo geunbon daechaeg-i pil-yohada”go jujanghaessda ui-won-eun “jolyena gyujeong-eobs-i jibhaengdoen ju-yosa-eob-ui yesan-i mulyeo 1jo1cheon700eog-won-ina doenda”myeo “deo-ug simgaghan munjeneun ijung-eseo i-yongseob sijang-ui gong-yagsa-eobdo 16geon-e 7cheon700eog-won-ina doendaneun sasil”ilago gaeseon-eul ganglyeoghi yoguhaessda /gimda-i gimda-i',\n",
       " 'minseon7gi hyanghu 3nyeon munhwa·gyeongjebun-ya bijeon balpyo yung·boghabjeog siseutem san-eobhwalo 4cha san-eobhyeogmyeong seondo ibyeonghun gwangju munhwagyeongjebusijang-i 3il ojeon sicheong beulipinglum-eseo ‘minseon7gi 1nyeon munhwa·gyeongjebun-ya sijeong bogo’ gijahoegyeon-eul hago issda /gwangjusi jegong gwangjusiga minseon7gi 2nyeonchaleul maj-a munhwa·gyeongjebun-ya haegsimjeongchaeg bijeon-eul jesihaessda ibyeonghun gwangjusi munhwagyeongjebusijang-eun 3il ojeon sicheong beulipingsil-eseo gijahoegyeon-eul yeolgo minseon7gi 1nyeon munhwa·gyeongjebun-ya ju-yoseonggwa-wa hyanghu gwajeleul balpyohaessda gwangjusineun ‘pumgyeog-issneun munhwadosi gwangju’ joseong-eul wihae munhwa-yesulgwa gisul san-eobgwa haengjeong-eul a-uleuneun saelo-un saengtaeleul guchughago guggajeog cha-won-ui yungboghab yeongujeondamgigwan-in hangugmunhwagisul-yeongu-won yuchi-e julyeoghagilo haessda munhwajeondanggwa gwangjujeongbomunhwasan-eobjinheung-won deunggwa yeongyehan yungboghab munhwakontencheu peulogeulaem gaeballo munhwakontencheusan-eob yugseonggwa iljali changchul-eul domohanda gyeongjeja-yugu-yeog-eul joseonghae milaehyeong jadongchasan-eob seumateu eneojisan-eob jineunghyeong gonggisan-eob ingongjineung yung·boghab san-eob hyeogsinseongjang san-eob-eul jibjung yugseonghanda gijon gong-yemyeongjang jedo-ui daepog hwagdae·gaepyeonhan ‘gwangju myeongjang’ jedoleul singyu do-ibhanda oneun 12wolkkaji ingongjineung gyujeja-yuteuggu jijeong-eul chujinhago eneojiteughwagi-eob·yeonguso·daehag·ji-wongigwan-eul biloshae eneoji gonggi-eob eneoji gonggeubsiseol siljeung·siheomsiseol deung-eul jibjeoghwahan eneoji-yungboghabdanjileul 11wol jung-e jijeongbadneundaneun gyehoeg-ida busijang-eun inal gijahoegyeon-eseo jinan 1nyeon munhwabun-ya seonggwalo ▲asi-amunhwajungsimdosi giban guchug ▲ke-ipab cheheom peulogeulaem munhwagwangwang peulogeulaem hwagdae un-yeong ▲cheomdan jeongbotongsingisulgwa munhwa·yesul-i yunghabdoen munhwakontencheusa-eob chujin deung-eul kkob-assda gyeongjebun-ya seonggwaloneun ▲4nyeon iljalijeongchaeglodeumaeb sulib ▲jungsogi-eobgwa sosanggong-in ji-won inpeula guchug sichaeg ganghwa ▲sahoejeoggyeongje mingangeobeoneonseu guchug ▲sahoejeog daetahyeob giban gwangjuhyeong iljali sa-eob chujin ▲ingongjineung jibjeogdanji joseong chujin ▲gonggisan-eob saengtaegye joseong deung-eul jimoghaessda busijang-eun “gwangjuleul deo-ug pumgyeog issneun munhwa inlyu bopyeon-ui jeongsinmunhwa balsinjiga doedolog jeongchaegjeog ji-won-eul a-kkiji anhgessda”myeo “ye·ui·mihyang-ui gwangju yujeonjaleul sallyeo segyejeog-eulo dangdanghi nuligo issneun yungboghabjeog-in siseutem-eul san-eobhwahae 4chasan-eobhyeogmyeong seondodosilo u-ttugseogessda”go balghyeossda hanpyeon jeongug choecholo munhwagyeongjebusijang jigjeleul do-ibhan ihu chaeg-im-eul mat-eun busijang-eun munhwa-wa gyeongjegye-ui hyeobchileul ganghwahago dongbanseongjang peulogeulaem-eul hwalseonghwahaess-eumyeo munhwageobeoneonseupoleom-eul guchughaneun teug-yu-ui lideosibgwa naesil-issneun chujinlyeog-eul batang-eulo siljiljeog-in munhwa·gyeongjebun-ya-ui hyeoblyeoggiban-eul joseonghaneunde gi-yeohaessdaneun pyeonggada /choegwonbeom choegwonbeom',\n",
       " 'jeongbu ‘dosihyeong sogong-in jibjeogjigu’ jijeong chujin panlogaecheog·gyeongjindaehoe·keonseolting yeoglyang ganghwa ji-won gwangjusiga donggu inswae-uigeolileul dosihyeong sogong-in jibjeogjigulo jijeonghaneun bang-an-eul chujinhaneun munhwajeondang jubyeon hwalseonghwa-e naseonda ibyeonghun gwangjusi munhwagyeongjebusijang-eun 28il munhwajeondang ildae inswae-uigeoli hwalseonghwaleul wihae jumin gandamhoeleul gaechoehaessda inal busijang-eun gwangjusi-wa munhwajeondang jeonglyehyeob-uihoe-eseo non-uidoen jeondang jubyeon hwalseonghwaleul wihan sa-eob-e daehae jumingwa-ui sotong sigan-eul gajgo aelosahang-eul cheongchwihaessda gandamhoe-eseoneun ▲inswae-uigeoli ibgu-jeonnamdaebyeong-won ogeoli dolo hwagjang ▲dosihyeong sogong-in jibjeogjigu jijeong ▲inswae-uigeoli hwalseonghwaleul wihan inswaechulpansan-eobche yeoglyangganghwaji-wonsa-eob deung-eul non-uihaessda hyeonjae gwangjusineun inswae-uigeoli jibjeogji-in donggu seonamdong il-won-ui inswae-eob gyeongjaenglyeog ganghwaleul wihae jungsobencheogi-eobbu-ui dosihyeong sogong-in jibjeogjigu jijeong gyehoeg-eul sulibhae sincheonghal yejeong-ida igos-eneun 10in iha 335gae inswae gwanlyeon eobchega miljibhae inswae-ui geolilo bulligo issda dosihyeong sogong-in jibjeogjiguneun sangsi geunloja 10in miman-ui sosanggong-indeul-i mo-in jigu-e gongdonggiban siseol-eul guchug jigu hwalseonghwa-wa gyeongjaenglyeog-eul nop-ineun jeongbu ji-wonsa-eob-ida dosihyeong sogong-in jibjeogjigulo jijeongdoemyeon gugbileul tonghae jonghabji-wonsenteo joseong gong-yong jangbi gongdong-inpeula guchug-eul ji-wonbad-eul iss-eumyeo gongdong jeonsijang gongdong changgoga jegongdoenda jibjeogjigu ji-yeog inswae-indeul-eun panloji-won geum-yung gisulgaebal bi-yong deung-eul ji-wonbad-eul issda sineun jibjeogjigu hwalseonghwa gyehoeg-eul sulibhago 6wol jeongbu-e sa-eob-eul sincheonghal yejeong-ida sineun ibju eobchedeul-ui gyeongjaenglyeog ganghwaleul wihan da-yanghan ji-wonsa-eobdo pyeolchinda sa-eobbi 6eog4cheonman-won-eul deul-yeo siltaejosa yeoglyang ganghwa gyo-yug keonseolting singisul gaebal jeonsi·hongbo panlogaecheog gyeongjindaehoe inswae-in-ui un-yeong onla-in maketing deung-e gyehoeg-ida seonamdong ildae inswae-ui geolineun 1940nyeondae jeonnamdocheong jubyeon-eulo inswae eobchega hanadul-ssig teoleul jab-eumyeo sijagdwaessda gihoeggwa pyeonjib jepan-eobche inswaeso jong-i panmaesang deung-i deul-eo-omyeonseo ja-yeonseuleobge inswae san-eob keulleoseuteoga hyeongseongdwaessda hanttae gwangju-wa jeonnamji-yeog inswae san-eob-ui jungsimjilo hwalyeohan kkoch-eul pi-wossjiman jeonnamdocheong-i jeonnam mu-an-eulo ijeonhamyeonseo jumun mullyang-i gamsohago gudosim chimche inswae maeche baldal jeongugjeog-in inswae eobche deungjang deung-eulo chimchegileul gyeokkgo issda hanpyeon gwangjusineun munhwajeondang jubyeon dolo byeongmoghyeonsang-eulo inhan chalyang jeongche haesoleul wihae gwangsangil dolo hwagjang gongsaleul naenyeondo gugga-yesan-e ban-yeonghae sihaenghal yejeong-ida /choegwonbeom choegwonbeom',\n",
       " '21dae chongseon nuga ttwina jinan 20dae chongseon gwangju·jeonnam seongeogu-eseo yu-ilhage ‘ppalgan gisbal’eul kkoj-assdeon suncheon-eun ijeonghyeon musosog ui-won-ui chulma yeobu-wa minjudang huboga nuga doeneunyaga heungmilobda geudong-an yeogdae chongseon-eseo minjudang hubodeul-ui seongjeogpyoga johji anh-assdeon mankeum naenyeon chongseon-eseo myeong-yehoebog yeobudo gwanjeon po-inteuda suncheon pyosim-ui hyangbaega dangbodaneun inmul jungsim-eulo jeonlyagjeog seontaeg-eul hae-wassdeon jeog-i manh-assgi ttaemun-e naenyeon chongseon-eseodo ap-eul eobsneun angaes-sog seongeojeon-eulo chileojil geos-eulo gwancheugdoenda jinan chongseon-eseo bosu jeongdang-ui hubolo dangseondwae honam jeongchisaleul saelo ui-won-eun cheong-wadae-eseo mosyeossdeon baggeunhye daetonglyeonggwa cheuggeun-ui gugjeongnongdan-eulo ibjiga jul-eodeul-eossda ttaemun-e hyeonjaeneun dae-oejeog-in jeongchi haengbobodaneun eundunhyeong jeongchilo jaegi-ui balpan-eul malyeonhago issda hajiman jeonggwon-ui mollag-eul i-kkeun ‘chosbulminsim’i jisogdoego issneun sanghwang-eseo ji-yeogminsim eodgiga swibji anh-a bo-inda teum-eul minjudang-eseoneun gijon allyeojin hubodeul-i chulsapyoleul junbihamyeonseo nanlibhago issneun yangsang-ida seogab-won ji-yeog-wi-wonjang-eul biloshae nogwangyu suncheonsijang jangmanchae jeonnamdogyo-yuggam gimgwangjin ui-won deung-i ja-ung-eul gyeolugo issda wi-wonjang-eun 17-18dae gughoe-ui-won nomuhyeon jeongbu sijeol daetonglyeongbiseosil uijeonbiseogwangwa jeongmuje1biseogwan minjudang wonnaesuseogbudaepyo deung-eul yeog-imhamyeonseo suncheon-eul daepyohaneun jeongchi-in-eulo seongjanghaessda geomsa chulsin-in sijang-eun minseon 4·5gi suncheonsijang-eul yeog-imhaneun dong-an suncheonjeong-wonbaglamhoeleul seonggongjeog-eulo gihoeghaessdaneun jeom-i ji-yeogmin-ege gag-indwae issda jinan jibangseongeo-eseo jeonnamjisa seongeo-e naseo jeongchimudae-eseo ganeungseong-eul hwag-inhan gyo-yuggamdo dakeuhoseulo tteo-oleugo issda gyo-yuggam-eun suncheondae chongjang-eul yeog-imhamyeonseo ji-yeogsahoe-eseo hogam-eul eod-eumyeonseo jeongchi-in-euloseo-ui jajil-eul injeongbad-assda jochunghun suncheonsijang gimseondong tonghabjinbodang ui-won gim-yeongdeug minjudang daebyeon-in yanghyoseog gong-inhoegyesa deung-i hyanghu jeonggug-ui byeonhwaleul gwanmanghamyeo chulmaleul jeo-uljilhago issneun geos-eulo allyeojyeossda musosog guhuiseung sonhunmo byeonhosado chulmaleul jeo-uljilhago issneun geos-eulo jeonhaejyeossda /imchaeman imchaeman']"
      ]
     },
     "execution_count": 12,
     "metadata": {},
     "output_type": "execute_result"
    }
   ],
   "source": [
    "# Text 열 전처리\n",
    "clean_text = []\n",
    "for s in data['내용']:\n",
    "    clean_text.append(preprocess_sentence(s))\n",
    "clean_text[:5]"
   ]
  },
  {
   "cell_type": "code",
   "execution_count": 13,
   "metadata": {
    "scrolled": true
   },
   "outputs": [
    {
     "data": {
      "text/plain": [
       "['2019gwangjusegyesu-yeongseonsugwondaehoeleul ginyeomhae yeollineun ‘2019 beer fest gwangju’ga mudaegong-yeon-i eobsneun maegjuchugje keonseb-eulo gwangjuleul daepyohaneun jisogganeunghan gwangwangkontencheuga geos-eulo gidaeleul mo-eumyeo gugnae-oe bangmungaeggwa simindeul-ui eo-ullim hanmadang-i yejeong-ida',\n",
       " 'gwangjusineun ju-yo sa-eob-eul chujinham-e iss-eoseo simin hyeonjang uihoe-wa sotonghae-ya handa',\n",
       " 'gwangjusineun pumgyeog-issneun munhwadosi gwangjuleul mandeulgi wihae munhwajeondanggwa siga yeongyehan yungboghab munhwakontenpeu peulogeulaem gaebal-eul ha-yeo iljali changchul guggajeog cha-won-ui yungboghab yeongujeondamgigwan-in hangugmunhwagisul-yeongu-won yuchi-e julyeoghagilo haessda',\n",
       " 'gwangjusineun munhwajeondang ildae inswae-uigeoli hwalseonghwaleul wihae jumin gandamhoeleul yeolgo inswae-uigeoli ibgu-jeonnamdaebyeong-won ogeoli dolo hwagjang dosihyeong sogong-in jibjeogjigu jijeong deung-e daehae non-uihaessda',\n",
       " 'jinan chongseon-eseo suncheon bosu jeongdang hubolo dangseondoen ijeonghyeon ui-won-eun suncheon pyosim-eul eodgo iss-eo ibeon seongeo-eseodo musosog-eulo chulmahal deobul-eominjudang-ui eo-tteon hubo-wa gyeongjaenghal gidaega mo-ajinda']"
      ]
     },
     "execution_count": 13,
     "metadata": {},
     "output_type": "execute_result"
    }
   ],
   "source": [
    "# Summary 열 전처리\n",
    "clean_summary = []\n",
    "for s in data['생성']:\n",
    "    clean_summary.append(preprocess_sentence(s, 0))\n",
    "clean_summary[:5]"
   ]
  },
  {
   "cell_type": "code",
   "execution_count": 14,
   "metadata": {},
   "outputs": [],
   "source": [
    "data['내용'] = clean_text\n",
    "data['생성'] = clean_summary"
   ]
  },
  {
   "cell_type": "code",
   "execution_count": 15,
   "metadata": {},
   "outputs": [
    {
     "name": "stdout",
     "output_type": "stream",
     "text": [
      "내용    0\n",
      "생성    0\n",
      "dtype: int64\n"
     ]
    }
   ],
   "source": [
    "# 길이가 공백인 샘플은 NULL 값으로 변환\n",
    "data.replace('', np.nan, inplace=True)\n",
    "print(data.isnull().sum())"
   ]
  },
  {
   "cell_type": "code",
   "execution_count": 16,
   "metadata": {},
   "outputs": [
    {
     "name": "stdout",
     "output_type": "stream",
     "text": [
      "전체 샘플수 : 262\n"
     ]
    }
   ],
   "source": [
    "data.dropna(axis = 0, inplace = True)\n",
    "print('전체 샘플수 :',(len(data)))"
   ]
  },
  {
   "cell_type": "code",
   "execution_count": 17,
   "metadata": {},
   "outputs": [
    {
     "name": "stdout",
     "output_type": "stream",
     "text": [
      "텍스트의 최소 길이 : 125\n",
      "텍스트의 최대 길이 : 378\n",
      "텍스트의 평균 길이 : 180.86259541984734\n",
      "요약의 최소 길이 : 10\n",
      "요약의 최대 길이 : 58\n",
      "요약의 평균 길이 : 26.767175572519083\n"
     ]
    },
    {
     "data": {
      "image/png": "[encoded data removed]",
      "text/plain": [
       "<Figure size 432x288 with 2 Axes>"
      ]
     },
     "metadata": {
      "needs_background": "light"
     },
     "output_type": "display_data"
    },
    {
     "data": {
      "image/png": "[encoded data removed]",
      "text/plain": [
       "<Figure size 432x288 with 1 Axes>"
      ]
     },
     "metadata": {
      "needs_background": "light"
     },
     "output_type": "display_data"
    },
    {
     "data": {
      "image/png": "[encoded data removed]",
      "text/plain": [
       "<Figure size 432x288 with 1 Axes>"
      ]
     },
     "metadata": {
      "needs_background": "light"
     },
     "output_type": "display_data"
    }
   ],
   "source": [
    "# 길이 분포 출력\n",
    "text_len = [len(s.split()) for s in data['내용']]\n",
    "summary_len = [len(s.split()) for s in data['생성']]\n",
    "\n",
    "print('텍스트의 최소 길이 : {}'.format(np.min(text_len)))\n",
    "print('텍스트의 최대 길이 : {}'.format(np.max(text_len)))\n",
    "print('텍스트의 평균 길이 : {}'.format(np.mean(text_len)))\n",
    "print('요약의 최소 길이 : {}'.format(np.min(summary_len)))\n",
    "print('요약의 최대 길이 : {}'.format(np.max(summary_len)))\n",
    "print('요약의 평균 길이 : {}'.format(np.mean(summary_len)))\n",
    "\n",
    "plt.subplot(1,2,1)\n",
    "plt.boxplot(summary_len)\n",
    "plt.title('Summary')\n",
    "plt.subplot(1,2,2)\n",
    "plt.boxplot(text_len)\n",
    "plt.title('Text')\n",
    "plt.tight_layout()\n",
    "plt.show()\n",
    "\n",
    "plt.title('Summary')\n",
    "plt.hist(summary_len, bins=40)\n",
    "plt.xlabel('length of samples')\n",
    "plt.ylabel('number of samples')\n",
    "plt.show()\n",
    "\n",
    "plt.title('Text')\n",
    "plt.hist(text_len, bins=40)\n",
    "plt.xlabel('length of samples')\n",
    "plt.ylabel('number of samples')\n",
    "plt.show()"
   ]
  },
  {
   "cell_type": "code",
   "execution_count": 18,
   "metadata": {},
   "outputs": [],
   "source": [
    "text_max_len = 200\n",
    "summary_max_len = 30"
   ]
  },
  {
   "cell_type": "code",
   "execution_count": 19,
   "metadata": {},
   "outputs": [],
   "source": [
    "def below_threshold_len(max_len, nested_list):\n",
    "  cnt = 0\n",
    "  for s in nested_list:\n",
    "    if(len(s.split()) <= max_len):\n",
    "        cnt = cnt + 1\n",
    "  print('전체 샘플 중 길이가 %s 이하인 샘플의 비율: %s'%(max_len, (cnt / len(nested_list))))"
   ]
  },
  {
   "cell_type": "code",
   "execution_count": 20,
   "metadata": {},
   "outputs": [
    {
     "name": "stdout",
     "output_type": "stream",
     "text": [
      "전체 샘플 중 길이가 200 이하인 샘플의 비율: 0.7442748091603053\n"
     ]
    }
   ],
   "source": [
    "below_threshold_len(text_max_len, data['내용'])"
   ]
  },
  {
   "cell_type": "code",
   "execution_count": 21,
   "metadata": {},
   "outputs": [
    {
     "name": "stdout",
     "output_type": "stream",
     "text": [
      "전체 샘플 중 길이가 30 이하인 샘플의 비율: 0.7099236641221374\n"
     ]
    }
   ],
   "source": [
    "below_threshold_len(summary_max_len, data['생성'])"
   ]
  },
  {
   "cell_type": "code",
   "execution_count": 22,
   "metadata": {},
   "outputs": [
    {
     "name": "stdout",
     "output_type": "stream",
     "text": [
      "전체 샘플수 : 138\n"
     ]
    }
   ],
   "source": [
    "data = data[data['내용'].apply(lambda x: len(x.split()) <= text_max_len)]\n",
    "data = data[data['생성'].apply(lambda x: len(x.split()) <= summary_max_len)]\n",
    "print('전체 샘플수 :',(len(data)))"
   ]
  },
  {
   "cell_type": "code",
   "execution_count": 23,
   "metadata": {},
   "outputs": [
    {
     "data": {
      "text/html": [
       "<div>\n",
       "<style scoped>\n",
       "    .dataframe tbody tr th:only-of-type {\n",
       "        vertical-align: middle;\n",
       "    }\n",
       "\n",
       "    .dataframe tbody tr th {\n",
       "        vertical-align: top;\n",
       "    }\n",
       "\n",
       "    .dataframe thead th {\n",
       "        text-align: right;\n",
       "    }\n",
       "</style>\n",
       "<table border=\"1\" class=\"dataframe\">\n",
       "  <thead>\n",
       "    <tr style=\"text-align: right;\">\n",
       "      <th></th>\n",
       "      <th>내용</th>\n",
       "      <th>생성</th>\n",
       "    </tr>\n",
       "  </thead>\n",
       "  <tbody>\n",
       "    <tr>\n",
       "      <th>0</th>\n",
       "      <td>temapakeu keonseb…taji-yeog maegjuchugje-wa ch...</td>\n",
       "      <td>2019gwangjusegyesu-yeongseonsugwondaehoeleul g...</td>\n",
       "    </tr>\n",
       "    <tr>\n",
       "      <th>1</th>\n",
       "      <td>sijeongjilmunseo “sil·gugbyeol uigyeonsulyeom ...</td>\n",
       "      <td>gwangjusineun ju-yo sa-eob-eul chujinham-e iss...</td>\n",
       "    </tr>\n",
       "    <tr>\n",
       "      <th>9</th>\n",
       "      <td>jinanhae 3gos 310man dalleo siljeog…hyanghu 10...</td>\n",
       "      <td>jinanhae jeonnam nongsusansigpum sangseoljeons...</td>\n",
       "    </tr>\n",
       "    <tr>\n",
       "      <th>10</th>\n",
       "      <td>gichodanche pyeongganeun gwang-yang·dam-yang·h...</td>\n",
       "      <td>jeonnamdoga gwang-yangsi dam-yanggun haenamgun...</td>\n",
       "    </tr>\n",
       "    <tr>\n",
       "      <th>13</th>\n",
       "      <td>nae-il pyeonggadan-e yeom-won jeondal jeonnamd...</td>\n",
       "      <td>15il jeonnamdoneun “guglibnandaesumog-won wand...</td>\n",
       "    </tr>\n",
       "  </tbody>\n",
       "</table>\n",
       "</div>"
      ],
      "text/plain": [
       "                                                   내용  \\\n",
       "0   temapakeu keonseb…taji-yeog maegjuchugje-wa ch...   \n",
       "1   sijeongjilmunseo “sil·gugbyeol uigyeonsulyeom ...   \n",
       "9   jinanhae 3gos 310man dalleo siljeog…hyanghu 10...   \n",
       "10  gichodanche pyeongganeun gwang-yang·dam-yang·h...   \n",
       "13  nae-il pyeonggadan-e yeom-won jeondal jeonnamd...   \n",
       "\n",
       "                                                   생성  \n",
       "0   2019gwangjusegyesu-yeongseonsugwondaehoeleul g...  \n",
       "1   gwangjusineun ju-yo sa-eob-eul chujinham-e iss...  \n",
       "9   jinanhae jeonnam nongsusansigpum sangseoljeons...  \n",
       "10  jeonnamdoga gwang-yangsi dam-yanggun haenamgun...  \n",
       "13  15il jeonnamdoneun “guglibnandaesumog-won wand...  "
      ]
     },
     "execution_count": 23,
     "metadata": {},
     "output_type": "execute_result"
    }
   ],
   "source": [
    "data.head()"
   ]
  },
  {
   "cell_type": "code",
   "execution_count": 24,
   "metadata": {},
   "outputs": [
    {
     "data": {
      "text/html": [
       "<div>\n",
       "<style scoped>\n",
       "    .dataframe tbody tr th:only-of-type {\n",
       "        vertical-align: middle;\n",
       "    }\n",
       "\n",
       "    .dataframe tbody tr th {\n",
       "        vertical-align: top;\n",
       "    }\n",
       "\n",
       "    .dataframe thead th {\n",
       "        text-align: right;\n",
       "    }\n",
       "</style>\n",
       "<table border=\"1\" class=\"dataframe\">\n",
       "  <thead>\n",
       "    <tr style=\"text-align: right;\">\n",
       "      <th></th>\n",
       "      <th>내용</th>\n",
       "      <th>생성</th>\n",
       "      <th>decoder_input</th>\n",
       "      <th>decoder_target</th>\n",
       "    </tr>\n",
       "  </thead>\n",
       "  <tbody>\n",
       "    <tr>\n",
       "      <th>0</th>\n",
       "      <td>temapakeu keonseb…taji-yeog maegjuchugje-wa ch...</td>\n",
       "      <td>2019gwangjusegyesu-yeongseonsugwondaehoeleul g...</td>\n",
       "      <td>sostoken temapakeu keonseb…taji-yeog maegjuchu...</td>\n",
       "      <td>2019gwangjusegyesu-yeongseonsugwondaehoeleul g...</td>\n",
       "    </tr>\n",
       "    <tr>\n",
       "      <th>1</th>\n",
       "      <td>sijeongjilmunseo “sil·gugbyeol uigyeonsulyeom ...</td>\n",
       "      <td>gwangjusineun ju-yo sa-eob-eul chujinham-e iss...</td>\n",
       "      <td>sostoken sijeongjilmunseo “sil·gugbyeol uigyeo...</td>\n",
       "      <td>gwangjusineun ju-yo sa-eob-eul chujinham-e iss...</td>\n",
       "    </tr>\n",
       "    <tr>\n",
       "      <th>9</th>\n",
       "      <td>jinanhae 3gos 310man dalleo siljeog…hyanghu 10...</td>\n",
       "      <td>jinanhae jeonnam nongsusansigpum sangseoljeons...</td>\n",
       "      <td>sostoken jinanhae 3gos 310man dalleo siljeog…h...</td>\n",
       "      <td>jinanhae jeonnam nongsusansigpum sangseoljeons...</td>\n",
       "    </tr>\n",
       "    <tr>\n",
       "      <th>10</th>\n",
       "      <td>gichodanche pyeongganeun gwang-yang·dam-yang·h...</td>\n",
       "      <td>jeonnamdoga gwang-yangsi dam-yanggun haenamgun...</td>\n",
       "      <td>sostoken gichodanche pyeongganeun gwang-yang·d...</td>\n",
       "      <td>jeonnamdoga gwang-yangsi dam-yanggun haenamgun...</td>\n",
       "    </tr>\n",
       "    <tr>\n",
       "      <th>13</th>\n",
       "      <td>nae-il pyeonggadan-e yeom-won jeondal jeonnamd...</td>\n",
       "      <td>15il jeonnamdoneun “guglibnandaesumog-won wand...</td>\n",
       "      <td>sostoken nae-il pyeonggadan-e yeom-won jeondal...</td>\n",
       "      <td>15il jeonnamdoneun “guglibnandaesumog-won wand...</td>\n",
       "    </tr>\n",
       "  </tbody>\n",
       "</table>\n",
       "</div>"
      ],
      "text/plain": [
       "                                                   내용  \\\n",
       "0   temapakeu keonseb…taji-yeog maegjuchugje-wa ch...   \n",
       "1   sijeongjilmunseo “sil·gugbyeol uigyeonsulyeom ...   \n",
       "9   jinanhae 3gos 310man dalleo siljeog…hyanghu 10...   \n",
       "10  gichodanche pyeongganeun gwang-yang·dam-yang·h...   \n",
       "13  nae-il pyeonggadan-e yeom-won jeondal jeonnamd...   \n",
       "\n",
       "                                                   생성  \\\n",
       "0   2019gwangjusegyesu-yeongseonsugwondaehoeleul g...   \n",
       "1   gwangjusineun ju-yo sa-eob-eul chujinham-e iss...   \n",
       "9   jinanhae jeonnam nongsusansigpum sangseoljeons...   \n",
       "10  jeonnamdoga gwang-yangsi dam-yanggun haenamgun...   \n",
       "13  15il jeonnamdoneun “guglibnandaesumog-won wand...   \n",
       "\n",
       "                                        decoder_input  \\\n",
       "0   sostoken temapakeu keonseb…taji-yeog maegjuchu...   \n",
       "1   sostoken sijeongjilmunseo “sil·gugbyeol uigyeo...   \n",
       "9   sostoken jinanhae 3gos 310man dalleo siljeog…h...   \n",
       "10  sostoken gichodanche pyeongganeun gwang-yang·d...   \n",
       "13  sostoken nae-il pyeonggadan-e yeom-won jeondal...   \n",
       "\n",
       "                                       decoder_target  \n",
       "0   2019gwangjusegyesu-yeongseonsugwondaehoeleul g...  \n",
       "1   gwangjusineun ju-yo sa-eob-eul chujinham-e iss...  \n",
       "9   jinanhae jeonnam nongsusansigpum sangseoljeons...  \n",
       "10  jeonnamdoga gwang-yangsi dam-yanggun haenamgun...  \n",
       "13  15il jeonnamdoneun “guglibnandaesumog-won wand...  "
      ]
     },
     "execution_count": 24,
     "metadata": {},
     "output_type": "execute_result"
    }
   ],
   "source": [
    "# 요약 데이터에는 시작 토큰과 종료 토큰을 추가한다.\n",
    "data['decoder_input'] = data['내용'].apply(lambda x : 'sostoken '+ x)\n",
    "data['decoder_target'] = data['생성'].apply(lambda x : x + ' eostoken')\n",
    "data.head()"
   ]
  },
  {
   "cell_type": "code",
   "execution_count": 25,
   "metadata": {},
   "outputs": [],
   "source": [
    "encoder_input = np.array(data['내용'])\n",
    "decoder_input = np.array(data['decoder_input'])\n",
    "decoder_target = np.array(data['decoder_target'])"
   ]
  },
  {
   "cell_type": "markdown",
   "metadata": {},
   "source": [
    "## Split Data"
   ]
  },
  {
   "cell_type": "code",
   "execution_count": 26,
   "metadata": {},
   "outputs": [
    {
     "name": "stdout",
     "output_type": "stream",
     "text": [
      "[  8  68  27 118  24  45  76  73 122  33 136  26 101  92  63 110  50  22\n",
      "  94  48 112  60  18 105  51  96  43   7  16  44  10   2  54 134  86 106\n",
      "  30  62  89 135  56 115 119 132  13 104  91 129  61  15  66  40  83 108\n",
      "   3  52 109  59   6  78 111 113 116  71 127 107 100  84 121  11  90  95\n",
      "  41  97   1  93 126  42   4  17  38   5  53 131  85   0  34  28  55  75\n",
      "  35  23  74  31  98  57 114 125  32 123  14 124  19  29  49 120  99  82\n",
      "  64 137  79  69  80  20 133  72  77  25  37  81 128  46 130  39 102  65\n",
      "  58  12  88  70  87  36  21   9 103  67 117  47]\n"
     ]
    }
   ],
   "source": [
    "indices = np.arange(encoder_input.shape[0])\n",
    "np.random.shuffle(indices)\n",
    "print(indices)"
   ]
  },
  {
   "cell_type": "code",
   "execution_count": 27,
   "metadata": {},
   "outputs": [],
   "source": [
    "encoder_input = encoder_input[indices]\n",
    "decoder_input = decoder_input[indices]\n",
    "decoder_target = decoder_target[indices]"
   ]
  },
  {
   "cell_type": "code",
   "execution_count": 28,
   "metadata": {},
   "outputs": [
    {
     "name": "stdout",
     "output_type": "stream",
     "text": [
      "테스트 데이터의 수 : 27\n"
     ]
    }
   ],
   "source": [
    "n_of_val = int(len(encoder_input)*0.2)\n",
    "print('테스트 데이터의 수 :',n_of_val)"
   ]
  },
  {
   "cell_type": "code",
   "execution_count": 29,
   "metadata": {},
   "outputs": [],
   "source": [
    "encoder_input_train = encoder_input[:-n_of_val]\n",
    "decoder_input_train = decoder_input[:-n_of_val]\n",
    "decoder_target_train = decoder_target[:-n_of_val]\n",
    "\n",
    "encoder_input_test = encoder_input[-n_of_val:]\n",
    "decoder_input_test = decoder_input[-n_of_val:]\n",
    "decoder_target_test = decoder_target[-n_of_val:]"
   ]
  },
  {
   "cell_type": "code",
   "execution_count": 30,
   "metadata": {},
   "outputs": [
    {
     "name": "stdout",
     "output_type": "stream",
     "text": [
      "훈련 데이터의 개수 : 111\n",
      "훈련 레이블의 개수 : 111\n",
      "테스트 데이터의 개수 : 27\n",
      "테스트 레이블의 개수 : 27\n"
     ]
    }
   ],
   "source": [
    "print('훈련 데이터의 개수 :', len(encoder_input_train))\n",
    "print('훈련 레이블의 개수 :',len(decoder_input_train))\n",
    "print('테스트 데이터의 개수 :',len(encoder_input_test))\n",
    "print('테스트 레이블의 개수 :',len(decoder_input_test))"
   ]
  },
  {
   "cell_type": "markdown",
   "metadata": {},
   "source": [
    "## Encoding"
   ]
  },
  {
   "cell_type": "code",
   "execution_count": 31,
   "metadata": {},
   "outputs": [],
   "source": [
    "src_tokenizer = Tokenizer()\n",
    "src_tokenizer.fit_on_texts(encoder_input_train)"
   ]
  },
  {
   "cell_type": "code",
   "execution_count": 32,
   "metadata": {},
   "outputs": [
    {
     "name": "stdout",
     "output_type": "stream",
     "text": [
      "단어 집합(vocabulary)의 크기 : 8567\n",
      "등장 빈도가 6번 이하인 희귀 단어의 수: 8036\n",
      "단어 집합에서 희귀 단어를 제외시킬 경우의 단어 집합의 크기 531\n",
      "단어 집합에서 희귀 단어의 비율: 93.8017975954243\n",
      "전체 등장 빈도에서 희귀 단어 등장 빈도 비율: 44.214180894090696\n"
     ]
    }
   ],
   "source": [
    "threshold = 7\n",
    "total_cnt = len(src_tokenizer.word_index) # 단어의 수\n",
    "rare_cnt = 0 # 등장 빈도수가 threshold보다 작은 단어의 개수를 카운트\n",
    "total_freq = 0 # 훈련 데이터의 전체 단어 빈도수 총 합\n",
    "rare_freq = 0 # 등장 빈도수가 threshold보다 작은 단어의 등장 빈도수의 총 합\n",
    "\n",
    "# 단어와 빈도수의 쌍(pair)을 key와 value로 받는다.\n",
    "for key, value in src_tokenizer.word_counts.items():\n",
    "    total_freq = total_freq + value\n",
    "\n",
    "    # 단어의 등장 빈도수가 threshold보다 작으면\n",
    "    if(value < threshold):\n",
    "        rare_cnt = rare_cnt + 1\n",
    "        rare_freq = rare_freq + value\n",
    "\n",
    "print('단어 집합(vocabulary)의 크기 :',total_cnt)\n",
    "print('등장 빈도가 %s번 이하인 희귀 단어의 수: %s'%(threshold - 1, rare_cnt))\n",
    "print('단어 집합에서 희귀 단어를 제외시킬 경우의 단어 집합의 크기 %s'%(total_cnt - rare_cnt))\n",
    "print(\"단어 집합에서 희귀 단어의 비율:\", (rare_cnt / total_cnt)*100)\n",
    "print(\"전체 등장 빈도에서 희귀 단어 등장 빈도 비율:\", (rare_freq / total_freq)*100)"
   ]
  },
  {
   "cell_type": "code",
   "execution_count": 33,
   "metadata": {
    "scrolled": true
   },
   "outputs": [],
   "source": [
    "src_vocab = 500\n",
    "src_tokenizer = Tokenizer(num_words = src_vocab) \n",
    "src_tokenizer.fit_on_texts(encoder_input_train)\n",
    "\n",
    "# 텍스트 시퀀스를 정수 시퀀스로 변환\n",
    "encoder_input_train = src_tokenizer.texts_to_sequences(encoder_input_train) \n",
    "encoder_input_test = src_tokenizer.texts_to_sequences(encoder_input_test)"
   ]
  },
  {
   "cell_type": "code",
   "execution_count": 34,
   "metadata": {
    "scrolled": false
   },
   "outputs": [
    {
     "name": "stdout",
     "output_type": "stream",
     "text": [
      "[[88, 140, 300, 9, 88, 178, 9, 249, 44, 10, 5, 30, 26, 6, 2, 372, 26, 10, 6, 9, 6, 19, 4, 45, 154, 26, 278, 26, 10, 22, 4, 427, 127, 89, 5, 332, 19, 10, 5, 4, 168, 373, 2, 2, 12, 250, 14, 19, 374, 102, 33, 178, 4, 428, 39, 375, 14, 7, 90, 427, 91, 26, 10, 1, 429, 32, 4, 26, 10, 2, 81, 26, 278, 102, 301, 1, 22, 2, 26, 10, 4, 26, 10, 333, 2, 302, 19, 214, 230, 5, 1, 334, 8, 13, 430, 4, 39, 135, 105, 7, 110, 335, 22, 4, 45, 154, 26, 54, 10, 2, 33, 37, 431, 15, 140, 32, 10, 7, 432, 336, 24, 155, 155], [376, 303, 82, 11, 30, 1, 2, 27, 215, 337, 62, 9, 11, 97, 5, 56, 16, 22, 2, 7, 4, 3, 17, 304, 23, 8, 2, 44, 62, 1, 251, 433, 179, 305, 9, 169, 433, 43, 17, 16, 9, 337, 13, 43, 9, 5, 13, 106, 8, 90, 216, 279, 156, 34, 5, 40, 52, 1, 141, 431, 15, 377, 170, 251, 170, 2, 66, 62, 9, 376, 303, 2, 27, 8, 2, 12, 1, 2, 24, 11, 97, 5, 1, 92, 33, 303, 12, 1, 14, 5, 93, 4, 28, 2, 252, 4, 434, 2, 435, 37, 195, 252, 5, 9, 1, 338, 9, 2, 1, 338, 9, 2, 1, 5, 253, 252, 436, 1, 2, 32, 254, 14, 98, 71, 72, 20, 21], [255, 18, 378, 128, 379, 111, 75, 7, 231, 2, 255, 76, 128, 379, 111, 75, 7, 255, 18, 378, 231, 2, 129, 121, 256, 5, 157, 69, 280, 437, 23, 30, 112, 257, 1, 1, 256, 5, 6, 113, 380, 4, 180, 69, 23, 30, 4, 180, 69, 1, 437, 91, 281, 8, 1, 8, 1, 6, 2, 113, 128, 26, 381, 4, 438, 439, 5, 440, 19, 4, 1, 429, 13, 255, 258, 26, 10, 23, 30, 306, 158, 8, 2, 32, 255, 122, 129, 307, 217, 2, 339, 2, 158, 25, 57, 122, 181, 1, 441, 123, 2, 232, 41, 5, 35, 231, 107, 57, 36, 142, 1, 233, 6, 1, 4, 255, 18, 257, 15, 441, 123, 2, 34, 2, 4, 136, 2, 27, 1, 441, 123, 2, 259, 2, 442, 37, 20, 21]]\n"
     ]
    }
   ],
   "source": [
    "print(encoder_input_train[:3])"
   ]
  },
  {
   "cell_type": "code",
   "execution_count": 35,
   "metadata": {},
   "outputs": [],
   "source": [
    "#tar_tokenizer = Tokenizer()\n",
    "# 한글 형태소 분석기\n",
    "from konlpy.tag import Okt\n",
    "tar_tokenizer = Okt()\n",
    "\n",
    "tar_tokenizer.fit_on_texts(decoder_input_train)"
   ]
  },
  {
   "cell_type": "code",
   "execution_count": 36,
   "metadata": {},
   "outputs": [
    {
     "name": "stdout",
     "output_type": "stream",
     "text": [
      "단어 집합(vocabulary)의 크기 : 8568\n",
      "등장 빈도가 5번 이하인 희귀 단어의 수: 7924\n",
      "단어 집합에서 희귀 단어를 제외시킬 경우의 단어 집합의 크기 644\n",
      "단어 집합에서 희귀 단어의 비율: 92.48366013071896\n",
      "전체 등장 빈도에서 희귀 단어 등장 빈도 비율: 41.64349376114082\n"
     ]
    }
   ],
   "source": [
    "threshold = 6\n",
    "total_cnt = len(tar_tokenizer.word_index) # 단어의 수\n",
    "rare_cnt = 0 # 등장 빈도수가 threshold보다 작은 단어의 개수를 카운트\n",
    "total_freq = 0 # 훈련 데이터의 전체 단어 빈도수 총 합\n",
    "rare_freq = 0 # 등장 빈도수가 threshold보다 작은 단어의 등장 빈도수의 총 합\n",
    "\n",
    "# 단어와 빈도수의 쌍(pair)을 key와 value로 받는다.\n",
    "for key, value in tar_tokenizer.word_counts.items():\n",
    "    total_freq = total_freq + value\n",
    "\n",
    "    # 단어의 등장 빈도수가 threshold보다 작으면\n",
    "    if(value < threshold):\n",
    "        rare_cnt = rare_cnt + 1\n",
    "        rare_freq = rare_freq + value\n",
    "\n",
    "print('단어 집합(vocabulary)의 크기 :',total_cnt)\n",
    "print('등장 빈도가 %s번 이하인 희귀 단어의 수: %s'%(threshold - 1, rare_cnt))\n",
    "print('단어 집합에서 희귀 단어를 제외시킬 경우의 단어 집합의 크기 %s'%(total_cnt - rare_cnt))\n",
    "print(\"단어 집합에서 희귀 단어의 비율:\", (rare_cnt / total_cnt)*100)\n",
    "print(\"전체 등장 빈도에서 희귀 단어 등장 빈도 비율:\", (rare_freq / total_freq)*100)"
   ]
  },
  {
   "cell_type": "code",
   "execution_count": 37,
   "metadata": {},
   "outputs": [],
   "source": [
    "tar_vocab = 600\n",
    "tar_tokenizer = Tokenizer(num_words = tar_vocab) \n",
    "tar_tokenizer.fit_on_texts(decoder_input_train)\n",
    "tar_tokenizer.fit_on_texts(decoder_target_train)"
   ]
  },
  {
   "cell_type": "code",
   "execution_count": 38,
   "metadata": {},
   "outputs": [],
   "source": [
    "# 텍스트 시퀀스를 정수 시퀀스로 변환\n",
    "decoder_input_train = tar_tokenizer.texts_to_sequences(decoder_input_train) \n",
    "decoder_target_train = tar_tokenizer.texts_to_sequences(decoder_target_train)\n",
    "decoder_input_test = tar_tokenizer.texts_to_sequences(decoder_input_test)\n",
    "decoder_target_test = tar_tokenizer.texts_to_sequences(decoder_target_test)"
   ]
  },
  {
   "cell_type": "code",
   "execution_count": 39,
   "metadata": {
    "scrolled": true
   },
   "outputs": [
    {
     "name": "stdout",
     "output_type": "stream",
     "text": [
      "[[20, 78, 527, 126, 246, 9, 78, 188, 9, 269, 47, 10, 6, 34, 29, 5, 2, 391, 29, 10, 5, 9, 444, 5, 19, 445, 4, 51, 167, 29, 270, 29, 10, 22, 4, 446, 145, 99, 6, 527, 314, 19, 10, 6, 4, 168, 447, 2, 2, 12, 230, 15, 19, 448, 111, 36, 188, 4, 528, 48, 392, 15, 7, 91, 446, 106, 29, 10, 1, 449, 33, 450, 4, 29, 10, 2, 82, 29, 270, 111, 315, 1, 22, 2, 29, 10, 4, 29, 10, 316, 2, 317, 19, 203, 271, 6, 1, 393, 8, 13, 451, 4, 48, 154, 112, 7, 100, 350, 22, 4, 51, 167, 29, 63, 10, 2, 36, 44, 529, 14, 126, 33, 10, 7, 530, 394, 23, 189, 189], [20, 395, 351, 61, 11, 34, 1, 2, 30, 247, 352, 58, 9, 11, 107, 6, 69, 531, 16, 22, 2, 7, 4, 3, 18, 353, 24, 8, 2, 47, 58, 1, 248, 396, 178, 272, 9, 190, 396, 54, 18, 16, 9, 352, 13, 54, 9, 6, 13, 118, 8, 91, 155, 291, 146, 40, 6, 35, 41, 1, 156, 529, 14, 354, 179, 248, 179, 2, 79, 58, 9, 395, 351, 2, 30, 8, 2, 12, 1, 2, 23, 11, 107, 6, 1, 83, 36, 351, 12, 1, 15, 6, 84, 4, 27, 2, 249, 4, 452, 2, 397, 44, 231, 249, 6, 9, 1, 355, 9, 2, 1, 355, 9, 2, 1, 6, 292, 249, 398, 1, 2, 33, 273, 15, 356, 108, 92, 93, 26, 28], [20, 250, 17, 293, 135, 399, 109, 94, 7, 251, 2, 250, 67, 135, 399, 109, 94, 7, 250, 17, 293, 251, 2, 127, 128, 215, 6, 191, 65, 318, 532, 24, 34, 113, 252, 1, 1, 453, 215, 6, 5, 119, 357, 4, 157, 65, 24, 34, 4, 157, 65, 1, 532, 106, 274, 533, 8, 1, 533, 8, 1, 5, 2, 119, 135, 29, 454, 4, 534, 535, 6, 536, 19, 4, 1, 449, 13, 250, 275, 29, 10, 24, 34, 294, 158, 8, 2, 33, 250, 129, 127, 319, 216, 2, 400, 2, 158, 25, 68, 129, 169, 1, 455, 136, 2, 276, 45, 6, 38, 251, 114, 68, 39, 180, 1, 217, 5, 1, 4, 250, 17, 252, 14, 455, 136, 2, 40, 2, 4, 137, 2, 30, 1, 455, 136, 2, 295, 2, 537, 44, 26, 28], [20, 218, 61, 8, 32, 4, 27, 274, 181, 253, 14, 3, 80, 35, 41, 401, 1, 5, 6, 358, 402, 6, 76, 32, 2, 277, 6, 296, 320, 6, 22, 1, 32, 1, 538, 274, 219, 9, 23, 359, 274, 218, 2, 539, 56, 18, 170, 31, 403, 3, 15, 23, 32, 274, 46, 63, 9, 4, 168, 86, 10, 404, 2, 33, 405, 130, 39, 86, 10, 6, 8, 171, 192, 8, 540, 86, 10, 7, 159, 4, 296, 14, 6, 11, 4, 2, 274, 1, 2, 7, 297, 1, 5, 6, 86, 10, 6, 8, 171, 10, 4, 86, 32, 274, 170, 292, 83, 86, 10, 7, 254, 145, 3, 3, 159, 13, 4, 39, 180, 3, 15, 7, 44, 101, 102, 26, 28], [20, 298, 4, 27, 406, 2, 33, 1, 456, 2, 406, 112, 6, 8, 5, 115, 10, 10, 7, 357, 9, 204, 29, 216, 8, 321, 456, 2, 3, 19, 269, 13, 29, 216, 5, 2, 100, 4, 43, 2, 35, 115, 10, 8, 4, 95, 4, 7, 360, 360, 541, 106, 4, 4, 95, 220, 457, 111, 61, 19, 103, 298, 4, 27, 137, 4, 27, 2, 70, 542, 33, 2, 406, 4, 147, 154, 79, 406, 9, 29, 216, 4, 321, 456, 160, 19, 138, 458, 456, 6, 232, 78, 39, 23, 120, 54, 322, 543, 542, 7, 62, 95, 66, 544, 323, 456, 2, 6, 7, 205, 361, 361]]\n"
     ]
    }
   ],
   "source": [
    "print(decoder_input_train[:5])"
   ]
  },
  {
   "cell_type": "code",
   "execution_count": 40,
   "metadata": {},
   "outputs": [
    {
     "name": "stdout",
     "output_type": "stream",
     "text": [
      "[[29, 5, 2, 404, 246, 29, 10, 4, 60, 21], [531, 16, 22, 2, 2, 248, 18, 16, 9, 2, 12, 1, 2, 23, 21], [250, 67, 135, 293, 85, 469, 87, 367, 275, 29, 10, 24, 34, 22, 1, 2, 207, 320, 21], [401, 1, 5, 6, 296, 14, 80, 64, 22, 1, 32, 274, 181, 119, 21], [298, 4, 27, 456, 2, 2, 61, 19, 21]]\n"
     ]
    }
   ],
   "source": [
    "print(decoder_target_train[:5])"
   ]
  },
  {
   "cell_type": "markdown",
   "metadata": {},
   "source": [
    "## Remove Empty Samples"
   ]
  },
  {
   "cell_type": "code",
   "execution_count": 41,
   "metadata": {},
   "outputs": [],
   "source": [
    "drop_train = [index for index, sentence in enumerate(decoder_input_train) if len(sentence) == 1]\n",
    "drop_test = [index for index, sentence in enumerate(decoder_input_test) if len(sentence) == 1]"
   ]
  },
  {
   "cell_type": "code",
   "execution_count": 42,
   "metadata": {},
   "outputs": [
    {
     "name": "stdout",
     "output_type": "stream",
     "text": [
      "삭제할 훈련 데이터의 개수 : 0\n",
      "삭제할 테스트 데이터의 개수 : 0\n"
     ]
    }
   ],
   "source": [
    "print('삭제할 훈련 데이터의 개수 :',len(drop_train))\n",
    "print('삭제할 테스트 데이터의 개수 :',len(drop_test))"
   ]
  },
  {
   "cell_type": "code",
   "execution_count": 43,
   "metadata": {},
   "outputs": [
    {
     "name": "stdout",
     "output_type": "stream",
     "text": [
      "훈련 데이터의 개수 : 111\n",
      "훈련 레이블의 개수 : 111\n",
      "테스트 데이터의 개수 : 27\n",
      "테스트 레이블의 개수 : 27\n"
     ]
    }
   ],
   "source": [
    "encoder_input_train = np.delete(encoder_input_train, drop_train, axis=0)\n",
    "decoder_input_train = np.delete(decoder_input_train, drop_train, axis=0)\n",
    "decoder_target_train = np.delete(decoder_target_train, drop_train, axis=0)\n",
    "\n",
    "encoder_input_test = np.delete(encoder_input_test, drop_test, axis=0)\n",
    "decoder_input_test = np.delete(decoder_input_test, drop_test, axis=0)\n",
    "decoder_target_test = np.delete(decoder_target_test, drop_test, axis=0)\n",
    "\n",
    "print('훈련 데이터의 개수 :', len(encoder_input_train))\n",
    "print('훈련 레이블의 개수 :',len(decoder_input_train))\n",
    "print('테스트 데이터의 개수 :',len(encoder_input_test))\n",
    "print('테스트 레이블의 개수 :',len(decoder_input_test))"
   ]
  },
  {
   "cell_type": "markdown",
   "metadata": {},
   "source": [
    "## Padding"
   ]
  },
  {
   "cell_type": "code",
   "execution_count": 44,
   "metadata": {},
   "outputs": [],
   "source": [
    "encoder_input_train = pad_sequences(encoder_input_train, maxlen = text_max_len, padding='post')\n",
    "encoder_input_test = pad_sequences(encoder_input_test, maxlen = text_max_len, padding='post')\n",
    "decoder_input_train = pad_sequences(decoder_input_train, maxlen = summary_max_len, padding='post')\n",
    "decoder_target_train = pad_sequences(decoder_target_train, maxlen = summary_max_len, padding='post')\n",
    "decoder_input_test = pad_sequences(decoder_input_test, maxlen = summary_max_len, padding='post')\n",
    "decoder_target_test = pad_sequences(decoder_target_test, maxlen = summary_max_len, padding='post')"
   ]
  },
  {
   "cell_type": "markdown",
   "metadata": {},
   "source": [
    "## Seq2Seq + Attention Summary Model"
   ]
  },
  {
   "cell_type": "code",
   "execution_count": 45,
   "metadata": {},
   "outputs": [],
   "source": [
    "from tensorflow.keras.layers import Input, LSTM, Embedding, Dense, Concatenate\n",
    "from tensorflow.keras.models import Model\n",
    "from tensorflow.keras.callbacks import EarlyStopping, ModelCheckpoint"
   ]
  },
  {
   "cell_type": "code",
   "execution_count": 46,
   "metadata": {},
   "outputs": [
    {
     "name": "stdout",
     "output_type": "stream",
     "text": [
      "WARNING:tensorflow:From C:\\Users\\USER\\anaconda3\\lib\\site-packages\\tensorflow\\python\\keras\\initializers.py:119: calling RandomUniform.__init__ (from tensorflow.python.ops.init_ops) with dtype is deprecated and will be removed in a future version.\n",
      "Instructions for updating:\n",
      "Call initializer instance with the dtype argument instead of passing it to the constructor\n",
      "WARNING:tensorflow:From C:\\Users\\USER\\anaconda3\\lib\\site-packages\\tensorflow\\python\\ops\\init_ops.py:1251: calling VarianceScaling.__init__ (from tensorflow.python.ops.init_ops) with dtype is deprecated and will be removed in a future version.\n",
      "Instructions for updating:\n",
      "Call initializer instance with the dtype argument instead of passing it to the constructor\n"
     ]
    }
   ],
   "source": [
    "embedding_dim = 128\n",
    "hidden_size = 256\n",
    "\n",
    "# 인코더\n",
    "encoder_inputs = Input(shape=(text_max_len,))\n",
    "\n",
    "# 인코더의 임베딩 층\n",
    "enc_emb = Embedding(src_vocab, embedding_dim)(encoder_inputs)\n",
    "\n",
    "# 인코더의 LSTM 1\n",
    "encoder_lstm1 = LSTM(hidden_size, return_sequences=True, return_state=True ,dropout = 0.4, recurrent_dropout = 0.4)\n",
    "encoder_output1, state_h1, state_c1 = encoder_lstm1(enc_emb)\n",
    "\n",
    "# 인코더의 LSTM 2\n",
    "encoder_lstm2 = LSTM(hidden_size, return_sequences=True, return_state=True, dropout=0.4, recurrent_dropout=0.4)\n",
    "encoder_output2, state_h2, state_c2 = encoder_lstm2(encoder_output1)\n",
    "\n",
    "# 인코더의 LSTM 3\n",
    "encoder_lstm3 = LSTM(hidden_size, return_state=True, return_sequences=True, dropout=0.4, recurrent_dropout=0.4)\n",
    "encoder_outputs, state_h, state_c= encoder_lstm3(encoder_output2)"
   ]
  },
  {
   "cell_type": "code",
   "execution_count": 47,
   "metadata": {},
   "outputs": [],
   "source": [
    "# 디코더\n",
    "decoder_inputs = Input(shape=(None,))\n",
    "\n",
    "# 디코더의 임베딩 층\n",
    "dec_emb_layer = Embedding(tar_vocab, embedding_dim)\n",
    "dec_emb = dec_emb_layer(decoder_inputs)\n",
    "\n",
    "# 디코더의 LSTM\n",
    "decoder_lstm = LSTM(hidden_size, return_sequences = True, return_state = True, dropout = 0.4, recurrent_dropout=0.2)\n",
    "decoder_outputs, _, _ = decoder_lstm(dec_emb, initial_state = [state_h, state_c])"
   ]
  },
  {
   "cell_type": "code",
   "execution_count": 48,
   "metadata": {},
   "outputs": [
    {
     "name": "stdout",
     "output_type": "stream",
     "text": [
      "Model: \"model\"\n",
      "__________________________________________________________________________________________________\n",
      "Layer (type)                    Output Shape         Param #     Connected to                     \n",
      "==================================================================================================\n",
      "input_1 (InputLayer)            [(None, 200)]        0                                            \n",
      "__________________________________________________________________________________________________\n",
      "embedding (Embedding)           (None, 200, 128)     64000       input_1[0][0]                    \n",
      "__________________________________________________________________________________________________\n",
      "lstm (LSTM)                     [(None, 200, 256), ( 394240      embedding[0][0]                  \n",
      "__________________________________________________________________________________________________\n",
      "input_2 (InputLayer)            [(None, None)]       0                                            \n",
      "__________________________________________________________________________________________________\n",
      "lstm_1 (LSTM)                   [(None, 200, 256), ( 525312      lstm[0][0]                       \n",
      "__________________________________________________________________________________________________\n",
      "embedding_1 (Embedding)         (None, None, 128)    76800       input_2[0][0]                    \n",
      "__________________________________________________________________________________________________\n",
      "lstm_2 (LSTM)                   [(None, 200, 256), ( 525312      lstm_1[0][0]                     \n",
      "__________________________________________________________________________________________________\n",
      "lstm_3 (LSTM)                   [(None, None, 256),  394240      embedding_1[0][0]                \n",
      "                                                                 lstm_2[0][1]                     \n",
      "                                                                 lstm_2[0][2]                     \n",
      "__________________________________________________________________________________________________\n",
      "dense (Dense)                   (None, None, 600)    154200      lstm_3[0][0]                     \n",
      "==================================================================================================\n",
      "Total params: 2,134,104\n",
      "Trainable params: 2,134,104\n",
      "Non-trainable params: 0\n",
      "__________________________________________________________________________________________________\n"
     ]
    }
   ],
   "source": [
    "# 디코더의 출력층\n",
    "decoder_softmax_layer = Dense(tar_vocab, activation = 'softmax')\n",
    "decoder_softmax_outputs = decoder_softmax_layer(decoder_outputs) \n",
    "\n",
    "# 모델 정의\n",
    "model = Model([encoder_inputs, decoder_inputs], decoder_softmax_outputs)\n",
    "model.summary()"
   ]
  },
  {
   "cell_type": "code",
   "execution_count": 49,
   "metadata": {},
   "outputs": [],
   "source": [
    "urllib.request.urlretrieve(\"https://raw.githubusercontent.com/thushv89/attention_keras/master/src/layers/attention.py\", filename=\"attention.py\")\n",
    "from attention import AttentionLayer"
   ]
  },
  {
   "cell_type": "code",
   "execution_count": 50,
   "metadata": {
    "scrolled": false
   },
   "outputs": [
    {
     "name": "stdout",
     "output_type": "stream",
     "text": [
      "WARNING:tensorflow:Entity <bound method AttentionLayer.call of <attention.AttentionLayer object at 0x000001EB6E3C2A88>> could not be transformed and will be executed as-is. Please report this to the AutgoGraph team. When filing the bug, set the verbosity to 10 (on Linux, `export AUTOGRAPH_VERBOSITY=10`) and attach the full output. Cause: converting <bound method AttentionLayer.call of <attention.AttentionLayer object at 0x000001EB6E3C2A88>>: AttributeError: module 'gast' has no attribute 'Num'\n",
      "WARNING: Entity <bound method AttentionLayer.call of <attention.AttentionLayer object at 0x000001EB6E3C2A88>> could not be transformed and will be executed as-is. Please report this to the AutgoGraph team. When filing the bug, set the verbosity to 10 (on Linux, `export AUTOGRAPH_VERBOSITY=10`) and attach the full output. Cause: converting <bound method AttentionLayer.call of <attention.AttentionLayer object at 0x000001EB6E3C2A88>>: AttributeError: module 'gast' has no attribute 'Num'\n",
      "Model: \"model_1\"\n",
      "__________________________________________________________________________________________________\n",
      "Layer (type)                    Output Shape         Param #     Connected to                     \n",
      "==================================================================================================\n",
      "input_1 (InputLayer)            [(None, 200)]        0                                            \n",
      "__________________________________________________________________________________________________\n",
      "embedding (Embedding)           (None, 200, 128)     64000       input_1[0][0]                    \n",
      "__________________________________________________________________________________________________\n",
      "lstm (LSTM)                     [(None, 200, 256), ( 394240      embedding[0][0]                  \n",
      "__________________________________________________________________________________________________\n",
      "input_2 (InputLayer)            [(None, None)]       0                                            \n",
      "__________________________________________________________________________________________________\n",
      "lstm_1 (LSTM)                   [(None, 200, 256), ( 525312      lstm[0][0]                       \n",
      "__________________________________________________________________________________________________\n",
      "embedding_1 (Embedding)         (None, None, 128)    76800       input_2[0][0]                    \n",
      "__________________________________________________________________________________________________\n",
      "lstm_2 (LSTM)                   [(None, 200, 256), ( 525312      lstm_1[0][0]                     \n",
      "__________________________________________________________________________________________________\n",
      "lstm_3 (LSTM)                   [(None, None, 256),  394240      embedding_1[0][0]                \n",
      "                                                                 lstm_2[0][1]                     \n",
      "                                                                 lstm_2[0][2]                     \n",
      "__________________________________________________________________________________________________\n",
      "attention_layer (AttentionLayer ((None, None, 256),  131328      lstm_2[0][0]                     \n",
      "                                                                 lstm_3[0][0]                     \n",
      "__________________________________________________________________________________________________\n",
      "concat_layer (Concatenate)      (None, None, 512)    0           lstm_3[0][0]                     \n",
      "                                                                 attention_layer[0][0]            \n",
      "__________________________________________________________________________________________________\n",
      "dense_1 (Dense)                 (None, None, 600)    307800      concat_layer[0][0]               \n",
      "==================================================================================================\n",
      "Total params: 2,419,032\n",
      "Trainable params: 2,419,032\n",
      "Non-trainable params: 0\n",
      "__________________________________________________________________________________________________\n"
     ]
    }
   ],
   "source": [
    "# 어텐션 층(어텐션 함수)\n",
    "attn_layer = AttentionLayer(name='attention_layer')\n",
    "attn_out, attn_states = attn_layer([encoder_outputs, decoder_outputs])\n",
    "\n",
    "# 어텐션의 결과와 디코더의 hidden state들을 연결\n",
    "decoder_concat_input = Concatenate(axis = -1, name='concat_layer')([decoder_outputs, attn_out])\n",
    "\n",
    "# 디코더의 출력층\n",
    "decoder_softmax_layer = Dense(tar_vocab, activation='softmax')\n",
    "decoder_softmax_outputs = decoder_softmax_layer(decoder_concat_input)\n",
    "\n",
    "# 모델 정의\n",
    "model = Model([encoder_inputs, decoder_inputs], decoder_softmax_outputs)\n",
    "model.summary()"
   ]
  },
  {
   "cell_type": "code",
   "execution_count": 51,
   "metadata": {},
   "outputs": [],
   "source": [
    "model.compile(optimizer='rmsprop', loss='sparse_categorical_crossentropy')"
   ]
  },
  {
   "cell_type": "code",
   "execution_count": 52,
   "metadata": {},
   "outputs": [
    {
     "name": "stdout",
     "output_type": "stream",
     "text": [
      "Train on 111 samples, validate on 27 samples\n",
      "WARNING:tensorflow:From C:\\Users\\USER\\anaconda3\\lib\\site-packages\\tensorflow\\python\\ops\\math_grad.py:1250: add_dispatch_support.<locals>.wrapper (from tensorflow.python.ops.array_ops) is deprecated and will be removed in a future version.\n",
      "Instructions for updating:\n",
      "Use tf.where in 2.0, which has the same broadcast rule as np.where\n",
      "Epoch 1/20\n",
      "111/111 [==============================] - 18s 163ms/sample - loss: 6.3966 - val_loss: 6.3405\n",
      "Epoch 2/20\n",
      "111/111 [==============================] - 21s 185ms/sample - loss: 6.3394 - val_loss: 4.8137\n",
      "Epoch 3/20\n",
      "111/111 [==============================] - 21s 186ms/sample - loss: 4.8908 - val_loss: 6.3985\n",
      "Epoch 4/20\n",
      "111/111 [==============================] - 23s 212ms/sample - loss: 6.4007 - val_loss: 4.2707\n",
      "Epoch 5/20\n",
      "111/111 [==============================] - 25s 222ms/sample - loss: 4.3553 - val_loss: 4.0208\n",
      "Epoch 6/20\n",
      "111/111 [==============================] - 23s 209ms/sample - loss: 4.1212 - val_loss: 3.9025\n",
      "Epoch 7/20\n",
      "111/111 [==============================] - 24s 215ms/sample - loss: 4.0076 - val_loss: 3.8655\n",
      "Epoch 8/20\n",
      "111/111 [==============================] - 24s 219ms/sample - loss: 3.9587 - val_loss: 3.8351\n",
      "Epoch 9/20\n",
      "111/111 [==============================] - 25s 223ms/sample - loss: 3.9266 - val_loss: 3.8260\n",
      "Epoch 10/20\n",
      "111/111 [==============================] - 25s 229ms/sample - loss: 3.9119 - val_loss: 3.8126\n",
      "Epoch 11/20\n",
      "111/111 [==============================] - 26s 233ms/sample - loss: 3.8892 - val_loss: 3.8132\n",
      "Epoch 12/20\n",
      "111/111 [==============================] - 27s 240ms/sample - loss: 3.8745 - val_loss: 3.8038\n",
      "Epoch 13/20\n",
      "111/111 [==============================] - 26s 236ms/sample - loss: 3.8691 - val_loss: 3.8345\n",
      "Epoch 14/20\n",
      "111/111 [==============================] - 27s 239ms/sample - loss: 3.8694 - val_loss: 3.8377\n",
      "Epoch 00014: early stopping\n"
     ]
    }
   ],
   "source": [
    "es = EarlyStopping(monitor='val_loss', mode='min', verbose=1, patience = 2)\n",
    "history = model.fit(x = [encoder_input_train, decoder_input_train], y = decoder_target_train, \\\n",
    "          validation_data = ([encoder_input_test, decoder_input_test], decoder_target_test),\n",
    "          batch_size = 128, callbacks=[es], epochs = 20)"
   ]
  },
  {
   "cell_type": "code",
   "execution_count": 53,
   "metadata": {},
   "outputs": [
    {
     "data": {
      "image/png": "[encoded data removed]",
      "text/plain": [
       "<Figure size 432x288 with 1 Axes>"
      ]
     },
     "metadata": {
      "needs_background": "light"
     },
     "output_type": "display_data"
    }
   ],
   "source": [
    "plt.plot(history.history['loss'], label='train')\n",
    "plt.plot(history.history['val_loss'], label='test')\n",
    "plt.legend()\n",
    "plt.show()"
   ]
  },
  {
   "cell_type": "markdown",
   "metadata": {},
   "source": [
    "## Evaluation"
   ]
  },
  {
   "cell_type": "code",
   "execution_count": 54,
   "metadata": {},
   "outputs": [],
   "source": [
    "src_index_to_word = src_tokenizer.index_word # 원문 단어 집합에서 정수 -> 단어를 얻음\n",
    "tar_word_to_index = tar_tokenizer.word_index # 요약 단어 집합에서 단어 -> 정수를 얻음\n",
    "tar_index_to_word = tar_tokenizer.index_word # 요약 단어 집합에서 정수 -> 단어를 얻음"
   ]
  },
  {
   "cell_type": "code",
   "execution_count": 55,
   "metadata": {},
   "outputs": [],
   "source": [
    "# 인코더 설계\n",
    "encoder_model = Model(inputs=encoder_inputs, outputs=[encoder_outputs, state_h, state_c])"
   ]
  },
  {
   "cell_type": "code",
   "execution_count": 56,
   "metadata": {},
   "outputs": [],
   "source": [
    "# 이전 시점의 상태들을 저장하는 텐서\n",
    "decoder_state_input_h = Input(shape=(hidden_size,))\n",
    "decoder_state_input_c = Input(shape=(hidden_size,))\n",
    "\n",
    "dec_emb2 = dec_emb_layer(decoder_inputs)\n",
    "# 문장의 다음 단어를 예측하기 위해서 초기 상태(initial_state)를 이전 시점의 상태로 사용. 이는 뒤의 함수 decode_sequence()에 구현\n",
    "# 훈련 과정에서와 달리 LSTM의 리턴하는 은닉 상태와 셀 상태인 state_h와 state_c를 버리지 않음.\n",
    "decoder_outputs2, state_h2, state_c2 = decoder_lstm(dec_emb2, initial_state=[decoder_state_input_h, decoder_state_input_c])"
   ]
  },
  {
   "cell_type": "code",
   "execution_count": 57,
   "metadata": {},
   "outputs": [
    {
     "name": "stdout",
     "output_type": "stream",
     "text": [
      "WARNING:tensorflow:Entity <bound method AttentionLayer.call of <attention.AttentionLayer object at 0x000001EB6E3C2A88>> could not be transformed and will be executed as-is. Please report this to the AutgoGraph team. When filing the bug, set the verbosity to 10 (on Linux, `export AUTOGRAPH_VERBOSITY=10`) and attach the full output. Cause: converting <bound method AttentionLayer.call of <attention.AttentionLayer object at 0x000001EB6E3C2A88>>: AttributeError: module 'gast' has no attribute 'Num'\n",
      "WARNING: Entity <bound method AttentionLayer.call of <attention.AttentionLayer object at 0x000001EB6E3C2A88>> could not be transformed and will be executed as-is. Please report this to the AutgoGraph team. When filing the bug, set the verbosity to 10 (on Linux, `export AUTOGRAPH_VERBOSITY=10`) and attach the full output. Cause: converting <bound method AttentionLayer.call of <attention.AttentionLayer object at 0x000001EB6E3C2A88>>: AttributeError: module 'gast' has no attribute 'Num'\n"
     ]
    }
   ],
   "source": [
    "# 어텐션 함수\n",
    "decoder_hidden_state_input = Input(shape=(text_max_len, hidden_size))\n",
    "attn_out_inf, attn_states_inf = attn_layer([decoder_hidden_state_input, decoder_outputs2])\n",
    "decoder_inf_concat = Concatenate(axis=-1, name='concat')([decoder_outputs2, attn_out_inf])\n",
    "\n",
    "# 디코더의 출력층\n",
    "decoder_outputs2 = decoder_softmax_layer(decoder_inf_concat) \n",
    "\n",
    "# 최종 디코더 모델\n",
    "decoder_model = Model(\n",
    "    [decoder_inputs] + [decoder_hidden_state_input,decoder_state_input_h, decoder_state_input_c],\n",
    "    [decoder_outputs2] + [state_h2, state_c2])"
   ]
  },
  {
   "cell_type": "code",
   "execution_count": 58,
   "metadata": {},
   "outputs": [],
   "source": [
    "def decode_sequence(input_seq):\n",
    "    # 입력으로부터 인코더의 상태를 얻음\n",
    "    e_out, e_h, e_c = encoder_model.predict(input_seq)\n",
    "    \n",
    "     # <SOS>에 해당하는 토큰 생성\n",
    "    target_seq = np.zeros((1,1))\n",
    "    target_seq[0, 0] = tar_word_to_index['sostoken']\n",
    "\n",
    "    stop_condition = False\n",
    "    decoded_sentence = ''\n",
    "    while not stop_condition: # stop_condition이 True가 될 때까지 루프 반복\n",
    "\n",
    "        output_tokens, h, c = decoder_model.predict([target_seq] + [e_out, e_h, e_c])\n",
    "        sampled_token_index = np.argmax(output_tokens[0, -1, :])\n",
    "        if(sampled_token_index == 0):\n",
    "            target_seq = np.zeros((1,1))\n",
    "            target_seq[0, 0] = sampled_token_index\n",
    "            e_h, e_c = h, c\n",
    "            continue\n",
    "        \n",
    "        sampled_token = tar_index_to_word[sampled_token_index]\n",
    "        if(sampled_token!='eostoken'):\n",
    "            decoded_sentence += ' '+sampled_token\n",
    "\n",
    "        #  <eos>에 도달하거나 최대 길이를 넘으면 중단.\n",
    "        if (sampled_token == 'eostoken'  or len(decoded_sentence.split()) >= (summary_max_len-1)):\n",
    "            stop_condition = True\n",
    "\n",
    "        # 길이가 1인 타겟 시퀀스를 업데이트\n",
    "        target_seq = np.zeros((1,1))\n",
    "        target_seq[0, 0] = sampled_token_index\n",
    "\n",
    "        # 상태를 업데이트 합니다.\n",
    "        e_h, e_c = h, c\n",
    "\n",
    "    return decoded_sentence"
   ]
  },
  {
   "cell_type": "code",
   "execution_count": 59,
   "metadata": {},
   "outputs": [],
   "source": [
    "# 원문의 정수 시퀀스를 텍스트 시퀀스로 변환\n",
    "def seq2text(input_seq):\n",
    "    temp=''\n",
    "    for i in input_seq:\n",
    "        if(i!=0):\n",
    "            temp = temp + src_index_to_word[i]+' '\n",
    "    return temp\n",
    "\n",
    "# 요약문의 정수 시퀀스를 텍스트 시퀀스로 변환\n",
    "def seq2summary(input_seq):\n",
    "    temp=''\n",
    "    for i in input_seq:\n",
    "        if((i!=0 and i!=tar_word_to_index['sostoken']) and i!=tar_word_to_index['eostoken']):\n",
    "            temp = temp + tar_index_to_word[i] + ' '\n",
    "    return temp"
   ]
  },
  {
   "cell_type": "code",
   "execution_count": null,
   "metadata": {
    "scrolled": true
   },
   "outputs": [
    {
     "name": "stdout",
     "output_type": "stream",
     "text": [
      "원문 :  gyeongbugdo ui won i 23il gyeongbugdo daehoe eseo yeog un im ji won eul non uihaessda gyeongbugdo uihoe gyeongbugdo ui won eun 23il gyeongbugdo daehoe eseo yeog un im ji won eul wihan ui apseo do ui won eun jinan yeog un im ji won e gwanhan jolye jejeong eul wihan do ui jolye ui in nae yong eul inal eseo e daehan un im ji won ui eul nop igi wihae yeog eul wa ui hyeob uiga pil uigyeon i ttaleun geos ida eseoneun un im ji won eul e eul dogdo eulo un im ji won gigan eun wol yo yo da jeon haessda do ui won eun ui uigyeon eul eulo jolye nae yong eul yesan budam e daehan ui hyeob uileul tonghae i chaj eul budam eul giban eul gangjohaessda idaegu com \n",
      "실제 요약문 : ui won eun ui uigyeon eul eulo jolye nae yong eul yesan budam e daehan ui hyeob uileul tonghae i chaj eul budam eul jul giban eul gangjohaessda idaegu com \n"
     ]
    }
   ],
   "source": [
    "print(\"원문 : \",seq2text(encoder_input_test[5]))\n",
    "print(\"실제 요약문 :\",seq2summary(decoder_input_test[5]))\n",
    "print(\"예측 요약문 :\",decode_sequence(encoder_input_test[5].reshape(1, text_max_len)))\n",
    "print(\"\\n\")"
   ]
  },
  {
   "cell_type": "code",
   "execution_count": null,
   "metadata": {
    "scrolled": false
   },
   "outputs": [],
   "source": [
    "for i in range(5, 10):\n",
    "    print(\"원문 : \",seq2text(encoder_input_test[i]))\n",
    "    print(\"실제 요약문 :\",seq2summary(decoder_input_test[i]))\n",
    "    print(\"예측 요약문 :\",decode_sequence(encoder_input_test[i].reshape(1, text_max_len)))\n",
    "    print(\"\\n\")"
   ]
  },
  {
   "cell_type": "code",
   "execution_count": null,
   "metadata": {},
   "outputs": [],
   "source": []
  },
  {
   "cell_type": "code",
   "execution_count": null,
   "metadata": {},
   "outputs": [],
   "source": []
  }
 ],
 "metadata": {
  "hide_input": false,
  "kernelspec": {
   "display_name": "Python 3",
   "language": "python",
   "name": "python3"
  },
  "language_info": {
   "codemirror_mode": {
    "name": "ipython",
    "version": 3
   },
   "file_extension": ".py",
   "mimetype": "text/x-python",
   "name": "python",
   "nbconvert_exporter": "python",
   "pygments_lexer": "ipython3",
   "version": "3.7.6"
  },
  "toc": {
   "base_numbering": 1,
   "nav_menu": {},
   "number_sections": true,
   "sideBar": true,
   "skip_h1_title": false,
   "title_cell": "Table of Contents",
   "title_sidebar": "Contents",
   "toc_cell": false,
   "toc_position": {},
   "toc_section_display": true,
   "toc_window_display": false
  },
  "varInspector": {
   "cols": {
    "lenName": 16,
    "lenType": 16,
    "lenVar": 40
   },
   "kernels_config": {
    "python": {
     "delete_cmd_postfix": "",
     "delete_cmd_prefix": "del ",
     "library": "var_list.py",
     "varRefreshCmd": "print(var_dic_list())"
    },
    "r": {
     "delete_cmd_postfix": ") ",
     "delete_cmd_prefix": "rm(",
     "library": "var_list.r",
     "varRefreshCmd": "cat(var_dic_list()) "
    }
   },
   "types_to_exclude": [
    "module",
    "function",
    "builtin_function_or_method",
    "instance",
    "_Feature"
   ],
   "window_display": false
  }
 },
 "nbformat": 4,
 "nbformat_minor": 4
}
