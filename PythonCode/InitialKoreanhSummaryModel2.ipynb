{
 "cells": [
  {
   "cell_type": "markdown",
   "metadata": {},
   "source": [
    "# Korean News Summary Model"
   ]
  },
  {
   "cell_type": "code",
   "execution_count": 1,
   "metadata": {},
   "outputs": [
    {
     "name": "stderr",
     "output_type": "stream",
     "text": [
      "C:\\Users\\USER\\anaconda3\\lib\\site-packages\\tensorflow\\python\\framework\\dtypes.py:516: FutureWarning: Passing (type, 1) or '1type' as a synonym of type is deprecated; in a future version of numpy, it will be understood as (type, (1,)) / '(1,)type'.\n",
      "  _np_qint8 = np.dtype([(\"qint8\", np.int8, 1)])\n",
      "C:\\Users\\USER\\anaconda3\\lib\\site-packages\\tensorflow\\python\\framework\\dtypes.py:517: FutureWarning: Passing (type, 1) or '1type' as a synonym of type is deprecated; in a future version of numpy, it will be understood as (type, (1,)) / '(1,)type'.\n",
      "  _np_quint8 = np.dtype([(\"quint8\", np.uint8, 1)])\n",
      "C:\\Users\\USER\\anaconda3\\lib\\site-packages\\tensorflow\\python\\framework\\dtypes.py:518: FutureWarning: Passing (type, 1) or '1type' as a synonym of type is deprecated; in a future version of numpy, it will be understood as (type, (1,)) / '(1,)type'.\n",
      "  _np_qint16 = np.dtype([(\"qint16\", np.int16, 1)])\n",
      "C:\\Users\\USER\\anaconda3\\lib\\site-packages\\tensorflow\\python\\framework\\dtypes.py:519: FutureWarning: Passing (type, 1) or '1type' as a synonym of type is deprecated; in a future version of numpy, it will be understood as (type, (1,)) / '(1,)type'.\n",
      "  _np_quint16 = np.dtype([(\"quint16\", np.uint16, 1)])\n",
      "C:\\Users\\USER\\anaconda3\\lib\\site-packages\\tensorflow\\python\\framework\\dtypes.py:520: FutureWarning: Passing (type, 1) or '1type' as a synonym of type is deprecated; in a future version of numpy, it will be understood as (type, (1,)) / '(1,)type'.\n",
      "  _np_qint32 = np.dtype([(\"qint32\", np.int32, 1)])\n",
      "C:\\Users\\USER\\anaconda3\\lib\\site-packages\\tensorflow\\python\\framework\\dtypes.py:525: FutureWarning: Passing (type, 1) or '1type' as a synonym of type is deprecated; in a future version of numpy, it will be understood as (type, (1,)) / '(1,)type'.\n",
      "  np_resource = np.dtype([(\"resource\", np.ubyte, 1)])\n",
      "C:\\Users\\USER\\anaconda3\\lib\\site-packages\\tensorboard\\compat\\tensorflow_stub\\dtypes.py:541: FutureWarning: Passing (type, 1) or '1type' as a synonym of type is deprecated; in a future version of numpy, it will be understood as (type, (1,)) / '(1,)type'.\n",
      "  _np_qint8 = np.dtype([(\"qint8\", np.int8, 1)])\n",
      "C:\\Users\\USER\\anaconda3\\lib\\site-packages\\tensorboard\\compat\\tensorflow_stub\\dtypes.py:542: FutureWarning: Passing (type, 1) or '1type' as a synonym of type is deprecated; in a future version of numpy, it will be understood as (type, (1,)) / '(1,)type'.\n",
      "  _np_quint8 = np.dtype([(\"quint8\", np.uint8, 1)])\n",
      "C:\\Users\\USER\\anaconda3\\lib\\site-packages\\tensorboard\\compat\\tensorflow_stub\\dtypes.py:543: FutureWarning: Passing (type, 1) or '1type' as a synonym of type is deprecated; in a future version of numpy, it will be understood as (type, (1,)) / '(1,)type'.\n",
      "  _np_qint16 = np.dtype([(\"qint16\", np.int16, 1)])\n",
      "C:\\Users\\USER\\anaconda3\\lib\\site-packages\\tensorboard\\compat\\tensorflow_stub\\dtypes.py:544: FutureWarning: Passing (type, 1) or '1type' as a synonym of type is deprecated; in a future version of numpy, it will be understood as (type, (1,)) / '(1,)type'.\n",
      "  _np_quint16 = np.dtype([(\"quint16\", np.uint16, 1)])\n",
      "C:\\Users\\USER\\anaconda3\\lib\\site-packages\\tensorboard\\compat\\tensorflow_stub\\dtypes.py:545: FutureWarning: Passing (type, 1) or '1type' as a synonym of type is deprecated; in a future version of numpy, it will be understood as (type, (1,)) / '(1,)type'.\n",
      "  _np_qint32 = np.dtype([(\"qint32\", np.int32, 1)])\n",
      "C:\\Users\\USER\\anaconda3\\lib\\site-packages\\tensorboard\\compat\\tensorflow_stub\\dtypes.py:550: FutureWarning: Passing (type, 1) or '1type' as a synonym of type is deprecated; in a future version of numpy, it will be understood as (type, (1,)) / '(1,)type'.\n",
      "  np_resource = np.dtype([(\"resource\", np.ubyte, 1)])\n"
     ]
    }
   ],
   "source": [
    "import numpy as np\n",
    "import pandas as pd\n",
    "import re\n",
    "import matplotlib.pyplot as plt\n",
    "import nltk\n",
    "from nltk.corpus import stopwords\n",
    "from bs4 import BeautifulSoup \n",
    "from tensorflow.keras.preprocessing.text import Tokenizer \n",
    "from tensorflow.keras.preprocessing.sequence import pad_sequences\n",
    "import urllib.request\n",
    "np.random.seed(seed=0)"
   ]
  },
  {
   "cell_type": "markdown",
   "metadata": {},
   "source": [
    "## Data"
   ]
  },
  {
   "cell_type": "code",
   "execution_count": 2,
   "metadata": {},
   "outputs": [
    {
     "name": "stdout",
     "output_type": "stream",
     "text": [
      "전체 뉴스 개수 : 16983\n"
     ]
    }
   ],
   "source": [
    "# Reviews.csv 파일을 data라는 이름의 데이터프레임에 저장. 단, 10만개의 행(rows)으로 제한.\n",
    "data = pd.read_excel(\"종합 텍스트.xlsx\")\n",
    "print('전체 뉴스 개수 :',(len(data)))"
   ]
  },
  {
   "cell_type": "code",
   "execution_count": 3,
   "metadata": {},
   "outputs": [
    {
     "data": {
      "text/html": [
       "<div>\n",
       "<style scoped>\n",
       "    .dataframe tbody tr th:only-of-type {\n",
       "        vertical-align: middle;\n",
       "    }\n",
       "\n",
       "    .dataframe tbody tr th {\n",
       "        vertical-align: top;\n",
       "    }\n",
       "\n",
       "    .dataframe thead th {\n",
       "        text-align: right;\n",
       "    }\n",
       "</style>\n",
       "<table border=\"1\" class=\"dataframe\">\n",
       "  <thead>\n",
       "    <tr style=\"text-align: right;\">\n",
       "      <th></th>\n",
       "      <th>기사번호</th>\n",
       "      <th>기사카테고리</th>\n",
       "      <th>매체유형</th>\n",
       "      <th>매체구분</th>\n",
       "      <th>매체명</th>\n",
       "      <th>기사대중소</th>\n",
       "      <th>기사본문글자수</th>\n",
       "      <th>발행일시</th>\n",
       "      <th>제목</th>\n",
       "      <th>내용</th>\n",
       "      <th>가독성</th>\n",
       "      <th>정확성</th>\n",
       "      <th>정보성</th>\n",
       "      <th>신뢰성</th>\n",
       "      <th>생성</th>\n",
       "      <th>추출1</th>\n",
       "      <th>추출2</th>\n",
       "      <th>추출3</th>\n",
       "    </tr>\n",
       "  </thead>\n",
       "  <tbody>\n",
       "    <tr>\n",
       "      <th>0</th>\n",
       "      <td>371224146</td>\n",
       "      <td>종합</td>\n",
       "      <td>online</td>\n",
       "      <td>지역지</td>\n",
       "      <td>기호일보</td>\n",
       "      <td>medium</td>\n",
       "      <td>1436</td>\n",
       "      <td>2019-12-18 00:00:00</td>\n",
       "      <td>수사권 조정은 국민인권의 첫걸음</td>\n",
       "      <td>기호일보\\n\\n전영태 안산단원경찰서 112종합상황실/경위\\n전영태 안산단원경찰서 1...</td>\n",
       "      <td>4</td>\n",
       "      <td>4</td>\n",
       "      <td>3</td>\n",
       "      <td>4</td>\n",
       "      <td>현 정부의 핵심 과제인 검경 수사권 조정의 핵심은 검찰의 막강한 권한을 분산해 권력...</td>\n",
       "      <td>검경 수사권 개혁에 대한 문제는 현 정부의 핵심 과제이다.</td>\n",
       "      <td>형사 사법제도의 본질은 경찰·검찰·법원 등 삼권 분립으로 상호 견제와 균형을 이뤄 ...</td>\n",
       "      <td>이번 수사권 조정의 핵심은 검찰의 제왕적 권한을 분산해 타 기관과의 상호 감시와 견...</td>\n",
       "    </tr>\n",
       "    <tr>\n",
       "      <th>1</th>\n",
       "      <td>363331583</td>\n",
       "      <td>종합</td>\n",
       "      <td>online</td>\n",
       "      <td>지역지</td>\n",
       "      <td>기호일보</td>\n",
       "      <td>small</td>\n",
       "      <td>898</td>\n",
       "      <td>2019-10-16 00:00:00</td>\n",
       "      <td>인천서 외래 해충 ‘소나무허리노린재’ 발생</td>\n",
       "      <td>최유탁 기자\\n\\n인천대 배양섭 교수 월미도·인천대 송도캠 정착 개체군 확인\\n임업...</td>\n",
       "      <td>4</td>\n",
       "      <td>4</td>\n",
       "      <td>4</td>\n",
       "      <td>4</td>\n",
       "      <td>임업진흥원 외래 무척추동물의 확산 및 변화예측 기술개발 사업단'이 월미도와 인천대학...</td>\n",
       "      <td>임업진흥원 외래 무척추동물의 확산 및 변화예측 기술개발 사업단(단장 배양섭 인천대 ...</td>\n",
       "      <td>15일 사업단에 따르면 외래 산림해충 모니터링과 문헌조사를 병행해 출현 기록이 있는...</td>\n",
       "      <td>국내에서 발생이 확대될 경우 침엽수 비중이 높은 산림생태계 및 가평 등지의 잣 생산...</td>\n",
       "    </tr>\n",
       "    <tr>\n",
       "      <th>2</th>\n",
       "      <td>363195607</td>\n",
       "      <td>종합</td>\n",
       "      <td>online</td>\n",
       "      <td>지역지</td>\n",
       "      <td>기호일보</td>\n",
       "      <td>small</td>\n",
       "      <td>747</td>\n",
       "      <td>2019-10-15 00:00:00</td>\n",
       "      <td>김상희 의원 \"심평원 보험사기 방지 업무 민간 보험사 배불려\"</td>\n",
       "      <td>최두환 기자\\n\\n건강보험 심사평가원의 ‘보험사기 방지’ 업무가 민간보험사의 배를 ...</td>\n",
       "      <td>4</td>\n",
       "      <td>5</td>\n",
       "      <td>4</td>\n",
       "      <td>4</td>\n",
       "      <td>더불어민주당 김상희 의원은 2016년 ‘보험사기방지 특별법’이 제정됨에 따라 ‘보험...</td>\n",
       "      <td>건강보험 심사평가원의 ‘보험사기 방지’ 업무가 민간보험사의 배를 불리며 건보 법에 ...</td>\n",
       "      <td>더불어민주당 김상희(부천 소사) 국회원이 건강보험공단에서 확인한 자료에 따르면 심평...</td>\n",
       "      <td>문제는 이 돈이 건강보험 재정에서 나온다는 것이다.</td>\n",
       "    </tr>\n",
       "    <tr>\n",
       "      <th>3</th>\n",
       "      <td>357571415</td>\n",
       "      <td>종합</td>\n",
       "      <td>online</td>\n",
       "      <td>지역지</td>\n",
       "      <td>기호일보</td>\n",
       "      <td>small</td>\n",
       "      <td>757</td>\n",
       "      <td>2019-08-27 00:00:00</td>\n",
       "      <td>부천시, ‘포도 수확 체험 프로그램’ 운영</td>\n",
       "      <td>부천시는 어린이들이 우리 지역의 포도를 직접 수확해 보는 ‘포도 수확 체험 프로그램...</td>\n",
       "      <td>3</td>\n",
       "      <td>3</td>\n",
       "      <td>3</td>\n",
       "      <td>3</td>\n",
       "      <td>부천시는 포도를 수확하고 맛도 볼 수 있으며 수확한 포도(5kg)을 가져갈 수 있는...</td>\n",
       "      <td>부천시는 어린이들이 우리 지역의 포도를 직접 수확해 보는 ‘포도 수확 체험 프로그램...</td>\n",
       "      <td>가족 체험에 참여하면 포도 수확, 포도 맛보기 체험을 하고 수확한 포도(5㎏)를 가...</td>\n",
       "      <td>시 관계자는 \"도심에서는 평소 접하기 어려운 포도 수확 체험이 시민들에게 즐겁고 소...</td>\n",
       "    </tr>\n",
       "    <tr>\n",
       "      <th>4</th>\n",
       "      <td>368209875</td>\n",
       "      <td>종합</td>\n",
       "      <td>online</td>\n",
       "      <td>지역지</td>\n",
       "      <td>기호일보</td>\n",
       "      <td>small</td>\n",
       "      <td>767</td>\n",
       "      <td>2019-11-23 13:10:55</td>\n",
       "      <td>가평군지사협, 어르신 짝쿵 초청 ‘힐링 문화소풍!’</td>\n",
       "      <td>엄건섭 기자\\n\\n가평군 가평읍지사협은 최근 특화사업인 문화체험 행복나들이 ‘어르신...</td>\n",
       "      <td>5</td>\n",
       "      <td>4</td>\n",
       "      <td>4</td>\n",
       "      <td>4</td>\n",
       "      <td>가평군 가평읍지사협은 복지 사각지대에 있는 지역 어르신들을 대상으로 ‘어르신과 함께...</td>\n",
       "      <td>가평군 가평읍지사협은 최근 특화사업인 문화체험 행복나들이 ‘어르신과 함께하는 힐링 ...</td>\n",
       "      <td>23일 가평읍에 따르면 ‘힐링 문화소풍!’은 복지사각지대에 있는 지역 어르신들을 대...</td>\n",
       "      <td>내년에도 가평읍 지사협위원들과 협력해 다양한 문화체험의 기회를 제공하도록 하겠다\"라...</td>\n",
       "    </tr>\n",
       "  </tbody>\n",
       "</table>\n",
       "</div>"
      ],
      "text/plain": [
       "        기사번호 기사카테고리    매체유형 매체구분   매체명   기사대중소  기사본문글자수                 발행일시  \\\n",
       "0  371224146     종합  online  지역지  기호일보  medium     1436  2019-12-18 00:00:00   \n",
       "1  363331583     종합  online  지역지  기호일보   small      898  2019-10-16 00:00:00   \n",
       "2  363195607     종합  online  지역지  기호일보   small      747  2019-10-15 00:00:00   \n",
       "3  357571415     종합  online  지역지  기호일보   small      757  2019-08-27 00:00:00   \n",
       "4  368209875     종합  online  지역지  기호일보   small      767  2019-11-23 13:10:55   \n",
       "\n",
       "                                   제목  \\\n",
       "0                   수사권 조정은 국민인권의 첫걸음   \n",
       "1             인천서 외래 해충 ‘소나무허리노린재’ 발생   \n",
       "2  김상희 의원 \"심평원 보험사기 방지 업무 민간 보험사 배불려\"   \n",
       "3             부천시, ‘포도 수확 체험 프로그램’ 운영   \n",
       "4        가평군지사협, 어르신 짝쿵 초청 ‘힐링 문화소풍!’   \n",
       "\n",
       "                                                  내용  가독성  정확성  정보성  신뢰성  \\\n",
       "0  기호일보\\n\\n전영태 안산단원경찰서 112종합상황실/경위\\n전영태 안산단원경찰서 1...    4    4    3    4   \n",
       "1  최유탁 기자\\n\\n인천대 배양섭 교수 월미도·인천대 송도캠 정착 개체군 확인\\n임업...    4    4    4    4   \n",
       "2  최두환 기자\\n\\n건강보험 심사평가원의 ‘보험사기 방지’ 업무가 민간보험사의 배를 ...    4    5    4    4   \n",
       "3  부천시는 어린이들이 우리 지역의 포도를 직접 수확해 보는 ‘포도 수확 체험 프로그램...    3    3    3    3   \n",
       "4  엄건섭 기자\\n\\n가평군 가평읍지사협은 최근 특화사업인 문화체험 행복나들이 ‘어르신...    5    4    4    4   \n",
       "\n",
       "                                                  생성  \\\n",
       "0  현 정부의 핵심 과제인 검경 수사권 조정의 핵심은 검찰의 막강한 권한을 분산해 권력...   \n",
       "1  임업진흥원 외래 무척추동물의 확산 및 변화예측 기술개발 사업단'이 월미도와 인천대학...   \n",
       "2  더불어민주당 김상희 의원은 2016년 ‘보험사기방지 특별법’이 제정됨에 따라 ‘보험...   \n",
       "3  부천시는 포도를 수확하고 맛도 볼 수 있으며 수확한 포도(5kg)을 가져갈 수 있는...   \n",
       "4  가평군 가평읍지사협은 복지 사각지대에 있는 지역 어르신들을 대상으로 ‘어르신과 함께...   \n",
       "\n",
       "                                                 추출1  \\\n",
       "0                   검경 수사권 개혁에 대한 문제는 현 정부의 핵심 과제이다.   \n",
       "1  임업진흥원 외래 무척추동물의 확산 및 변화예측 기술개발 사업단(단장 배양섭 인천대 ...   \n",
       "2  건강보험 심사평가원의 ‘보험사기 방지’ 업무가 민간보험사의 배를 불리며 건보 법에 ...   \n",
       "3  부천시는 어린이들이 우리 지역의 포도를 직접 수확해 보는 ‘포도 수확 체험 프로그램...   \n",
       "4  가평군 가평읍지사협은 최근 특화사업인 문화체험 행복나들이 ‘어르신과 함께하는 힐링 ...   \n",
       "\n",
       "                                                 추출2  \\\n",
       "0  형사 사법제도의 본질은 경찰·검찰·법원 등 삼권 분립으로 상호 견제와 균형을 이뤄 ...   \n",
       "1  15일 사업단에 따르면 외래 산림해충 모니터링과 문헌조사를 병행해 출현 기록이 있는...   \n",
       "2  더불어민주당 김상희(부천 소사) 국회원이 건강보험공단에서 확인한 자료에 따르면 심평...   \n",
       "3  가족 체험에 참여하면 포도 수확, 포도 맛보기 체험을 하고 수확한 포도(5㎏)를 가...   \n",
       "4  23일 가평읍에 따르면 ‘힐링 문화소풍!’은 복지사각지대에 있는 지역 어르신들을 대...   \n",
       "\n",
       "                                                 추출3  \n",
       "0  이번 수사권 조정의 핵심은 검찰의 제왕적 권한을 분산해 타 기관과의 상호 감시와 견...  \n",
       "1  국내에서 발생이 확대될 경우 침엽수 비중이 높은 산림생태계 및 가평 등지의 잣 생산...  \n",
       "2                       문제는 이 돈이 건강보험 재정에서 나온다는 것이다.  \n",
       "3  시 관계자는 \"도심에서는 평소 접하기 어려운 포도 수확 체험이 시민들에게 즐겁고 소...  \n",
       "4  내년에도 가평읍 지사협위원들과 협력해 다양한 문화체험의 기회를 제공하도록 하겠다\"라...  "
      ]
     },
     "execution_count": 3,
     "metadata": {},
     "output_type": "execute_result"
    }
   ],
   "source": [
    "data.head()"
   ]
  },
  {
   "cell_type": "code",
   "execution_count": 4,
   "metadata": {},
   "outputs": [
    {
     "data": {
      "text/html": [
       "<div>\n",
       "<style scoped>\n",
       "    .dataframe tbody tr th:only-of-type {\n",
       "        vertical-align: middle;\n",
       "    }\n",
       "\n",
       "    .dataframe tbody tr th {\n",
       "        vertical-align: top;\n",
       "    }\n",
       "\n",
       "    .dataframe thead th {\n",
       "        text-align: right;\n",
       "    }\n",
       "</style>\n",
       "<table border=\"1\" class=\"dataframe\">\n",
       "  <thead>\n",
       "    <tr style=\"text-align: right;\">\n",
       "      <th></th>\n",
       "      <th>내용</th>\n",
       "      <th>추출1</th>\n",
       "      <th>추출2</th>\n",
       "      <th>추출3</th>\n",
       "    </tr>\n",
       "  </thead>\n",
       "  <tbody>\n",
       "    <tr>\n",
       "      <th>0</th>\n",
       "      <td>기호일보\\n\\n전영태 안산단원경찰서 112종합상황실/경위\\n전영태 안산단원경찰서 1...</td>\n",
       "      <td>검경 수사권 개혁에 대한 문제는 현 정부의 핵심 과제이다.</td>\n",
       "      <td>형사 사법제도의 본질은 경찰·검찰·법원 등 삼권 분립으로 상호 견제와 균형을 이뤄 ...</td>\n",
       "      <td>이번 수사권 조정의 핵심은 검찰의 제왕적 권한을 분산해 타 기관과의 상호 감시와 견...</td>\n",
       "    </tr>\n",
       "    <tr>\n",
       "      <th>1</th>\n",
       "      <td>최유탁 기자\\n\\n인천대 배양섭 교수 월미도·인천대 송도캠 정착 개체군 확인\\n임업...</td>\n",
       "      <td>임업진흥원 외래 무척추동물의 확산 및 변화예측 기술개발 사업단(단장 배양섭 인천대 ...</td>\n",
       "      <td>15일 사업단에 따르면 외래 산림해충 모니터링과 문헌조사를 병행해 출현 기록이 있는...</td>\n",
       "      <td>국내에서 발생이 확대될 경우 침엽수 비중이 높은 산림생태계 및 가평 등지의 잣 생산...</td>\n",
       "    </tr>\n",
       "    <tr>\n",
       "      <th>2</th>\n",
       "      <td>최두환 기자\\n\\n건강보험 심사평가원의 ‘보험사기 방지’ 업무가 민간보험사의 배를 ...</td>\n",
       "      <td>건강보험 심사평가원의 ‘보험사기 방지’ 업무가 민간보험사의 배를 불리며 건보 법에 ...</td>\n",
       "      <td>더불어민주당 김상희(부천 소사) 국회원이 건강보험공단에서 확인한 자료에 따르면 심평...</td>\n",
       "      <td>문제는 이 돈이 건강보험 재정에서 나온다는 것이다.</td>\n",
       "    </tr>\n",
       "    <tr>\n",
       "      <th>3</th>\n",
       "      <td>부천시는 어린이들이 우리 지역의 포도를 직접 수확해 보는 ‘포도 수확 체험 프로그램...</td>\n",
       "      <td>부천시는 어린이들이 우리 지역의 포도를 직접 수확해 보는 ‘포도 수확 체험 프로그램...</td>\n",
       "      <td>가족 체험에 참여하면 포도 수확, 포도 맛보기 체험을 하고 수확한 포도(5㎏)를 가...</td>\n",
       "      <td>시 관계자는 \"도심에서는 평소 접하기 어려운 포도 수확 체험이 시민들에게 즐겁고 소...</td>\n",
       "    </tr>\n",
       "    <tr>\n",
       "      <th>4</th>\n",
       "      <td>엄건섭 기자\\n\\n가평군 가평읍지사협은 최근 특화사업인 문화체험 행복나들이 ‘어르신...</td>\n",
       "      <td>가평군 가평읍지사협은 최근 특화사업인 문화체험 행복나들이 ‘어르신과 함께하는 힐링 ...</td>\n",
       "      <td>23일 가평읍에 따르면 ‘힐링 문화소풍!’은 복지사각지대에 있는 지역 어르신들을 대...</td>\n",
       "      <td>내년에도 가평읍 지사협위원들과 협력해 다양한 문화체험의 기회를 제공하도록 하겠다\"라...</td>\n",
       "    </tr>\n",
       "  </tbody>\n",
       "</table>\n",
       "</div>"
      ],
      "text/plain": [
       "                                                  내용  \\\n",
       "0  기호일보\\n\\n전영태 안산단원경찰서 112종합상황실/경위\\n전영태 안산단원경찰서 1...   \n",
       "1  최유탁 기자\\n\\n인천대 배양섭 교수 월미도·인천대 송도캠 정착 개체군 확인\\n임업...   \n",
       "2  최두환 기자\\n\\n건강보험 심사평가원의 ‘보험사기 방지’ 업무가 민간보험사의 배를 ...   \n",
       "3  부천시는 어린이들이 우리 지역의 포도를 직접 수확해 보는 ‘포도 수확 체험 프로그램...   \n",
       "4  엄건섭 기자\\n\\n가평군 가평읍지사협은 최근 특화사업인 문화체험 행복나들이 ‘어르신...   \n",
       "\n",
       "                                                 추출1  \\\n",
       "0                   검경 수사권 개혁에 대한 문제는 현 정부의 핵심 과제이다.   \n",
       "1  임업진흥원 외래 무척추동물의 확산 및 변화예측 기술개발 사업단(단장 배양섭 인천대 ...   \n",
       "2  건강보험 심사평가원의 ‘보험사기 방지’ 업무가 민간보험사의 배를 불리며 건보 법에 ...   \n",
       "3  부천시는 어린이들이 우리 지역의 포도를 직접 수확해 보는 ‘포도 수확 체험 프로그램...   \n",
       "4  가평군 가평읍지사협은 최근 특화사업인 문화체험 행복나들이 ‘어르신과 함께하는 힐링 ...   \n",
       "\n",
       "                                                 추출2  \\\n",
       "0  형사 사법제도의 본질은 경찰·검찰·법원 등 삼권 분립으로 상호 견제와 균형을 이뤄 ...   \n",
       "1  15일 사업단에 따르면 외래 산림해충 모니터링과 문헌조사를 병행해 출현 기록이 있는...   \n",
       "2  더불어민주당 김상희(부천 소사) 국회원이 건강보험공단에서 확인한 자료에 따르면 심평...   \n",
       "3  가족 체험에 참여하면 포도 수확, 포도 맛보기 체험을 하고 수확한 포도(5㎏)를 가...   \n",
       "4  23일 가평읍에 따르면 ‘힐링 문화소풍!’은 복지사각지대에 있는 지역 어르신들을 대...   \n",
       "\n",
       "                                                 추출3  \n",
       "0  이번 수사권 조정의 핵심은 검찰의 제왕적 권한을 분산해 타 기관과의 상호 감시와 견...  \n",
       "1  국내에서 발생이 확대될 경우 침엽수 비중이 높은 산림생태계 및 가평 등지의 잣 생산...  \n",
       "2                       문제는 이 돈이 건강보험 재정에서 나온다는 것이다.  \n",
       "3  시 관계자는 \"도심에서는 평소 접하기 어려운 포도 수확 체험이 시민들에게 즐겁고 소...  \n",
       "4  내년에도 가평읍 지사협위원들과 협력해 다양한 문화체험의 기회를 제공하도록 하겠다\"라...  "
      ]
     },
     "execution_count": 4,
     "metadata": {},
     "output_type": "execute_result"
    }
   ],
   "source": [
    "data = data[['내용','추출1', '추출2', '추출3']]\n",
    "data.head()"
   ]
  },
  {
   "cell_type": "code",
   "execution_count": 5,
   "metadata": {},
   "outputs": [],
   "source": [
    "data['생성2'] = data[['추출1', '추출2']].apply(lambda x: ':'.join(x), axis=1)"
   ]
  },
  {
   "cell_type": "code",
   "execution_count": 6,
   "metadata": {},
   "outputs": [
    {
     "data": {
      "text/html": [
       "<div>\n",
       "<style scoped>\n",
       "    .dataframe tbody tr th:only-of-type {\n",
       "        vertical-align: middle;\n",
       "    }\n",
       "\n",
       "    .dataframe tbody tr th {\n",
       "        vertical-align: top;\n",
       "    }\n",
       "\n",
       "    .dataframe thead th {\n",
       "        text-align: right;\n",
       "    }\n",
       "</style>\n",
       "<table border=\"1\" class=\"dataframe\">\n",
       "  <thead>\n",
       "    <tr style=\"text-align: right;\">\n",
       "      <th></th>\n",
       "      <th>내용</th>\n",
       "      <th>추출1</th>\n",
       "      <th>추출2</th>\n",
       "      <th>추출3</th>\n",
       "      <th>생성2</th>\n",
       "    </tr>\n",
       "  </thead>\n",
       "  <tbody>\n",
       "    <tr>\n",
       "      <th>0</th>\n",
       "      <td>기호일보\\n\\n전영태 안산단원경찰서 112종합상황실/경위\\n전영태 안산단원경찰서 1...</td>\n",
       "      <td>검경 수사권 개혁에 대한 문제는 현 정부의 핵심 과제이다.</td>\n",
       "      <td>형사 사법제도의 본질은 경찰·검찰·법원 등 삼권 분립으로 상호 견제와 균형을 이뤄 ...</td>\n",
       "      <td>이번 수사권 조정의 핵심은 검찰의 제왕적 권한을 분산해 타 기관과의 상호 감시와 견...</td>\n",
       "      <td>검경 수사권 개혁에 대한 문제는 현 정부의 핵심 과제이다.:형사 사법제도의 본질은 ...</td>\n",
       "    </tr>\n",
       "    <tr>\n",
       "      <th>1</th>\n",
       "      <td>최유탁 기자\\n\\n인천대 배양섭 교수 월미도·인천대 송도캠 정착 개체군 확인\\n임업...</td>\n",
       "      <td>임업진흥원 외래 무척추동물의 확산 및 변화예측 기술개발 사업단(단장 배양섭 인천대 ...</td>\n",
       "      <td>15일 사업단에 따르면 외래 산림해충 모니터링과 문헌조사를 병행해 출현 기록이 있는...</td>\n",
       "      <td>국내에서 발생이 확대될 경우 침엽수 비중이 높은 산림생태계 및 가평 등지의 잣 생산...</td>\n",
       "      <td>임업진흥원 외래 무척추동물의 확산 및 변화예측 기술개발 사업단(단장 배양섭 인천대 ...</td>\n",
       "    </tr>\n",
       "    <tr>\n",
       "      <th>2</th>\n",
       "      <td>최두환 기자\\n\\n건강보험 심사평가원의 ‘보험사기 방지’ 업무가 민간보험사의 배를 ...</td>\n",
       "      <td>건강보험 심사평가원의 ‘보험사기 방지’ 업무가 민간보험사의 배를 불리며 건보 법에 ...</td>\n",
       "      <td>더불어민주당 김상희(부천 소사) 국회원이 건강보험공단에서 확인한 자료에 따르면 심평...</td>\n",
       "      <td>문제는 이 돈이 건강보험 재정에서 나온다는 것이다.</td>\n",
       "      <td>건강보험 심사평가원의 ‘보험사기 방지’ 업무가 민간보험사의 배를 불리며 건보 법에 ...</td>\n",
       "    </tr>\n",
       "    <tr>\n",
       "      <th>3</th>\n",
       "      <td>부천시는 어린이들이 우리 지역의 포도를 직접 수확해 보는 ‘포도 수확 체험 프로그램...</td>\n",
       "      <td>부천시는 어린이들이 우리 지역의 포도를 직접 수확해 보는 ‘포도 수확 체험 프로그램...</td>\n",
       "      <td>가족 체험에 참여하면 포도 수확, 포도 맛보기 체험을 하고 수확한 포도(5㎏)를 가...</td>\n",
       "      <td>시 관계자는 \"도심에서는 평소 접하기 어려운 포도 수확 체험이 시민들에게 즐겁고 소...</td>\n",
       "      <td>부천시는 어린이들이 우리 지역의 포도를 직접 수확해 보는 ‘포도 수확 체험 프로그램...</td>\n",
       "    </tr>\n",
       "    <tr>\n",
       "      <th>4</th>\n",
       "      <td>엄건섭 기자\\n\\n가평군 가평읍지사협은 최근 특화사업인 문화체험 행복나들이 ‘어르신...</td>\n",
       "      <td>가평군 가평읍지사협은 최근 특화사업인 문화체험 행복나들이 ‘어르신과 함께하는 힐링 ...</td>\n",
       "      <td>23일 가평읍에 따르면 ‘힐링 문화소풍!’은 복지사각지대에 있는 지역 어르신들을 대...</td>\n",
       "      <td>내년에도 가평읍 지사협위원들과 협력해 다양한 문화체험의 기회를 제공하도록 하겠다\"라...</td>\n",
       "      <td>가평군 가평읍지사협은 최근 특화사업인 문화체험 행복나들이 ‘어르신과 함께하는 힐링 ...</td>\n",
       "    </tr>\n",
       "  </tbody>\n",
       "</table>\n",
       "</div>"
      ],
      "text/plain": [
       "                                                  내용  \\\n",
       "0  기호일보\\n\\n전영태 안산단원경찰서 112종합상황실/경위\\n전영태 안산단원경찰서 1...   \n",
       "1  최유탁 기자\\n\\n인천대 배양섭 교수 월미도·인천대 송도캠 정착 개체군 확인\\n임업...   \n",
       "2  최두환 기자\\n\\n건강보험 심사평가원의 ‘보험사기 방지’ 업무가 민간보험사의 배를 ...   \n",
       "3  부천시는 어린이들이 우리 지역의 포도를 직접 수확해 보는 ‘포도 수확 체험 프로그램...   \n",
       "4  엄건섭 기자\\n\\n가평군 가평읍지사협은 최근 특화사업인 문화체험 행복나들이 ‘어르신...   \n",
       "\n",
       "                                                 추출1  \\\n",
       "0                   검경 수사권 개혁에 대한 문제는 현 정부의 핵심 과제이다.   \n",
       "1  임업진흥원 외래 무척추동물의 확산 및 변화예측 기술개발 사업단(단장 배양섭 인천대 ...   \n",
       "2  건강보험 심사평가원의 ‘보험사기 방지’ 업무가 민간보험사의 배를 불리며 건보 법에 ...   \n",
       "3  부천시는 어린이들이 우리 지역의 포도를 직접 수확해 보는 ‘포도 수확 체험 프로그램...   \n",
       "4  가평군 가평읍지사협은 최근 특화사업인 문화체험 행복나들이 ‘어르신과 함께하는 힐링 ...   \n",
       "\n",
       "                                                 추출2  \\\n",
       "0  형사 사법제도의 본질은 경찰·검찰·법원 등 삼권 분립으로 상호 견제와 균형을 이뤄 ...   \n",
       "1  15일 사업단에 따르면 외래 산림해충 모니터링과 문헌조사를 병행해 출현 기록이 있는...   \n",
       "2  더불어민주당 김상희(부천 소사) 국회원이 건강보험공단에서 확인한 자료에 따르면 심평...   \n",
       "3  가족 체험에 참여하면 포도 수확, 포도 맛보기 체험을 하고 수확한 포도(5㎏)를 가...   \n",
       "4  23일 가평읍에 따르면 ‘힐링 문화소풍!’은 복지사각지대에 있는 지역 어르신들을 대...   \n",
       "\n",
       "                                                 추출3  \\\n",
       "0  이번 수사권 조정의 핵심은 검찰의 제왕적 권한을 분산해 타 기관과의 상호 감시와 견...   \n",
       "1  국내에서 발생이 확대될 경우 침엽수 비중이 높은 산림생태계 및 가평 등지의 잣 생산...   \n",
       "2                       문제는 이 돈이 건강보험 재정에서 나온다는 것이다.   \n",
       "3  시 관계자는 \"도심에서는 평소 접하기 어려운 포도 수확 체험이 시민들에게 즐겁고 소...   \n",
       "4  내년에도 가평읍 지사협위원들과 협력해 다양한 문화체험의 기회를 제공하도록 하겠다\"라...   \n",
       "\n",
       "                                                 생성2  \n",
       "0  검경 수사권 개혁에 대한 문제는 현 정부의 핵심 과제이다.:형사 사법제도의 본질은 ...  \n",
       "1  임업진흥원 외래 무척추동물의 확산 및 변화예측 기술개발 사업단(단장 배양섭 인천대 ...  \n",
       "2  건강보험 심사평가원의 ‘보험사기 방지’ 업무가 민간보험사의 배를 불리며 건보 법에 ...  \n",
       "3  부천시는 어린이들이 우리 지역의 포도를 직접 수확해 보는 ‘포도 수확 체험 프로그램...  \n",
       "4  가평군 가평읍지사협은 최근 특화사업인 문화체험 행복나들이 ‘어르신과 함께하는 힐링 ...  "
      ]
     },
     "execution_count": 6,
     "metadata": {},
     "output_type": "execute_result"
    }
   ],
   "source": [
    "data.head()"
   ]
  },
  {
   "cell_type": "code",
   "execution_count": 7,
   "metadata": {},
   "outputs": [
    {
     "data": {
      "text/plain": [
       "(16974, 5)"
      ]
     },
     "execution_count": 7,
     "metadata": {},
     "output_type": "execute_result"
    }
   ],
   "source": [
    "data.dropna(axis=0, inplace=True)\n",
    "data.shape"
   ]
  },
  {
   "cell_type": "code",
   "execution_count": 8,
   "metadata": {
    "scrolled": true
   },
   "outputs": [
    {
     "data": {
      "text/html": [
       "<div>\n",
       "<style scoped>\n",
       "    .dataframe tbody tr th:only-of-type {\n",
       "        vertical-align: middle;\n",
       "    }\n",
       "\n",
       "    .dataframe tbody tr th {\n",
       "        vertical-align: top;\n",
       "    }\n",
       "\n",
       "    .dataframe thead th {\n",
       "        text-align: right;\n",
       "    }\n",
       "</style>\n",
       "<table border=\"1\" class=\"dataframe\">\n",
       "  <thead>\n",
       "    <tr style=\"text-align: right;\">\n",
       "      <th></th>\n",
       "      <th>내용</th>\n",
       "      <th>추출1</th>\n",
       "      <th>추출2</th>\n",
       "      <th>추출3</th>\n",
       "      <th>생성2</th>\n",
       "      <th>생성</th>\n",
       "    </tr>\n",
       "  </thead>\n",
       "  <tbody>\n",
       "    <tr>\n",
       "      <th>0</th>\n",
       "      <td>기호일보\\n\\n전영태 안산단원경찰서 112종합상황실/경위\\n전영태 안산단원경찰서 1...</td>\n",
       "      <td>검경 수사권 개혁에 대한 문제는 현 정부의 핵심 과제이다.</td>\n",
       "      <td>형사 사법제도의 본질은 경찰·검찰·법원 등 삼권 분립으로 상호 견제와 균형을 이뤄 ...</td>\n",
       "      <td>이번 수사권 조정의 핵심은 검찰의 제왕적 권한을 분산해 타 기관과의 상호 감시와 견...</td>\n",
       "      <td>검경 수사권 개혁에 대한 문제는 현 정부의 핵심 과제이다.:형사 사법제도의 본질은 ...</td>\n",
       "      <td>검경 수사권 개혁에 대한 문제는 현 정부의 핵심 과제이다.:형사 사법제도의 본질은 ...</td>\n",
       "    </tr>\n",
       "    <tr>\n",
       "      <th>1</th>\n",
       "      <td>최유탁 기자\\n\\n인천대 배양섭 교수 월미도·인천대 송도캠 정착 개체군 확인\\n임업...</td>\n",
       "      <td>임업진흥원 외래 무척추동물의 확산 및 변화예측 기술개발 사업단(단장 배양섭 인천대 ...</td>\n",
       "      <td>15일 사업단에 따르면 외래 산림해충 모니터링과 문헌조사를 병행해 출현 기록이 있는...</td>\n",
       "      <td>국내에서 발생이 확대될 경우 침엽수 비중이 높은 산림생태계 및 가평 등지의 잣 생산...</td>\n",
       "      <td>임업진흥원 외래 무척추동물의 확산 및 변화예측 기술개발 사업단(단장 배양섭 인천대 ...</td>\n",
       "      <td>임업진흥원 외래 무척추동물의 확산 및 변화예측 기술개발 사업단(단장 배양섭 인천대 ...</td>\n",
       "    </tr>\n",
       "    <tr>\n",
       "      <th>2</th>\n",
       "      <td>최두환 기자\\n\\n건강보험 심사평가원의 ‘보험사기 방지’ 업무가 민간보험사의 배를 ...</td>\n",
       "      <td>건강보험 심사평가원의 ‘보험사기 방지’ 업무가 민간보험사의 배를 불리며 건보 법에 ...</td>\n",
       "      <td>더불어민주당 김상희(부천 소사) 국회원이 건강보험공단에서 확인한 자료에 따르면 심평...</td>\n",
       "      <td>문제는 이 돈이 건강보험 재정에서 나온다는 것이다.</td>\n",
       "      <td>건강보험 심사평가원의 ‘보험사기 방지’ 업무가 민간보험사의 배를 불리며 건보 법에 ...</td>\n",
       "      <td>건강보험 심사평가원의 ‘보험사기 방지’ 업무가 민간보험사의 배를 불리며 건보 법에 ...</td>\n",
       "    </tr>\n",
       "    <tr>\n",
       "      <th>3</th>\n",
       "      <td>부천시는 어린이들이 우리 지역의 포도를 직접 수확해 보는 ‘포도 수확 체험 프로그램...</td>\n",
       "      <td>부천시는 어린이들이 우리 지역의 포도를 직접 수확해 보는 ‘포도 수확 체험 프로그램...</td>\n",
       "      <td>가족 체험에 참여하면 포도 수확, 포도 맛보기 체험을 하고 수확한 포도(5㎏)를 가...</td>\n",
       "      <td>시 관계자는 \"도심에서는 평소 접하기 어려운 포도 수확 체험이 시민들에게 즐겁고 소...</td>\n",
       "      <td>부천시는 어린이들이 우리 지역의 포도를 직접 수확해 보는 ‘포도 수확 체험 프로그램...</td>\n",
       "      <td>부천시는 어린이들이 우리 지역의 포도를 직접 수확해 보는 ‘포도 수확 체험 프로그램...</td>\n",
       "    </tr>\n",
       "    <tr>\n",
       "      <th>4</th>\n",
       "      <td>엄건섭 기자\\n\\n가평군 가평읍지사협은 최근 특화사업인 문화체험 행복나들이 ‘어르신...</td>\n",
       "      <td>가평군 가평읍지사협은 최근 특화사업인 문화체험 행복나들이 ‘어르신과 함께하는 힐링 ...</td>\n",
       "      <td>23일 가평읍에 따르면 ‘힐링 문화소풍!’은 복지사각지대에 있는 지역 어르신들을 대...</td>\n",
       "      <td>내년에도 가평읍 지사협위원들과 협력해 다양한 문화체험의 기회를 제공하도록 하겠다\"라...</td>\n",
       "      <td>가평군 가평읍지사협은 최근 특화사업인 문화체험 행복나들이 ‘어르신과 함께하는 힐링 ...</td>\n",
       "      <td>가평군 가평읍지사협은 최근 특화사업인 문화체험 행복나들이 ‘어르신과 함께하는 힐링 ...</td>\n",
       "    </tr>\n",
       "  </tbody>\n",
       "</table>\n",
       "</div>"
      ],
      "text/plain": [
       "                                                  내용  \\\n",
       "0  기호일보\\n\\n전영태 안산단원경찰서 112종합상황실/경위\\n전영태 안산단원경찰서 1...   \n",
       "1  최유탁 기자\\n\\n인천대 배양섭 교수 월미도·인천대 송도캠 정착 개체군 확인\\n임업...   \n",
       "2  최두환 기자\\n\\n건강보험 심사평가원의 ‘보험사기 방지’ 업무가 민간보험사의 배를 ...   \n",
       "3  부천시는 어린이들이 우리 지역의 포도를 직접 수확해 보는 ‘포도 수확 체험 프로그램...   \n",
       "4  엄건섭 기자\\n\\n가평군 가평읍지사협은 최근 특화사업인 문화체험 행복나들이 ‘어르신...   \n",
       "\n",
       "                                                 추출1  \\\n",
       "0                   검경 수사권 개혁에 대한 문제는 현 정부의 핵심 과제이다.   \n",
       "1  임업진흥원 외래 무척추동물의 확산 및 변화예측 기술개발 사업단(단장 배양섭 인천대 ...   \n",
       "2  건강보험 심사평가원의 ‘보험사기 방지’ 업무가 민간보험사의 배를 불리며 건보 법에 ...   \n",
       "3  부천시는 어린이들이 우리 지역의 포도를 직접 수확해 보는 ‘포도 수확 체험 프로그램...   \n",
       "4  가평군 가평읍지사협은 최근 특화사업인 문화체험 행복나들이 ‘어르신과 함께하는 힐링 ...   \n",
       "\n",
       "                                                 추출2  \\\n",
       "0  형사 사법제도의 본질은 경찰·검찰·법원 등 삼권 분립으로 상호 견제와 균형을 이뤄 ...   \n",
       "1  15일 사업단에 따르면 외래 산림해충 모니터링과 문헌조사를 병행해 출현 기록이 있는...   \n",
       "2  더불어민주당 김상희(부천 소사) 국회원이 건강보험공단에서 확인한 자료에 따르면 심평...   \n",
       "3  가족 체험에 참여하면 포도 수확, 포도 맛보기 체험을 하고 수확한 포도(5㎏)를 가...   \n",
       "4  23일 가평읍에 따르면 ‘힐링 문화소풍!’은 복지사각지대에 있는 지역 어르신들을 대...   \n",
       "\n",
       "                                                 추출3  \\\n",
       "0  이번 수사권 조정의 핵심은 검찰의 제왕적 권한을 분산해 타 기관과의 상호 감시와 견...   \n",
       "1  국내에서 발생이 확대될 경우 침엽수 비중이 높은 산림생태계 및 가평 등지의 잣 생산...   \n",
       "2                       문제는 이 돈이 건강보험 재정에서 나온다는 것이다.   \n",
       "3  시 관계자는 \"도심에서는 평소 접하기 어려운 포도 수확 체험이 시민들에게 즐겁고 소...   \n",
       "4  내년에도 가평읍 지사협위원들과 협력해 다양한 문화체험의 기회를 제공하도록 하겠다\"라...   \n",
       "\n",
       "                                                 생성2  \\\n",
       "0  검경 수사권 개혁에 대한 문제는 현 정부의 핵심 과제이다.:형사 사법제도의 본질은 ...   \n",
       "1  임업진흥원 외래 무척추동물의 확산 및 변화예측 기술개발 사업단(단장 배양섭 인천대 ...   \n",
       "2  건강보험 심사평가원의 ‘보험사기 방지’ 업무가 민간보험사의 배를 불리며 건보 법에 ...   \n",
       "3  부천시는 어린이들이 우리 지역의 포도를 직접 수확해 보는 ‘포도 수확 체험 프로그램...   \n",
       "4  가평군 가평읍지사협은 최근 특화사업인 문화체험 행복나들이 ‘어르신과 함께하는 힐링 ...   \n",
       "\n",
       "                                                  생성  \n",
       "0  검경 수사권 개혁에 대한 문제는 현 정부의 핵심 과제이다.:형사 사법제도의 본질은 ...  \n",
       "1  임업진흥원 외래 무척추동물의 확산 및 변화예측 기술개발 사업단(단장 배양섭 인천대 ...  \n",
       "2  건강보험 심사평가원의 ‘보험사기 방지’ 업무가 민간보험사의 배를 불리며 건보 법에 ...  \n",
       "3  부천시는 어린이들이 우리 지역의 포도를 직접 수확해 보는 ‘포도 수확 체험 프로그램...  \n",
       "4  가평군 가평읍지사협은 최근 특화사업인 문화체험 행복나들이 ‘어르신과 함께하는 힐링 ...  "
      ]
     },
     "execution_count": 8,
     "metadata": {},
     "output_type": "execute_result"
    }
   ],
   "source": [
    "data['생성'] = data[['생성2', '추출3']].apply(lambda x: ':'.join(x), axis=1)\n",
    "data.head()"
   ]
  },
  {
   "cell_type": "code",
   "execution_count": 9,
   "metadata": {},
   "outputs": [
    {
     "data": {
      "text/plain": [
       "(16974, 2)"
      ]
     },
     "execution_count": 9,
     "metadata": {},
     "output_type": "execute_result"
    }
   ],
   "source": [
    "del data[\"추출1\"]\n",
    "del data[\"추출2\"]\n",
    "del data[\"추출3\"]\n",
    "del data[\"생성2\"]\n",
    "data.shape"
   ]
  },
  {
   "cell_type": "markdown",
   "metadata": {},
   "source": [
    "## Preprocessing"
   ]
  },
  {
   "cell_type": "code",
   "execution_count": 10,
   "metadata": {},
   "outputs": [
    {
     "name": "stdout",
     "output_type": "stream",
     "text": [
      "내용 열에서 중복을 배제한 유일한 샘플의 수 : 16973\n",
      "생성 열에서 중복을 배제한 유일한 샘플의 수 : 16973\n"
     ]
    }
   ],
   "source": [
    "print('내용 열에서 중복을 배제한 유일한 샘플의 수 :', data['내용'].nunique())\n",
    "print('생성 열에서 중복을 배제한 유일한 샘플의 수 :', data['생성'].nunique())"
   ]
  },
  {
   "cell_type": "code",
   "execution_count": 11,
   "metadata": {},
   "outputs": [
    {
     "name": "stdout",
     "output_type": "stream",
     "text": [
      "전체 샘플수 : 16973\n"
     ]
    }
   ],
   "source": [
    "# text 열에서 중복인 내용이 있다면 중복 제거\n",
    "data.drop_duplicates(subset=['내용'], inplace=True)\n",
    "print(\"전체 샘플수 :\", len(data))"
   ]
  },
  {
   "cell_type": "code",
   "execution_count": 12,
   "metadata": {},
   "outputs": [
    {
     "name": "stdout",
     "output_type": "stream",
     "text": [
      "내용    0\n",
      "생성    0\n",
      "dtype: int64\n"
     ]
    }
   ],
   "source": [
    "print(data.isnull().sum())"
   ]
  },
  {
   "cell_type": "code",
   "execution_count": 13,
   "metadata": {},
   "outputs": [
    {
     "name": "stdout",
     "output_type": "stream",
     "text": [
      "전체 샘플수 : 16973\n"
     ]
    }
   ],
   "source": [
    "# Null 값을 가진 샘플 제거\n",
    "data.dropna(axis=0, inplace=True)\n",
    "print('전체 샘플수 :',(len(data)))"
   ]
  },
  {
   "cell_type": "code",
   "execution_count": 14,
   "metadata": {},
   "outputs": [
    {
     "name": "stdout",
     "output_type": "stream",
     "text": [
      "불용어 개수 : 95\n",
      "{'위하', '씨', '대하', '데', '문제', '가', '한', '나', '그', '그렇', '나오', '지', '오', '따르', '있', '어떤', '생각하', '싶', '크', '안', '그녀', '하나', '없', '우리', '개', '수', '또', '이런', '좋', '번', '내', '명', '많', '하', '보이', '사람', '소리', '좀', '생각', '자신', '때', '잘', '사회', '지금', '등', '다시', '그런', '그러나', '여자', '다른', '시키', '보', '들', '때문', '되', '집', '알', '전', '같', '두', '통하', '말', '그것', '가지', '놓', '적', '년', '일', '월', '만들', '원', '정도', '주', '경우', '못하', '앞', '어떻', '살', '모르', '이렇', '속', '사실', '것', '점', '중', '받', '기자', '시간', '말하', '그러', '않', '아니', '이', '더', '그리고'}\n"
     ]
    }
   ],
   "source": [
    "# 한글 불용어\n",
    "stopword = pd.read_csv('한국어불용어100.txt', sep = \"\\t\", encoding = \"utf-8\", header=None)\n",
    "stopword.loc[100] = ['기자', 'VX', 0.000483]\n",
    "stop_words =  set(stopword[0])\n",
    "print('불용어 개수 :', len(stop_words))\n",
    "print(stop_words)"
   ]
  },
  {
   "cell_type": "code",
   "execution_count": 15,
   "metadata": {},
   "outputs": [],
   "source": [
    "# 전처리 함수\n",
    "def preprocess_sentence(sentence, remove_stopwords = True):\n",
    "    sentence = sentence.lower() # 텍스트 소문자화\n",
    "    sentence = BeautifulSoup(sentence, \"lxml\").text # <br />, <a href = ...> 등의 html 태그 제거\n",
    "    sentence = re.sub(r'\\([^)]*\\)', '', sentence) # 괄호로 닫힌 문자열  제거 Ex) my husband (and myself) for => my husband for\n",
    "    sentence = re.sub('\"','', sentence) # 쌍따옴표 \" 제거\n",
    "    sentence = re.sub(r\"'s\\b\",\"\",sentence) # 소유격 제거. Ex) roland's -> roland\n",
    "    sentence = re.sub(r\"▲\\a\",\"\",sentence) # 소유격 제거. Ex) roland's -> roland\n",
    "    sentence = re.sub(\"[.,!?\\\"':;~()]\", \" \", sentence) # 문자(숫자, 특수문자 등) 공백으로 변환\n",
    "    sentence = re.sub(\"r'[^ ㄱ-ㅣ가-힣A-Za-z]\", \" \", sentence)\n",
    "\n",
    "    # 불용어 제거 (Text)\n",
    "    if remove_stopwords:\n",
    "        tokens = ' '.join(word for word in sentence.split() if not word in stop_words if len(word) > 1)\n",
    "    # 불용어 미제거 (Summary)\n",
    "    else:\n",
    "        tokens = ' '.join(word for word in sentence.split() if len(word) > 1)\n",
    "    return tokens"
   ]
  },
  {
   "cell_type": "code",
   "execution_count": 16,
   "metadata": {},
   "outputs": [
    {
     "name": "stdout",
     "output_type": "stream",
     "text": [
      "everything bought was great infact ordered twice and the third ordered wasfor my mother and father\n",
      "great way to start the day\n"
     ]
    }
   ],
   "source": [
    "temp_text = 'Everything I bought was great, infact I ordered twice and the third ordered was<br />for my mother and father.'\n",
    "temp_summary = 'Great way to start (or finish) the day!!!'\n",
    "print(preprocess_sentence(temp_text))\n",
    "print(preprocess_sentence(temp_summary, 0))"
   ]
  },
  {
   "cell_type": "code",
   "execution_count": 18,
   "metadata": {},
   "outputs": [
    {
     "data": {
      "text/plain": [
       "['기호일보 전영태 안산단원경찰서 112종합상황실/경위 전영태 안산단원경찰서 112종합상황실 검경 수사권 개혁에 대한 문제는 정부의 핵심 과제이다 대통령의 사법농단을 수사하느라 사법개혁특별위원회 구성이 늦어져 최근에 논의되고 있다 수사권 조정 지연은 제1야당의 소위원회 구성 비협조와 검찰의 미온적 태도로 현재까지 협상 중이다 그래서 대통령과 4당의 당대표 국회의원들이 수사권 조정을 통해 국민의 인권을 증진하고 검찰 권력의 폐해를 예방해 제왕적 권력을 분산하자는 것이다 그런데 검찰은 최근에 공수처법과 검경 수사권 조정안 등이 포함된 ‘패스트 트랙’ 국회 본회의 처리가 임박하자 검찰 간부들이 여야 의원을 불문하고 개별 접촉해 검찰개혁 법안 수정에 총력을 기울이는 것으로 알려졌다 고사성어 득롱망촉이라는 말이 있다 인간의 욕심은 한이 없어 권력에 한번 중독이 되면 마약과 같아서 끊임없이 쟁취하고 자신의 것을 지키기 위해 사람과도 타협하지 않는다고 한다 지금의 검찰이 그렇다 중국의 시진핑은 권력은 부패를 초래하고 절대 권력은 반드시 부패한다 라고 말했고 다산 정약용도 나라를 망하게 하는 것은 외침이 아니라 권력의 부정부패에 의한 민심의 이반이라고 경고했다 검찰의 모습은 한마디로 우이독경이다 국민의 대표인 국회의원과 대통령이 신속처리법안 개정의 보완이 필요하다고 하는데 검찰만이 아니라고 얘기하는 모습이 너무나 안쓰럽다 최근 검찰개혁에 대한 국민의 여론조사와 5월에 발간한 백년하청 검찰개혁 보고서에 의하면 검찰을 개혁해야 한다는 여론이 75% 이상 나왔다 이번에도 검찰개혁이 무산되면 무소불위의 검찰 공화국이 것이다 우리는 노무현 정부의 검찰과의 토론회나 정부의 수사권 조정 과정에서 검찰이 얼마나 힘이 센지 여실히 보았다 형사 사법제도의 본질은 경찰·검찰·법원 삼권 분립으로 상호 견제와 균형을 이뤄 대등한 관계에서 불합리한 수사구조를 개선하고 국민의 인권을 강화하는 것이다 하지만 우리의 현실은 검찰이 수사권 수사 지휘권 수사 종결권 영장 청구권 제왕적 권한을 갖고 있어 권력의 견제와 균형이 전혀 이뤄지지 않고 있다 민주주의가 정착된 선진국에서도 수사와 기소 판결은 분리하고 있다 영국과 미국은 수사와 기소를 완전 분리하고 있고 독일은 검찰이 수사권과 기소권을 갖고 있지만 실제 수사는 경찰이 하고 있다 이번 수사권 조정의 핵심은 검찰의 제왕적 권한을 분산해 기관과의 상호 감시와 견제를 통해 국민의 인권을 증진하자는 것이다 수사권 조정은 국민의 명령이고 시대의 흐름이다 이번에 만약 수사권 조정을 하지 못하면 과거 정부 때처럼 정부도 검찰의 응징을 당할 것이고 국민의 인권과 민주주의는 영원히 사라질 것이다',\n",
       " '최유탁 인천대 배양섭 교수 월미도·인천대 송도캠 정착 개체군 확인 임업진흥원 외래 무척추동물의 확산 변화예측 기술개발 사업단이 소나무의 어린 솔방울을 집중적으로 가해하는 외래 해충인 ‘소나무허리노린재’가 인천지역 공원과 산림에서 확인했다 15일 사업단에 따르면 외래 산림해충 모니터링과 문헌조사를 병행해 출현 기록이 있는 월미도와 인천대학교 송도캠퍼스 등에서 정착한 개체군을 확인했다 문헌을 보면 국내 개체군은 남부지역에서 2세대 이상 중·북부지역에서는 1세대가 출현하는 것으로 추정했으나 이번 조사를 통해 인천지역에서 2세대 이상 발생하는 것을 확인했다 실제 종자의 피해를 관찰한 결과 2018년 소나무허리노린재 출현 장소의 소나무 종자 상당수가 발달하지 못한 것으로 나타났다 소나무허리노린재는 북미지역 원산으로 국내에서는 2010년 경남 창원에서 처음 발견됐다 북미에서는 1세대 발생하는 것으로 알려져 있으나 기후에 따라 3세대까지 출현하는 것이 확인됐다 잣나무 침엽수의 종자를 먹이로 삼으며 각종 병원균이나 곰팡이 포자를 매개하기 때문에 경제적 위협이 크다 해외 피해 사례로 이탈리아를 비롯해 지중해 국가에서 야생 생산이 95% 감소했다는 보고가 있으며 북미지역의 야생 침엽수 종자 발달의 70 80% 이상 감소했다는 보고도 있다 국내에서 발생이 확대될 침엽수 비중이 높은 산림생태계 가평 등지의 생산에 심각한 피해가 예상된다 사업단 관계자는 소나무허리노린재를 비롯해 국내에 유입됐거나 침입할 우려가 있는 외래 산림해충에 대한 전국적인 모니터링을 지속적으로 수행할 것이라고 말했다 최유탁 cyt@kihoilbo co kr',\n",
       " '최두환 건강보험 심사평가원의 ‘보험사기 방지’ 업무가 민간보험사의 배를 불리며 건보 법에 따른 심평원 설립 취지를 훼손시키고 있다는 지적이 대두됐다 더불어민주당 김상희 국회원이 건강보험공단에서 확인한 자료에 따르면 심평원은 2015년 이전부터 수사기관에서 의뢰가 들어오면 간간히 지원업무를 해오다 2015년 1월부터 전담부서인 공공심사부를 설치했으며 2016년 ‘보험사기방지 특별법’이 제정되면서 법에 따라 공식적으로 입원적정성 심사 업무를 수행해 왔다 공식적인 통계가 구축된 2015년부터 올해 8월까지 11만7천431건의 입원적합성 심사요청이 접수됐다 현재 심평원에서 업무를 담당하고 있는 직원은 20명으로 지급된 올해 9월까지 급여만 8억 8천만 원이 넘는다 문제는 돈이 건강보험 재정에서 나온다는 것이다 의원은 보험사기 방지라는 미명 하에 민간보험사가 가입자에게 지급하여야 보험금이 적정한지 아닌지를 공공기관인 심평원이 심사하는 것도 어불성설인데 거기다 심사에 들어가는 비용 전부를 건강보험 재정으로 부담하고 있다는 것은 말이 되는 상황이다며 입원적정성 심사업무는 수사기관 등의 업무협조를 받아 수행하는 업무이므로 의뢰자인 수사기관 등에서 관련 비용을 지불하는 것이 마땅하다 민간보험사의 배를 불리는 일에 국민의 같은 건강보험재정이 이용되어서는 결코 것이다고 지적했다 부천=최두환 cdh9799@kihoilbo co kr',\n",
       " '부천시는 어린이들이 지역의 포도를 직접 수확해 보는 ‘포도 수확 체험 프로그램’을 운영한다고 26일 밝혔다 시내 포도농장 2개소에서 진행하는 체험은 유치원 어린이집 어린이 교육기관이 대상인 어린이 체험과 어린이 자녀와 부모가 함께 하는 가족 체험으로 나뉜다 여월동 포도농장에서는 가족 체험과 어린이 체험 모두 진행하며 작동 포도농장은 가족 체험만 진행한다 가족 체험에 참여하면 포도 수확 포도 맛보기 체험을 하고 수확한 포도를 가져갈 있다 어린이 체험에 참여하면 포도 수확 포도 맛보기 포도 삽목 체험을 하고 포도 송이를 가져갈 있다 참여 가족 단체는 선착순 모집하며 체험별 1일 체험 인원이 초과되면 조기 마감된다 가족 체험은 다음 7일부터 15일까지 어린이 체험은 6일부터 20일까지 진행하며 가족 체험은 가족당 3만5천 어린이 체험은 어린이 명당 1만3천 원이다 관계자는 도심에서는 평소 접하기 어려운 포도 수확 체험이 시민들에게 즐겁고 소중한 추억이 것이라며 시민들이 지역의 농업과 농촌을 이해하고 농산물을 믿고 구입하는 기회가 되길 바란다고 말했다 기타 자세한 사항은 홈페이지 새소식란에서 확인하거나 도시농업과로 문의하면 안내된다 부천=최두환 cdh9799@kihoilbo co kr 기호일보 kihoilbo',\n",
       " '엄건섭 가평군 가평읍지사협은 최근 특화사업인 문화체험 행복나들이 ‘어르신과 함께하는 힐링 문화소풍’을 올해 마지막으로 추진했다 23일 가평읍에 따르면 ‘힐링 문화소풍 ’은 복지사각지대에 있는 지역 어르신들을 대상으로 6회 진행되는 사업으로 협의체 위원과 짝꿍이 되어 영화관람 협력업체인 파주닭국수 가평점에서 같이 식사를 하고 협의체위원들이 짝꿍을 모시는 특화사업이다 이날 가평읍지사협 위원들은 최근 개봉한 ‘블랙머니’란 영화를 어르신들과 함께 관람한 파주닭국수 가평점에서 후원하는 닭죽을 점심으로 대접하고 위원들이 직접 집까지 안전하게 모셔다 드리는 것으로 행사를 마무리 했다 영화관람과 식사를 마친 어르신은 요즘 날씨가 추워져 집에만 있어 적적하였는데 이렇게 즐거운 시간을 함께 보내고 맛있는 음식까지 대접해줘서 정말 고맙다며 소감을 밝히셨다 박영모 위원장은 궂을 날씨에도 함께 해주신 어르신분들과 맛있는 음식을 대접해 후원업체 사장에게 감사한 마음을 전한다 내년에는 많은 어르신들과 함께 있도록 최선을 하겠다는 뜻을 전했다 장동선 읍장은 한해 문화생활이 어려운 어르신들의 짝꿍이 되어 많은 추억을 만들어 주신 위원들께 감사드리며 위원들의 활발한 활동이 지역복지 공동체 활성화에 힘이 되고 있다 내년에도 가평읍 지사협위원들과 협력해 다양한 문화체험의 기회를 제공하도록 하겠다라고 말했다 가평=엄건섭 gsuim@kihoilbo co kr']"
      ]
     },
     "execution_count": 18,
     "metadata": {},
     "output_type": "execute_result"
    }
   ],
   "source": [
    "# Text 열 전처리\n",
    "clean_text = []\n",
    "for s in data['내용']:\n",
    "    clean_text.append(preprocess_sentence(s))\n",
    "clean_text[:5]"
   ]
  },
  {
   "cell_type": "code",
   "execution_count": 19,
   "metadata": {},
   "outputs": [
    {
     "data": {
      "text/plain": [
       "['검경 수사권 개혁에 대한 문제는 정부의 핵심 과제이다 형사 사법제도의 본질은 경찰·검찰·법원 삼권 분립으로 상호 견제와 균형을 이뤄 대등한 관계에서 불합리한 수사구조를 개선하고 국민의 인권을 강화하는 것이다 이번 수사권 조정의 핵심은 검찰의 제왕적 권한을 분산해 기관과의 상호 감시와 견제를 통해 국민의 인권을 증진하자는 것이다',\n",
       " '임업진흥원 외래 무척추동물의 확산 변화예측 기술개발 사업단이 소나무의 어린 솔방울을 집중적으로 가해하는 외래 해충인 ‘소나무허리노린재’가 인천지역 공원과 산림에서 확인했다 15일 사업단에 따르면 외래 산림해충 모니터링과 문헌조사를 병행해 출현 기록이 있는 월미도와 인천대학교 송도캠퍼스 등에서 정착한 개체군을 확인했다 국내에서 발생이 확대될 경우 침엽수 비중이 높은 산림생태계 가평 등지의 생산에 심각한 피해가 예상된다',\n",
       " '건강보험 심사평가원의 ‘보험사기 방지’ 업무가 민간보험사의 배를 불리며 건보 법에 따른 심평원 설립 취지를 훼손시키고 있다는 지적이 대두됐다 더불어민주당 김상희 국회원이 건강보험공단에서 확인한 자료에 따르면 심평원은 2015년 이전부터 수사기관에서 의뢰가 들어오면 간간히 지원업무를 해오다 2015년 1월부터 전담부서인 공공심사부를 설치했으며 2016년 ‘보험사기방지 특별법’이 제정되면서 법에 따라 공식적으로 입원적정성 심사 업무를 수행해 왔다 문제는 돈이 건강보험 재정에서 나온다는 것이다',\n",
       " '부천시는 어린이들이 우리 지역의 포도를 직접 수확해 보는 ‘포도 수확 체험 프로그램’을 운영한다고 26일 밝혔다 가족 체험에 참여하면 포도 수확 포도 맛보기 체험을 하고 수확한 포도를 가져갈 있다 관계자는 도심에서는 평소 접하기 어려운 포도 수확 체험이 시민들에게 즐겁고 소중한 추억이 것이라며 시민들이 우리 지역의 농업과 농촌을 이해하고 농산물을 믿고 구입하는 기회가 되길 바란다고 말했다',\n",
       " '가평군 가평읍지사협은 최근 특화사업인 문화체험 행복나들이 ‘어르신과 함께하는 힐링 문화소풍’을 올해 마지막으로 추진했다 23일 가평읍에 따르면 ‘힐링 문화소풍 ’은 복지사각지대에 있는 지역 어르신들을 대상으로 6회 진행되는 사업으로 협의체 위원과 짝꿍이 되어 영화관람 협력업체인 파주닭국수 가평점에서 같이 식사를 하고 협의체위원들이 짝꿍을 모시는 특화사업이다 내년에도 가평읍 지사협위원들과 협력해 다양한 문화체험의 기회를 제공하도록 하겠다라고 말했다']"
      ]
     },
     "execution_count": 19,
     "metadata": {},
     "output_type": "execute_result"
    }
   ],
   "source": [
    "# Summary 열 전처리\n",
    "clean_summary = []\n",
    "for s in data['생성']:\n",
    "    clean_summary.append(preprocess_sentence(s, 0))\n",
    "clean_summary[:5]"
   ]
  },
  {
   "cell_type": "code",
   "execution_count": 20,
   "metadata": {},
   "outputs": [],
   "source": [
    "data['내용'] = clean_text\n",
    "data['생성'] = clean_summary"
   ]
  },
  {
   "cell_type": "code",
   "execution_count": 21,
   "metadata": {},
   "outputs": [
    {
     "name": "stdout",
     "output_type": "stream",
     "text": [
      "내용    0\n",
      "생성    0\n",
      "dtype: int64\n"
     ]
    }
   ],
   "source": [
    "# 길이가 공백인 샘플은 NULL 값으로 변환\n",
    "data.replace('', np.nan, inplace=True)\n",
    "print(data.isnull().sum())"
   ]
  },
  {
   "cell_type": "code",
   "execution_count": 22,
   "metadata": {},
   "outputs": [
    {
     "name": "stdout",
     "output_type": "stream",
     "text": [
      "전체 샘플수 : 16973\n"
     ]
    }
   ],
   "source": [
    "data.dropna(axis = 0, inplace = True)\n",
    "print('전체 샘플수 :',(len(data)))"
   ]
  },
  {
   "cell_type": "code",
   "execution_count": 24,
   "metadata": {},
   "outputs": [
    {
     "name": "stdout",
     "output_type": "stream",
     "text": [
      "텍스트의 최소 길이 : 6\n",
      "텍스트의 최대 길이 : 445\n",
      "텍스트의 평균 길이 : 204.2093324692158\n",
      "요약의 최소 길이 : 9\n",
      "요약의 최대 길이 : 171\n",
      "요약의 평균 길이 : 53.35674306251105\n"
     ]
    },
    {
     "data": {
      "image/png": "[encoded data removed]",
      "text/plain": [
       "<Figure size 432x288 with 2 Axes>"
      ]
     },
     "metadata": {
      "needs_background": "light"
     },
     "output_type": "display_data"
    },
    {
     "data": {
      "image/png": "[encoded data removed]",
      "text/plain": [
       "<Figure size 432x288 with 1 Axes>"
      ]
     },
     "metadata": {
      "needs_background": "light"
     },
     "output_type": "display_data"
    },
    {
     "data": {
      "image/png": "[encoded data removed]",
      "text/plain": [
       "<Figure size 432x288 with 1 Axes>"
      ]
     },
     "metadata": {
      "needs_background": "light"
     },
     "output_type": "display_data"
    }
   ],
   "source": [
    "# 길이 분포 출력\n",
    "text_len = [len(s.split()) for s in data['내용']]\n",
    "summary_len = [len(s.split()) for s in data['생성']]\n",
    "\n",
    "print('텍스트의 최소 길이 : {}'.format(np.min(text_len)))\n",
    "print('텍스트의 최대 길이 : {}'.format(np.max(text_len)))\n",
    "print('텍스트의 평균 길이 : {}'.format(np.mean(text_len)))\n",
    "print('요약의 최소 길이 : {}'.format(np.min(summary_len)))\n",
    "print('요약의 최대 길이 : {}'.format(np.max(summary_len)))\n",
    "print('요약의 평균 길이 : {}'.format(np.mean(summary_len)))\n",
    "\n",
    "plt.subplot(1,2,1)\n",
    "plt.boxplot(summary_len)\n",
    "plt.title('Summary')\n",
    "plt.subplot(1,2,2)\n",
    "plt.boxplot(text_len)\n",
    "plt.title('Text')\n",
    "plt.tight_layout()\n",
    "plt.show()\n",
    "\n",
    "plt.title('Summary')\n",
    "plt.hist(summary_len, bins=40)\n",
    "plt.xlabel('length of samples')\n",
    "plt.ylabel('number of samples')\n",
    "plt.show()\n",
    "\n",
    "plt.title('Text')\n",
    "plt.hist(text_len, bins=40)\n",
    "plt.xlabel('length of samples')\n",
    "plt.ylabel('number of samples')\n",
    "plt.show()"
   ]
  },
  {
   "cell_type": "code",
   "execution_count": 25,
   "metadata": {},
   "outputs": [],
   "source": [
    "text_max_len = 300\n",
    "summary_max_len = 60"
   ]
  },
  {
   "cell_type": "code",
   "execution_count": 26,
   "metadata": {},
   "outputs": [],
   "source": [
    "def below_threshold_len(max_len, nested_list):\n",
    "  cnt = 0\n",
    "  for s in nested_list:\n",
    "    if(len(s.split()) <= max_len):\n",
    "        cnt = cnt + 1\n",
    "  print('전체 샘플 중 길이가 %s 이하인 샘플의 비율: %s'%(max_len, (cnt / len(nested_list))))"
   ]
  },
  {
   "cell_type": "code",
   "execution_count": 28,
   "metadata": {},
   "outputs": [
    {
     "name": "stdout",
     "output_type": "stream",
     "text": [
      "전체 샘플 중 길이가 300 이하인 샘플의 비율: 0.9198138219525128\n"
     ]
    }
   ],
   "source": [
    "below_threshold_len(text_max_len, data['내용'])"
   ]
  },
  {
   "cell_type": "code",
   "execution_count": 29,
   "metadata": {},
   "outputs": [
    {
     "name": "stdout",
     "output_type": "stream",
     "text": [
      "전체 샘플 중 길이가 60 이하인 샘플의 비율: 0.7128380368821069\n"
     ]
    }
   ],
   "source": [
    "below_threshold_len(summary_max_len, data['생성'])"
   ]
  },
  {
   "cell_type": "code",
   "execution_count": 30,
   "metadata": {},
   "outputs": [
    {
     "name": "stdout",
     "output_type": "stream",
     "text": [
      "전체 샘플수 : 11098\n"
     ]
    }
   ],
   "source": [
    "data = data[data['내용'].apply(lambda x: len(x.split()) <= text_max_len)]\n",
    "data = data[data['생성'].apply(lambda x: len(x.split()) <= summary_max_len)]\n",
    "print('전체 샘플수 :',(len(data)))"
   ]
  },
  {
   "cell_type": "code",
   "execution_count": 31,
   "metadata": {},
   "outputs": [
    {
     "data": {
      "text/html": [
       "<div>\n",
       "<style scoped>\n",
       "    .dataframe tbody tr th:only-of-type {\n",
       "        vertical-align: middle;\n",
       "    }\n",
       "\n",
       "    .dataframe tbody tr th {\n",
       "        vertical-align: top;\n",
       "    }\n",
       "\n",
       "    .dataframe thead th {\n",
       "        text-align: right;\n",
       "    }\n",
       "</style>\n",
       "<table border=\"1\" class=\"dataframe\">\n",
       "  <thead>\n",
       "    <tr style=\"text-align: right;\">\n",
       "      <th></th>\n",
       "      <th>내용</th>\n",
       "      <th>생성</th>\n",
       "    </tr>\n",
       "  </thead>\n",
       "  <tbody>\n",
       "    <tr>\n",
       "      <th>1</th>\n",
       "      <td>최유탁 인천대 배양섭 교수 월미도·인천대 송도캠 정착 개체군 확인 임업진흥원 외래 ...</td>\n",
       "      <td>임업진흥원 외래 무척추동물의 확산 변화예측 기술개발 사업단이 소나무의 어린 솔방울을...</td>\n",
       "    </tr>\n",
       "    <tr>\n",
       "      <th>2</th>\n",
       "      <td>최두환 건강보험 심사평가원의 ‘보험사기 방지’ 업무가 민간보험사의 배를 불리며 건보...</td>\n",
       "      <td>건강보험 심사평가원의 ‘보험사기 방지’ 업무가 민간보험사의 배를 불리며 건보 법에 ...</td>\n",
       "    </tr>\n",
       "    <tr>\n",
       "      <th>3</th>\n",
       "      <td>부천시는 어린이들이 지역의 포도를 직접 수확해 보는 ‘포도 수확 체험 프로그램’을 ...</td>\n",
       "      <td>부천시는 어린이들이 우리 지역의 포도를 직접 수확해 보는 ‘포도 수확 체험 프로그램...</td>\n",
       "    </tr>\n",
       "    <tr>\n",
       "      <th>4</th>\n",
       "      <td>엄건섭 가평군 가평읍지사협은 최근 특화사업인 문화체험 행복나들이 ‘어르신과 함께하는...</td>\n",
       "      <td>가평군 가평읍지사협은 최근 특화사업인 문화체험 행복나들이 ‘어르신과 함께하는 힐링 ...</td>\n",
       "    </tr>\n",
       "    <tr>\n",
       "      <th>5</th>\n",
       "      <td>박지훈 전남도 6·25전쟁 69주년 기념식 유공자 22명 표창 6ㆍ25전쟁 제69주...</td>\n",
       "      <td>전남도와 목포시는 25일 목포문화예술회관에서 ‘6·25전쟁 제69주년 행사’를 열었...</td>\n",
       "    </tr>\n",
       "  </tbody>\n",
       "</table>\n",
       "</div>"
      ],
      "text/plain": [
       "                                                  내용  \\\n",
       "1  최유탁 인천대 배양섭 교수 월미도·인천대 송도캠 정착 개체군 확인 임업진흥원 외래 ...   \n",
       "2  최두환 건강보험 심사평가원의 ‘보험사기 방지’ 업무가 민간보험사의 배를 불리며 건보...   \n",
       "3  부천시는 어린이들이 지역의 포도를 직접 수확해 보는 ‘포도 수확 체험 프로그램’을 ...   \n",
       "4  엄건섭 가평군 가평읍지사협은 최근 특화사업인 문화체험 행복나들이 ‘어르신과 함께하는...   \n",
       "5  박지훈 전남도 6·25전쟁 69주년 기념식 유공자 22명 표창 6ㆍ25전쟁 제69주...   \n",
       "\n",
       "                                                  생성  \n",
       "1  임업진흥원 외래 무척추동물의 확산 변화예측 기술개발 사업단이 소나무의 어린 솔방울을...  \n",
       "2  건강보험 심사평가원의 ‘보험사기 방지’ 업무가 민간보험사의 배를 불리며 건보 법에 ...  \n",
       "3  부천시는 어린이들이 우리 지역의 포도를 직접 수확해 보는 ‘포도 수확 체험 프로그램...  \n",
       "4  가평군 가평읍지사협은 최근 특화사업인 문화체험 행복나들이 ‘어르신과 함께하는 힐링 ...  \n",
       "5  전남도와 목포시는 25일 목포문화예술회관에서 ‘6·25전쟁 제69주년 행사’를 열었...  "
      ]
     },
     "execution_count": 31,
     "metadata": {},
     "output_type": "execute_result"
    }
   ],
   "source": [
    "data.head()"
   ]
  },
  {
   "cell_type": "code",
   "execution_count": 32,
   "metadata": {},
   "outputs": [
    {
     "data": {
      "text/html": [
       "<div>\n",
       "<style scoped>\n",
       "    .dataframe tbody tr th:only-of-type {\n",
       "        vertical-align: middle;\n",
       "    }\n",
       "\n",
       "    .dataframe tbody tr th {\n",
       "        vertical-align: top;\n",
       "    }\n",
       "\n",
       "    .dataframe thead th {\n",
       "        text-align: right;\n",
       "    }\n",
       "</style>\n",
       "<table border=\"1\" class=\"dataframe\">\n",
       "  <thead>\n",
       "    <tr style=\"text-align: right;\">\n",
       "      <th></th>\n",
       "      <th>내용</th>\n",
       "      <th>생성</th>\n",
       "      <th>decoder_input</th>\n",
       "      <th>decoder_target</th>\n",
       "    </tr>\n",
       "  </thead>\n",
       "  <tbody>\n",
       "    <tr>\n",
       "      <th>1</th>\n",
       "      <td>최유탁 인천대 배양섭 교수 월미도·인천대 송도캠 정착 개체군 확인 임업진흥원 외래 ...</td>\n",
       "      <td>임업진흥원 외래 무척추동물의 확산 변화예측 기술개발 사업단이 소나무의 어린 솔방울을...</td>\n",
       "      <td>sostoken 최유탁 인천대 배양섭 교수 월미도·인천대 송도캠 정착 개체군 확인 ...</td>\n",
       "      <td>임업진흥원 외래 무척추동물의 확산 변화예측 기술개발 사업단이 소나무의 어린 솔방울을...</td>\n",
       "    </tr>\n",
       "    <tr>\n",
       "      <th>2</th>\n",
       "      <td>최두환 건강보험 심사평가원의 ‘보험사기 방지’ 업무가 민간보험사의 배를 불리며 건보...</td>\n",
       "      <td>건강보험 심사평가원의 ‘보험사기 방지’ 업무가 민간보험사의 배를 불리며 건보 법에 ...</td>\n",
       "      <td>sostoken 최두환 건강보험 심사평가원의 ‘보험사기 방지’ 업무가 민간보험사의 ...</td>\n",
       "      <td>건강보험 심사평가원의 ‘보험사기 방지’ 업무가 민간보험사의 배를 불리며 건보 법에 ...</td>\n",
       "    </tr>\n",
       "    <tr>\n",
       "      <th>3</th>\n",
       "      <td>부천시는 어린이들이 지역의 포도를 직접 수확해 보는 ‘포도 수확 체험 프로그램’을 ...</td>\n",
       "      <td>부천시는 어린이들이 우리 지역의 포도를 직접 수확해 보는 ‘포도 수확 체험 프로그램...</td>\n",
       "      <td>sostoken 부천시는 어린이들이 지역의 포도를 직접 수확해 보는 ‘포도 수확 체...</td>\n",
       "      <td>부천시는 어린이들이 우리 지역의 포도를 직접 수확해 보는 ‘포도 수확 체험 프로그램...</td>\n",
       "    </tr>\n",
       "    <tr>\n",
       "      <th>4</th>\n",
       "      <td>엄건섭 가평군 가평읍지사협은 최근 특화사업인 문화체험 행복나들이 ‘어르신과 함께하는...</td>\n",
       "      <td>가평군 가평읍지사협은 최근 특화사업인 문화체험 행복나들이 ‘어르신과 함께하는 힐링 ...</td>\n",
       "      <td>sostoken 엄건섭 가평군 가평읍지사협은 최근 특화사업인 문화체험 행복나들이 ‘...</td>\n",
       "      <td>가평군 가평읍지사협은 최근 특화사업인 문화체험 행복나들이 ‘어르신과 함께하는 힐링 ...</td>\n",
       "    </tr>\n",
       "    <tr>\n",
       "      <th>5</th>\n",
       "      <td>박지훈 전남도 6·25전쟁 69주년 기념식 유공자 22명 표창 6ㆍ25전쟁 제69주...</td>\n",
       "      <td>전남도와 목포시는 25일 목포문화예술회관에서 ‘6·25전쟁 제69주년 행사’를 열었...</td>\n",
       "      <td>sostoken 박지훈 전남도 6·25전쟁 69주년 기념식 유공자 22명 표창 6ㆍ...</td>\n",
       "      <td>전남도와 목포시는 25일 목포문화예술회관에서 ‘6·25전쟁 제69주년 행사’를 열었...</td>\n",
       "    </tr>\n",
       "  </tbody>\n",
       "</table>\n",
       "</div>"
      ],
      "text/plain": [
       "                                                  내용  \\\n",
       "1  최유탁 인천대 배양섭 교수 월미도·인천대 송도캠 정착 개체군 확인 임업진흥원 외래 ...   \n",
       "2  최두환 건강보험 심사평가원의 ‘보험사기 방지’ 업무가 민간보험사의 배를 불리며 건보...   \n",
       "3  부천시는 어린이들이 지역의 포도를 직접 수확해 보는 ‘포도 수확 체험 프로그램’을 ...   \n",
       "4  엄건섭 가평군 가평읍지사협은 최근 특화사업인 문화체험 행복나들이 ‘어르신과 함께하는...   \n",
       "5  박지훈 전남도 6·25전쟁 69주년 기념식 유공자 22명 표창 6ㆍ25전쟁 제69주...   \n",
       "\n",
       "                                                  생성  \\\n",
       "1  임업진흥원 외래 무척추동물의 확산 변화예측 기술개발 사업단이 소나무의 어린 솔방울을...   \n",
       "2  건강보험 심사평가원의 ‘보험사기 방지’ 업무가 민간보험사의 배를 불리며 건보 법에 ...   \n",
       "3  부천시는 어린이들이 우리 지역의 포도를 직접 수확해 보는 ‘포도 수확 체험 프로그램...   \n",
       "4  가평군 가평읍지사협은 최근 특화사업인 문화체험 행복나들이 ‘어르신과 함께하는 힐링 ...   \n",
       "5  전남도와 목포시는 25일 목포문화예술회관에서 ‘6·25전쟁 제69주년 행사’를 열었...   \n",
       "\n",
       "                                       decoder_input  \\\n",
       "1  sostoken 최유탁 인천대 배양섭 교수 월미도·인천대 송도캠 정착 개체군 확인 ...   \n",
       "2  sostoken 최두환 건강보험 심사평가원의 ‘보험사기 방지’ 업무가 민간보험사의 ...   \n",
       "3  sostoken 부천시는 어린이들이 지역의 포도를 직접 수확해 보는 ‘포도 수확 체...   \n",
       "4  sostoken 엄건섭 가평군 가평읍지사협은 최근 특화사업인 문화체험 행복나들이 ‘...   \n",
       "5  sostoken 박지훈 전남도 6·25전쟁 69주년 기념식 유공자 22명 표창 6ㆍ...   \n",
       "\n",
       "                                      decoder_target  \n",
       "1  임업진흥원 외래 무척추동물의 확산 변화예측 기술개발 사업단이 소나무의 어린 솔방울을...  \n",
       "2  건강보험 심사평가원의 ‘보험사기 방지’ 업무가 민간보험사의 배를 불리며 건보 법에 ...  \n",
       "3  부천시는 어린이들이 우리 지역의 포도를 직접 수확해 보는 ‘포도 수확 체험 프로그램...  \n",
       "4  가평군 가평읍지사협은 최근 특화사업인 문화체험 행복나들이 ‘어르신과 함께하는 힐링 ...  \n",
       "5  전남도와 목포시는 25일 목포문화예술회관에서 ‘6·25전쟁 제69주년 행사’를 열었...  "
      ]
     },
     "execution_count": 32,
     "metadata": {},
     "output_type": "execute_result"
    }
   ],
   "source": [
    "# 요약 데이터에는 시작 토큰과 종료 토큰을 추가한다.\n",
    "data['decoder_input'] = data['내용'].apply(lambda x : 'sostoken '+ x)\n",
    "data['decoder_target'] = data['생성'].apply(lambda x : x + ' eostoken')\n",
    "data.head()"
   ]
  },
  {
   "cell_type": "code",
   "execution_count": 33,
   "metadata": {},
   "outputs": [],
   "source": [
    "encoder_input = np.array(data['내용'])\n",
    "decoder_input = np.array(data['decoder_input'])\n",
    "decoder_target = np.array(data['decoder_target'])"
   ]
  },
  {
   "cell_type": "code",
   "execution_count": 34,
   "metadata": {},
   "outputs": [
    {
     "data": {
      "text/html": [
       "<div>\n",
       "<style scoped>\n",
       "    .dataframe tbody tr th:only-of-type {\n",
       "        vertical-align: middle;\n",
       "    }\n",
       "\n",
       "    .dataframe tbody tr th {\n",
       "        vertical-align: top;\n",
       "    }\n",
       "\n",
       "    .dataframe thead th {\n",
       "        text-align: right;\n",
       "    }\n",
       "</style>\n",
       "<table border=\"1\" class=\"dataframe\">\n",
       "  <thead>\n",
       "    <tr style=\"text-align: right;\">\n",
       "      <th></th>\n",
       "      <th>내용</th>\n",
       "      <th>생성</th>\n",
       "      <th>decoder_input</th>\n",
       "      <th>decoder_target</th>\n",
       "    </tr>\n",
       "  </thead>\n",
       "  <tbody>\n",
       "    <tr>\n",
       "      <th>1</th>\n",
       "      <td>최유탁 인천대 배양섭 교수 월미도·인천대 송도캠 정착 개체군 확인 임업진흥원 외래 ...</td>\n",
       "      <td>임업진흥원 외래 무척추동물의 확산 변화예측 기술개발 사업단이 소나무의 어린 솔방울을...</td>\n",
       "      <td>sostoken 최유탁 인천대 배양섭 교수 월미도·인천대 송도캠 정착 개체군 확인 ...</td>\n",
       "      <td>임업진흥원 외래 무척추동물의 확산 변화예측 기술개발 사업단이 소나무의 어린 솔방울을...</td>\n",
       "    </tr>\n",
       "    <tr>\n",
       "      <th>2</th>\n",
       "      <td>최두환 건강보험 심사평가원의 ‘보험사기 방지’ 업무가 민간보험사의 배를 불리며 건보...</td>\n",
       "      <td>건강보험 심사평가원의 ‘보험사기 방지’ 업무가 민간보험사의 배를 불리며 건보 법에 ...</td>\n",
       "      <td>sostoken 최두환 건강보험 심사평가원의 ‘보험사기 방지’ 업무가 민간보험사의 ...</td>\n",
       "      <td>건강보험 심사평가원의 ‘보험사기 방지’ 업무가 민간보험사의 배를 불리며 건보 법에 ...</td>\n",
       "    </tr>\n",
       "    <tr>\n",
       "      <th>3</th>\n",
       "      <td>부천시는 어린이들이 지역의 포도를 직접 수확해 보는 ‘포도 수확 체험 프로그램’을 ...</td>\n",
       "      <td>부천시는 어린이들이 우리 지역의 포도를 직접 수확해 보는 ‘포도 수확 체험 프로그램...</td>\n",
       "      <td>sostoken 부천시는 어린이들이 지역의 포도를 직접 수확해 보는 ‘포도 수확 체...</td>\n",
       "      <td>부천시는 어린이들이 우리 지역의 포도를 직접 수확해 보는 ‘포도 수확 체험 프로그램...</td>\n",
       "    </tr>\n",
       "    <tr>\n",
       "      <th>4</th>\n",
       "      <td>엄건섭 가평군 가평읍지사협은 최근 특화사업인 문화체험 행복나들이 ‘어르신과 함께하는...</td>\n",
       "      <td>가평군 가평읍지사협은 최근 특화사업인 문화체험 행복나들이 ‘어르신과 함께하는 힐링 ...</td>\n",
       "      <td>sostoken 엄건섭 가평군 가평읍지사협은 최근 특화사업인 문화체험 행복나들이 ‘...</td>\n",
       "      <td>가평군 가평읍지사협은 최근 특화사업인 문화체험 행복나들이 ‘어르신과 함께하는 힐링 ...</td>\n",
       "    </tr>\n",
       "    <tr>\n",
       "      <th>5</th>\n",
       "      <td>박지훈 전남도 6·25전쟁 69주년 기념식 유공자 22명 표창 6ㆍ25전쟁 제69주...</td>\n",
       "      <td>전남도와 목포시는 25일 목포문화예술회관에서 ‘6·25전쟁 제69주년 행사’를 열었...</td>\n",
       "      <td>sostoken 박지훈 전남도 6·25전쟁 69주년 기념식 유공자 22명 표창 6ㆍ...</td>\n",
       "      <td>전남도와 목포시는 25일 목포문화예술회관에서 ‘6·25전쟁 제69주년 행사’를 열었...</td>\n",
       "    </tr>\n",
       "  </tbody>\n",
       "</table>\n",
       "</div>"
      ],
      "text/plain": [
       "                                                  내용  \\\n",
       "1  최유탁 인천대 배양섭 교수 월미도·인천대 송도캠 정착 개체군 확인 임업진흥원 외래 ...   \n",
       "2  최두환 건강보험 심사평가원의 ‘보험사기 방지’ 업무가 민간보험사의 배를 불리며 건보...   \n",
       "3  부천시는 어린이들이 지역의 포도를 직접 수확해 보는 ‘포도 수확 체험 프로그램’을 ...   \n",
       "4  엄건섭 가평군 가평읍지사협은 최근 특화사업인 문화체험 행복나들이 ‘어르신과 함께하는...   \n",
       "5  박지훈 전남도 6·25전쟁 69주년 기념식 유공자 22명 표창 6ㆍ25전쟁 제69주...   \n",
       "\n",
       "                                                  생성  \\\n",
       "1  임업진흥원 외래 무척추동물의 확산 변화예측 기술개발 사업단이 소나무의 어린 솔방울을...   \n",
       "2  건강보험 심사평가원의 ‘보험사기 방지’ 업무가 민간보험사의 배를 불리며 건보 법에 ...   \n",
       "3  부천시는 어린이들이 우리 지역의 포도를 직접 수확해 보는 ‘포도 수확 체험 프로그램...   \n",
       "4  가평군 가평읍지사협은 최근 특화사업인 문화체험 행복나들이 ‘어르신과 함께하는 힐링 ...   \n",
       "5  전남도와 목포시는 25일 목포문화예술회관에서 ‘6·25전쟁 제69주년 행사’를 열었...   \n",
       "\n",
       "                                       decoder_input  \\\n",
       "1  sostoken 최유탁 인천대 배양섭 교수 월미도·인천대 송도캠 정착 개체군 확인 ...   \n",
       "2  sostoken 최두환 건강보험 심사평가원의 ‘보험사기 방지’ 업무가 민간보험사의 ...   \n",
       "3  sostoken 부천시는 어린이들이 지역의 포도를 직접 수확해 보는 ‘포도 수확 체...   \n",
       "4  sostoken 엄건섭 가평군 가평읍지사협은 최근 특화사업인 문화체험 행복나들이 ‘...   \n",
       "5  sostoken 박지훈 전남도 6·25전쟁 69주년 기념식 유공자 22명 표창 6ㆍ...   \n",
       "\n",
       "                                      decoder_target  \n",
       "1  임업진흥원 외래 무척추동물의 확산 변화예측 기술개발 사업단이 소나무의 어린 솔방울을...  \n",
       "2  건강보험 심사평가원의 ‘보험사기 방지’ 업무가 민간보험사의 배를 불리며 건보 법에 ...  \n",
       "3  부천시는 어린이들이 우리 지역의 포도를 직접 수확해 보는 ‘포도 수확 체험 프로그램...  \n",
       "4  가평군 가평읍지사협은 최근 특화사업인 문화체험 행복나들이 ‘어르신과 함께하는 힐링 ...  \n",
       "5  전남도와 목포시는 25일 목포문화예술회관에서 ‘6·25전쟁 제69주년 행사’를 열었...  "
      ]
     },
     "execution_count": 34,
     "metadata": {},
     "output_type": "execute_result"
    }
   ],
   "source": [
    "data.head()"
   ]
  },
  {
   "cell_type": "markdown",
   "metadata": {},
   "source": [
    "## Split Data"
   ]
  },
  {
   "cell_type": "code",
   "execution_count": 35,
   "metadata": {},
   "outputs": [
    {
     "name": "stdout",
     "output_type": "stream",
     "text": [
      "[ 9118  2376  4910 ...  9845 10799  2732]\n"
     ]
    }
   ],
   "source": [
    "indices = np.arange(encoder_input.shape[0])\n",
    "np.random.shuffle(indices)\n",
    "print(indices)"
   ]
  },
  {
   "cell_type": "code",
   "execution_count": 36,
   "metadata": {},
   "outputs": [],
   "source": [
    "encoder_input = encoder_input[indices]\n",
    "decoder_input = decoder_input[indices]\n",
    "decoder_target = decoder_target[indices]"
   ]
  },
  {
   "cell_type": "code",
   "execution_count": 37,
   "metadata": {},
   "outputs": [
    {
     "name": "stdout",
     "output_type": "stream",
     "text": [
      "테스트 데이터의 수 : 2219\n"
     ]
    }
   ],
   "source": [
    "n_of_val = int(len(encoder_input)*0.2)\n",
    "print('테스트 데이터의 수 :',n_of_val)"
   ]
  },
  {
   "cell_type": "code",
   "execution_count": 38,
   "metadata": {},
   "outputs": [],
   "source": [
    "encoder_input_train = encoder_input[:-n_of_val]\n",
    "decoder_input_train = decoder_input[:-n_of_val]\n",
    "decoder_target_train = decoder_target[:-n_of_val]\n",
    "\n",
    "encoder_input_test = encoder_input[-n_of_val:]\n",
    "decoder_input_test = decoder_input[-n_of_val:]\n",
    "decoder_target_test = decoder_target[-n_of_val:]"
   ]
  },
  {
   "cell_type": "code",
   "execution_count": 39,
   "metadata": {},
   "outputs": [
    {
     "name": "stdout",
     "output_type": "stream",
     "text": [
      "훈련 데이터의 개수 : 8879\n",
      "훈련 레이블의 개수 : 8879\n",
      "테스트 데이터의 개수 : 2219\n",
      "테스트 레이블의 개수 : 2219\n"
     ]
    }
   ],
   "source": [
    "print('훈련 데이터의 개수 :', len(encoder_input_train))\n",
    "print('훈련 레이블의 개수 :',len(decoder_input_train))\n",
    "print('테스트 데이터의 개수 :',len(encoder_input_test))\n",
    "print('테스트 레이블의 개수 :',len(decoder_input_test))"
   ]
  },
  {
   "cell_type": "markdown",
   "metadata": {},
   "source": [
    "## Encoding"
   ]
  },
  {
   "cell_type": "code",
   "execution_count": 40,
   "metadata": {},
   "outputs": [],
   "source": [
    "src_tokenizer = Tokenizer()\n",
    "src_tokenizer.fit_on_texts(encoder_input_train)"
   ]
  },
  {
   "cell_type": "code",
   "execution_count": 41,
   "metadata": {},
   "outputs": [
    {
     "name": "stdout",
     "output_type": "stream",
     "text": [
      "단어 집합(vocabulary)의 크기 : 355817\n",
      "등장 빈도가 6번 이하인 희귀 단어의 수: 324769\n",
      "단어 집합에서 희귀 단어를 제외시킬 경우의 단어 집합의 크기 31048\n",
      "단어 집합에서 희귀 단어의 비율: 91.27416621465528\n",
      "전체 등장 빈도에서 희귀 단어 등장 빈도 비율: 29.248649383263853\n"
     ]
    }
   ],
   "source": [
    "threshold = 7\n",
    "total_cnt = len(src_tokenizer.word_index) # 단어의 수\n",
    "rare_cnt = 0 # 등장 빈도수가 threshold보다 작은 단어의 개수를 카운트\n",
    "total_freq = 0 # 훈련 데이터의 전체 단어 빈도수 총 합\n",
    "rare_freq = 0 # 등장 빈도수가 threshold보다 작은 단어의 등장 빈도수의 총 합\n",
    "\n",
    "# 단어와 빈도수의 쌍(pair)을 key와 value로 받는다.\n",
    "for key, value in src_tokenizer.word_counts.items():\n",
    "    total_freq = total_freq + value\n",
    "\n",
    "    # 단어의 등장 빈도수가 threshold보다 작으면\n",
    "    if(value < threshold):\n",
    "        rare_cnt = rare_cnt + 1\n",
    "        rare_freq = rare_freq + value\n",
    "\n",
    "print('단어 집합(vocabulary)의 크기 :',total_cnt)\n",
    "print('등장 빈도가 %s번 이하인 희귀 단어의 수: %s'%(threshold - 1, rare_cnt))\n",
    "print('단어 집합에서 희귀 단어를 제외시킬 경우의 단어 집합의 크기 %s'%(total_cnt - rare_cnt))\n",
    "print(\"단어 집합에서 희귀 단어의 비율:\", (rare_cnt / total_cnt)*100)\n",
    "print(\"전체 등장 빈도에서 희귀 단어 등장 빈도 비율:\", (rare_freq / total_freq)*100)"
   ]
  },
  {
   "cell_type": "code",
   "execution_count": 42,
   "metadata": {},
   "outputs": [],
   "source": [
    "src_vocab = 30000\n",
    "src_tokenizer = Tokenizer(num_words = src_vocab) \n",
    "src_tokenizer.fit_on_texts(encoder_input_train)\n",
    "\n",
    "# 텍스트 시퀀스를 정수 시퀀스로 변환\n",
    "encoder_input_train = src_tokenizer.texts_to_sequences(encoder_input_train) \n",
    "encoder_input_test = src_tokenizer.texts_to_sequences(encoder_input_test)"
   ]
  },
  {
   "cell_type": "code",
   "execution_count": 43,
   "metadata": {},
   "outputs": [
    {
     "name": "stdout",
     "output_type": "stream",
     "text": [
      "[[27231, 17012, 11205, 209, 5677, 4564, 21904, 127, 66, 496, 27232, 21905, 1256, 112, 18378, 3530, 201, 12, 11206, 1434, 12436, 41, 1174, 2584, 2585, 37, 10652, 21905, 45, 898, 2743, 151, 1, 8286, 1476, 21904, 21905, 1435, 3054, 1284, 1371, 74, 929, 369, 10, 319, 45, 266, 8000, 9705, 3530, 201, 1174, 2584, 2585, 37, 54, 27233, 4, 4071, 1418, 67, 5397, 310, 898, 3752, 12437, 21904, 21905, 12438, 227, 3610, 2219, 10653, 1434, 15817, 174, 1910, 203, 4789, 18379, 24283, 226, 1419, 11768, 1400, 12, 2110, 21905, 1093, 198, 15818, 29, 386, 1604, 1304, 24284, 11769, 487, 17, 898, 17013, 22, 3675, 56, 646, 27234, 109, 56, 1539, 13901, 75, 14746, 7472, 275, 74, 21906, 2193, 22, 10654, 7473, 14747, 540, 3675, 533, 1710, 348, 1776, 268, 17, 823, 545, 39, 78, 79, 11770, 109, 56, 17014, 14748, 564, 2481, 13134, 61, 3823, 209, 8926, 2193, 496, 27232, 21904, 21905, 6347, 19988, 19, 1529, 935, 3165, 248, 3675, 1239, 935, 435, 102, 677, 10655, 143, 7725, 17015, 843, 5527, 133, 21907, 66], [313, 657, 15819, 432, 307, 53, 1911, 45, 333, 1436, 739, 10149, 224, 114, 657, 45, 633, 307, 3166, 10656, 120, 10657, 657, 1436, 24285, 18, 2627, 1038, 23, 26, 341, 5678, 2586, 12439, 13902, 42, 847, 17016, 14, 848, 6348, 23, 8287, 114, 169, 27235, 12440, 12441, 990, 10657, 17017, 31, 324, 45, 21908, 3753, 27236, 388, 451, 1115, 899, 3167, 3168, 107, 123, 832, 11771, 1175, 10656, 120, 5828, 17018, 123, 21909, 27237, 832, 11771, 2744, 8586, 10657, 5828, 17016, 14, 20, 6534, 4168, 2, 338, 840, 422, 267, 4, 11772, 2138, 824, 14749, 617, 245, 2274, 1018, 24286, 148, 12, 1605, 16, 313, 552, 11, 7, 313, 552, 11, 7], [452, 566, 4902, 4903, 13, 707, 13, 1819, 915, 844, 14750, 372, 4903, 13, 10, 276, 1257, 780, 8288, 707, 4903, 13, 262, 2544, 7726, 453, 7007, 8927, 471, 7008, 847, 2886, 5997, 5013, 24287, 10658, 17019, 5998, 136, 11773, 1321, 5998, 13, 785, 8928, 67, 15820, 251, 487, 20, 136, 156, 4903, 13, 3105, 795, 1116, 3230, 24288, 24289, 1094, 2628, 93, 501, 6773, 3611, 7474, 3754, 61, 367, 1240, 1385, 17020, 7009, 7727, 1285, 2343, 22, 3755, 231, 1831, 12442, 6773, 502, 6535, 393, 61, 559, 751, 185, 5264, 3824, 1329, 8001, 2, 370, 1104, 954, 27238, 202, 414, 55, 1401, 464, 1852, 612, 4468, 209, 13903, 25, 2886, 703, 19989, 21910, 1140, 11774, 2, 8929, 11207, 700, 13135, 800, 18380, 1032, 6, 452, 891, 5, 9, 8]]\n"
     ]
    }
   ],
   "source": [
    "print(encoder_input_train[:3])"
   ]
  },
  {
   "cell_type": "code",
   "execution_count": 44,
   "metadata": {},
   "outputs": [],
   "source": [
    "tar_tokenizer = Tokenizer()\n",
    "tar_tokenizer.fit_on_texts(decoder_input_train)"
   ]
  },
  {
   "cell_type": "code",
   "execution_count": 45,
   "metadata": {},
   "outputs": [
    {
     "name": "stdout",
     "output_type": "stream",
     "text": [
      "단어 집합(vocabulary)의 크기 : 355818\n",
      "등장 빈도가 5번 이하인 희귀 단어의 수: 319616\n",
      "단어 집합에서 희귀 단어를 제외시킬 경우의 단어 집합의 크기 36202\n",
      "단어 집합에서 희귀 단어의 비율: 89.82569740710137\n",
      "전체 등장 빈도에서 희귀 단어 등장 빈도 비율: 27.31213363494801\n"
     ]
    }
   ],
   "source": [
    "threshold = 6\n",
    "total_cnt = len(tar_tokenizer.word_index) # 단어의 수\n",
    "rare_cnt = 0 # 등장 빈도수가 threshold보다 작은 단어의 개수를 카운트\n",
    "total_freq = 0 # 훈련 데이터의 전체 단어 빈도수 총 합\n",
    "rare_freq = 0 # 등장 빈도수가 threshold보다 작은 단어의 등장 빈도수의 총 합\n",
    "\n",
    "# 단어와 빈도수의 쌍(pair)을 key와 value로 받는다.\n",
    "for key, value in tar_tokenizer.word_counts.items():\n",
    "    total_freq = total_freq + value\n",
    "\n",
    "    # 단어의 등장 빈도수가 threshold보다 작으면\n",
    "    if(value < threshold):\n",
    "        rare_cnt = rare_cnt + 1\n",
    "        rare_freq = rare_freq + value\n",
    "\n",
    "print('단어 집합(vocabulary)의 크기 :',total_cnt)\n",
    "print('등장 빈도가 %s번 이하인 희귀 단어의 수: %s'%(threshold - 1, rare_cnt))\n",
    "print('단어 집합에서 희귀 단어를 제외시킬 경우의 단어 집합의 크기 %s'%(total_cnt - rare_cnt))\n",
    "print(\"단어 집합에서 희귀 단어의 비율:\", (rare_cnt / total_cnt)*100)\n",
    "print(\"전체 등장 빈도에서 희귀 단어 등장 빈도 비율:\", (rare_freq / total_freq)*100)"
   ]
  },
  {
   "cell_type": "code",
   "execution_count": 46,
   "metadata": {},
   "outputs": [],
   "source": [
    "tar_vocab = 30000\n",
    "tar_tokenizer = Tokenizer(num_words = tar_vocab) \n",
    "tar_tokenizer.fit_on_texts(decoder_input_train)\n",
    "tar_tokenizer.fit_on_texts(decoder_target_train)"
   ]
  },
  {
   "cell_type": "code",
   "execution_count": 47,
   "metadata": {},
   "outputs": [],
   "source": [
    "# 텍스트 시퀀스를 정수 시퀀스로 변환\n",
    "decoder_input_train = tar_tokenizer.texts_to_sequences(decoder_input_train) \n",
    "decoder_target_train = tar_tokenizer.texts_to_sequences(decoder_target_train)\n",
    "decoder_input_test = tar_tokenizer.texts_to_sequences(decoder_input_test)\n",
    "decoder_target_test = tar_tokenizer.texts_to_sequences(decoder_target_test)"
   ]
  },
  {
   "cell_type": "code",
   "execution_count": 48,
   "metadata": {},
   "outputs": [
    {
     "name": "stdout",
     "output_type": "stream",
     "text": [
      "[[3, 29854, 17171, 12648, 221, 6111, 5067, 20968, 123, 67, 463, 29855, 20969, 1237, 121, 17172, 3621, 226, 10, 11604, 1380, 12139, 35, 1238, 2626, 2541, 40, 10303, 20969, 43, 874, 2507, 150, 1, 6744, 1364, 20968, 20969, 1204, 3039, 1442, 1332, 85, 1133, 429, 7, 348, 43, 239, 27007, 7915, 8984, 3621, 226, 1238, 2626, 2541, 40, 59, 22709, 6, 4134, 1321, 72, 5187, 228, 874, 3936, 13243, 20968, 20969, 12140, 265, 3561, 2281, 11605, 1380, 15317, 169, 1538, 196, 4692, 18267, 27008, 245, 1478, 12649, 1443, 10, 2172, 20969, 1067, 192, 17173, 31, 339, 1553, 1493, 24694, 11606, 486, 20, 874, 17174, 28, 3170, 58, 611, 27009, 122, 58, 1766, 14560, 81, 17175, 8711, 275, 85, 24695, 2477, 28, 10711, 8163, 16199, 509, 3170, 503, 1681, 349, 1723, 255, 20, 751, 29856, 571, 42, 70, 78, 12141, 122, 58, 19530, 17176, 572, 2542, 12650, 64, 4071, 221, 9289, 2477, 463, 29855, 20968, 20969, 5983, 18268, 22, 1526, 1034, 3040, 279, 3170, 1333, 1034, 404, 98, 672, 9930, 148, 7916, 18269, 838, 5188, 159, 18270, 67], [3, 438, 661, 13849, 487, 218, 44, 1749, 43, 323, 1280, 737, 29857, 7723, 172, 112, 661, 43, 418, 218, 2902, 10712, 103, 11607, 661, 1280, 24696, 19, 2688, 940, 26, 25, 274, 6269, 2718, 13244, 15318, 45, 752, 19531, 14, 851, 6433, 26, 7724, 112, 194, 13245, 14561, 1017, 11607, 18271, 24, 236, 43, 18272, 4211, 24697, 368, 464, 978, 726, 2719, 2435, 104, 124, 828, 11117, 1291, 10712, 103, 5619, 16200, 124, 27010, 24698, 828, 11117, 2436, 9290, 11607, 5619, 19531, 14, 23, 5855, 3808, 2, 337, 727, 478, 246, 6, 9595, 2043, 818, 14562, 658, 276, 2191, 927, 27011, 166, 10, 1798, 9, 438, 721, 18, 15, 438, 721, 18, 15], [3, 587, 617, 4784, 29858, 4878, 8, 699, 8, 1822, 892, 772, 15319, 269, 29858, 4878, 8, 7, 193, 1159, 637, 8164, 699, 4878, 8, 303, 2659, 5068, 365, 7093, 9931, 425, 6112, 752, 3171, 5739, 4785, 24699, 9932, 15320, 5740, 144, 11118, 1239, 5740, 8, 776, 8985, 72, 14563, 308, 486, 23, 144, 190, 29858, 4878, 8, 3257, 767, 969, 2748, 22710, 27012, 1142, 2543, 94, 485, 6745, 3863, 8712, 3395, 64, 379, 1340, 1272, 17177, 6918, 7514, 1479, 2261, 28, 4135, 306, 1889, 14564, 6745, 552, 6434, 383, 64, 516, 678, 233, 5620, 4136, 1455, 8425, 2, 362, 1109, 907, 27013, 234, 405, 56, 1554, 440, 1843, 618, 4506, 29859, 221, 10713, 29, 3171, 748, 20970, 24700, 1174, 12651, 2, 9291, 29858, 11608, 722, 12652, 855, 22711, 1095, 11, 587, 1169, 12, 17, 16], [3, 6583, 697, 5189, 1398, 2088, 785, 2903, 6919, 958, 5285, 5069, 22712, 19532, 352, 1456, 774, 34, 1518, 2903, 4969, 833, 35, 4137, 20, 1304, 70, 860, 87, 24701, 19533, 303, 2720, 1096, 303, 3678, 18273, 10714, 21, 5189, 99, 127, 210, 328, 1240, 1612, 5285, 170, 29860, 3622, 11609, 5286, 6919, 201, 958, 5285, 14565, 5069, 165, 8986, 27014, 1180, 10304, 793, 19534, 8165, 8987, 5856, 2689, 201, 13850, 3172, 903, 8988, 27015, 10305, 5856, 2218, 452, 99, 87, 415, 165, 1414, 1398, 8165, 108, 1052, 289, 4365, 452, 99, 1625, 1612, 366, 20971, 2721, 1539, 5069, 63, 165, 8166, 149, 2172, 3208, 4507, 1414, 4970, 512, 5070, 443, 388, 13850, 4507, 1414, 2437, 1180, 10304, 4507, 1415, 24702, 2330, 7303, 393, 4693, 431, 289, 4212, 10304, 20972, 4138, 4507, 1415, 1281, 2330, 7303, 393, 5856, 328, 363, 99, 87, 14566, 1177, 10306, 9933, 98, 1177, 669, 265, 829, 2985, 2308, 8989, 5190, 5984, 19535, 2508, 777, 3936, 4366, 27, 14565, 164, 20, 5071, 2, 303, 3679, 5621, 7304], [3, 1466, 19536, 1457, 472, 1799, 18274, 325, 19537, 200, 117, 30, 4598, 5072, 418, 294, 258, 21, 24, 146, 206, 44, 2563, 488, 1210, 455, 29861, 13851, 943, 488, 4434, 286, 488, 8426, 146, 224, 55, 360, 451, 27, 32, 1125, 22713, 246, 7725, 29, 1273, 19536, 1365, 104, 22714, 406, 45, 1170, 13851, 283, 32, 1907, 2823, 600, 65, 703, 2019, 4879, 2309, 299, 62, 1626, 1, 344, 19, 32, 488, 2238, 18275, 742, 1322, 29862, 5, 23, 120, 561, 2904, 146, 3126, 3305, 35, 400, 8427, 456, 4367, 875, 2905, 2722, 464, 120, 179, 19538, 97, 4694, 10715, 679, 3396, 4880, 1178, 794, 753, 2192, 1, 37, 488, 246, 5, 23, 173, 7305, 233, 17178, 932, 13246, 374, 2358, 2690, 27, 1908, 27016, 11, 913, 1724, 12, 17, 16, 49, 12]]\n"
     ]
    }
   ],
   "source": [
    "print(decoder_input_train[:5])"
   ]
  },
  {
   "cell_type": "code",
   "execution_count": 49,
   "metadata": {},
   "outputs": [
    {
     "name": "stdout",
     "output_type": "stream",
     "text": [
      "[[10303, 20969, 43, 874, 1860, 2507, 150, 1, 20968, 20969, 12140, 265, 3561, 2281, 11605, 1380, 15317, 169, 1538, 3170, 1333, 1034, 404, 98, 672, 9930, 148, 7916, 18269, 838, 5188, 159, 18270, 67, 4], [737, 29857, 7723, 172, 112, 661, 43, 418, 218, 2902, 10712, 103, 11607, 661, 1280, 24696, 19, 2688, 940, 26, 2719, 2435, 104, 124, 828, 11117, 1291, 10712, 103, 5619, 16200, 4], [29858, 4878, 8, 699, 8, 1822, 892, 772, 15319, 269, 29858, 4878, 8, 7, 193, 1159, 637, 8164, 699, 4878, 8, 303, 2659, 5068, 365, 56, 1554, 440, 1843, 618, 4506, 29859, 221, 10713, 29, 4], [785, 2903, 6919, 958, 5285, 5069, 22712, 19532, 352, 1456, 774, 24701, 19533, 303, 2720, 1096, 303, 3678, 18273, 10714, 21, 5189, 99, 127, 210, 328, 1240, 1612, 5286, 6919, 201, 958, 5285, 14565, 5069, 165, 8986, 27014, 1180, 4], [472, 1799, 18274, 325, 19537, 200, 117, 30, 4598, 5072, 418, 294, 258, 21, 24, 146, 206, 44, 2563, 488, 1210, 455, 29861, 13851, 943, 488, 4434, 286, 37, 488, 246, 5, 23, 173, 7305, 233, 17178, 932, 13246, 374, 2358, 2690, 27, 1908, 27016, 11, 4]]\n"
     ]
    }
   ],
   "source": [
    "print(decoder_target_train[:5])"
   ]
  },
  {
   "cell_type": "markdown",
   "metadata": {},
   "source": [
    "## Remove Empty Samples"
   ]
  },
  {
   "cell_type": "code",
   "execution_count": 50,
   "metadata": {},
   "outputs": [],
   "source": [
    "drop_train = [index for index, sentence in enumerate(decoder_input_train) if len(sentence) == 1]\n",
    "drop_test = [index for index, sentence in enumerate(decoder_input_test) if len(sentence) == 1]"
   ]
  },
  {
   "cell_type": "code",
   "execution_count": 51,
   "metadata": {},
   "outputs": [
    {
     "name": "stdout",
     "output_type": "stream",
     "text": [
      "삭제할 훈련 데이터의 개수 : 0\n",
      "삭제할 테스트 데이터의 개수 : 0\n"
     ]
    }
   ],
   "source": [
    "print('삭제할 훈련 데이터의 개수 :',len(drop_train))\n",
    "print('삭제할 테스트 데이터의 개수 :',len(drop_test))"
   ]
  },
  {
   "cell_type": "code",
   "execution_count": 52,
   "metadata": {},
   "outputs": [
    {
     "name": "stdout",
     "output_type": "stream",
     "text": [
      "훈련 데이터의 개수 : 8879\n",
      "훈련 레이블의 개수 : 8879\n",
      "테스트 데이터의 개수 : 2219\n",
      "테스트 레이블의 개수 : 2219\n"
     ]
    }
   ],
   "source": [
    "encoder_input_train = np.delete(encoder_input_train, drop_train, axis=0)\n",
    "decoder_input_train = np.delete(decoder_input_train, drop_train, axis=0)\n",
    "decoder_target_train = np.delete(decoder_target_train, drop_train, axis=0)\n",
    "\n",
    "encoder_input_test = np.delete(encoder_input_test, drop_test, axis=0)\n",
    "decoder_input_test = np.delete(decoder_input_test, drop_test, axis=0)\n",
    "decoder_target_test = np.delete(decoder_target_test, drop_test, axis=0)\n",
    "\n",
    "print('훈련 데이터의 개수 :', len(encoder_input_train))\n",
    "print('훈련 레이블의 개수 :',len(decoder_input_train))\n",
    "print('테스트 데이터의 개수 :',len(encoder_input_test))\n",
    "print('테스트 레이블의 개수 :',len(decoder_input_test))"
   ]
  },
  {
   "cell_type": "markdown",
   "metadata": {},
   "source": [
    "## Padding"
   ]
  },
  {
   "cell_type": "code",
   "execution_count": 53,
   "metadata": {},
   "outputs": [],
   "source": [
    "encoder_input_train = pad_sequences(encoder_input_train, maxlen = text_max_len, padding='post')\n",
    "encoder_input_test = pad_sequences(encoder_input_test, maxlen = text_max_len, padding='post')\n",
    "decoder_input_train = pad_sequences(decoder_input_train, maxlen = summary_max_len, padding='post')\n",
    "decoder_target_train = pad_sequences(decoder_target_train, maxlen = summary_max_len, padding='post')\n",
    "decoder_input_test = pad_sequences(decoder_input_test, maxlen = summary_max_len, padding='post')\n",
    "decoder_target_test = pad_sequences(decoder_target_test, maxlen = summary_max_len, padding='post')"
   ]
  },
  {
   "cell_type": "markdown",
   "metadata": {},
   "source": [
    "## Seq2Seq + Attention Summary Model"
   ]
  },
  {
   "cell_type": "code",
   "execution_count": 54,
   "metadata": {},
   "outputs": [],
   "source": [
    "from tensorflow.keras.layers import Input, LSTM, Embedding, Dense, Concatenate\n",
    "from tensorflow.keras.models import Model\n",
    "from tensorflow.keras.callbacks import EarlyStopping, ModelCheckpoint"
   ]
  },
  {
   "cell_type": "code",
   "execution_count": 55,
   "metadata": {},
   "outputs": [
    {
     "name": "stdout",
     "output_type": "stream",
     "text": [
      "WARNING:tensorflow:From C:\\Users\\USER\\anaconda3\\lib\\site-packages\\tensorflow\\python\\keras\\initializers.py:119: calling RandomUniform.__init__ (from tensorflow.python.ops.init_ops) with dtype is deprecated and will be removed in a future version.\n",
      "Instructions for updating:\n",
      "Call initializer instance with the dtype argument instead of passing it to the constructor\n",
      "WARNING:tensorflow:From C:\\Users\\USER\\anaconda3\\lib\\site-packages\\tensorflow\\python\\ops\\init_ops.py:1251: calling VarianceScaling.__init__ (from tensorflow.python.ops.init_ops) with dtype is deprecated and will be removed in a future version.\n",
      "Instructions for updating:\n",
      "Call initializer instance with the dtype argument instead of passing it to the constructor\n"
     ]
    }
   ],
   "source": [
    "embedding_dim = 128\n",
    "hidden_size = 256\n",
    "\n",
    "# 인코더\n",
    "encoder_inputs = Input(shape=(text_max_len,))\n",
    "\n",
    "# 인코더의 임베딩 층\n",
    "enc_emb = Embedding(src_vocab, embedding_dim)(encoder_inputs)\n",
    "\n",
    "# 인코더의 LSTM 1\n",
    "encoder_lstm1 = LSTM(hidden_size, return_sequences=True, return_state=True ,dropout = 0.4, recurrent_dropout = 0.4)\n",
    "encoder_output1, state_h1, state_c1 = encoder_lstm1(enc_emb)\n",
    "\n",
    "# 인코더의 LSTM 2\n",
    "encoder_lstm2 = LSTM(hidden_size, return_sequences=True, return_state=True, dropout=0.4, recurrent_dropout=0.4)\n",
    "encoder_output2, state_h2, state_c2 = encoder_lstm2(encoder_output1)\n",
    "\n",
    "# 인코더의 LSTM 3\n",
    "encoder_lstm3 = LSTM(hidden_size, return_state=True, return_sequences=True, dropout=0.4, recurrent_dropout=0.4)\n",
    "encoder_outputs, state_h, state_c= encoder_lstm3(encoder_output2)"
   ]
  },
  {
   "cell_type": "code",
   "execution_count": 56,
   "metadata": {},
   "outputs": [],
   "source": [
    "# 디코더\n",
    "decoder_inputs = Input(shape=(None,))\n",
    "\n",
    "# 디코더의 임베딩 층\n",
    "dec_emb_layer = Embedding(tar_vocab, embedding_dim)\n",
    "dec_emb = dec_emb_layer(decoder_inputs)\n",
    "\n",
    "# 디코더의 LSTM\n",
    "decoder_lstm = LSTM(hidden_size, return_sequences = True, return_state = True, dropout = 0.4, recurrent_dropout=0.2)\n",
    "decoder_outputs, _, _ = decoder_lstm(dec_emb, initial_state = [state_h, state_c])"
   ]
  },
  {
   "cell_type": "code",
   "execution_count": 57,
   "metadata": {},
   "outputs": [
    {
     "name": "stdout",
     "output_type": "stream",
     "text": [
      "Model: \"model\"\n",
      "__________________________________________________________________________________________________\n",
      "Layer (type)                    Output Shape         Param #     Connected to                     \n",
      "==================================================================================================\n",
      "input_1 (InputLayer)            [(None, 300)]        0                                            \n",
      "__________________________________________________________________________________________________\n",
      "embedding (Embedding)           (None, 300, 128)     3840000     input_1[0][0]                    \n",
      "__________________________________________________________________________________________________\n",
      "lstm (LSTM)                     [(None, 300, 256), ( 394240      embedding[0][0]                  \n",
      "__________________________________________________________________________________________________\n",
      "input_2 (InputLayer)            [(None, None)]       0                                            \n",
      "__________________________________________________________________________________________________\n",
      "lstm_1 (LSTM)                   [(None, 300, 256), ( 525312      lstm[0][0]                       \n",
      "__________________________________________________________________________________________________\n",
      "embedding_1 (Embedding)         (None, None, 128)    3840000     input_2[0][0]                    \n",
      "__________________________________________________________________________________________________\n",
      "lstm_2 (LSTM)                   [(None, 300, 256), ( 525312      lstm_1[0][0]                     \n",
      "__________________________________________________________________________________________________\n",
      "lstm_3 (LSTM)                   [(None, None, 256),  394240      embedding_1[0][0]                \n",
      "                                                                 lstm_2[0][1]                     \n",
      "                                                                 lstm_2[0][2]                     \n",
      "__________________________________________________________________________________________________\n",
      "dense (Dense)                   (None, None, 30000)  7710000     lstm_3[0][0]                     \n",
      "==================================================================================================\n",
      "Total params: 17,229,104\n",
      "Trainable params: 17,229,104\n",
      "Non-trainable params: 0\n",
      "__________________________________________________________________________________________________\n"
     ]
    }
   ],
   "source": [
    "# 디코더의 출력층\n",
    "decoder_softmax_layer = Dense(tar_vocab, activation = 'softmax')\n",
    "decoder_softmax_outputs = decoder_softmax_layer(decoder_outputs) \n",
    "\n",
    "# 모델 정의\n",
    "model = Model([encoder_inputs, decoder_inputs], decoder_softmax_outputs)\n",
    "model.summary()"
   ]
  },
  {
   "cell_type": "code",
   "execution_count": 58,
   "metadata": {},
   "outputs": [],
   "source": [
    "urllib.request.urlretrieve(\"https://raw.githubusercontent.com/thushv89/attention_keras/master/src/layers/attention.py\", filename=\"attention.py\")\n",
    "from attention import AttentionLayer"
   ]
  },
  {
   "cell_type": "code",
   "execution_count": 59,
   "metadata": {},
   "outputs": [
    {
     "name": "stdout",
     "output_type": "stream",
     "text": [
      "WARNING:tensorflow:Entity <bound method AttentionLayer.call of <attention.AttentionLayer object at 0x000001F092FFBF88>> could not be transformed and will be executed as-is. Please report this to the AutgoGraph team. When filing the bug, set the verbosity to 10 (on Linux, `export AUTOGRAPH_VERBOSITY=10`) and attach the full output. Cause: converting <bound method AttentionLayer.call of <attention.AttentionLayer object at 0x000001F092FFBF88>>: AttributeError: module 'gast' has no attribute 'Num'\n",
      "WARNING: Entity <bound method AttentionLayer.call of <attention.AttentionLayer object at 0x000001F092FFBF88>> could not be transformed and will be executed as-is. Please report this to the AutgoGraph team. When filing the bug, set the verbosity to 10 (on Linux, `export AUTOGRAPH_VERBOSITY=10`) and attach the full output. Cause: converting <bound method AttentionLayer.call of <attention.AttentionLayer object at 0x000001F092FFBF88>>: AttributeError: module 'gast' has no attribute 'Num'\n",
      "Model: \"model_1\"\n",
      "__________________________________________________________________________________________________\n",
      "Layer (type)                    Output Shape         Param #     Connected to                     \n",
      "==================================================================================================\n",
      "input_1 (InputLayer)            [(None, 300)]        0                                            \n",
      "__________________________________________________________________________________________________\n",
      "embedding (Embedding)           (None, 300, 128)     3840000     input_1[0][0]                    \n",
      "__________________________________________________________________________________________________\n",
      "lstm (LSTM)                     [(None, 300, 256), ( 394240      embedding[0][0]                  \n",
      "__________________________________________________________________________________________________\n",
      "input_2 (InputLayer)            [(None, None)]       0                                            \n",
      "__________________________________________________________________________________________________\n",
      "lstm_1 (LSTM)                   [(None, 300, 256), ( 525312      lstm[0][0]                       \n",
      "__________________________________________________________________________________________________\n",
      "embedding_1 (Embedding)         (None, None, 128)    3840000     input_2[0][0]                    \n",
      "__________________________________________________________________________________________________\n",
      "lstm_2 (LSTM)                   [(None, 300, 256), ( 525312      lstm_1[0][0]                     \n",
      "__________________________________________________________________________________________________\n",
      "lstm_3 (LSTM)                   [(None, None, 256),  394240      embedding_1[0][0]                \n",
      "                                                                 lstm_2[0][1]                     \n",
      "                                                                 lstm_2[0][2]                     \n",
      "__________________________________________________________________________________________________\n",
      "attention_layer (AttentionLayer ((None, None, 256),  131328      lstm_2[0][0]                     \n",
      "                                                                 lstm_3[0][0]                     \n",
      "__________________________________________________________________________________________________\n",
      "concat_layer (Concatenate)      (None, None, 512)    0           lstm_3[0][0]                     \n",
      "                                                                 attention_layer[0][0]            \n",
      "__________________________________________________________________________________________________\n",
      "dense_1 (Dense)                 (None, None, 30000)  15390000    concat_layer[0][0]               \n",
      "==================================================================================================\n",
      "Total params: 25,040,432\n",
      "Trainable params: 25,040,432\n",
      "Non-trainable params: 0\n",
      "__________________________________________________________________________________________________\n"
     ]
    }
   ],
   "source": [
    "# 어텐션 층(어텐션 함수)\n",
    "attn_layer = AttentionLayer(name='attention_layer')\n",
    "attn_out, attn_states = attn_layer([encoder_outputs, decoder_outputs])\n",
    "\n",
    "# 어텐션의 결과와 디코더의 hidden state들을 연결\n",
    "decoder_concat_input = Concatenate(axis = -1, name='concat_layer')([decoder_outputs, attn_out])\n",
    "\n",
    "# 디코더의 출력층\n",
    "decoder_softmax_layer = Dense(tar_vocab, activation='softmax')\n",
    "decoder_softmax_outputs = decoder_softmax_layer(decoder_concat_input)\n",
    "\n",
    "# 모델 정의\n",
    "model = Model([encoder_inputs, decoder_inputs], decoder_softmax_outputs)\n",
    "model.summary()"
   ]
  },
  {
   "cell_type": "code",
   "execution_count": 60,
   "metadata": {},
   "outputs": [],
   "source": [
    "model.compile(optimizer='rmsprop', loss='sparse_categorical_crossentropy')"
   ]
  },
  {
   "cell_type": "code",
   "execution_count": 61,
   "metadata": {
    "scrolled": true
   },
   "outputs": [
    {
     "name": "stdout",
     "output_type": "stream",
     "text": [
      "Train on 8879 samples, validate on 2219 samples\n",
      "WARNING:tensorflow:From C:\\Users\\USER\\anaconda3\\lib\\site-packages\\tensorflow\\python\\ops\\math_grad.py:1250: add_dispatch_support.<locals>.wrapper (from tensorflow.python.ops.array_ops) is deprecated and will be removed in a future version.\n",
      "Instructions for updating:\n",
      "Use tf.where in 2.0, which has the same broadcast rule as np.where\n",
      "Epoch 1/5\n",
      "8879/8879 [==============================] - 11412s 1s/sample - loss: 6.1474 - val_loss: 5.1643\n",
      "Epoch 2/5\n",
      "8879/8879 [==============================] - 16004s 2s/sample - loss: 5.4238 - val_loss: 5.1605\n",
      "Epoch 3/5\n",
      "8879/8879 [==============================] - 17141s 2s/sample - loss: 5.3715 - val_loss: 5.1103\n",
      "Epoch 4/5\n",
      "8879/8879 [==============================] - 17622s 2s/sample - loss: 5.3165 - val_loss: 5.0994\n",
      "Epoch 5/5\n",
      "8879/8879 [==============================] - 17413s 2s/sample - loss: 5.2334 - val_loss: 5.0671\n"
     ]
    }
   ],
   "source": [
    "es = EarlyStopping(monitor='val_loss', mode='min', verbose=1, patience = 2)\n",
    "history = model.fit(x = [encoder_input_train, decoder_input_train], y = decoder_target_train, \\\n",
    "          validation_data = ([encoder_input_test, decoder_input_test], decoder_target_test),\n",
    "          batch_size = 256, callbacks=[es], epochs = 5)"
   ]
  },
  {
   "cell_type": "code",
   "execution_count": 63,
   "metadata": {},
   "outputs": [
    {
     "data": {
      "image/png": "[encoded data removed]",
      "text/plain": [
       "<Figure size 432x288 with 1 Axes>"
      ]
     },
     "metadata": {
      "needs_background": "light"
     },
     "output_type": "display_data"
    }
   ],
   "source": [
    "plt.plot(history.history['loss'], label='train')\n",
    "plt.plot(history.history['val_loss'], label='test')\n",
    "plt.legend()\n",
    "plt.show()"
   ]
  },
  {
   "cell_type": "markdown",
   "metadata": {},
   "source": [
    "## Evaluation"
   ]
  },
  {
   "cell_type": "code",
   "execution_count": 64,
   "metadata": {},
   "outputs": [],
   "source": [
    "src_index_to_word = src_tokenizer.index_word # 원문 단어 집합에서 정수 -> 단어를 얻음\n",
    "tar_word_to_index = tar_tokenizer.word_index # 요약 단어 집합에서 단어 -> 정수를 얻음\n",
    "tar_index_to_word = tar_tokenizer.index_word # 요약 단어 집합에서 정수 -> 단어를 얻음"
   ]
  },
  {
   "cell_type": "code",
   "execution_count": 65,
   "metadata": {},
   "outputs": [],
   "source": [
    "# 인코더 설계\n",
    "encoder_model = Model(inputs=encoder_inputs, outputs=[encoder_outputs, state_h, state_c])"
   ]
  },
  {
   "cell_type": "code",
   "execution_count": 66,
   "metadata": {},
   "outputs": [],
   "source": [
    "# 이전 시점의 상태들을 저장하는 텐서\n",
    "decoder_state_input_h = Input(shape=(hidden_size,))\n",
    "decoder_state_input_c = Input(shape=(hidden_size,))\n",
    "\n",
    "dec_emb2 = dec_emb_layer(decoder_inputs)\n",
    "# 문장의 다음 단어를 예측하기 위해서 초기 상태(initial_state)를 이전 시점의 상태로 사용. 이는 뒤의 함수 decode_sequence()에 구현\n",
    "# 훈련 과정에서와 달리 LSTM의 리턴하는 은닉 상태와 셀 상태인 state_h와 state_c를 버리지 않음.\n",
    "decoder_outputs2, state_h2, state_c2 = decoder_lstm(dec_emb2, initial_state=[decoder_state_input_h, decoder_state_input_c])"
   ]
  },
  {
   "cell_type": "code",
   "execution_count": 67,
   "metadata": {},
   "outputs": [
    {
     "name": "stdout",
     "output_type": "stream",
     "text": [
      "WARNING:tensorflow:Entity <bound method AttentionLayer.call of <attention.AttentionLayer object at 0x000001F092FFBF88>> could not be transformed and will be executed as-is. Please report this to the AutgoGraph team. When filing the bug, set the verbosity to 10 (on Linux, `export AUTOGRAPH_VERBOSITY=10`) and attach the full output. Cause: converting <bound method AttentionLayer.call of <attention.AttentionLayer object at 0x000001F092FFBF88>>: AttributeError: module 'gast' has no attribute 'Num'\n",
      "WARNING: Entity <bound method AttentionLayer.call of <attention.AttentionLayer object at 0x000001F092FFBF88>> could not be transformed and will be executed as-is. Please report this to the AutgoGraph team. When filing the bug, set the verbosity to 10 (on Linux, `export AUTOGRAPH_VERBOSITY=10`) and attach the full output. Cause: converting <bound method AttentionLayer.call of <attention.AttentionLayer object at 0x000001F092FFBF88>>: AttributeError: module 'gast' has no attribute 'Num'\n"
     ]
    }
   ],
   "source": [
    "# 어텐션 함수\n",
    "decoder_hidden_state_input = Input(shape=(text_max_len, hidden_size))\n",
    "attn_out_inf, attn_states_inf = attn_layer([decoder_hidden_state_input, decoder_outputs2])\n",
    "decoder_inf_concat = Concatenate(axis=-1, name='concat')([decoder_outputs2, attn_out_inf])\n",
    "\n",
    "# 디코더의 출력층\n",
    "decoder_outputs2 = decoder_softmax_layer(decoder_inf_concat) \n",
    "\n",
    "# 최종 디코더 모델\n",
    "decoder_model = Model(\n",
    "    [decoder_inputs] + [decoder_hidden_state_input,decoder_state_input_h, decoder_state_input_c],\n",
    "    [decoder_outputs2] + [state_h2, state_c2])"
   ]
  },
  {
   "cell_type": "code",
   "execution_count": 82,
   "metadata": {},
   "outputs": [],
   "source": [
    "def decode_sequence(input_seq):\n",
    "    # 입력으로부터 인코더의 상태를 얻음\n",
    "    e_out, e_h, e_c = encoder_model.predict(input_seq)\n",
    "\n",
    "     # <SOS>에 해당하는 토큰 생성\n",
    "    target_seq = np.zeros((1,1))\n",
    "    target_seq[0, 0] = tar_word_to_index['sostoken']\n",
    "\n",
    "    stop_condition = False\n",
    "    decoded_sentence = ''\n",
    "    while not stop_condition: # stop_condition이 True가 될 때까지 루프 반복\n",
    "\n",
    "        output_tokens, h, c = decoder_model.predict([target_seq] + [e_out, e_h, e_c])\n",
    "        sampled_token_index = np.argmax(output_tokens[0, -1, :])\n",
    "        \n",
    "        if (sampled_token_index != 0):\n",
    "            sampled_token = tar_index_to_word[sampled_token_index]\n",
    "\n",
    "            if(sampled_token!='eostoken'):\n",
    "                decoded_sentence += ' '+sampled_token\n",
    "\n",
    "            #  <eos>에 도달하거나 최대 길이를 넘으면 중단.\n",
    "            if (sampled_token == 'eostoken'  or len(decoded_sentence.split()) >= (summary_max_len-1)):\n",
    "                stop_condition = True\n",
    "\n",
    "        # 길이가 1인 타겟 시퀀스를 업데이트\n",
    "        target_seq = np.zeros((1,1))\n",
    "        target_seq[0, 0] = sampled_token_index\n",
    "\n",
    "        # 상태를 업데이트 합니다.\n",
    "        e_h, e_c = h, c\n",
    "\n",
    "    return decoded_sentence"
   ]
  },
  {
   "cell_type": "code",
   "execution_count": 83,
   "metadata": {},
   "outputs": [],
   "source": [
    "# 원문의 정수 시퀀스를 텍스트 시퀀스로 변환\n",
    "def seq2text(input_seq):\n",
    "    temp=''\n",
    "    for i in input_seq:\n",
    "        if(i!=0):\n",
    "            temp = temp + src_index_to_word[i]+' '\n",
    "    return temp\n",
    "\n",
    "# 요약문의 정수 시퀀스를 텍스트 시퀀스로 변환\n",
    "def seq2summary(input_seq):\n",
    "    temp=''\n",
    "    for i in input_seq:\n",
    "        if((i!=0 and i!=tar_word_to_index['sostoken']) and i!=tar_word_to_index['eostoken']):\n",
    "            temp = temp + tar_index_to_word[i] + ' '\n",
    "    return temp"
   ]
  },
  {
   "cell_type": "code",
   "execution_count": null,
   "metadata": {},
   "outputs": [
    {
     "name": "stdout",
     "output_type": "stream",
     "text": [
      "원문 :  황인옥 소나타 연주 수성아트피아 2019 10일 수성아트피아 열린다 피아니스트 감성을 자극하는 따듯한 함께 선사하는 알려져 있다 7세 시작해 일찍 두각을 드러냈다 이미 13세 주최 콩쿠르에서 전체 대상을 수상했다 졸업하고 과정 졸업 과정을 협연 위한 분야의 솔로 앙상블 통해 뛰어난 작품 있는 연주를 선보이고 있는 현재 리더 멤버 예술감독 소속 다양한 활동을 이어가고 있으며 다수 특강과 통해 대중들의 많은 사랑을 받고 있다 후원하는 이번 공연에서 베토벤의 피아노 소나타 피아노 소나타 피아노 위한 지역의 함께 피아노 등을 베토벤의 피아노 소나타 교향곡 오페라 시작할 짧은 형식을 갖추고 있지만 베토벤 특유의 느낌이 가득한 사랑스러운 곡이다 피아노 있어 베토벤 이후 최고의 작곡가 사람으로 널리 알려져 있으며 그중 가장 유명한 작품이다 작곡한 피아노 소나타 일명 불리며 특히 그대로 러시아의 벌어진 제2차 중에서도 가장 중요하고 전쟁을 작품의 전반에 흐르는 효과와 거친 음악적 전쟁의 피아니스트 이번 공연에서 바이올리니스트 수석 수석 첼리스트 함께 피아노 5천 1만원 053 황인옥기자 hio idaegu co kr \n",
      "실제 요약문 : 짧은 형식을 갖추고 있지만 베토벤 특유의 느낌이 가득한 사랑스러운 피아노 있어 베토벤 이후 최고의 작곡가 사람으로 널리 알려져 있으며 그중 가장 유명한 작품이다 작곡한 피아노 소나타 일명 불리며 특히 그대로 러시아의 벌어진 제2차 중에서도 가장 중요하고 전쟁을 작품의 전반에 흐르는 효과와 거친 음악적 전쟁의 피아니스트 이번 공연에서 바이올리니스트 수석 수석 함께 피아노 5천 1만원 053 황인옥기자 hio idaegu co kr \n"
     ]
    }
   ],
   "source": [
    "for i in range(500, 1000):\n",
    "    print(\"원문 : \",seq2text(encoder_input_test[i]))\n",
    "    print(\"실제 요약문 :\",seq2summary(decoder_input_test[i]))\n",
    "    print(\"예측 요약문 :\",decode_sequence(encoder_input_test[i].reshape(1, text_max_len)))\n",
    "    print(\"\\n\")"
   ]
  },
  {
   "cell_type": "code",
   "execution_count": null,
   "metadata": {},
   "outputs": [],
   "source": []
  },
  {
   "cell_type": "code",
   "execution_count": null,
   "metadata": {},
   "outputs": [],
   "source": []
  }
 ],
 "metadata": {
  "hide_input": false,
  "kernelspec": {
   "display_name": "Python 3",
   "language": "python",
   "name": "python3"
  },
  "language_info": {
   "codemirror_mode": {
    "name": "ipython",
    "version": 3
   },
   "file_extension": ".py",
   "mimetype": "text/x-python",
   "name": "python",
   "nbconvert_exporter": "python",
   "pygments_lexer": "ipython3",
   "version": "3.7.6"
  },
  "toc": {
   "base_numbering": 1,
   "nav_menu": {},
   "number_sections": true,
   "sideBar": true,
   "skip_h1_title": false,
   "title_cell": "Table of Contents",
   "title_sidebar": "Contents",
   "toc_cell": false,
   "toc_position": {
    "height": "calc(100% - 180px)",
    "left": "10px",
    "top": "150px",
    "width": "384px"
   },
   "toc_section_display": true,
   "toc_window_display": true
  },
  "varInspector": {
   "cols": {
    "lenName": 16,
    "lenType": 16,
    "lenVar": 40
   },
   "kernels_config": {
    "python": {
     "delete_cmd_postfix": "",
     "delete_cmd_prefix": "del ",
     "library": "var_list.py",
     "varRefreshCmd": "print(var_dic_list())"
    },
    "r": {
     "delete_cmd_postfix": ") ",
     "delete_cmd_prefix": "rm(",
     "library": "var_list.r",
     "varRefreshCmd": "cat(var_dic_list()) "
    }
   },
   "types_to_exclude": [
    "module",
    "function",
    "builtin_function_or_method",
    "instance",
    "_Feature"
   ],
   "window_display": false
  }
 },
 "nbformat": 4,
 "nbformat_minor": 4
}
