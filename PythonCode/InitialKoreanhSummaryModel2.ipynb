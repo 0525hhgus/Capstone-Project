{
  "nbformat": 4,
  "nbformat_minor": 0,
  "metadata": {
    "hide_input": false,
    "kernelspec": {
      "display_name": "Python 3",
      "language": "python",
      "name": "python3"
    },
    "language_info": {
      "codemirror_mode": {
        "name": "ipython",
        "version": 3
      },
      "file_extension": ".py",
      "mimetype": "text/x-python",
      "name": "python",
      "nbconvert_exporter": "python",
      "pygments_lexer": "ipython3",
      "version": "3.7.6"
    },
    "toc": {
      "base_numbering": 1,
      "nav_menu": {},
      "number_sections": true,
      "sideBar": true,
      "skip_h1_title": false,
      "title_cell": "Table of Contents",
      "title_sidebar": "Contents",
      "toc_cell": false,
      "toc_position": {
        "height": "calc(100% - 180px)",
        "left": "10px",
        "top": "150px",
        "width": "384px"
      },
      "toc_section_display": true,
      "toc_window_display": true
    },
    "varInspector": {
      "cols": {
        "lenName": 16,
        "lenType": 16,
        "lenVar": 40
      },
      "kernels_config": {
        "python": {
          "delete_cmd_postfix": "",
          "delete_cmd_prefix": "del ",
          "library": "var_list.py",
          "varRefreshCmd": "print(var_dic_list())"
        },
        "r": {
          "delete_cmd_postfix": ") ",
          "delete_cmd_prefix": "rm(",
          "library": "var_list.r",
          "varRefreshCmd": "cat(var_dic_list()) "
        }
      },
      "types_to_exclude": [
        "module",
        "function",
        "builtin_function_or_method",
        "instance",
        "_Feature"
      ],
      "window_display": false
    },
    "colab": {
      "name": "InitialKoreanhSummaryModel2.ipynb",
      "provenance": [],
      "collapsed_sections": []
    },
    "accelerator": "GPU"
  },
  "cells": [
    {
      "cell_type": "markdown",
      "metadata": {
        "id": "7j_dcJRuf2LT"
      },
      "source": [
        "# Korean News Summary Model"
      ]
    },
    {
      "cell_type": "code",
      "metadata": {
        "colab": {
          "base_uri": "https://localhost:8080/",
          "height": 687
        },
        "id": "esEMBZZ4-tvm",
        "outputId": "807acdd3-9075-4887-a78c-fdc88cfc8c4e"
      },
      "source": [
        "!pip install konlpy"
      ],
      "execution_count": null,
      "outputs": [
        {
          "output_type": "stream",
          "text": [
            "Collecting konlpy\n",
            "\u001b[?25l  Downloading https://files.pythonhosted.org/packages/85/0e/f385566fec837c0b83f216b2da65db9997b35dd675e107752005b7d392b1/konlpy-0.5.2-py2.py3-none-any.whl (19.4MB)\n",
            "\u001b[K     |████████████████████████████████| 19.4MB 169kB/s \n",
            "\u001b[?25hCollecting tweepy>=3.7.0\n",
            "  Downloading https://files.pythonhosted.org/packages/bb/7c/99d51f80f3b77b107ebae2634108717362c059a41384a1810d13e2429a81/tweepy-3.9.0-py2.py3-none-any.whl\n",
            "Collecting colorama\n",
            "  Downloading https://files.pythonhosted.org/packages/44/98/5b86278fbbf250d239ae0ecb724f8572af1c91f4a11edf4d36a206189440/colorama-0.4.4-py2.py3-none-any.whl\n",
            "Requirement already satisfied: lxml>=4.1.0 in /usr/local/lib/python3.6/dist-packages (from konlpy) (4.2.6)\n",
            "Collecting JPype1>=0.7.0\n",
            "\u001b[?25l  Downloading https://files.pythonhosted.org/packages/b7/21/9e2c0dbf9df856e6392a1aec1d18006c60b175aa4e31d351e8278a8a63c0/JPype1-1.2.0-cp36-cp36m-manylinux2010_x86_64.whl (453kB)\n",
            "\u001b[K     |████████████████████████████████| 460kB 47.0MB/s \n",
            "\u001b[?25hRequirement already satisfied: numpy>=1.6 in /usr/local/lib/python3.6/dist-packages (from konlpy) (1.18.5)\n",
            "Collecting beautifulsoup4==4.6.0\n",
            "\u001b[?25l  Downloading https://files.pythonhosted.org/packages/9e/d4/10f46e5cfac773e22707237bfcd51bbffeaf0a576b0a847ec7ab15bd7ace/beautifulsoup4-4.6.0-py3-none-any.whl (86kB)\n",
            "\u001b[K     |████████████████████████████████| 92kB 13.5MB/s \n",
            "\u001b[?25hRequirement already satisfied: requests-oauthlib>=0.7.0 in /usr/local/lib/python3.6/dist-packages (from tweepy>=3.7.0->konlpy) (1.3.0)\n",
            "Requirement already satisfied: requests[socks]>=2.11.1 in /usr/local/lib/python3.6/dist-packages (from tweepy>=3.7.0->konlpy) (2.23.0)\n",
            "Requirement already satisfied: six>=1.10.0 in /usr/local/lib/python3.6/dist-packages (from tweepy>=3.7.0->konlpy) (1.15.0)\n",
            "Requirement already satisfied: typing-extensions; python_version < \"3.8\" in /usr/local/lib/python3.6/dist-packages (from JPype1>=0.7.0->konlpy) (3.7.4.3)\n",
            "Requirement already satisfied: oauthlib>=3.0.0 in /usr/local/lib/python3.6/dist-packages (from requests-oauthlib>=0.7.0->tweepy>=3.7.0->konlpy) (3.1.0)\n",
            "Requirement already satisfied: urllib3!=1.25.0,!=1.25.1,<1.26,>=1.21.1 in /usr/local/lib/python3.6/dist-packages (from requests[socks]>=2.11.1->tweepy>=3.7.0->konlpy) (1.24.3)\n",
            "Requirement already satisfied: chardet<4,>=3.0.2 in /usr/local/lib/python3.6/dist-packages (from requests[socks]>=2.11.1->tweepy>=3.7.0->konlpy) (3.0.4)\n",
            "Requirement already satisfied: certifi>=2017.4.17 in /usr/local/lib/python3.6/dist-packages (from requests[socks]>=2.11.1->tweepy>=3.7.0->konlpy) (2020.11.8)\n",
            "Requirement already satisfied: idna<3,>=2.5 in /usr/local/lib/python3.6/dist-packages (from requests[socks]>=2.11.1->tweepy>=3.7.0->konlpy) (2.10)\n",
            "Requirement already satisfied: PySocks!=1.5.7,>=1.5.6; extra == \"socks\" in /usr/local/lib/python3.6/dist-packages (from requests[socks]>=2.11.1->tweepy>=3.7.0->konlpy) (1.7.1)\n",
            "Installing collected packages: tweepy, colorama, JPype1, beautifulsoup4, konlpy\n",
            "  Found existing installation: tweepy 3.6.0\n",
            "    Uninstalling tweepy-3.6.0:\n",
            "      Successfully uninstalled tweepy-3.6.0\n",
            "  Found existing installation: beautifulsoup4 4.6.3\n",
            "    Uninstalling beautifulsoup4-4.6.3:\n",
            "      Successfully uninstalled beautifulsoup4-4.6.3\n",
            "Successfully installed JPype1-1.2.0 beautifulsoup4-4.6.0 colorama-0.4.4 konlpy-0.5.2 tweepy-3.9.0\n"
          ],
          "name": "stdout"
        },
        {
          "output_type": "display_data",
          "data": {
            "application/vnd.colab-display-data+json": {
              "pip_warning": {
                "packages": [
                  "bs4"
                ]
              }
            }
          },
          "metadata": {
            "tags": []
          }
        }
      ]
    },
    {
      "cell_type": "code",
      "metadata": {
        "colab": {
          "base_uri": "https://localhost:8080/"
        },
        "id": "DSE2NnduFJnj",
        "outputId": "cdaf6cc7-f480-4620-95fc-333369ac1678"
      },
      "source": [
        "import tensorflow as tf\n",
        " \n",
        "gpus = tf.config.experimental.list_physical_devices('GPU')\n",
        "if gpus:\n",
        "  try:\n",
        "    # Currently, memory growth needs to be the same across GPUs\n",
        "    for gpu in gpus:\n",
        "      tf.config.experimental.set_memory_growth(gpu, True)\n",
        "    logical_gpus = tf.config.experimental.list_logical_devices('GPU')\n",
        "    print(len(gpus), \"Physical GPUs,\", len(logical_gpus), \"Logical GPUs\")\n",
        "  except RuntimeError as e:\n",
        "    # Memory growth must be set before GPUs have been initialized\n",
        "    print(e)"
      ],
      "execution_count": null,
      "outputs": [
        {
          "output_type": "stream",
          "text": [
            "1 Physical GPUs, 1 Logical GPUs\n"
          ],
          "name": "stdout"
        }
      ]
    },
    {
      "cell_type": "code",
      "metadata": {
        "id": "Io6ejvmpf2LT"
      },
      "source": [
        "import numpy as np\n",
        "import pandas as pd\n",
        "import re\n",
        "import matplotlib.pyplot as plt\n",
        "import nltk\n",
        "from nltk.corpus import stopwords\n",
        "from bs4 import BeautifulSoup \n",
        "from tensorflow.keras.preprocessing.text import Tokenizer \n",
        "from tensorflow.keras.preprocessing.sequence import pad_sequences\n",
        "import urllib.request\n",
        "np.random.seed(seed=0)"
      ],
      "execution_count": null,
      "outputs": []
    },
    {
      "cell_type": "markdown",
      "metadata": {
        "id": "pIg5O5Kpf2LT"
      },
      "source": [
        "## Data"
      ]
    },
    {
      "cell_type": "code",
      "metadata": {
        "colab": {
          "base_uri": "https://localhost:8080/"
        },
        "id": "Giyen-kKgKKE",
        "outputId": "22e5ba31-5077-41c3-d9dc-c5d2d8362177"
      },
      "source": [
        "import os\n",
        "print(os.getcwd())"
      ],
      "execution_count": null,
      "outputs": [
        {
          "output_type": "stream",
          "text": [
            "/content\n"
          ],
          "name": "stdout"
        }
      ]
    },
    {
      "cell_type": "code",
      "metadata": {
        "colab": {
          "base_uri": "https://localhost:8080/"
        },
        "id": "IW7zHFbj8Q1O",
        "outputId": "3fe09845-095f-415c-80ff-4cca227bbfc1"
      },
      "source": [
        "from google.colab import drive\n",
        "drive.mount('/content/drive')"
      ],
      "execution_count": null,
      "outputs": [
        {
          "output_type": "stream",
          "text": [
            "Drive already mounted at /content/drive; to attempt to forcibly remount, call drive.mount(\"/content/drive\", force_remount=True).\n"
          ],
          "name": "stdout"
        }
      ]
    },
    {
      "cell_type": "code",
      "metadata": {
        "colab": {
          "base_uri": "https://localhost:8080/"
        },
        "id": "7Kh_-QDIf2LU",
        "outputId": "abafa542-e4de-447d-c8a3-158e9755aad6"
      },
      "source": [
        "# Reviews.csv 파일을 data라는 이름의 데이터프레임에 저장. 단, 10만개의 행(rows)으로 제한.\n",
        "data = pd.read_excel(\"/content/drive/MyDrive/종합 텍스트.xlsx\")\n",
        "print('전체 뉴스 개수 :',(len(data)))"
      ],
      "execution_count": null,
      "outputs": [
        {
          "output_type": "stream",
          "text": [
            "전체 뉴스 개수 : 16983\n"
          ],
          "name": "stdout"
        }
      ]
    },
    {
      "cell_type": "code",
      "metadata": {
        "colab": {
          "base_uri": "https://localhost:8080/",
          "height": 615
        },
        "id": "rJdnpBa2f2LU",
        "outputId": "bb76baa8-8117-477a-da22-ba5ddfefe78d"
      },
      "source": [
        "data.head()"
      ],
      "execution_count": null,
      "outputs": [
        {
          "output_type": "execute_result",
          "data": {
            "text/html": [
              "<div>\n",
              "<style scoped>\n",
              "    .dataframe tbody tr th:only-of-type {\n",
              "        vertical-align: middle;\n",
              "    }\n",
              "\n",
              "    .dataframe tbody tr th {\n",
              "        vertical-align: top;\n",
              "    }\n",
              "\n",
              "    .dataframe thead th {\n",
              "        text-align: right;\n",
              "    }\n",
              "</style>\n",
              "<table border=\"1\" class=\"dataframe\">\n",
              "  <thead>\n",
              "    <tr style=\"text-align: right;\">\n",
              "      <th></th>\n",
              "      <th>기사번호</th>\n",
              "      <th>기사카테고리</th>\n",
              "      <th>매체유형</th>\n",
              "      <th>매체구분</th>\n",
              "      <th>매체명</th>\n",
              "      <th>기사대중소</th>\n",
              "      <th>기사본문글자수</th>\n",
              "      <th>발행일시</th>\n",
              "      <th>제목</th>\n",
              "      <th>내용</th>\n",
              "      <th>가독성</th>\n",
              "      <th>정확성</th>\n",
              "      <th>정보성</th>\n",
              "      <th>신뢰성</th>\n",
              "      <th>생성</th>\n",
              "      <th>추출1</th>\n",
              "      <th>추출2</th>\n",
              "      <th>추출3</th>\n",
              "    </tr>\n",
              "  </thead>\n",
              "  <tbody>\n",
              "    <tr>\n",
              "      <th>0</th>\n",
              "      <td>371224146</td>\n",
              "      <td>종합</td>\n",
              "      <td>online</td>\n",
              "      <td>지역지</td>\n",
              "      <td>기호일보</td>\n",
              "      <td>medium</td>\n",
              "      <td>1436</td>\n",
              "      <td>2019-12-18 00:00:00</td>\n",
              "      <td>수사권 조정은 국민인권의 첫걸음</td>\n",
              "      <td>기호일보\\n\\n전영태 안산단원경찰서 112종합상황실/경위\\n전영태 안산단원경찰서 1...</td>\n",
              "      <td>4</td>\n",
              "      <td>4</td>\n",
              "      <td>3</td>\n",
              "      <td>4</td>\n",
              "      <td>현 정부의 핵심 과제인 검경 수사권 조정의 핵심은 검찰의 막강한 권한을 분산해 권력...</td>\n",
              "      <td>검경 수사권 개혁에 대한 문제는 현 정부의 핵심 과제이다.</td>\n",
              "      <td>형사 사법제도의 본질은 경찰·검찰·법원 등 삼권 분립으로 상호 견제와 균형을 이뤄 ...</td>\n",
              "      <td>이번 수사권 조정의 핵심은 검찰의 제왕적 권한을 분산해 타 기관과의 상호 감시와 견...</td>\n",
              "    </tr>\n",
              "    <tr>\n",
              "      <th>1</th>\n",
              "      <td>363331583</td>\n",
              "      <td>종합</td>\n",
              "      <td>online</td>\n",
              "      <td>지역지</td>\n",
              "      <td>기호일보</td>\n",
              "      <td>small</td>\n",
              "      <td>898</td>\n",
              "      <td>2019-10-16 00:00:00</td>\n",
              "      <td>인천서 외래 해충 ‘소나무허리노린재’ 발생</td>\n",
              "      <td>최유탁 기자\\n\\n인천대 배양섭 교수 월미도·인천대 송도캠 정착 개체군 확인\\n임업...</td>\n",
              "      <td>4</td>\n",
              "      <td>4</td>\n",
              "      <td>4</td>\n",
              "      <td>4</td>\n",
              "      <td>임업진흥원 외래 무척추동물의 확산 및 변화예측 기술개발 사업단'이 월미도와 인천대학...</td>\n",
              "      <td>임업진흥원 외래 무척추동물의 확산 및 변화예측 기술개발 사업단(단장 배양섭 인천대 ...</td>\n",
              "      <td>15일 사업단에 따르면 외래 산림해충 모니터링과 문헌조사를 병행해 출현 기록이 있는...</td>\n",
              "      <td>국내에서 발생이 확대될 경우 침엽수 비중이 높은 산림생태계 및 가평 등지의 잣 생산...</td>\n",
              "    </tr>\n",
              "    <tr>\n",
              "      <th>2</th>\n",
              "      <td>363195607</td>\n",
              "      <td>종합</td>\n",
              "      <td>online</td>\n",
              "      <td>지역지</td>\n",
              "      <td>기호일보</td>\n",
              "      <td>small</td>\n",
              "      <td>747</td>\n",
              "      <td>2019-10-15 00:00:00</td>\n",
              "      <td>김상희 의원 \"심평원 보험사기 방지 업무 민간 보험사 배불려\"</td>\n",
              "      <td>최두환 기자\\n\\n건강보험 심사평가원의 ‘보험사기 방지’ 업무가 민간보험사의 배를 ...</td>\n",
              "      <td>4</td>\n",
              "      <td>5</td>\n",
              "      <td>4</td>\n",
              "      <td>4</td>\n",
              "      <td>더불어민주당 김상희 의원은 2016년 ‘보험사기방지 특별법’이 제정됨에 따라 ‘보험...</td>\n",
              "      <td>건강보험 심사평가원의 ‘보험사기 방지’ 업무가 민간보험사의 배를 불리며 건보 법에 ...</td>\n",
              "      <td>더불어민주당 김상희(부천 소사) 국회원이 건강보험공단에서 확인한 자료에 따르면 심평...</td>\n",
              "      <td>문제는 이 돈이 건강보험 재정에서 나온다는 것이다.</td>\n",
              "    </tr>\n",
              "    <tr>\n",
              "      <th>3</th>\n",
              "      <td>357571415</td>\n",
              "      <td>종합</td>\n",
              "      <td>online</td>\n",
              "      <td>지역지</td>\n",
              "      <td>기호일보</td>\n",
              "      <td>small</td>\n",
              "      <td>757</td>\n",
              "      <td>2019-08-27 00:00:00</td>\n",
              "      <td>부천시, ‘포도 수확 체험 프로그램’ 운영</td>\n",
              "      <td>부천시는 어린이들이 우리 지역의 포도를 직접 수확해 보는 ‘포도 수확 체험 프로그램...</td>\n",
              "      <td>3</td>\n",
              "      <td>3</td>\n",
              "      <td>3</td>\n",
              "      <td>3</td>\n",
              "      <td>부천시는 포도를 수확하고 맛도 볼 수 있으며 수확한 포도(5kg)을 가져갈 수 있는...</td>\n",
              "      <td>부천시는 어린이들이 우리 지역의 포도를 직접 수확해 보는 ‘포도 수확 체험 프로그램...</td>\n",
              "      <td>가족 체험에 참여하면 포도 수확, 포도 맛보기 체험을 하고 수확한 포도(5㎏)를 가...</td>\n",
              "      <td>시 관계자는 \"도심에서는 평소 접하기 어려운 포도 수확 체험이 시민들에게 즐겁고 소...</td>\n",
              "    </tr>\n",
              "    <tr>\n",
              "      <th>4</th>\n",
              "      <td>368209875</td>\n",
              "      <td>종합</td>\n",
              "      <td>online</td>\n",
              "      <td>지역지</td>\n",
              "      <td>기호일보</td>\n",
              "      <td>small</td>\n",
              "      <td>767</td>\n",
              "      <td>2019-11-23 13:10:55</td>\n",
              "      <td>가평군지사협, 어르신 짝쿵 초청 ‘힐링 문화소풍!’</td>\n",
              "      <td>엄건섭 기자\\n\\n가평군 가평읍지사협은 최근 특화사업인 문화체험 행복나들이 ‘어르신...</td>\n",
              "      <td>5</td>\n",
              "      <td>4</td>\n",
              "      <td>4</td>\n",
              "      <td>4</td>\n",
              "      <td>가평군 가평읍지사협은 복지 사각지대에 있는 지역 어르신들을 대상으로 ‘어르신과 함께...</td>\n",
              "      <td>가평군 가평읍지사협은 최근 특화사업인 문화체험 행복나들이 ‘어르신과 함께하는 힐링 ...</td>\n",
              "      <td>23일 가평읍에 따르면 ‘힐링 문화소풍!’은 복지사각지대에 있는 지역 어르신들을 대...</td>\n",
              "      <td>내년에도 가평읍 지사협위원들과 협력해 다양한 문화체험의 기회를 제공하도록 하겠다\"라...</td>\n",
              "    </tr>\n",
              "  </tbody>\n",
              "</table>\n",
              "</div>"
            ],
            "text/plain": [
              "        기사번호  ...                                                추출3\n",
              "0  371224146  ...  이번 수사권 조정의 핵심은 검찰의 제왕적 권한을 분산해 타 기관과의 상호 감시와 견...\n",
              "1  363331583  ...  국내에서 발생이 확대될 경우 침엽수 비중이 높은 산림생태계 및 가평 등지의 잣 생산...\n",
              "2  363195607  ...                       문제는 이 돈이 건강보험 재정에서 나온다는 것이다.\n",
              "3  357571415  ...  시 관계자는 \"도심에서는 평소 접하기 어려운 포도 수확 체험이 시민들에게 즐겁고 소...\n",
              "4  368209875  ...  내년에도 가평읍 지사협위원들과 협력해 다양한 문화체험의 기회를 제공하도록 하겠다\"라...\n",
              "\n",
              "[5 rows x 18 columns]"
            ]
          },
          "metadata": {
            "tags": []
          },
          "execution_count": 5
        }
      ]
    },
    {
      "cell_type": "code",
      "metadata": {
        "colab": {
          "base_uri": "https://localhost:8080/",
          "height": 363
        },
        "id": "SLwVYwRFf2LU",
        "outputId": "73f206b5-db6c-4bff-8526-288c8f8b2c73"
      },
      "source": [
        "data = data[['내용','추출1', '추출2', '추출3']]\n",
        "data.head()"
      ],
      "execution_count": null,
      "outputs": [
        {
          "output_type": "execute_result",
          "data": {
            "text/html": [
              "<div>\n",
              "<style scoped>\n",
              "    .dataframe tbody tr th:only-of-type {\n",
              "        vertical-align: middle;\n",
              "    }\n",
              "\n",
              "    .dataframe tbody tr th {\n",
              "        vertical-align: top;\n",
              "    }\n",
              "\n",
              "    .dataframe thead th {\n",
              "        text-align: right;\n",
              "    }\n",
              "</style>\n",
              "<table border=\"1\" class=\"dataframe\">\n",
              "  <thead>\n",
              "    <tr style=\"text-align: right;\">\n",
              "      <th></th>\n",
              "      <th>내용</th>\n",
              "      <th>추출1</th>\n",
              "      <th>추출2</th>\n",
              "      <th>추출3</th>\n",
              "    </tr>\n",
              "  </thead>\n",
              "  <tbody>\n",
              "    <tr>\n",
              "      <th>0</th>\n",
              "      <td>기호일보\\n\\n전영태 안산단원경찰서 112종합상황실/경위\\n전영태 안산단원경찰서 1...</td>\n",
              "      <td>검경 수사권 개혁에 대한 문제는 현 정부의 핵심 과제이다.</td>\n",
              "      <td>형사 사법제도의 본질은 경찰·검찰·법원 등 삼권 분립으로 상호 견제와 균형을 이뤄 ...</td>\n",
              "      <td>이번 수사권 조정의 핵심은 검찰의 제왕적 권한을 분산해 타 기관과의 상호 감시와 견...</td>\n",
              "    </tr>\n",
              "    <tr>\n",
              "      <th>1</th>\n",
              "      <td>최유탁 기자\\n\\n인천대 배양섭 교수 월미도·인천대 송도캠 정착 개체군 확인\\n임업...</td>\n",
              "      <td>임업진흥원 외래 무척추동물의 확산 및 변화예측 기술개발 사업단(단장 배양섭 인천대 ...</td>\n",
              "      <td>15일 사업단에 따르면 외래 산림해충 모니터링과 문헌조사를 병행해 출현 기록이 있는...</td>\n",
              "      <td>국내에서 발생이 확대될 경우 침엽수 비중이 높은 산림생태계 및 가평 등지의 잣 생산...</td>\n",
              "    </tr>\n",
              "    <tr>\n",
              "      <th>2</th>\n",
              "      <td>최두환 기자\\n\\n건강보험 심사평가원의 ‘보험사기 방지’ 업무가 민간보험사의 배를 ...</td>\n",
              "      <td>건강보험 심사평가원의 ‘보험사기 방지’ 업무가 민간보험사의 배를 불리며 건보 법에 ...</td>\n",
              "      <td>더불어민주당 김상희(부천 소사) 국회원이 건강보험공단에서 확인한 자료에 따르면 심평...</td>\n",
              "      <td>문제는 이 돈이 건강보험 재정에서 나온다는 것이다.</td>\n",
              "    </tr>\n",
              "    <tr>\n",
              "      <th>3</th>\n",
              "      <td>부천시는 어린이들이 우리 지역의 포도를 직접 수확해 보는 ‘포도 수확 체험 프로그램...</td>\n",
              "      <td>부천시는 어린이들이 우리 지역의 포도를 직접 수확해 보는 ‘포도 수확 체험 프로그램...</td>\n",
              "      <td>가족 체험에 참여하면 포도 수확, 포도 맛보기 체험을 하고 수확한 포도(5㎏)를 가...</td>\n",
              "      <td>시 관계자는 \"도심에서는 평소 접하기 어려운 포도 수확 체험이 시민들에게 즐겁고 소...</td>\n",
              "    </tr>\n",
              "    <tr>\n",
              "      <th>4</th>\n",
              "      <td>엄건섭 기자\\n\\n가평군 가평읍지사협은 최근 특화사업인 문화체험 행복나들이 ‘어르신...</td>\n",
              "      <td>가평군 가평읍지사협은 최근 특화사업인 문화체험 행복나들이 ‘어르신과 함께하는 힐링 ...</td>\n",
              "      <td>23일 가평읍에 따르면 ‘힐링 문화소풍!’은 복지사각지대에 있는 지역 어르신들을 대...</td>\n",
              "      <td>내년에도 가평읍 지사협위원들과 협력해 다양한 문화체험의 기회를 제공하도록 하겠다\"라...</td>\n",
              "    </tr>\n",
              "  </tbody>\n",
              "</table>\n",
              "</div>"
            ],
            "text/plain": [
              "                                                  내용  ...                                                추출3\n",
              "0  기호일보\\n\\n전영태 안산단원경찰서 112종합상황실/경위\\n전영태 안산단원경찰서 1...  ...  이번 수사권 조정의 핵심은 검찰의 제왕적 권한을 분산해 타 기관과의 상호 감시와 견...\n",
              "1  최유탁 기자\\n\\n인천대 배양섭 교수 월미도·인천대 송도캠 정착 개체군 확인\\n임업...  ...  국내에서 발생이 확대될 경우 침엽수 비중이 높은 산림생태계 및 가평 등지의 잣 생산...\n",
              "2  최두환 기자\\n\\n건강보험 심사평가원의 ‘보험사기 방지’ 업무가 민간보험사의 배를 ...  ...                       문제는 이 돈이 건강보험 재정에서 나온다는 것이다.\n",
              "3  부천시는 어린이들이 우리 지역의 포도를 직접 수확해 보는 ‘포도 수확 체험 프로그램...  ...  시 관계자는 \"도심에서는 평소 접하기 어려운 포도 수확 체험이 시민들에게 즐겁고 소...\n",
              "4  엄건섭 기자\\n\\n가평군 가평읍지사협은 최근 특화사업인 문화체험 행복나들이 ‘어르신...  ...  내년에도 가평읍 지사협위원들과 협력해 다양한 문화체험의 기회를 제공하도록 하겠다\"라...\n",
              "\n",
              "[5 rows x 4 columns]"
            ]
          },
          "metadata": {
            "tags": []
          },
          "execution_count": 6
        }
      ]
    },
    {
      "cell_type": "code",
      "metadata": {
        "id": "Ofwr5w2Hf2LU"
      },
      "source": [
        "data['생성2'] = data[['추출1', '추출2']].apply(lambda x: ':'.join(x), axis=1)"
      ],
      "execution_count": null,
      "outputs": []
    },
    {
      "cell_type": "code",
      "metadata": {
        "colab": {
          "base_uri": "https://localhost:8080/",
          "height": 363
        },
        "id": "PlF2jo7_f2LU",
        "outputId": "7848ad15-ef86-42f5-bf91-c592b823523c"
      },
      "source": [
        "data.head()"
      ],
      "execution_count": null,
      "outputs": [
        {
          "output_type": "execute_result",
          "data": {
            "text/html": [
              "<div>\n",
              "<style scoped>\n",
              "    .dataframe tbody tr th:only-of-type {\n",
              "        vertical-align: middle;\n",
              "    }\n",
              "\n",
              "    .dataframe tbody tr th {\n",
              "        vertical-align: top;\n",
              "    }\n",
              "\n",
              "    .dataframe thead th {\n",
              "        text-align: right;\n",
              "    }\n",
              "</style>\n",
              "<table border=\"1\" class=\"dataframe\">\n",
              "  <thead>\n",
              "    <tr style=\"text-align: right;\">\n",
              "      <th></th>\n",
              "      <th>내용</th>\n",
              "      <th>추출1</th>\n",
              "      <th>추출2</th>\n",
              "      <th>추출3</th>\n",
              "      <th>생성2</th>\n",
              "    </tr>\n",
              "  </thead>\n",
              "  <tbody>\n",
              "    <tr>\n",
              "      <th>0</th>\n",
              "      <td>기호일보\\n\\n전영태 안산단원경찰서 112종합상황실/경위\\n전영태 안산단원경찰서 1...</td>\n",
              "      <td>검경 수사권 개혁에 대한 문제는 현 정부의 핵심 과제이다.</td>\n",
              "      <td>형사 사법제도의 본질은 경찰·검찰·법원 등 삼권 분립으로 상호 견제와 균형을 이뤄 ...</td>\n",
              "      <td>이번 수사권 조정의 핵심은 검찰의 제왕적 권한을 분산해 타 기관과의 상호 감시와 견...</td>\n",
              "      <td>검경 수사권 개혁에 대한 문제는 현 정부의 핵심 과제이다.:형사 사법제도의 본질은 ...</td>\n",
              "    </tr>\n",
              "    <tr>\n",
              "      <th>1</th>\n",
              "      <td>최유탁 기자\\n\\n인천대 배양섭 교수 월미도·인천대 송도캠 정착 개체군 확인\\n임업...</td>\n",
              "      <td>임업진흥원 외래 무척추동물의 확산 및 변화예측 기술개발 사업단(단장 배양섭 인천대 ...</td>\n",
              "      <td>15일 사업단에 따르면 외래 산림해충 모니터링과 문헌조사를 병행해 출현 기록이 있는...</td>\n",
              "      <td>국내에서 발생이 확대될 경우 침엽수 비중이 높은 산림생태계 및 가평 등지의 잣 생산...</td>\n",
              "      <td>임업진흥원 외래 무척추동물의 확산 및 변화예측 기술개발 사업단(단장 배양섭 인천대 ...</td>\n",
              "    </tr>\n",
              "    <tr>\n",
              "      <th>2</th>\n",
              "      <td>최두환 기자\\n\\n건강보험 심사평가원의 ‘보험사기 방지’ 업무가 민간보험사의 배를 ...</td>\n",
              "      <td>건강보험 심사평가원의 ‘보험사기 방지’ 업무가 민간보험사의 배를 불리며 건보 법에 ...</td>\n",
              "      <td>더불어민주당 김상희(부천 소사) 국회원이 건강보험공단에서 확인한 자료에 따르면 심평...</td>\n",
              "      <td>문제는 이 돈이 건강보험 재정에서 나온다는 것이다.</td>\n",
              "      <td>건강보험 심사평가원의 ‘보험사기 방지’ 업무가 민간보험사의 배를 불리며 건보 법에 ...</td>\n",
              "    </tr>\n",
              "    <tr>\n",
              "      <th>3</th>\n",
              "      <td>부천시는 어린이들이 우리 지역의 포도를 직접 수확해 보는 ‘포도 수확 체험 프로그램...</td>\n",
              "      <td>부천시는 어린이들이 우리 지역의 포도를 직접 수확해 보는 ‘포도 수확 체험 프로그램...</td>\n",
              "      <td>가족 체험에 참여하면 포도 수확, 포도 맛보기 체험을 하고 수확한 포도(5㎏)를 가...</td>\n",
              "      <td>시 관계자는 \"도심에서는 평소 접하기 어려운 포도 수확 체험이 시민들에게 즐겁고 소...</td>\n",
              "      <td>부천시는 어린이들이 우리 지역의 포도를 직접 수확해 보는 ‘포도 수확 체험 프로그램...</td>\n",
              "    </tr>\n",
              "    <tr>\n",
              "      <th>4</th>\n",
              "      <td>엄건섭 기자\\n\\n가평군 가평읍지사협은 최근 특화사업인 문화체험 행복나들이 ‘어르신...</td>\n",
              "      <td>가평군 가평읍지사협은 최근 특화사업인 문화체험 행복나들이 ‘어르신과 함께하는 힐링 ...</td>\n",
              "      <td>23일 가평읍에 따르면 ‘힐링 문화소풍!’은 복지사각지대에 있는 지역 어르신들을 대...</td>\n",
              "      <td>내년에도 가평읍 지사협위원들과 협력해 다양한 문화체험의 기회를 제공하도록 하겠다\"라...</td>\n",
              "      <td>가평군 가평읍지사협은 최근 특화사업인 문화체험 행복나들이 ‘어르신과 함께하는 힐링 ...</td>\n",
              "    </tr>\n",
              "  </tbody>\n",
              "</table>\n",
              "</div>"
            ],
            "text/plain": [
              "                                                  내용  ...                                                생성2\n",
              "0  기호일보\\n\\n전영태 안산단원경찰서 112종합상황실/경위\\n전영태 안산단원경찰서 1...  ...  검경 수사권 개혁에 대한 문제는 현 정부의 핵심 과제이다.:형사 사법제도의 본질은 ...\n",
              "1  최유탁 기자\\n\\n인천대 배양섭 교수 월미도·인천대 송도캠 정착 개체군 확인\\n임업...  ...  임업진흥원 외래 무척추동물의 확산 및 변화예측 기술개발 사업단(단장 배양섭 인천대 ...\n",
              "2  최두환 기자\\n\\n건강보험 심사평가원의 ‘보험사기 방지’ 업무가 민간보험사의 배를 ...  ...  건강보험 심사평가원의 ‘보험사기 방지’ 업무가 민간보험사의 배를 불리며 건보 법에 ...\n",
              "3  부천시는 어린이들이 우리 지역의 포도를 직접 수확해 보는 ‘포도 수확 체험 프로그램...  ...  부천시는 어린이들이 우리 지역의 포도를 직접 수확해 보는 ‘포도 수확 체험 프로그램...\n",
              "4  엄건섭 기자\\n\\n가평군 가평읍지사협은 최근 특화사업인 문화체험 행복나들이 ‘어르신...  ...  가평군 가평읍지사협은 최근 특화사업인 문화체험 행복나들이 ‘어르신과 함께하는 힐링 ...\n",
              "\n",
              "[5 rows x 5 columns]"
            ]
          },
          "metadata": {
            "tags": []
          },
          "execution_count": 8
        }
      ]
    },
    {
      "cell_type": "code",
      "metadata": {
        "colab": {
          "base_uri": "https://localhost:8080/"
        },
        "id": "O2gUBQGjf2LU",
        "outputId": "41ffa55f-1900-4c60-a655-13e9f7310615"
      },
      "source": [
        "data.dropna(axis=0, inplace=True)\n",
        "data.shape"
      ],
      "execution_count": null,
      "outputs": [
        {
          "output_type": "execute_result",
          "data": {
            "text/plain": [
              "(16974, 5)"
            ]
          },
          "metadata": {
            "tags": []
          },
          "execution_count": 9
        }
      ]
    },
    {
      "cell_type": "code",
      "metadata": {
        "scrolled": true,
        "colab": {
          "base_uri": "https://localhost:8080/",
          "height": 699
        },
        "id": "D8v-5lpPf2LU",
        "outputId": "42fdcf89-0db6-41c9-d4b0-871e9c65b2dc"
      },
      "source": [
        "data['생성'] = data[['생성2', '추출3']].apply(lambda x: ':'.join(x), axis=1)\n",
        "data.head()"
      ],
      "execution_count": null,
      "outputs": [
        {
          "output_type": "execute_result",
          "data": {
            "text/html": [
              "<div>\n",
              "<style scoped>\n",
              "    .dataframe tbody tr th:only-of-type {\n",
              "        vertical-align: middle;\n",
              "    }\n",
              "\n",
              "    .dataframe tbody tr th {\n",
              "        vertical-align: top;\n",
              "    }\n",
              "\n",
              "    .dataframe thead th {\n",
              "        text-align: right;\n",
              "    }\n",
              "</style>\n",
              "<table border=\"1\" class=\"dataframe\">\n",
              "  <thead>\n",
              "    <tr style=\"text-align: right;\">\n",
              "      <th></th>\n",
              "      <th>내용</th>\n",
              "      <th>추출1</th>\n",
              "      <th>추출2</th>\n",
              "      <th>추출3</th>\n",
              "      <th>생성2</th>\n",
              "      <th>생성</th>\n",
              "    </tr>\n",
              "  </thead>\n",
              "  <tbody>\n",
              "    <tr>\n",
              "      <th>0</th>\n",
              "      <td>기호일보\\n\\n전영태 안산단원경찰서 112종합상황실/경위\\n전영태 안산단원경찰서 1...</td>\n",
              "      <td>검경 수사권 개혁에 대한 문제는 현 정부의 핵심 과제이다.</td>\n",
              "      <td>형사 사법제도의 본질은 경찰·검찰·법원 등 삼권 분립으로 상호 견제와 균형을 이뤄 ...</td>\n",
              "      <td>이번 수사권 조정의 핵심은 검찰의 제왕적 권한을 분산해 타 기관과의 상호 감시와 견...</td>\n",
              "      <td>검경 수사권 개혁에 대한 문제는 현 정부의 핵심 과제이다.:형사 사법제도의 본질은 ...</td>\n",
              "      <td>검경 수사권 개혁에 대한 문제는 현 정부의 핵심 과제이다.:형사 사법제도의 본질은 ...</td>\n",
              "    </tr>\n",
              "    <tr>\n",
              "      <th>1</th>\n",
              "      <td>최유탁 기자\\n\\n인천대 배양섭 교수 월미도·인천대 송도캠 정착 개체군 확인\\n임업...</td>\n",
              "      <td>임업진흥원 외래 무척추동물의 확산 및 변화예측 기술개발 사업단(단장 배양섭 인천대 ...</td>\n",
              "      <td>15일 사업단에 따르면 외래 산림해충 모니터링과 문헌조사를 병행해 출현 기록이 있는...</td>\n",
              "      <td>국내에서 발생이 확대될 경우 침엽수 비중이 높은 산림생태계 및 가평 등지의 잣 생산...</td>\n",
              "      <td>임업진흥원 외래 무척추동물의 확산 및 변화예측 기술개발 사업단(단장 배양섭 인천대 ...</td>\n",
              "      <td>임업진흥원 외래 무척추동물의 확산 및 변화예측 기술개발 사업단(단장 배양섭 인천대 ...</td>\n",
              "    </tr>\n",
              "    <tr>\n",
              "      <th>2</th>\n",
              "      <td>최두환 기자\\n\\n건강보험 심사평가원의 ‘보험사기 방지’ 업무가 민간보험사의 배를 ...</td>\n",
              "      <td>건강보험 심사평가원의 ‘보험사기 방지’ 업무가 민간보험사의 배를 불리며 건보 법에 ...</td>\n",
              "      <td>더불어민주당 김상희(부천 소사) 국회원이 건강보험공단에서 확인한 자료에 따르면 심평...</td>\n",
              "      <td>문제는 이 돈이 건강보험 재정에서 나온다는 것이다.</td>\n",
              "      <td>건강보험 심사평가원의 ‘보험사기 방지’ 업무가 민간보험사의 배를 불리며 건보 법에 ...</td>\n",
              "      <td>건강보험 심사평가원의 ‘보험사기 방지’ 업무가 민간보험사의 배를 불리며 건보 법에 ...</td>\n",
              "    </tr>\n",
              "    <tr>\n",
              "      <th>3</th>\n",
              "      <td>부천시는 어린이들이 우리 지역의 포도를 직접 수확해 보는 ‘포도 수확 체험 프로그램...</td>\n",
              "      <td>부천시는 어린이들이 우리 지역의 포도를 직접 수확해 보는 ‘포도 수확 체험 프로그램...</td>\n",
              "      <td>가족 체험에 참여하면 포도 수확, 포도 맛보기 체험을 하고 수확한 포도(5㎏)를 가...</td>\n",
              "      <td>시 관계자는 \"도심에서는 평소 접하기 어려운 포도 수확 체험이 시민들에게 즐겁고 소...</td>\n",
              "      <td>부천시는 어린이들이 우리 지역의 포도를 직접 수확해 보는 ‘포도 수확 체험 프로그램...</td>\n",
              "      <td>부천시는 어린이들이 우리 지역의 포도를 직접 수확해 보는 ‘포도 수확 체험 프로그램...</td>\n",
              "    </tr>\n",
              "    <tr>\n",
              "      <th>4</th>\n",
              "      <td>엄건섭 기자\\n\\n가평군 가평읍지사협은 최근 특화사업인 문화체험 행복나들이 ‘어르신...</td>\n",
              "      <td>가평군 가평읍지사협은 최근 특화사업인 문화체험 행복나들이 ‘어르신과 함께하는 힐링 ...</td>\n",
              "      <td>23일 가평읍에 따르면 ‘힐링 문화소풍!’은 복지사각지대에 있는 지역 어르신들을 대...</td>\n",
              "      <td>내년에도 가평읍 지사협위원들과 협력해 다양한 문화체험의 기회를 제공하도록 하겠다\"라...</td>\n",
              "      <td>가평군 가평읍지사협은 최근 특화사업인 문화체험 행복나들이 ‘어르신과 함께하는 힐링 ...</td>\n",
              "      <td>가평군 가평읍지사협은 최근 특화사업인 문화체험 행복나들이 ‘어르신과 함께하는 힐링 ...</td>\n",
              "    </tr>\n",
              "  </tbody>\n",
              "</table>\n",
              "</div>"
            ],
            "text/plain": [
              "                                                  내용  ...                                                 생성\n",
              "0  기호일보\\n\\n전영태 안산단원경찰서 112종합상황실/경위\\n전영태 안산단원경찰서 1...  ...  검경 수사권 개혁에 대한 문제는 현 정부의 핵심 과제이다.:형사 사법제도의 본질은 ...\n",
              "1  최유탁 기자\\n\\n인천대 배양섭 교수 월미도·인천대 송도캠 정착 개체군 확인\\n임업...  ...  임업진흥원 외래 무척추동물의 확산 및 변화예측 기술개발 사업단(단장 배양섭 인천대 ...\n",
              "2  최두환 기자\\n\\n건강보험 심사평가원의 ‘보험사기 방지’ 업무가 민간보험사의 배를 ...  ...  건강보험 심사평가원의 ‘보험사기 방지’ 업무가 민간보험사의 배를 불리며 건보 법에 ...\n",
              "3  부천시는 어린이들이 우리 지역의 포도를 직접 수확해 보는 ‘포도 수확 체험 프로그램...  ...  부천시는 어린이들이 우리 지역의 포도를 직접 수확해 보는 ‘포도 수확 체험 프로그램...\n",
              "4  엄건섭 기자\\n\\n가평군 가평읍지사협은 최근 특화사업인 문화체험 행복나들이 ‘어르신...  ...  가평군 가평읍지사협은 최근 특화사업인 문화체험 행복나들이 ‘어르신과 함께하는 힐링 ...\n",
              "\n",
              "[5 rows x 6 columns]"
            ]
          },
          "metadata": {
            "tags": []
          },
          "execution_count": 10
        }
      ]
    },
    {
      "cell_type": "code",
      "metadata": {
        "colab": {
          "base_uri": "https://localhost:8080/"
        },
        "id": "0spbLzjEf2LU",
        "outputId": "2b6187d9-9679-43b8-dd5b-136ca68442b0"
      },
      "source": [
        "del data[\"추출1\"]\n",
        "del data[\"추출2\"]\n",
        "del data[\"추출3\"]\n",
        "del data[\"생성2\"]\n",
        "data.shape"
      ],
      "execution_count": null,
      "outputs": [
        {
          "output_type": "execute_result",
          "data": {
            "text/plain": [
              "(16974, 2)"
            ]
          },
          "metadata": {
            "tags": []
          },
          "execution_count": 11
        }
      ]
    },
    {
      "cell_type": "markdown",
      "metadata": {
        "id": "ud67sqHSf2LU"
      },
      "source": [
        "## Preprocessing"
      ]
    },
    {
      "cell_type": "code",
      "metadata": {
        "colab": {
          "base_uri": "https://localhost:8080/"
        },
        "id": "FW8jq-Stf2LU",
        "outputId": "978b0e58-400b-4da0-c03f-42c223cf7571"
      },
      "source": [
        "print('내용 열에서 중복을 배제한 유일한 샘플의 수 :', data['내용'].nunique())\n",
        "print('생성 열에서 중복을 배제한 유일한 샘플의 수 :', data['생성'].nunique())"
      ],
      "execution_count": null,
      "outputs": [
        {
          "output_type": "stream",
          "text": [
            "내용 열에서 중복을 배제한 유일한 샘플의 수 : 16973\n",
            "생성 열에서 중복을 배제한 유일한 샘플의 수 : 16973\n"
          ],
          "name": "stdout"
        }
      ]
    },
    {
      "cell_type": "code",
      "metadata": {
        "colab": {
          "base_uri": "https://localhost:8080/"
        },
        "id": "twxRiAUff2LV",
        "outputId": "dfcac3e1-ed36-47a0-d077-735af8ca0e0f"
      },
      "source": [
        "# text 열에서 중복인 내용이 있다면 중복 제거\n",
        "data.drop_duplicates(subset=['내용'], inplace=True)\n",
        "print(\"전체 샘플수 :\", len(data))"
      ],
      "execution_count": null,
      "outputs": [
        {
          "output_type": "stream",
          "text": [
            "전체 샘플수 : 16973\n"
          ],
          "name": "stdout"
        }
      ]
    },
    {
      "cell_type": "code",
      "metadata": {
        "colab": {
          "base_uri": "https://localhost:8080/"
        },
        "id": "TrPzI8t_f2LV",
        "outputId": "1c18463e-24c3-466e-daaf-09997a3355ca"
      },
      "source": [
        "print(data.isnull().sum())"
      ],
      "execution_count": null,
      "outputs": [
        {
          "output_type": "stream",
          "text": [
            "내용    0\n",
            "생성    0\n",
            "dtype: int64\n"
          ],
          "name": "stdout"
        }
      ]
    },
    {
      "cell_type": "code",
      "metadata": {
        "colab": {
          "base_uri": "https://localhost:8080/"
        },
        "id": "E6HTDeEzf2LV",
        "outputId": "d122e99b-f0ce-4077-ecf2-c50c5efd2942"
      },
      "source": [
        "# Null 값을 가진 샘플 제거\n",
        "data.dropna(axis=0, inplace=True)\n",
        "print('전체 샘플수 :',(len(data)))"
      ],
      "execution_count": null,
      "outputs": [
        {
          "output_type": "stream",
          "text": [
            "전체 샘플수 : 16973\n"
          ],
          "name": "stdout"
        }
      ]
    },
    {
      "cell_type": "code",
      "metadata": {
        "id": "bzTnEBL75QsO"
      },
      "source": [
        "i = 0\n",
        "# 이메일 기자 이름 제거\n",
        "for s in data['내용']:\n",
        "  data['내용'][i] = s[0:-30]\n",
        "  i = i + 1"
      ],
      "execution_count": null,
      "outputs": []
    },
    {
      "cell_type": "code",
      "metadata": {
        "id": "32ZldI5k-POH"
      },
      "source": [
        ""
      ],
      "execution_count": null,
      "outputs": []
    },
    {
      "cell_type": "code",
      "metadata": {
        "colab": {
          "base_uri": "https://localhost:8080/"
        },
        "id": "N_FTJTPof2LV",
        "outputId": "88ccedeb-52cd-4e2a-a00b-b4c328da67e3"
      },
      "source": [
        "# 한글 불용어\n",
        "stopword = pd.read_csv('/content/drive/MyDrive/한국어불용어100.txt', sep = \"\\t\", encoding = \"utf-8\", header=None)\n",
        "stopword.loc[100] = ['기자', 'VX', 0.000483]\n",
        "stop_words =  set(stopword[0])\n",
        "print('불용어 개수 :', len(stop_words))\n",
        "print(stop_words)"
      ],
      "execution_count": null,
      "outputs": [
        {
          "output_type": "stream",
          "text": [
            "불용어 개수 : 95\n",
            "{'받', '소리', '원', '많', '앞', '어떤', '점', '기자', '자신', '문제', '씨', '사실', '싶', '있', '따르', '시키', '나오', '통하', '개', '중', '정도', '월', '이런', '시간', '더', '우리', '말', '못하', '잘', '경우', '없', '때', '같', '그', '보', '지', '그러', '알', '오', '말하', '내', '주', '명', '그것', '지금', '한', '하', '만들', '살', '생각하', '하나', '그리고', '놓', '두', '위하', '그녀', '대하', '그렇', '어떻', '가지', '적', '안', '번', '보이', '크', '데', '여자', '않', '등', '좋', '다른', '가', '모르', '그러나', '되', '집', '좀', '다시', '이렇', '이', '때문', '생각', '속', '년', '또', '것', '나', '들', '일', '아니', '전', '수', '그런', '사람', '사회'}\n"
          ],
          "name": "stdout"
        }
      ]
    },
    {
      "cell_type": "code",
      "metadata": {
        "id": "Y7NTBNa1f2LV"
      },
      "source": [
        "# 전처리 함수\n",
        "def preprocess_sentence(sentence, remove_stopwords = True):\n",
        "    sentence = sentence.lower() # 텍스트 소문자화\n",
        "    sentence = BeautifulSoup(sentence, \"lxml\").text # <br />, <a href = ...> 등의 html 태그 제거\n",
        "    sentence = re.sub(r'\\([^)]*\\)', '', sentence) # 괄호로 닫힌 문자열  제거 Ex) my husband (and myself) for => my husband for\n",
        "    sentence = re.sub('\"','', sentence) # 쌍따옴표 \" 제거\n",
        "    sentence = re.sub(r\"'s\\b\",\"\",sentence) # 소유격 제거. Ex) roland's -> roland\n",
        "    sentence = re.sub(r\"▲\\a\",\"\",sentence) # 소유격 제거. Ex) roland's -> roland\n",
        "    sentence = re.sub(\"[.,!?\\\"':;~()]\", \" \", sentence) # 문자(숫자, 특수문자 등) 공백으로 변환\n",
        "    sentence = re.sub(\"r'[^ ㄱ-ㅣ가-힣A-Za-z]\", \" \", sentence)\n",
        "\n",
        "    # 불용어 제거 (Text)\n",
        "    if remove_stopwords:\n",
        "        tokens = ' '.join(word for word in sentence.split() if not word in stop_words if len(word) > 1)\n",
        "    # 불용어 미제거 (Summary)\n",
        "    else:\n",
        "        tokens = ' '.join(word for word in sentence.split() if len(word) > 1)\n",
        "    return tokens"
      ],
      "execution_count": null,
      "outputs": []
    },
    {
      "cell_type": "code",
      "metadata": {
        "colab": {
          "base_uri": "https://localhost:8080/"
        },
        "id": "M9snWDNjf2LV",
        "outputId": "3b600d0d-4374-46fb-d5dd-670ff1464fa8"
      },
      "source": [
        "temp_text = 'Everything I bought was great, infact I ordered twice and the third ordered was<br />for my mother and father.'\n",
        "temp_summary = 'Great way to start (or finish) the day!!!'\n",
        "print(preprocess_sentence(temp_text))\n",
        "print(preprocess_sentence(temp_summary, 0))"
      ],
      "execution_count": null,
      "outputs": [
        {
          "output_type": "stream",
          "text": [
            "everything bought was great infact ordered twice and the third ordered wasfor my mother and father\n",
            "great way to start the day\n"
          ],
          "name": "stdout"
        }
      ]
    },
    {
      "cell_type": "code",
      "metadata": {
        "colab": {
          "base_uri": "https://localhost:8080/"
        },
        "id": "P8NEZQiSf2LV",
        "outputId": "21f6768a-01e4-4f1e-d3d1-a320ab44ad1b"
      },
      "source": [
        "# Text 열 전처리\n",
        "clean_text = []\n",
        "for s in data['내용']:\n",
        "    clean_text.append(preprocess_sentence(s))\n",
        "clean_text[:5]"
      ],
      "execution_count": null,
      "outputs": [
        {
          "output_type": "execute_result",
          "data": {
            "text/plain": [
              "['기호일보 전영태 안산단원경찰서 112종합상황실/경위 전영태 안산단원경찰서 112종합상황실 검경 수사권 개혁에 대한 문제는 정부의 핵심 과제이다 대통령의 사법농단을 수사하느라 사법개혁특별위원회 구성이 늦어져 최근에 논의되고 있다 수사권 조정 지연은 제1야당의 소위원회 구성 비협조와 검찰의 미온적 태도로 현재까지 협상 중이다 그래서 대통령과 4당의 당대표 국회의원들이 수사권 조정을 통해 국민의 인권을 증진하고 검찰 권력의 폐해를 예방해 제왕적 권력을 분산하자는 것이다 그런데 검찰은 최근에 공수처법과 검경 수사권 조정안 등이 포함된 ‘패스트 트랙’ 국회 본회의 처리가 임박하자 검찰 간부들이 여야 의원을 불문하고 개별 접촉해 검찰개혁 법안 수정에 총력을 기울이는 것으로 알려졌다 고사성어 득롱망촉이라는 말이 있다 인간의 욕심은 한이 없어 권력에 한번 중독이 되면 마약과 같아서 끊임없이 쟁취하고 자신의 것을 지키기 위해 사람과도 타협하지 않는다고 한다 지금의 검찰이 그렇다 중국의 시진핑은 권력은 부패를 초래하고 절대 권력은 반드시 부패한다 라고 말했고 다산 정약용도 나라를 망하게 하는 것은 외침이 아니라 권력의 부정부패에 의한 민심의 이반이라고 경고했다 검찰의 모습은 한마디로 우이독경이다 국민의 대표인 국회의원과 대통령이 신속처리법안 개정의 보완이 필요하다고 하는데 검찰만이 아니라고 얘기하는 모습이 너무나 안쓰럽다 최근 검찰개혁에 대한 국민의 여론조사와 5월에 발간한 백년하청 검찰개혁 보고서에 의하면 검찰을 개혁해야 한다는 여론이 75% 이상 나왔다 이번에도 검찰개혁이 무산되면 무소불위의 검찰 공화국이 것이다 우리는 노무현 정부의 검찰과의 토론회나 정부의 수사권 조정 과정에서 검찰이 얼마나 힘이 센지 여실히 보았다 형사 사법제도의 본질은 경찰·검찰·법원 삼권 분립으로 상호 견제와 균형을 이뤄 대등한 관계에서 불합리한 수사구조를 개선하고 국민의 인권을 강화하는 것이다 하지만 우리의 현실은 검찰이 수사권 수사 지휘권 수사 종결권 영장 청구권 제왕적 권한을 갖고 있어 권력의 견제와 균형이 전혀 이뤄지지 않고 있다 민주주의가 정착된 선진국에서도 수사와 기소 판결은 분리하고 있다 영국과 미국은 수사와 기소를 완전 분리하고 있고 독일은 검찰이 수사권과 기소권을 갖고 있지만 실제 수사는 경찰이 하고 있다 이번 수사권 조정의 핵심은 검찰의 제왕적 권한을 분산해 기관과의 상호 감시와 견제를 통해 국민의 인권을 증진하자는 것이다 수사권 조정은 국민의 명령이고 시대의 흐름이다 이번에 만약 수사권 조정을 하지 못하면 과거 정부 때처럼 정부도 검찰의 응징을 당할',\n",
              " '최유탁 인천대 배양섭 교수 월미도·인천대 송도캠 정착 개체군 확인 임업진흥원 외래 무척추동물의 확산 변화예측 기술개발 사업단이 소나무의 어린 솔방울을 집중적으로 가해하는 외래 해충인 ‘소나무허리노린재’가 인천지역 공원과 산림에서 확인했다 15일 사업단에 따르면 외래 산림해충 모니터링과 문헌조사를 병행해 출현 기록이 있는 월미도와 인천대학교 송도캠퍼스 등에서 정착한 개체군을 확인했다 문헌을 보면 국내 개체군은 남부지역에서 2세대 이상 중·북부지역에서는 1세대가 출현하는 것으로 추정했으나 이번 조사를 통해 인천지역에서 2세대 이상 발생하는 것을 확인했다 실제 종자의 피해를 관찰한 결과 2018년 소나무허리노린재 출현 장소의 소나무 종자 상당수가 발달하지 못한 것으로 나타났다 소나무허리노린재는 북미지역 원산으로 국내에서는 2010년 경남 창원에서 처음 발견됐다 북미에서는 1세대 발생하는 것으로 알려져 있으나 기후에 따라 3세대까지 출현하는 것이 확인됐다 잣나무 침엽수의 종자를 먹이로 삼으며 각종 병원균이나 곰팡이 포자를 매개하기 때문에 경제적 위협이 크다 해외 피해 사례로 이탈리아를 비롯해 지중해 국가에서 야생 생산이 95% 감소했다는 보고가 있으며 북미지역의 야생 침엽수 종자 발달의 70 80% 이상 감소했다는 보고도 있다 국내에서 발생이 확대될 침엽수 비중이 높은 산림생태계 가평 등지의 생산에 심각한 피해가 예상된다 사업단 관계자는 소나무허리노린재를 비롯해 국내에 유입됐거나 침입할 우려가 있는 외래 산림해충에 대한 전국적인 모니터링을 지속적으로 수행할 것이라고',\n",
              " '최두환 건강보험 심사평가원의 ‘보험사기 방지’ 업무가 민간보험사의 배를 불리며 건보 법에 따른 심평원 설립 취지를 훼손시키고 있다는 지적이 대두됐다 더불어민주당 김상희 국회원이 건강보험공단에서 확인한 자료에 따르면 심평원은 2015년 이전부터 수사기관에서 의뢰가 들어오면 간간히 지원업무를 해오다 2015년 1월부터 전담부서인 공공심사부를 설치했으며 2016년 ‘보험사기방지 특별법’이 제정되면서 법에 따라 공식적으로 입원적정성 심사 업무를 수행해 왔다 공식적인 통계가 구축된 2015년부터 올해 8월까지 11만7천431건의 입원적합성 심사요청이 접수됐다 현재 심평원에서 업무를 담당하고 있는 직원은 20명으로 지급된 올해 9월까지 급여만 8억 8천만 원이 넘는다 문제는 돈이 건강보험 재정에서 나온다는 것이다 의원은 보험사기 방지라는 미명 하에 민간보험사가 가입자에게 지급하여야 보험금이 적정한지 아닌지를 공공기관인 심평원이 심사하는 것도 어불성설인데 거기다 심사에 들어가는 비용 전부를 건강보험 재정으로 부담하고 있다는 것은 말이 되는 상황이다며 입원적정성 심사업무는 수사기관 등의 업무협조를 받아 수행하는 업무이므로 의뢰자인 수사기관 등에서 관련 비용을 지불하는 것이 마땅하다 민간보험사의 배를 불리는 일에 국민의 같은 건강보험재정이 이용되어서는 결코 것이다고 지적했다 부천',\n",
              " '부천시는 어린이들이 지역의 포도를 직접 수확해 보는 ‘포도 수확 체험 프로그램’을 운영한다고 26일 밝혔다 시내 포도농장 2개소에서 진행하는 체험은 유치원 어린이집 어린이 교육기관이 대상인 어린이 체험과 어린이 자녀와 부모가 함께 하는 가족 체험으로 나뉜다 여월동 포도농장에서는 가족 체험과 어린이 체험 모두 진행하며 작동 포도농장은 가족 체험만 진행한다 가족 체험에 참여하면 포도 수확 포도 맛보기 체험을 하고 수확한 포도를 가져갈 있다 어린이 체험에 참여하면 포도 수확 포도 맛보기 포도 삽목 체험을 하고 포도 송이를 가져갈 있다 참여 가족 단체는 선착순 모집하며 체험별 1일 체험 인원이 초과되면 조기 마감된다 가족 체험은 다음 7일부터 15일까지 어린이 체험은 6일부터 20일까지 진행하며 가족 체험은 가족당 3만5천 어린이 체험은 어린이 명당 1만3천 원이다 관계자는 도심에서는 평소 접하기 어려운 포도 수확 체험이 시민들에게 즐겁고 소중한 추억이 것이라며 시민들이 지역의 농업과 농촌을 이해하고 농산물을 믿고 구입하는 기회가 되길 바란다고 말했다 기타 자세한 사항은 홈페이지 새소식란에서 확인하거나 도시농업과로 문의하면 안내된다 부천=최두환 cdh9799@',\n",
              " '엄건섭 가평군 가평읍지사협은 최근 특화사업인 문화체험 행복나들이 ‘어르신과 함께하는 힐링 문화소풍’을 올해 마지막으로 추진했다 23일 가평읍에 따르면 ‘힐링 문화소풍 ’은 복지사각지대에 있는 지역 어르신들을 대상으로 6회 진행되는 사업으로 협의체 위원과 짝꿍이 되어 영화관람 협력업체인 파주닭국수 가평점에서 같이 식사를 하고 협의체위원들이 짝꿍을 모시는 특화사업이다 이날 가평읍지사협 위원들은 최근 개봉한 ‘블랙머니’란 영화를 어르신들과 함께 관람한 파주닭국수 가평점에서 후원하는 닭죽을 점심으로 대접하고 위원들이 직접 집까지 안전하게 모셔다 드리는 것으로 행사를 마무리 했다 영화관람과 식사를 마친 어르신은 요즘 날씨가 추워져 집에만 있어 적적하였는데 이렇게 즐거운 시간을 함께 보내고 맛있는 음식까지 대접해줘서 정말 고맙다며 소감을 밝히셨다 박영모 위원장은 궂을 날씨에도 함께 해주신 어르신분들과 맛있는 음식을 대접해 후원업체 사장에게 감사한 마음을 전한다 내년에는 많은 어르신들과 함께 있도록 최선을 하겠다는 뜻을 전했다 장동선 읍장은 한해 문화생활이 어려운 어르신들의 짝꿍이 되어 많은 추억을 만들어 주신 위원들께 감사드리며 위원들의 활발한 활동이 지역복지 공동체 활성화에 힘이 되고 있다 내년에도 가평읍 지사협위원들과 협력해 다양한 문화체험의 기회를 제공하도록 하겠다라고 말했다']"
            ]
          },
          "metadata": {
            "tags": []
          },
          "execution_count": 20
        }
      ]
    },
    {
      "cell_type": "code",
      "metadata": {
        "colab": {
          "base_uri": "https://localhost:8080/"
        },
        "id": "JhckgxeCf2LV",
        "outputId": "f700e734-37c5-40fc-de70-bb927d034c3f"
      },
      "source": [
        "# Summary 열 전처리\n",
        "clean_summary = []\n",
        "for s in data['생성']:\n",
        "    clean_summary.append(preprocess_sentence(s, 0))\n",
        "clean_summary[:5]"
      ],
      "execution_count": null,
      "outputs": [
        {
          "output_type": "execute_result",
          "data": {
            "text/plain": [
              "['검경 수사권 개혁에 대한 문제는 정부의 핵심 과제이다 형사 사법제도의 본질은 경찰·검찰·법원 삼권 분립으로 상호 견제와 균형을 이뤄 대등한 관계에서 불합리한 수사구조를 개선하고 국민의 인권을 강화하는 것이다 이번 수사권 조정의 핵심은 검찰의 제왕적 권한을 분산해 기관과의 상호 감시와 견제를 통해 국민의 인권을 증진하자는 것이다',\n",
              " '임업진흥원 외래 무척추동물의 확산 변화예측 기술개발 사업단이 소나무의 어린 솔방울을 집중적으로 가해하는 외래 해충인 ‘소나무허리노린재’가 인천지역 공원과 산림에서 확인했다 15일 사업단에 따르면 외래 산림해충 모니터링과 문헌조사를 병행해 출현 기록이 있는 월미도와 인천대학교 송도캠퍼스 등에서 정착한 개체군을 확인했다 국내에서 발생이 확대될 경우 침엽수 비중이 높은 산림생태계 가평 등지의 생산에 심각한 피해가 예상된다',\n",
              " '건강보험 심사평가원의 ‘보험사기 방지’ 업무가 민간보험사의 배를 불리며 건보 법에 따른 심평원 설립 취지를 훼손시키고 있다는 지적이 대두됐다 더불어민주당 김상희 국회원이 건강보험공단에서 확인한 자료에 따르면 심평원은 2015년 이전부터 수사기관에서 의뢰가 들어오면 간간히 지원업무를 해오다 2015년 1월부터 전담부서인 공공심사부를 설치했으며 2016년 ‘보험사기방지 특별법’이 제정되면서 법에 따라 공식적으로 입원적정성 심사 업무를 수행해 왔다 문제는 돈이 건강보험 재정에서 나온다는 것이다',\n",
              " '부천시는 어린이들이 우리 지역의 포도를 직접 수확해 보는 ‘포도 수확 체험 프로그램’을 운영한다고 26일 밝혔다 가족 체험에 참여하면 포도 수확 포도 맛보기 체험을 하고 수확한 포도를 가져갈 있다 관계자는 도심에서는 평소 접하기 어려운 포도 수확 체험이 시민들에게 즐겁고 소중한 추억이 것이라며 시민들이 우리 지역의 농업과 농촌을 이해하고 농산물을 믿고 구입하는 기회가 되길 바란다고 말했다',\n",
              " '가평군 가평읍지사협은 최근 특화사업인 문화체험 행복나들이 ‘어르신과 함께하는 힐링 문화소풍’을 올해 마지막으로 추진했다 23일 가평읍에 따르면 ‘힐링 문화소풍 ’은 복지사각지대에 있는 지역 어르신들을 대상으로 6회 진행되는 사업으로 협의체 위원과 짝꿍이 되어 영화관람 협력업체인 파주닭국수 가평점에서 같이 식사를 하고 협의체위원들이 짝꿍을 모시는 특화사업이다 내년에도 가평읍 지사협위원들과 협력해 다양한 문화체험의 기회를 제공하도록 하겠다라고 말했다']"
            ]
          },
          "metadata": {
            "tags": []
          },
          "execution_count": 21
        }
      ]
    },
    {
      "cell_type": "code",
      "metadata": {
        "id": "suiNK5L0f2LV"
      },
      "source": [
        "data['내용'] = clean_text\n",
        "data['생성'] = clean_summary"
      ],
      "execution_count": null,
      "outputs": []
    },
    {
      "cell_type": "code",
      "metadata": {
        "id": "FHKFaQaS3HRi"
      },
      "source": [
        ""
      ],
      "execution_count": null,
      "outputs": []
    },
    {
      "cell_type": "code",
      "metadata": {
        "colab": {
          "base_uri": "https://localhost:8080/"
        },
        "id": "c3LTQEPSf2LV",
        "outputId": "c4b248d8-b1ce-4259-faaf-af34ef09ab2e"
      },
      "source": [
        "# 길이가 공백인 샘플은 NULL 값으로 변환\n",
        "data.replace('', np.nan, inplace=True)\n",
        "print(data.isnull().sum())"
      ],
      "execution_count": null,
      "outputs": [
        {
          "output_type": "stream",
          "text": [
            "내용    0\n",
            "생성    0\n",
            "dtype: int64\n"
          ],
          "name": "stdout"
        }
      ]
    },
    {
      "cell_type": "code",
      "metadata": {
        "colab": {
          "base_uri": "https://localhost:8080/"
        },
        "id": "4GOMVvLkf2LV",
        "outputId": "ceaf1821-0cc6-4739-d816-d74e6ce7785d"
      },
      "source": [
        "data.dropna(axis = 0, inplace = True)\n",
        "print('전체 샘플수 :',(len(data)))"
      ],
      "execution_count": null,
      "outputs": [
        {
          "output_type": "stream",
          "text": [
            "전체 샘플수 : 16973\n"
          ],
          "name": "stdout"
        }
      ]
    },
    {
      "cell_type": "code",
      "metadata": {
        "colab": {
          "base_uri": "https://localhost:8080/",
          "height": 958
        },
        "id": "8oEd_H8ff2LV",
        "outputId": "a167f6a3-a579-4c4e-c2ec-bbc84640f469"
      },
      "source": [
        "# 길이 분포 출력\n",
        "text_len = [len(s.split()) for s in data['내용']]\n",
        "summary_len = [len(s.split()) for s in data['생성']]\n",
        "\n",
        "print('텍스트의 최소 길이 : {}'.format(np.min(text_len)))\n",
        "print('텍스트의 최대 길이 : {}'.format(np.max(text_len)))\n",
        "print('텍스트의 평균 길이 : {}'.format(np.mean(text_len)))\n",
        "print('요약의 최소 길이 : {}'.format(np.min(summary_len)))\n",
        "print('요약의 최대 길이 : {}'.format(np.max(summary_len)))\n",
        "print('요약의 평균 길이 : {}'.format(np.mean(summary_len)))\n",
        "\n",
        "plt.subplot(1,2,1)\n",
        "plt.boxplot(summary_len)\n",
        "plt.title('Summary')\n",
        "plt.subplot(1,2,2)\n",
        "plt.boxplot(text_len)\n",
        "plt.title('Text')\n",
        "plt.tight_layout()\n",
        "plt.show()\n",
        "\n",
        "plt.title('Summary')\n",
        "plt.hist(summary_len, bins=40)\n",
        "plt.xlabel('length of samples')\n",
        "plt.ylabel('number of samples')\n",
        "plt.show()\n",
        "\n",
        "plt.title('Text')\n",
        "plt.hist(text_len, bins=40)\n",
        "plt.xlabel('length of samples')\n",
        "plt.ylabel('number of samples')\n",
        "plt.show()"
      ],
      "execution_count": null,
      "outputs": [
        {
          "output_type": "stream",
          "text": [
            "텍스트의 최소 길이 : 6\n",
            "텍스트의 최대 길이 : 443\n",
            "텍스트의 평균 길이 : 199.94385200023567\n",
            "요약의 최소 길이 : 9\n",
            "요약의 최대 길이 : 171\n",
            "요약의 평균 길이 : 53.35674306251105\n"
          ],
          "name": "stdout"
        },
        {
          "output_type": "display_data",
          "data": {
            "image/png": "[encoded data removed]",
            "text/plain": [
              "<Figure size 432x288 with 2 Axes>"
            ]
          },
          "metadata": {
            "tags": [],
            "needs_background": "light"
          }
        },
        {
          "output_type": "display_data",
          "data": {
            "image/png": "[encoded data removed]",
            "text/plain": [
              "<Figure size 432x288 with 1 Axes>"
            ]
          },
          "metadata": {
            "tags": [],
            "needs_background": "light"
          }
        },
        {
          "output_type": "display_data",
          "data": {
            "image/png": "[encoded data removed]",
            "text/plain": [
              "<Figure size 432x288 with 1 Axes>"
            ]
          },
          "metadata": {
            "tags": [],
            "needs_background": "light"
          }
        }
      ]
    },
    {
      "cell_type": "code",
      "metadata": {
        "id": "PFH2_1f5f2LV"
      },
      "source": [
        "text_max_len = 300\n",
        "summary_max_len = 60"
      ],
      "execution_count": null,
      "outputs": []
    },
    {
      "cell_type": "code",
      "metadata": {
        "id": "L2hQ7U4df2LV"
      },
      "source": [
        "def below_threshold_len(max_len, nested_list):\n",
        "  cnt = 0\n",
        "  for s in nested_list:\n",
        "    if(len(s.split()) <= max_len):\n",
        "        cnt = cnt + 1\n",
        "  print('전체 샘플 중 길이가 %s 이하인 샘플의 비율: %s'%(max_len, (cnt / len(nested_list))))"
      ],
      "execution_count": null,
      "outputs": []
    },
    {
      "cell_type": "code",
      "metadata": {
        "colab": {
          "base_uri": "https://localhost:8080/"
        },
        "id": "DDaz_aL6f2LV",
        "outputId": "36713964-fc60-4fdf-ee06-14471e81cdd7"
      },
      "source": [
        "below_threshold_len(text_max_len, data['내용'])"
      ],
      "execution_count": null,
      "outputs": [
        {
          "output_type": "stream",
          "text": [
            "전체 샘플 중 길이가 300 이하인 샘플의 비율: 0.9253520296942203\n"
          ],
          "name": "stdout"
        }
      ]
    },
    {
      "cell_type": "code",
      "metadata": {
        "colab": {
          "base_uri": "https://localhost:8080/"
        },
        "id": "NBCU0xzjf2LV",
        "outputId": "0fae7ee0-36c6-48a6-f41e-688e7110e25a"
      },
      "source": [
        "below_threshold_len(summary_max_len, data['생성'])"
      ],
      "execution_count": null,
      "outputs": [
        {
          "output_type": "stream",
          "text": [
            "전체 샘플 중 길이가 60 이하인 샘플의 비율: 0.7128380368821069\n"
          ],
          "name": "stdout"
        }
      ]
    },
    {
      "cell_type": "code",
      "metadata": {
        "colab": {
          "base_uri": "https://localhost:8080/"
        },
        "id": "3gMbeP_bf2LV",
        "outputId": "eda7ead9-7e1a-466e-cf8b-9ce4184cfc47"
      },
      "source": [
        "data = data[data['내용'].apply(lambda x: len(x.split()) <= text_max_len)]\n",
        "data = data[data['생성'].apply(lambda x: len(x.split()) <= summary_max_len)]\n",
        "print('전체 샘플수 :',(len(data)))"
      ],
      "execution_count": null,
      "outputs": [
        {
          "output_type": "stream",
          "text": [
            "전체 샘플수 : 11158\n"
          ],
          "name": "stdout"
        }
      ]
    },
    {
      "cell_type": "code",
      "metadata": {
        "colab": {
          "base_uri": "https://localhost:8080/",
          "height": 279
        },
        "id": "1Y0nTTDtf2LV",
        "outputId": "923527a3-f82c-48f4-c937-ea6083a607e8"
      },
      "source": [
        "data.head()"
      ],
      "execution_count": null,
      "outputs": [
        {
          "output_type": "execute_result",
          "data": {
            "text/html": [
              "<div>\n",
              "<style scoped>\n",
              "    .dataframe tbody tr th:only-of-type {\n",
              "        vertical-align: middle;\n",
              "    }\n",
              "\n",
              "    .dataframe tbody tr th {\n",
              "        vertical-align: top;\n",
              "    }\n",
              "\n",
              "    .dataframe thead th {\n",
              "        text-align: right;\n",
              "    }\n",
              "</style>\n",
              "<table border=\"1\" class=\"dataframe\">\n",
              "  <thead>\n",
              "    <tr style=\"text-align: right;\">\n",
              "      <th></th>\n",
              "      <th>내용</th>\n",
              "      <th>생성</th>\n",
              "    </tr>\n",
              "  </thead>\n",
              "  <tbody>\n",
              "    <tr>\n",
              "      <th>0</th>\n",
              "      <td>기호일보 전영태 안산단원경찰서 112종합상황실/경위 전영태 안산단원경찰서 112종합...</td>\n",
              "      <td>검경 수사권 개혁에 대한 문제는 정부의 핵심 과제이다 형사 사법제도의 본질은 경찰·...</td>\n",
              "    </tr>\n",
              "    <tr>\n",
              "      <th>1</th>\n",
              "      <td>최유탁 인천대 배양섭 교수 월미도·인천대 송도캠 정착 개체군 확인 임업진흥원 외래 ...</td>\n",
              "      <td>임업진흥원 외래 무척추동물의 확산 변화예측 기술개발 사업단이 소나무의 어린 솔방울을...</td>\n",
              "    </tr>\n",
              "    <tr>\n",
              "      <th>2</th>\n",
              "      <td>최두환 건강보험 심사평가원의 ‘보험사기 방지’ 업무가 민간보험사의 배를 불리며 건보...</td>\n",
              "      <td>건강보험 심사평가원의 ‘보험사기 방지’ 업무가 민간보험사의 배를 불리며 건보 법에 ...</td>\n",
              "    </tr>\n",
              "    <tr>\n",
              "      <th>3</th>\n",
              "      <td>부천시는 어린이들이 지역의 포도를 직접 수확해 보는 ‘포도 수확 체험 프로그램’을 ...</td>\n",
              "      <td>부천시는 어린이들이 우리 지역의 포도를 직접 수확해 보는 ‘포도 수확 체험 프로그램...</td>\n",
              "    </tr>\n",
              "    <tr>\n",
              "      <th>4</th>\n",
              "      <td>엄건섭 가평군 가평읍지사협은 최근 특화사업인 문화체험 행복나들이 ‘어르신과 함께하는...</td>\n",
              "      <td>가평군 가평읍지사협은 최근 특화사업인 문화체험 행복나들이 ‘어르신과 함께하는 힐링 ...</td>\n",
              "    </tr>\n",
              "  </tbody>\n",
              "</table>\n",
              "</div>"
            ],
            "text/plain": [
              "                                                  내용                                                 생성\n",
              "0  기호일보 전영태 안산단원경찰서 112종합상황실/경위 전영태 안산단원경찰서 112종합...  검경 수사권 개혁에 대한 문제는 정부의 핵심 과제이다 형사 사법제도의 본질은 경찰·...\n",
              "1  최유탁 인천대 배양섭 교수 월미도·인천대 송도캠 정착 개체군 확인 임업진흥원 외래 ...  임업진흥원 외래 무척추동물의 확산 변화예측 기술개발 사업단이 소나무의 어린 솔방울을...\n",
              "2  최두환 건강보험 심사평가원의 ‘보험사기 방지’ 업무가 민간보험사의 배를 불리며 건보...  건강보험 심사평가원의 ‘보험사기 방지’ 업무가 민간보험사의 배를 불리며 건보 법에 ...\n",
              "3  부천시는 어린이들이 지역의 포도를 직접 수확해 보는 ‘포도 수확 체험 프로그램’을 ...  부천시는 어린이들이 우리 지역의 포도를 직접 수확해 보는 ‘포도 수확 체험 프로그램...\n",
              "4  엄건섭 가평군 가평읍지사협은 최근 특화사업인 문화체험 행복나들이 ‘어르신과 함께하는...  가평군 가평읍지사협은 최근 특화사업인 문화체험 행복나들이 ‘어르신과 함께하는 힐링 ..."
            ]
          },
          "metadata": {
            "tags": []
          },
          "execution_count": 31
        }
      ]
    },
    {
      "cell_type": "code",
      "metadata": {
        "colab": {
          "base_uri": "https://localhost:8080/",
          "height": 363
        },
        "id": "dGXmBAyEf2LW",
        "outputId": "efdebfe4-705f-40bf-ca0a-a08872df14d9"
      },
      "source": [
        "# 요약 데이터에는 시작 토큰과 종료 토큰을 추가한다.\n",
        "data['decoder_input'] = data['내용'].apply(lambda x : 'sostoken '+ x)\n",
        "data['decoder_target'] = data['생성'].apply(lambda x : x + ' eostoken')\n",
        "data.head()"
      ],
      "execution_count": null,
      "outputs": [
        {
          "output_type": "execute_result",
          "data": {
            "text/html": [
              "<div>\n",
              "<style scoped>\n",
              "    .dataframe tbody tr th:only-of-type {\n",
              "        vertical-align: middle;\n",
              "    }\n",
              "\n",
              "    .dataframe tbody tr th {\n",
              "        vertical-align: top;\n",
              "    }\n",
              "\n",
              "    .dataframe thead th {\n",
              "        text-align: right;\n",
              "    }\n",
              "</style>\n",
              "<table border=\"1\" class=\"dataframe\">\n",
              "  <thead>\n",
              "    <tr style=\"text-align: right;\">\n",
              "      <th></th>\n",
              "      <th>내용</th>\n",
              "      <th>생성</th>\n",
              "      <th>decoder_input</th>\n",
              "      <th>decoder_target</th>\n",
              "    </tr>\n",
              "  </thead>\n",
              "  <tbody>\n",
              "    <tr>\n",
              "      <th>0</th>\n",
              "      <td>기호일보 전영태 안산단원경찰서 112종합상황실/경위 전영태 안산단원경찰서 112종합...</td>\n",
              "      <td>검경 수사권 개혁에 대한 문제는 정부의 핵심 과제이다 형사 사법제도의 본질은 경찰·...</td>\n",
              "      <td>sostoken 기호일보 전영태 안산단원경찰서 112종합상황실/경위 전영태 안산단원...</td>\n",
              "      <td>검경 수사권 개혁에 대한 문제는 정부의 핵심 과제이다 형사 사법제도의 본질은 경찰·...</td>\n",
              "    </tr>\n",
              "    <tr>\n",
              "      <th>1</th>\n",
              "      <td>최유탁 인천대 배양섭 교수 월미도·인천대 송도캠 정착 개체군 확인 임업진흥원 외래 ...</td>\n",
              "      <td>임업진흥원 외래 무척추동물의 확산 변화예측 기술개발 사업단이 소나무의 어린 솔방울을...</td>\n",
              "      <td>sostoken 최유탁 인천대 배양섭 교수 월미도·인천대 송도캠 정착 개체군 확인 ...</td>\n",
              "      <td>임업진흥원 외래 무척추동물의 확산 변화예측 기술개발 사업단이 소나무의 어린 솔방울을...</td>\n",
              "    </tr>\n",
              "    <tr>\n",
              "      <th>2</th>\n",
              "      <td>최두환 건강보험 심사평가원의 ‘보험사기 방지’ 업무가 민간보험사의 배를 불리며 건보...</td>\n",
              "      <td>건강보험 심사평가원의 ‘보험사기 방지’ 업무가 민간보험사의 배를 불리며 건보 법에 ...</td>\n",
              "      <td>sostoken 최두환 건강보험 심사평가원의 ‘보험사기 방지’ 업무가 민간보험사의 ...</td>\n",
              "      <td>건강보험 심사평가원의 ‘보험사기 방지’ 업무가 민간보험사의 배를 불리며 건보 법에 ...</td>\n",
              "    </tr>\n",
              "    <tr>\n",
              "      <th>3</th>\n",
              "      <td>부천시는 어린이들이 지역의 포도를 직접 수확해 보는 ‘포도 수확 체험 프로그램’을 ...</td>\n",
              "      <td>부천시는 어린이들이 우리 지역의 포도를 직접 수확해 보는 ‘포도 수확 체험 프로그램...</td>\n",
              "      <td>sostoken 부천시는 어린이들이 지역의 포도를 직접 수확해 보는 ‘포도 수확 체...</td>\n",
              "      <td>부천시는 어린이들이 우리 지역의 포도를 직접 수확해 보는 ‘포도 수확 체험 프로그램...</td>\n",
              "    </tr>\n",
              "    <tr>\n",
              "      <th>4</th>\n",
              "      <td>엄건섭 가평군 가평읍지사협은 최근 특화사업인 문화체험 행복나들이 ‘어르신과 함께하는...</td>\n",
              "      <td>가평군 가평읍지사협은 최근 특화사업인 문화체험 행복나들이 ‘어르신과 함께하는 힐링 ...</td>\n",
              "      <td>sostoken 엄건섭 가평군 가평읍지사협은 최근 특화사업인 문화체험 행복나들이 ‘...</td>\n",
              "      <td>가평군 가평읍지사협은 최근 특화사업인 문화체험 행복나들이 ‘어르신과 함께하는 힐링 ...</td>\n",
              "    </tr>\n",
              "  </tbody>\n",
              "</table>\n",
              "</div>"
            ],
            "text/plain": [
              "                                                  내용  ...                                     decoder_target\n",
              "0  기호일보 전영태 안산단원경찰서 112종합상황실/경위 전영태 안산단원경찰서 112종합...  ...  검경 수사권 개혁에 대한 문제는 정부의 핵심 과제이다 형사 사법제도의 본질은 경찰·...\n",
              "1  최유탁 인천대 배양섭 교수 월미도·인천대 송도캠 정착 개체군 확인 임업진흥원 외래 ...  ...  임업진흥원 외래 무척추동물의 확산 변화예측 기술개발 사업단이 소나무의 어린 솔방울을...\n",
              "2  최두환 건강보험 심사평가원의 ‘보험사기 방지’ 업무가 민간보험사의 배를 불리며 건보...  ...  건강보험 심사평가원의 ‘보험사기 방지’ 업무가 민간보험사의 배를 불리며 건보 법에 ...\n",
              "3  부천시는 어린이들이 지역의 포도를 직접 수확해 보는 ‘포도 수확 체험 프로그램’을 ...  ...  부천시는 어린이들이 우리 지역의 포도를 직접 수확해 보는 ‘포도 수확 체험 프로그램...\n",
              "4  엄건섭 가평군 가평읍지사협은 최근 특화사업인 문화체험 행복나들이 ‘어르신과 함께하는...  ...  가평군 가평읍지사협은 최근 특화사업인 문화체험 행복나들이 ‘어르신과 함께하는 힐링 ...\n",
              "\n",
              "[5 rows x 4 columns]"
            ]
          },
          "metadata": {
            "tags": []
          },
          "execution_count": 32
        }
      ]
    },
    {
      "cell_type": "code",
      "metadata": {
        "id": "dMPzCgKdf2LW"
      },
      "source": [
        "encoder_input = np.array(data['내용'])\n",
        "decoder_input = np.array(data['decoder_input'])\n",
        "decoder_target = np.array(data['decoder_target'])"
      ],
      "execution_count": null,
      "outputs": []
    },
    {
      "cell_type": "code",
      "metadata": {
        "colab": {
          "base_uri": "https://localhost:8080/",
          "height": 363
        },
        "id": "0H7p7e7Tf2LW",
        "outputId": "17668c6a-bdfd-4bd8-ac41-d5bd78cf5cbd"
      },
      "source": [
        "data.head()"
      ],
      "execution_count": null,
      "outputs": [
        {
          "output_type": "execute_result",
          "data": {
            "text/html": [
              "<div>\n",
              "<style scoped>\n",
              "    .dataframe tbody tr th:only-of-type {\n",
              "        vertical-align: middle;\n",
              "    }\n",
              "\n",
              "    .dataframe tbody tr th {\n",
              "        vertical-align: top;\n",
              "    }\n",
              "\n",
              "    .dataframe thead th {\n",
              "        text-align: right;\n",
              "    }\n",
              "</style>\n",
              "<table border=\"1\" class=\"dataframe\">\n",
              "  <thead>\n",
              "    <tr style=\"text-align: right;\">\n",
              "      <th></th>\n",
              "      <th>내용</th>\n",
              "      <th>생성</th>\n",
              "      <th>decoder_input</th>\n",
              "      <th>decoder_target</th>\n",
              "    </tr>\n",
              "  </thead>\n",
              "  <tbody>\n",
              "    <tr>\n",
              "      <th>0</th>\n",
              "      <td>기호일보 전영태 안산단원경찰서 112종합상황실/경위 전영태 안산단원경찰서 112종합...</td>\n",
              "      <td>검경 수사권 개혁에 대한 문제는 정부의 핵심 과제이다 형사 사법제도의 본질은 경찰·...</td>\n",
              "      <td>sostoken 기호일보 전영태 안산단원경찰서 112종합상황실/경위 전영태 안산단원...</td>\n",
              "      <td>검경 수사권 개혁에 대한 문제는 정부의 핵심 과제이다 형사 사법제도의 본질은 경찰·...</td>\n",
              "    </tr>\n",
              "    <tr>\n",
              "      <th>1</th>\n",
              "      <td>최유탁 인천대 배양섭 교수 월미도·인천대 송도캠 정착 개체군 확인 임업진흥원 외래 ...</td>\n",
              "      <td>임업진흥원 외래 무척추동물의 확산 변화예측 기술개발 사업단이 소나무의 어린 솔방울을...</td>\n",
              "      <td>sostoken 최유탁 인천대 배양섭 교수 월미도·인천대 송도캠 정착 개체군 확인 ...</td>\n",
              "      <td>임업진흥원 외래 무척추동물의 확산 변화예측 기술개발 사업단이 소나무의 어린 솔방울을...</td>\n",
              "    </tr>\n",
              "    <tr>\n",
              "      <th>2</th>\n",
              "      <td>최두환 건강보험 심사평가원의 ‘보험사기 방지’ 업무가 민간보험사의 배를 불리며 건보...</td>\n",
              "      <td>건강보험 심사평가원의 ‘보험사기 방지’ 업무가 민간보험사의 배를 불리며 건보 법에 ...</td>\n",
              "      <td>sostoken 최두환 건강보험 심사평가원의 ‘보험사기 방지’ 업무가 민간보험사의 ...</td>\n",
              "      <td>건강보험 심사평가원의 ‘보험사기 방지’ 업무가 민간보험사의 배를 불리며 건보 법에 ...</td>\n",
              "    </tr>\n",
              "    <tr>\n",
              "      <th>3</th>\n",
              "      <td>부천시는 어린이들이 지역의 포도를 직접 수확해 보는 ‘포도 수확 체험 프로그램’을 ...</td>\n",
              "      <td>부천시는 어린이들이 우리 지역의 포도를 직접 수확해 보는 ‘포도 수확 체험 프로그램...</td>\n",
              "      <td>sostoken 부천시는 어린이들이 지역의 포도를 직접 수확해 보는 ‘포도 수확 체...</td>\n",
              "      <td>부천시는 어린이들이 우리 지역의 포도를 직접 수확해 보는 ‘포도 수확 체험 프로그램...</td>\n",
              "    </tr>\n",
              "    <tr>\n",
              "      <th>4</th>\n",
              "      <td>엄건섭 가평군 가평읍지사협은 최근 특화사업인 문화체험 행복나들이 ‘어르신과 함께하는...</td>\n",
              "      <td>가평군 가평읍지사협은 최근 특화사업인 문화체험 행복나들이 ‘어르신과 함께하는 힐링 ...</td>\n",
              "      <td>sostoken 엄건섭 가평군 가평읍지사협은 최근 특화사업인 문화체험 행복나들이 ‘...</td>\n",
              "      <td>가평군 가평읍지사협은 최근 특화사업인 문화체험 행복나들이 ‘어르신과 함께하는 힐링 ...</td>\n",
              "    </tr>\n",
              "  </tbody>\n",
              "</table>\n",
              "</div>"
            ],
            "text/plain": [
              "                                                  내용  ...                                     decoder_target\n",
              "0  기호일보 전영태 안산단원경찰서 112종합상황실/경위 전영태 안산단원경찰서 112종합...  ...  검경 수사권 개혁에 대한 문제는 정부의 핵심 과제이다 형사 사법제도의 본질은 경찰·...\n",
              "1  최유탁 인천대 배양섭 교수 월미도·인천대 송도캠 정착 개체군 확인 임업진흥원 외래 ...  ...  임업진흥원 외래 무척추동물의 확산 변화예측 기술개발 사업단이 소나무의 어린 솔방울을...\n",
              "2  최두환 건강보험 심사평가원의 ‘보험사기 방지’ 업무가 민간보험사의 배를 불리며 건보...  ...  건강보험 심사평가원의 ‘보험사기 방지’ 업무가 민간보험사의 배를 불리며 건보 법에 ...\n",
              "3  부천시는 어린이들이 지역의 포도를 직접 수확해 보는 ‘포도 수확 체험 프로그램’을 ...  ...  부천시는 어린이들이 우리 지역의 포도를 직접 수확해 보는 ‘포도 수확 체험 프로그램...\n",
              "4  엄건섭 가평군 가평읍지사협은 최근 특화사업인 문화체험 행복나들이 ‘어르신과 함께하는...  ...  가평군 가평읍지사협은 최근 특화사업인 문화체험 행복나들이 ‘어르신과 함께하는 힐링 ...\n",
              "\n",
              "[5 rows x 4 columns]"
            ]
          },
          "metadata": {
            "tags": []
          },
          "execution_count": 34
        }
      ]
    },
    {
      "cell_type": "markdown",
      "metadata": {
        "id": "gKsQIZr8f2LW"
      },
      "source": [
        "## Split Data"
      ]
    },
    {
      "cell_type": "code",
      "metadata": {
        "colab": {
          "base_uri": "https://localhost:8080/"
        },
        "id": "TxrwqLNQf2LW",
        "outputId": "f63854f2-9f27-45ed-8cb0-a16480980bd4"
      },
      "source": [
        "indices = np.arange(encoder_input.shape[0])\n",
        "np.random.shuffle(indices)\n",
        "print(indices)"
      ],
      "execution_count": null,
      "outputs": [
        {
          "output_type": "stream",
          "text": [
            "[11149  7292 10304 ...  9845 10799  2732]\n"
          ],
          "name": "stdout"
        }
      ]
    },
    {
      "cell_type": "code",
      "metadata": {
        "id": "NyLX8E6of2LW"
      },
      "source": [
        "encoder_input = encoder_input[indices]\n",
        "decoder_input = decoder_input[indices]\n",
        "decoder_target = decoder_target[indices]"
      ],
      "execution_count": null,
      "outputs": []
    },
    {
      "cell_type": "code",
      "metadata": {
        "colab": {
          "base_uri": "https://localhost:8080/"
        },
        "id": "dUu6F6lZf2LW",
        "outputId": "b026917b-ce47-4d73-ae50-c0c5d14ebd1e"
      },
      "source": [
        "n_of_val = int(len(encoder_input)*0.2)\n",
        "print('테스트 데이터의 수 :',n_of_val)"
      ],
      "execution_count": null,
      "outputs": [
        {
          "output_type": "stream",
          "text": [
            "테스트 데이터의 수 : 2231\n"
          ],
          "name": "stdout"
        }
      ]
    },
    {
      "cell_type": "code",
      "metadata": {
        "id": "9vhm1DjHf2LW"
      },
      "source": [
        "encoder_input_train = encoder_input[:-n_of_val]\n",
        "decoder_input_train = decoder_input[:-n_of_val]\n",
        "decoder_target_train = decoder_target[:-n_of_val]\n",
        "\n",
        "encoder_input_test = encoder_input[-n_of_val:]\n",
        "decoder_input_test = decoder_input[-n_of_val:]\n",
        "decoder_target_test = decoder_target[-n_of_val:]"
      ],
      "execution_count": null,
      "outputs": []
    },
    {
      "cell_type": "code",
      "metadata": {
        "colab": {
          "base_uri": "https://localhost:8080/"
        },
        "id": "fNFQUsgBf2LW",
        "outputId": "e7e50445-6b5c-4a0c-9348-927c6802f7f2"
      },
      "source": [
        "print('훈련 데이터의 개수 :', len(encoder_input_train))\n",
        "print('훈련 레이블의 개수 :',len(decoder_input_train))\n",
        "print('테스트 데이터의 개수 :',len(encoder_input_test))\n",
        "print('테스트 레이블의 개수 :',len(decoder_input_test))"
      ],
      "execution_count": null,
      "outputs": [
        {
          "output_type": "stream",
          "text": [
            "훈련 데이터의 개수 : 8927\n",
            "훈련 레이블의 개수 : 8927\n",
            "테스트 데이터의 개수 : 2231\n",
            "테스트 레이블의 개수 : 2231\n"
          ],
          "name": "stdout"
        }
      ]
    },
    {
      "cell_type": "markdown",
      "metadata": {
        "id": "jGUQ4wmhf2LW"
      },
      "source": [
        "## Encoding"
      ]
    },
    {
      "cell_type": "code",
      "metadata": {
        "colab": {
          "base_uri": "https://localhost:8080/"
        },
        "id": "6M9r145m-k1H",
        "outputId": "5ac53185-01cd-4bed-ac3d-0da47043732e"
      },
      "source": [
        "encoder_input_train"
      ],
      "execution_count": null,
      "outputs": [
        {
          "output_type": "execute_result",
          "data": {
            "text/plain": [
              "array(['강나리 수성구의회 촉구 결의안 채택 국토부·대구시에 전달 방침 대구 수성구의회가 도시공원을 살리기 위한 대책 마련을 국토교통부와 대구시에 촉구하는 결의안을 채택했다 수성구의회는 24일 열린 제230회 제1차 정례회 제3차 본회의에서 전영태 의원이 대표 발의한 ‘대구시 수성구 도시공원 살리기 촉구 결의안’을 상정하고 전체 의원 20명 만장일치로 채택했다고 밝혔다 수성구의회는 결의문을 통해 “2000년 7월 도시계획시설로 지정된 공원들에 대해 내년 6월 말까지 대구시가 부지를 매입하지 않을 공원 지정이 일괄적으로 해제되는 공원 일몰제가 시행된다 내년 7월 1일 사라질 도시공원은 대구시 관내에는 38곳 20곳이며 수성구 관내에는 범어공원 4곳이다”며 “일몰제 시행에도 불구하고 대구시와 수성구는 재정적 여건만을 이유로 아직까지 책임 있는 대책을 마련하지 못했다”고 지적했다 그러면서 “일몰 위기에 빠진 도시공원에 대해 중앙정부는 도시공원 사무가 지방자치단체의 고유 책임이라며 일체의 재정 행정 지원을 하지 않고 있다”고 덧붙였다 수성구의회는 △국토부가 도시공원 토지매입비 확보가 어려운 지방자치단체에 예산을 지원하고 도시공원 국공유지를 일몰제에서 제외할 △2005년 개정된 ‘도시자연공원구역’ 제도를 새롭게 정비해 일몰제를 맞는 모든 도시공원들에 대한 대책을 조속히 마련할 △도시공원을 자연환경 보전과 도시민의 여가 이용에 기여할 있도록 자연 그대로 보존할 등을 촉구할 예정이다 채택된 결의안은 국토부와 대구시 관련 기관에 전달할',\n",
              "       '임소연 현대차 여의도 국회에 도심형 수소충전소 착공 오는 8월 완공 예정…1천236 3㎡ 규모 연중무휴 운영…하루 70대 차량 충전 가능 30일 서울 여의도 국회에서 열린 국회 수소충전소 착공식에서 왼쪽부터 수소에너지네트워크 유종수 대표 중소벤처기업부 박영선 장관 더불어민주당 김영춘 의원 자유한국당 이종배 의원 국회 산업통상자원중소벤처기업위원회 홍일표 위원장 더불어민주당 홍의락 의원 유인태 국회사무총장 산업통상자원부 성윤모 장관 현대자동차 공영운 사장 등이 기념촬영하고 있다 /현대차 제공 현대자동차는 서울 여의도 국회에서 수소충전소 착공·협약식을 개최하고 서울 시내 상업용 수소충전소 설치에 나선다고 30일 밝혔다 이날 행사에는 홍일표 국회 산업통상자원중소벤처기업위원회 위원장과 성윤모 산업통상자원부 장관 박영선 중소벤처기업부 장관 더불어민주당 김영춘 의원 등과 공영운 현대차 사장 유종수 수소에너지네트워크 대표 주요 인사 20여명을 비롯해 100여명의 관계자들이 참석했다 국회 수소충전소는 서울 번째 상업용 수소충전소로 일반인과 택시도 수소전기자동차를 충전할 있어 수소전기차 보급 활성화에 보탬이 전망이다 국회 수소충전소는 오는 8월 완공될 예정으로 인허가부터 최종 완공까지 6개월 가량이 소요될 것으로 예상된다 통상 수소충전소 구축에는 10개월이 걸리지만 국회 수소충전소는 지난 2월 산업통상자원부가 규제 샌드박스 제1호 사업으로 승인하고 국회와 정부 관련 기관이 설치에 적극적으로 협력한 만큼 구축 기간이 단축되는 것이다 국회와 정부가 이번 국회 수소충전소 구축 추진 과정에서 보여준 소통과 현안 해결 의지는 향후 각종 규제 해소를 통한 산업혁신의 대표적인 모범사례가 전망이다 국회 수소충전소는 국회 정문에서 접근이 용이한 국회대로변에 면적 1천236 3㎡ 규모로 신축된다 시간당 5대 이상의 수소전기차를 완충할 있는 25㎏/h의 충전 용량을 갖추게 예정으로 연중무휴 오전 8시부터 오후 10시까지 운영돼 하루 70대 이상의 수소전기차가 충전할 있다 국회 수소충전소는 현대차가 2대 주주로 참여하고 있는 수소충전소 구축·운영 전문회사인 특수목적법인 수소에너지네트워크가 운영한다 국회 수소충전소는 규제 샌드박스 사업 특례 기간인 2021년 5월까지 우선 운영되며 향후 중장기 운영 여부가 검토될 예정이다 현대차는 국회 수소충전소 외에도 전국 수소충전소 구축 확대에 속도를 내고 있다 현대차는 서울 도심인 강동 gs칼텍스 상일충전소에 오는 9월 완공을 목표로 수소충전소 건립을 추진하고 있다 이보다 앞서 오는 7월 말까지는 부산 사상 대도에너지와 인천 남동 sk가스 논현충전소에 도심형 수소충전소를 구축하기로 했다 /임소연 lsy@namdonews',\n",
              "       '장성환 합동소방훈련 강제성 없고 민간전문가 종합점검 소방당국 점검 받아도 “더 엄격한 소방관리 요구돼” 대구 중부소방서가 지난 19일 불이 대보빌딩 건물을 ‘대형화재 취약 대상지’로 지정해 관리해 왔던 것으로 드러났다 이로 인해 신속한 화재 진압으로 피해를 막을 있었다는 평가가 있는 반면 결국 이번 화재로 인명피해가 있었던 만큼 ‘대형화재 취약 대상지’ 관리를 두고 보완해야 한다는 지적 역시 잇따르고 있다 24일 대구 중부소방서에 따르면 요양병원 요양원 대형판매시설 대학병원 대구 중구와 남구의 62곳을 ‘대형화재 취약 대상지’로 지정해 관리하고 있다 대형화재 취약 대상지로 지정되면 관할 안전센터를 통해 봄이나 가을 불이 자주 나는 시기에 1년에 이상 ‘합동소방훈련’을 실시하고 훈련이 끝나면 취약 대상지 근무자를 대상으로 화재 예방 관련 교육도 진행한다 더불어 ‘소방특별조사제도’에 따라 취약 대상지 관리자가 소방시설을 소방법에 맞게 유지하며 관리하고 있는지 소방점검을 시기에 하고 있는지 등을 소방공무원이 1년에 이상 점검한다 또한 대구 중부소방서의 컴퓨터 시스템에 대형화재 취약 대상지로 등록하면 곳의 화재보다 2배 이상의 소방차와 병력이 출동할 있도록 설정해 놓고 있다 이러한 대구 중부소방서의 관리로 인해 대보빌딩 화재 19분 만에 불길을 잡는 대형화재로 번지는 것을 막을 있었다는 평가를 받고 있다 하지만 당시 화재로 3명의 사망자와 4명의 중상자가 발생하는 인명피해가 있었던 만큼 ‘대형화재 취약 대상지’ 관리를 철저히 해야 한다는 비판도 제기되고 있다 일단 합동소방훈련은 소방당국이 강제할 있는 근거가 없다 현재는 대부분의 취약 대상지 관리자가 소방서에 요청해 합동소방훈련을 하고 있지만 자체적으로 진행하더라도 법적인 제재를 받지는 않는다 게다가 소방특별조사제도의 경우에도 취약 대상지 관리자가 민간전문가에게 ‘종합정밀점검’을 받으면 특정 기간 동안 소방공무원에게 점검받지 않아도 된다 이에 따라 대형화재 취약 대상지에 대한 관리를 엄격히 있도록 법과 제도를 포함한 다각적인 보완이 필요하다는 목소리가 커지고 있다 대구 중부소방서 관계자는 “현재 서문시장 1곳만 공식 특별관리 대상으로 지정해 운영하고 있다”며 “대보빌딩 대형화재 취약 대상지도 특별관리를 하고 싶지만 이렇게 되면 행정력이 지나치게 많이 소비돼 현실적인 어려움이 있다”고 전했다',\n",
              "       ...,\n",
              "       '남승현 ‘가이드 폭행’ 관련 분노 계속 군의회 “윤리위 열어 조치 논의” 시민단체 “사퇴때까지 집회 의장도 의원직 내려놓아야” 경북 예천군의회가 공무 국외연수 가이드를 폭행한 박종철 의원을 제명하기로 하는 사건 수습에 나섰지만 군민들은 군의원 9명의 전원사퇴를 요구하는 분노가 가라앉지 않고 있다 이형식 예천군의회 의장은 지난 9일 성명서를 내고 “윤리위원회를 열어 사건 당사자인 박종철 의원을 제명하고 물의를 일으킨 의원도 응분의 조치를 하겠다”며 “이번 사태를 수습하고 의장직을 내려놓겠다”고 밝혔다 이에 따라 군의회는 조만간 윤리특별위원회를 열어 의원 제명과 접대부 발언 등으로 물의를 일으킨 의원들에 대한 조치를 논의한다 군의회 규정에 따르면 의원을 빼고 의장을 포함한 8명 이내로 특별위원회를 구성해야 하지만 사퇴의 심각성을 고려해 의장을 제외한 5∼6명으로 특별위원회를 꾸릴 예정이다 하지만 전국농민회총연맹 예천군농민회는 군의원 전원사퇴를 촉구하고 일부 회원은 지난 9일 저녁부터 의장실에서 농성을 벌이고 있다 농민회는 “이런 짓을 의원 전원이 사퇴하고 의회 대표인 의장도 의장직에 물러날 것이 아니라 의원직을 내려놓아야 한다”고 주장했다 “뽑아준다면 예천을 위해 최선을 다하겠다며 목이 쉬어라 외치던 그들 목소리가 아직도 귓가에 쟁쟁한데 군민 혈세로 술판을 벌이고 여성 접대부를 찾는가 하면 가이드까지 폭행하며 파렴치한 짓을 했다”고 비난했다 예천 시민단체도 ‘군의원 전원사퇴 추진위원회’를 구성해 군의회 압박에 나섰다 추진위는 11일 예천읍 상설시장 앞에서 수백명이 모인 가운데 집회를 열고 군의원 사퇴를 요구한다 전병동 회장은 “군민 명예를 실추한 군의원 모두 사퇴할 때까지 계속 집회를 열겠다”고 말했다 한편 예천경찰서는 11일 해외연수중 폭행사건과 관련 박종철 의원을 소환조사할 예정이다',\n",
              "       '교육도시 오산시의 백년시민대학과 일본 최고 평생교육기관인 시부야대학이 공동 기획한 ‘특별한 하루 in osan’ ‘특별한 하루 in shibuya’ 프로그램이 오산시와 시부야시에서 각각 론칭했다 특히 지난 13일 오산스포츠센터 다목적체육관에서 시민 70명이 참여한 가운데 열린 한국 프로그램 ‘특별한 하루 in osan’은 시민들이 자신이 살아가는 지역을 알아가면서 이웃과 네트워크를 형성해 가는 지역 알기 프로그램으로 진행됐다 15일 시에 따르면 ‘특별한 하루 in osan’과 함께 시부야대학도 일본에서 오산시와 동일한 내용의 ‘특별한 하루 in shibuya’ 프로그램을 시행하고 결과를 공유해 ‘새로움을 통한 새로운 배움’을 함께 진행하기로 했다 이는 오산백년시민대학이 2017년 글로벌 평생학습 활성화 협약을 맺은 일본 시부야대학과 함께 기획하고 진행한 프로그램으로 국가 지자체 평생학습기관 공동 협력 프로그램으로 새롭게 시도되는 것이다 오산시는 2017년 자체 평생학습기관인 오산백년시민대학을 설립하면서 세계적으로 평생학습 시스템이 짜여진 것으로 알려진 일본 시부야대학과 평생학습 활성화 협약을 맺고 비전워크숍 다양한 교류사업을 진행해 왔다 시는 이번 프로그램도 함께 진행한 내년 성과를 나누는 실천포럼을 계획이다 프로그램 참여자들은 ‘다같이 놀자 추억 바퀴’라는 전래놀이를 통해 자녀와 부모 이웃 신나고 재미있는 시간을 보낸 ‘오산 공감 이야기’를 통해 관계에 대한 이해 지역에 대한 이해를 도와주는 성찰의 시간을 가졌다 또한 소소하지만 이웃에게 추천하고 싶은 오산지역 소개 이웃과 함께 하고 싶은 활동 등을 이야기하며 장명루를 팔에 묶어 주고 오산에 살길 정말 잘했어요라고 인사하며 프로그램을 마무리했다 곽상욱 시장은 프로그램을 통해 이웃과 행복한 만남 즐거운 추억을 많이 만들어 아이들이 커서 오산으로 돌아올 있는 밑거름이 되도록 것이라며 앞으로 ‘온 마을이 캠퍼스’인 대한민국과 일본의 최고 시민대학이 국경을 넘어 함께 성장하는 글로벌 평생학습체계를 선도적으로 만들어 가겠다고 말했다 오산=최승세 css@',\n",
              "       '양주시가 2019년 9월분 정기분 재산세 8만7천여건에 560억 원을 부과·고지했다 16일 시에 따르면 이번에 부과된 재산세는 토지 492억 주택 68억 등으로 지난해 보다 14억 원이 증가했으며 이는 신규입주 공동주택 증가와 개별공시지가의 상승 등에 따른 것이다 재산세는 매년 6월 1일 현재 주택 토지 재산 소유자에게 부과되며 주택분 재산세의 경우에는 7월 9월로 나눠 1/2씩 주택 건물분 재산세는 7월에 토지분은 9월에 부과된다 재산세 납부기한은 오는 9월 30일까지로 전국 은행 cd/atm 기기 위택스 인터넷지로 신용카드 포인트를 통한 납부 ars 전화 등을 통해 납부하면 된다 전국 지방세를 스마트폰으로 조회·납부할 있는 ‘스마트 위택스’ 모바일 납부서비스의 시행으로 보다 손쉽게 납부할 있다 관계자는 재산세 납부기간을 경과해 납부할 3%의 가산금이 부과되므로 납부기한 이전에 납부하시길 바란다며 특히 납부 마감일인 9월 30일에는 금융기관 혼잡 인터넷 납부 접속 폭주로 인해 불편이 예상됨에 따라 마감일 이전에 미리 납부해 것을 당부드린다고 말했다 기타 자세한 사항은 양주시청 세정과 재산세팀으로 문의하면 된다 양주=전정훈 jjhun@'],\n",
              "      dtype=object)"
            ]
          },
          "metadata": {
            "tags": []
          },
          "execution_count": 49
        }
      ]
    },
    {
      "cell_type": "code",
      "metadata": {
        "colab": {
          "base_uri": "https://localhost:8080/",
          "height": 204
        },
        "id": "fM1aTekvBjz9",
        "outputId": "998ed2a1-0bdc-48a6-bcde-961c04416216"
      },
      "source": [
        "from konlpy.tag import Okt\n",
        "okt = Okt()\n",
        "# encoder_input_train = encoder_input_train.apply(lambda x : okt.morphs(x))"
      ],
      "execution_count": null,
      "outputs": [
        {
          "output_type": "error",
          "ename": "AttributeError",
          "evalue": "ignored",
          "traceback": [
            "\u001b[0;31m---------------------------------------------------------------------------\u001b[0m",
            "\u001b[0;31mAttributeError\u001b[0m                            Traceback (most recent call last)",
            "\u001b[0;32m<ipython-input-42-3998a37e191e>\u001b[0m in \u001b[0;36m<module>\u001b[0;34m()\u001b[0m\n\u001b[1;32m      1\u001b[0m \u001b[0;32mfrom\u001b[0m \u001b[0mkonlpy\u001b[0m\u001b[0;34m.\u001b[0m\u001b[0mtag\u001b[0m \u001b[0;32mimport\u001b[0m \u001b[0mOkt\u001b[0m\u001b[0;34m\u001b[0m\u001b[0;34m\u001b[0m\u001b[0m\n\u001b[1;32m      2\u001b[0m \u001b[0mokt\u001b[0m \u001b[0;34m=\u001b[0m \u001b[0mOkt\u001b[0m\u001b[0;34m(\u001b[0m\u001b[0;34m)\u001b[0m\u001b[0;34m\u001b[0m\u001b[0;34m\u001b[0m\u001b[0m\n\u001b[0;32m----> 3\u001b[0;31m \u001b[0mencoder_input_train\u001b[0m \u001b[0;34m=\u001b[0m \u001b[0mencoder_input_train\u001b[0m\u001b[0;34m.\u001b[0m\u001b[0mapply\u001b[0m\u001b[0;34m(\u001b[0m\u001b[0;32mlambda\u001b[0m \u001b[0mx\u001b[0m \u001b[0;34m:\u001b[0m \u001b[0mokt\u001b[0m\u001b[0;34m.\u001b[0m\u001b[0mmorphs\u001b[0m\u001b[0;34m(\u001b[0m\u001b[0mx\u001b[0m\u001b[0;34m)\u001b[0m\u001b[0;34m)\u001b[0m\u001b[0;34m\u001b[0m\u001b[0;34m\u001b[0m\u001b[0m\n\u001b[0m",
            "\u001b[0;31mAttributeError\u001b[0m: 'numpy.ndarray' object has no attribute 'apply'"
          ]
        }
      ]
    },
    {
      "cell_type": "code",
      "metadata": {
        "colab": {
          "base_uri": "https://localhost:8080/"
        },
        "id": "rdJDH7tg8-gH",
        "outputId": "5b5a14e4-a799-40bb-f662-4dda4219c5d4"
      },
      "source": [
        "from konlpy.tag import Okt\n",
        "from tqdm import tqdm\n",
        "okt = Okt()\n",
        "encoder_input_train_tok = np.empty((1,))\n",
        "for s in tqdm(encoder_input_train):\n",
        "  encoder_input_train_tok = np.append(encoder_input_train_tok, okt.morphs(s), axis=0)"
      ],
      "execution_count": null,
      "outputs": [
        {
          "output_type": "stream",
          "text": [
            "100%|██████████| 8927/8927 [20:34<00:00,  7.23it/s]\n"
          ],
          "name": "stderr"
        }
      ]
    },
    {
      "cell_type": "code",
      "metadata": {
        "colab": {
          "base_uri": "https://localhost:8080/"
        },
        "id": "Tz0gKi-kG4x5",
        "outputId": "048eda23-0c02-4ff7-bf45-42fc6c9ae25c"
      },
      "source": [
        "encoder_input_train_tok"
      ],
      "execution_count": null,
      "outputs": [
        {
          "output_type": "execute_result",
          "data": {
            "text/plain": [
              "array(['1.35e-320', '강', '나리', ..., '전정훈', 'jjhun', '@'], dtype='<U32')"
            ]
          },
          "metadata": {
            "tags": []
          },
          "execution_count": 54
        }
      ]
    },
    {
      "cell_type": "code",
      "metadata": {
        "id": "YzaUXKJQf2LW"
      },
      "source": [
        "src_tokenizer = Tokenizer()\n",
        "src_tokenizer.fit_on_texts(encoder_input_train)"
      ],
      "execution_count": null,
      "outputs": []
    },
    {
      "cell_type": "code",
      "metadata": {
        "colab": {
          "base_uri": "https://localhost:8080/"
        },
        "id": "7-hGVFd8Isd5",
        "outputId": "1f16f120-7553-4397-f994-0ab2c8debfc2"
      },
      "source": [
        "encoder_input_train_tok.shape[0]"
      ],
      "execution_count": null,
      "outputs": [
        {
          "output_type": "execute_result",
          "data": {
            "text/plain": [
              "3121544"
            ]
          },
          "metadata": {
            "tags": []
          },
          "execution_count": 56
        }
      ]
    },
    {
      "cell_type": "code",
      "metadata": {
        "colab": {
          "base_uri": "https://localhost:8080/",
          "height": 239
        },
        "id": "PJuI1NINf2LW",
        "outputId": "cdb59d61-c0ae-49b8-ff14-6211cce1ba51"
      },
      "source": [
        "threshold = 4\n",
        "total_cnt = encoder_input_train_tok.shape[0] # 단어의 수\n",
        "rare_cnt = 0 # 등장 빈도수가 threshold보다 작은 단어의 개수를 카운트\n",
        "total_freq = 0 # 훈련 데이터의 전체 단어 빈도수 총 합\n",
        "rare_freq = 0 # 등장 빈도수가 threshold보다 작은 단어의 등장 빈도수의 총 합\n",
        "\n",
        "# 단어와 빈도수의 쌍(pair)을 key와 value로 받는다.\n",
        "for value in encoder_input_train_tok:\n",
        "    total_freq = total_freq + value\n",
        "\n",
        "    # 단어의 등장 빈도수가 threshold보다 작으면\n",
        "    if(value < threshold):\n",
        "        rare_cnt = rare_cnt + 1\n",
        "        rare_freq = rare_freq + value\n",
        "\n",
        "print('단어 집합(vocabulary)의 크기 :',total_cnt)\n",
        "print('등장 빈도가 %s번 이하인 희귀 단어의 수: %s'%(threshold - 1, rare_cnt))\n",
        "print('단어 집합에서 희귀 단어를 제외시킬 경우의 단어 집합의 크기 %s'%(total_cnt - rare_cnt))\n",
        "print(\"단어 집합에서 희귀 단어의 비율:\", (rare_cnt / total_cnt)*100)\n",
        "print(\"전체 등장 빈도에서 희귀 단어 등장 빈도 비율:\", (rare_freq / total_freq)*100)"
      ],
      "execution_count": null,
      "outputs": [
        {
          "output_type": "error",
          "ename": "TypeError",
          "evalue": "ignored",
          "traceback": [
            "\u001b[0;31m---------------------------------------------------------------------------\u001b[0m",
            "\u001b[0;31mTypeError\u001b[0m                                 Traceback (most recent call last)",
            "\u001b[0;32m<ipython-input-58-ca944cd24ae1>\u001b[0m in \u001b[0;36m<module>\u001b[0;34m()\u001b[0m\n\u001b[1;32m      7\u001b[0m \u001b[0;31m# 단어와 빈도수의 쌍(pair)을 key와 value로 받는다.\u001b[0m\u001b[0;34m\u001b[0m\u001b[0;34m\u001b[0m\u001b[0;34m\u001b[0m\u001b[0m\n\u001b[1;32m      8\u001b[0m \u001b[0;32mfor\u001b[0m \u001b[0mvalue\u001b[0m \u001b[0;32min\u001b[0m \u001b[0mencoder_input_train_tok\u001b[0m\u001b[0;34m:\u001b[0m\u001b[0;34m\u001b[0m\u001b[0;34m\u001b[0m\u001b[0m\n\u001b[0;32m----> 9\u001b[0;31m     \u001b[0mtotal_freq\u001b[0m \u001b[0;34m=\u001b[0m \u001b[0mtotal_freq\u001b[0m \u001b[0;34m+\u001b[0m \u001b[0mvalue\u001b[0m\u001b[0;34m\u001b[0m\u001b[0;34m\u001b[0m\u001b[0m\n\u001b[0m\u001b[1;32m     10\u001b[0m \u001b[0;34m\u001b[0m\u001b[0m\n\u001b[1;32m     11\u001b[0m     \u001b[0;31m# 단어의 등장 빈도수가 threshold보다 작으면\u001b[0m\u001b[0;34m\u001b[0m\u001b[0;34m\u001b[0m\u001b[0;34m\u001b[0m\u001b[0m\n",
            "\u001b[0;31mTypeError\u001b[0m: unsupported operand type(s) for +: 'int' and 'numpy.str_'"
          ]
        }
      ]
    },
    {
      "cell_type": "code",
      "metadata": {
        "id": "8DbfhPMff2LW"
      },
      "source": [
        "src_vocab = 50000\n",
        "src_tokenizer = Tokenizer(num_words = src_vocab) \n",
        "src_tokenizer.fit_on_texts(encoder_input_train)\n",
        "\n",
        "# 텍스트 시퀀스를 정수 시퀀스로 변환\n",
        "encoder_input_train = src_tokenizer.texts_to_sequences(encoder_input_train) \n",
        "encoder_input_test = src_tokenizer.texts_to_sequences(encoder_input_test)"
      ],
      "execution_count": null,
      "outputs": []
    },
    {
      "cell_type": "code",
      "metadata": {
        "colab": {
          "base_uri": "https://localhost:8080/"
        },
        "id": "VbK-ZAGRf2LW",
        "outputId": "48b9ea83-c48d-469b-ac4b-aa6b39f3044c"
      },
      "source": [
        "print(encoder_input_train[:3])"
      ],
      "execution_count": null,
      "outputs": [
        {
          "output_type": "stream",
          "text": [
            "[[6521, 1188, 17057, 10532, 1724, 6522, 132, 6345, 6, 910, 1535, 5373, 7699, 3592, 13907, 7700, 283, 58, 4217, 4047, 4787, 2958, 748, 125, 4048, 12337, 5115, 11631, 6345, 1188, 21945, 154, 431, 8604, 12338, 43581, 12, 10083, 4, 151, 31131, 1725, 24, 82, 141, 827, 3517, 1867, 644, 1708, 10084, 13908, 1708, 7701, 82, 151, 228, 21946, 911, 5115, 27351, 1065, 3379, 13909, 574, 4424, 3081, 2, 821, 17058, 20012, 514, 610, 3968, 4519, 24, 11631, 8605, 10085, 18423, 1099, 1603, 134, 523, 105, 357, 472, 11631, 31132, 6154, 237, 20013, 509, 576, 11631, 4308, 1709, 539, 13910, 335, 86, 8, 821, 1926, 1868, 14839, 20014, 36334, 10533, 6523, 797, 16, 2899, 1151, 43582, 13, 17059, 23, 9249, 20015, 13048, 911, 28, 4309, 3082], [400, 5374, 4654, 2855, 21947, 7429, 3083, 31, 153, 5811, 31133, 1088, 17060, 11051, 484, 6947, 2223, 250, 119, 4654, 1325, 58, 221, 7429, 8920, 125, 6948, 12339, 997, 557, 31134, 431, 769, 431, 221, 43583, 31135, 3320, 557, 27352, 431, 4788, 27353, 997, 7987, 1903, 41, 43584, 1, 5374, 65, 15889, 119, 4654, 1325, 7429, 1869, 119, 7181, 18424, 7429, 6949, 6524, 250, 12, 20, 1350, 31135, 221, 43583, 9250, 27353, 4788, 997, 12339, 6948, 997, 557, 31134, 431, 504, 5374, 1903, 125, 69, 2174, 31136, 100, 31137, 1636, 490, 221, 21948, 119, 669, 18424, 36335, 43585, 24398, 55, 31138, 2291, 832, 5116, 347, 221, 21948, 31, 153, 13911, 2529, 131, 1568, 13912, 7182, 9, 638, 6525, 7429, 221, 21948, 5, 450, 17061, 1270, 21949, 17062, 596, 43586, 13913, 235, 28, 2725, 6949, 339, 43587, 79, 350, 4310, 76, 13913, 428, 10, 221, 7429, 350, 84, 302, 11052, 3380, 1750, 1495, 43588, 187, 117, 1270, 2008, 88, 1583, 24399, 347, 221, 21948, 221, 24400, 8279, 11053, 4655, 31133, 597, 6950, 1927, 370, 2, 6947, 18425, 12340, 2529, 17060, 77, 24401, 48, 17063, 8280, 643, 11051, 370, 24398, 1, 221, 21948, 43589, 7988, 1152, 2, 7429, 43590, 27354, 703, 221, 21948, 1270, 21949, 50, 14840, 7702, 878, 7183, 388, 5657, 187, 2009, 61, 5974, 43591, 23, 10534, 221, 7429, 779, 43, 7429, 350, 2959, 2806, 1158, 1, 10534, 119, 13914, 31, 159, 6728, 295, 7429, 1954, 346, 1, 6526, 130, 31, 151, 36336, 808, 2856, 122, 21947, 17064, 13049, 21, 400, 962, 19], [5243, 1448, 20016, 925, 31139, 18426, 7703, 132, 5, 272, 5002, 43592, 4789, 43593, 5975, 3969, 6951, 5375, 9, 1536, 2324, 206, 1356, 1007, 415, 2649, 12341, 5812, 2, 285, 721, 10, 8281, 27355, 1537, 79, 43593, 5975, 1538, 343, 24402, 340, 4425, 249, 8921, 1, 283, 132, 18, 18427, 17065, 43594, 132, 36337, 31140, 43593, 5975, 3969, 3970, 1, 36338, 5975, 7430, 15890, 1772, 4, 3893, 5002, 1811, 3321, 3518, 6346, 46, 709, 21950, 10086, 5975, 6347, 27356, 34, 1007, 761, 28, 7989, 355, 645, 22, 5975, 6347, 36339, 24403, 1539, 17066, 3970, 2564, 3518, 49, 2564, 13, 6346, 46, 10087, 38, 132, 8282, 14841, 36338, 5975, 7430, 18428, 13050, 3084, 370, 16, 9640, 722, 1, 358, 132, 13915, 206, 43592, 1007, 303, 7704, 43595, 43596, 66, 2649, 12341, 587, 166, 1, 78, 178, 8281, 7705, 7431, 757, 27355, 1537, 79, 43593, 5975, 1538, 1437, 606, 340, 18429, 5520, 1, 3718, 36340, 21951, 2, 4311, 393, 3016, 2687, 5975, 6347, 36339, 10088, 49, 277, 3381, 13916, 14842, 1812, 5244, 6952, 5975, 6347, 36339, 5976, 1279, 192, 94, 4218, 51, 52, 22, 36338, 5975, 8, 1538, 10535, 16, 10536, 1709, 436, 6527, 18430, 1351, 1659, 2259, 1, 132, 26, 3382, 36341, 408, 27357, 34, 3969, 328, 307, 36338, 5975, 49, 31141, 1208, 1394, 43597, 9251, 188, 5658, 1660, 357, 161]]\n"
          ],
          "name": "stdout"
        }
      ]
    },
    {
      "cell_type": "code",
      "metadata": {
        "id": "9_9FnmhQf2LW"
      },
      "source": [
        "tar_tokenizer = Tokenizer()\n",
        "tar_tokenizer.fit_on_texts(decoder_input_train)"
      ],
      "execution_count": null,
      "outputs": []
    },
    {
      "cell_type": "code",
      "metadata": {
        "colab": {
          "base_uri": "https://localhost:8080/"
        },
        "id": "V63xmH7uf2LW",
        "outputId": "d8d5634f-f539-433f-d374-bf3bba0dd658"
      },
      "source": [
        "threshold = 4\n",
        "total_cnt = len(tar_tokenizer.word_index) # 단어의 수\n",
        "rare_cnt = 0 # 등장 빈도수가 threshold보다 작은 단어의 개수를 카운트\n",
        "total_freq = 0 # 훈련 데이터의 전체 단어 빈도수 총 합\n",
        "rare_freq = 0 # 등장 빈도수가 threshold보다 작은 단어의 등장 빈도수의 총 합\n",
        "\n",
        "# 단어와 빈도수의 쌍(pair)을 key와 value로 받는다.\n",
        "for key, value in tar_tokenizer.word_counts.items():\n",
        "    total_freq = total_freq + value\n",
        "\n",
        "    # 단어의 등장 빈도수가 threshold보다 작으면\n",
        "    if(value < threshold):\n",
        "        rare_cnt = rare_cnt + 1\n",
        "        rare_freq = rare_freq + value\n",
        "\n",
        "print('단어 집합(vocabulary)의 크기 :',total_cnt)\n",
        "print('등장 빈도가 %s번 이하인 희귀 단어의 수: %s'%(threshold - 1, rare_cnt))\n",
        "print('단어 집합에서 희귀 단어를 제외시킬 경우의 단어 집합의 크기 %s'%(total_cnt - rare_cnt))\n",
        "print(\"단어 집합에서 희귀 단어의 비율:\", (rare_cnt / total_cnt)*100)\n",
        "print(\"전체 등장 빈도에서 희귀 단어 등장 빈도 비율:\", (rare_freq / total_freq)*100)"
      ],
      "execution_count": null,
      "outputs": [
        {
          "output_type": "stream",
          "text": [
            "단어 집합(vocabulary)의 크기 : 355679\n",
            "등장 빈도가 3번 이하인 희귀 단어의 수: 300743\n",
            "단어 집합에서 희귀 단어를 제외시킬 경우의 단어 집합의 크기 54936\n",
            "단어 집합에서 희귀 단어의 비율: 84.55461244549159\n",
            "전체 등장 빈도에서 희귀 단어 등장 빈도 비율: 22.85331021474513\n"
          ],
          "name": "stdout"
        }
      ]
    },
    {
      "cell_type": "code",
      "metadata": {
        "id": "lKyg-mSUf2LW"
      },
      "source": [
        "tar_vocab = 50000\n",
        "tar_tokenizer = Tokenizer(num_words = tar_vocab) \n",
        "tar_tokenizer.fit_on_texts(decoder_input_train)\n",
        "tar_tokenizer.fit_on_texts(decoder_target_train)"
      ],
      "execution_count": null,
      "outputs": []
    },
    {
      "cell_type": "code",
      "metadata": {
        "id": "fPtOpA7wf2LW"
      },
      "source": [
        "# 텍스트 시퀀스를 정수 시퀀스로 변환\n",
        "decoder_input_train = tar_tokenizer.texts_to_sequences(decoder_input_train) \n",
        "decoder_target_train = tar_tokenizer.texts_to_sequences(decoder_target_train)\n",
        "decoder_input_test = tar_tokenizer.texts_to_sequences(decoder_input_test)\n",
        "decoder_target_test = tar_tokenizer.texts_to_sequences(decoder_target_test)"
      ],
      "execution_count": null,
      "outputs": []
    },
    {
      "cell_type": "code",
      "metadata": {
        "colab": {
          "base_uri": "https://localhost:8080/"
        },
        "id": "sCCa-LXGf2LW",
        "outputId": "fa48d281-748f-4015-8bb0-30720673f935"
      },
      "source": [
        "print(decoder_input_train[:5])"
      ],
      "execution_count": null,
      "outputs": [
        {
          "output_type": "stream",
          "text": [
            "[[4, 7451, 1266, 19477, 12555, 1918, 7452, 122, 6398, 8, 859, 1526, 5224, 6573, 3326, 14438, 7077, 181, 56, 3703, 3704, 4404, 2635, 716, 123, 3474, 13746, 5131, 14439, 6398, 1266, 22496, 160, 453, 8104, 12013, 37961, 9, 10974, 6, 145, 24455, 1660, 26, 73, 137, 799, 2929, 1848, 717, 1734, 8579, 17082, 44254, 1734, 6901, 73, 145, 177, 20863, 960, 5131, 33287, 1103, 3017, 14440, 591, 4478, 3181, 2, 831, 16151, 22497, 578, 704, 3790, 4578, 26, 14439, 8105, 10975, 20864, 1117, 1601, 141, 542, 111, 417, 547, 14439, 37962, 6088, 283, 19478, 501, 625, 14439, 4674, 1813, 489, 13747, 352, 92, 11, 831, 2225, 1919, 14441, 20865, 37963, 12014, 6902, 852, 19, 2636, 1211, 15, 18203, 24, 9819, 22498, 13748, 960, 28, 4932, 3103], [4, 541, 6574, 4326, 2733, 24456, 7453, 3140, 22, 142, 6903, 33288, 1080, 19479, 10976, 525, 8106, 2436, 174, 117, 4326, 1242, 56, 215, 7453, 10977, 123, 6904, 13132, 961, 526, 33289, 453, 624, 453, 215, 37964, 37965, 3226, 526, 33290, 453, 4675, 24457, 961, 8869, 2201, 44, 1, 6574, 86, 16152, 117, 4326, 1242, 7453, 1773, 117, 6254, 19480, 7453, 6739, 4243, 174, 9, 21, 1247, 37965, 215, 37964, 10162, 24457, 4675, 961, 13132, 6904, 961, 526, 33289, 453, 522, 6574, 2201, 123, 67, 2165, 37966, 102, 33291, 1760, 469, 215, 24458, 117, 631, 19480, 44255, 29606, 60, 37967, 2226, 846, 5550, 285, 215, 24458, 22, 142, 15273, 2313, 127, 1484, 12015, 8107, 10, 626, 7454, 7453, 215, 24458, 7, 434, 15274, 1386, 22499, 13749, 575, 44256, 14442, 280, 28, 2774, 6739, 370, 96, 388, 4244, 72, 14442, 380, 12, 215, 7453, 388, 89, 333, 11474, 3475, 1686, 1703, 44257, 206, 114, 1386, 1902, 95, 1562, 24459, 285, 215, 24458, 215, 20866, 8870, 12016, 4479, 33288, 566, 7078, 2100, 409, 2, 8106, 20867, 13750, 2313, 19479, 68, 22500, 42, 16153, 7654, 637, 10976, 409, 29606, 1, 215, 24458, 7079, 1147, 2, 7453, 44258, 29607, 602, 215, 24458, 1386, 22499, 52, 15275, 6399, 906, 5948, 406, 5551, 206, 2137, 64, 5807, 44259, 24, 9820, 215, 7453, 876, 38, 7453, 388, 2841, 2662, 1090, 1, 9820, 117, 15276, 22, 144, 6575, 314, 7453, 1791, 334, 1, 7080, 147, 22, 145, 33292, 817, 2734, 103, 24456, 18204, 11475, 25, 541, 1243, 35], [4, 6255, 1637, 20868, 944, 29608, 19481, 8328, 122, 7, 191, 4579, 5690, 6400, 3916, 7455, 5552, 10, 1491, 2592, 237, 1323, 952, 399, 2314, 14443, 6256, 2, 313, 743, 12, 8329, 29609, 1735, 96, 6400, 1527, 329, 24460, 349, 4842, 324, 6905, 1, 181, 122, 17, 20869, 17083, 44260, 122, 44261, 33293, 6400, 3916, 4405, 1, 37968, 6400, 8108, 18205, 1774, 6, 3580, 4579, 1971, 3421, 3374, 6401, 50, 724, 22501, 10978, 6400, 6906, 29610, 29, 952, 764, 28, 8871, 303, 697, 23, 6400, 6906, 44262, 24461, 1585, 18206, 4405, 2735, 3374, 55, 2735, 15, 6401, 50, 7655, 46, 122, 8872, 15277, 37968, 6400, 8108, 22502, 11476, 3275, 409, 19, 10559, 659, 1, 381, 122, 14444, 237, 952, 299, 8330, 37969, 76, 2314, 14443, 611, 159, 1, 83, 208, 8329, 8580, 7860, 731, 29609, 1735, 96, 6400, 1527, 1563, 678, 349, 20870, 4676, 1, 3917, 37970, 26794, 2, 4042, 438, 3327, 2842, 6400, 6906, 44262, 44263, 12556, 55, 306, 3227, 15278, 17084, 2101, 6257, 8331, 6400, 6906, 44262, 6740, 1361, 220, 97, 4480, 53, 51, 23, 37968, 6400, 44264, 11, 1527, 11477, 19, 12017, 1813, 418, 6741, 19482, 1190, 1374, 1831, 1, 122, 32, 4043, 33294, 385, 29611, 29, 3916, 320, 392, 37968, 6400, 55, 33295, 1324, 1485, 9821, 232, 6089, 1814, 417, 183], [4, 10979, 10979, 7, 145, 6907, 11478, 3918, 10163, 3, 2120, 37971, 1108, 877, 1054, 44265, 20871, 2663, 1104, 16154, 10164, 1299, 7656, 13751, 4481, 24462, 2974, 668, 7657, 16155, 5053, 439, 1375, 10560, 5132, 2593, 29612, 2736, 2775, 24463, 29613, 16156, 412, 4044, 1227, 3476, 4482, 3276, 44266, 4483, 15279, 18207, 29614, 8332, 20872, 91, 1063, 5133, 9492, 12018, 29615, 24464, 5949, 1792, 3421, 4484, 37972, 568, 283, 13133, 7658, 233, 47, 3791, 3534, 5553, 33296, 72, 37973, 10560, 360, 7456, 8873, 13752, 7861, 44267, 43, 9493, 33297, 45, 6089, 11478, 8874, 3328, 22503, 6742, 108, 609, 9492, 253, 1070, 5950, 13134, 8875, 29616, 8581, 2525, 15, 387, 399, 444, 9492, 22504, 126, 7457, 6258, 19483, 237, 12557, 341, 44268, 1031, 29617, 72, 8582, 16157, 19484, 33298, 17085, 4933, 11479, 1704, 13135, 72, 83, 9492, 8876, 2166, 10560, 120, 747, 1792, 953, 3638, 9492, 8333, 9182, 44269, 2, 26795, 5951, 175, 2183, 326, 1127, 4327, 1548, 1191, 449, 1168, 37974, 10560, 22505, 4748, 12557, 14443, 2776, 2437, 2, 12019, 24465, 10560, 3061, 14445, 129, 5425, 945, 29615, 6743, 9822, 22506, 3018, 8583, 2275, 37975, 8584, 525, 9183, 26796, 72, 2385, 14, 43, 22507, 10560, 237, 37976, 1063, 45, 249, 16158, 5554, 1227, 764, 485, 1424, 4176, 3375, 766, 5952, 7659, 9184, 3061, 12558, 7660, 962, 555, 3792, 4843, 668, 91, 1127], [4, 2276, 22508, 1311, 19485, 891, 227, 13753, 224, 16159, 1082, 7079, 14446, 1118, 7, 244, 533, 4749, 5953, 13754, 224, 1082, 7079, 7081, 5555, 5426, 15280, 14447, 86, 14446, 1118, 7, 244, 533, 4749, 5953, 13754, 224, 1082, 7079, 7081, 5555, 5426, 15280, 14447, 14446, 1118, 5808, 13755, 1972, 1083, 22508, 8334, 19485, 5556, 37977, 1149, 13753, 1139, 4750, 26797, 11480, 13136, 2843, 22509, 13137, 10, 3793, 37978, 1619, 85, 3062, 361, 44270, 1219, 800, 84, 1717, 10, 626, 44271, 44272, 3422, 1376, 80, 8334, 19485, 5556, 1149, 2843, 24466, 4177, 10165, 44273, 44274, 24467, 7244, 1398, 8585, 1586, 456, 9, 14446, 1118, 44275, 15281, 384, 16160, 1154, 1862, 18208, 543, 2277, 18209, 137, 239, 5325, 3855, 196, 188, 1718, 33299, 303, 26798, 960, 1083, 22508, 24468, 44276, 33300]]\n"
          ],
          "name": "stdout"
        }
      ]
    },
    {
      "cell_type": "code",
      "metadata": {
        "colab": {
          "base_uri": "https://localhost:8080/"
        },
        "id": "0_Ob0zGsf2LW",
        "outputId": "02523902-ae7a-481d-8af5-fb7c6ef7b7ba"
      },
      "source": [
        "print(decoder_target_train[:5])"
      ],
      "execution_count": null,
      "outputs": [
        {
          "output_type": "stream",
          "text": [
            "[[199, 42, 740, 914, 9800, 20578, 1359, 46109, 48316, 694, 21, 1048, 8631, 44534, 9872, 2898, 110, 1482, 5], [211, 17, 24638, 15997, 8095, 1141, 228, 42, 1926, 300, 1776, 309, 3083, 6280, 231, 1425, 42124, 226, 21, 42, 2757, 49605, 254, 11396, 1166, 683, 6378, 55, 28337, 1002, 727, 24, 2729, 38527, 9021, 21, 42, 2723, 4436, 254, 2727, 13883, 13273, 1808, 1669, 5210, 37, 5], [17390, 22, 3508, 5878, 19978, 1810, 897, 263, 101, 452, 4778, 15532, 27215, 16, 6154, 3077, 5752, 2365, 58, 113, 38470, 1919, 19, 337, 481, 17682, 16259, 49, 36861, 50, 10273, 4156, 22865, 5221, 2, 44992, 12209, 1692, 660, 2432, 1876, 224, 26143, 45, 5], [3433, 36498, 1873, 722, 38425, 95, 1735, 10, 5740, 48182, 17, 7, 482, 305, 10674, 36498, 29970, 1466, 454, 10493, 29973, 4866, 1550, 159, 1, 22110, 38425, 11023, 41856, 29973, 24266, 193, 38423, 15953, 5], [1350, 1350, 10704, 87, 15783, 1, 1350, 19113, 3160, 49227, 1874, 87, 27777, 23328, 313, 1240, 813, 7693, 10300, 30033, 2286, 1669, 12624, 21252, 18539, 517, 7272, 1, 5]]\n"
          ],
          "name": "stdout"
        }
      ]
    },
    {
      "cell_type": "markdown",
      "metadata": {
        "id": "GuKm-Pnvf2LW"
      },
      "source": [
        "## Remove Empty Samples"
      ]
    },
    {
      "cell_type": "code",
      "metadata": {
        "id": "kH2IeACqf2LW"
      },
      "source": [
        "drop_train = [index for index, sentence in enumerate(decoder_input_train) if len(sentence) == 1]\n",
        "drop_test = [index for index, sentence in enumerate(decoder_input_test) if len(sentence) == 1]"
      ],
      "execution_count": null,
      "outputs": []
    },
    {
      "cell_type": "code",
      "metadata": {
        "colab": {
          "base_uri": "https://localhost:8080/"
        },
        "id": "1gILQ2bpf2LW",
        "outputId": "35c0751e-e63e-44d5-f15d-5c74f1046f23"
      },
      "source": [
        "print('삭제할 훈련 데이터의 개수 :',len(drop_train))\n",
        "print('삭제할 테스트 데이터의 개수 :',len(drop_test))"
      ],
      "execution_count": null,
      "outputs": [
        {
          "output_type": "stream",
          "text": [
            "삭제할 훈련 데이터의 개수 : 0\n",
            "삭제할 테스트 데이터의 개수 : 0\n"
          ],
          "name": "stdout"
        }
      ]
    },
    {
      "cell_type": "code",
      "metadata": {
        "colab": {
          "base_uri": "https://localhost:8080/"
        },
        "id": "tUnbPXAJf2LW",
        "outputId": "e836774e-7c65-4f41-d839-b035f168a5b5"
      },
      "source": [
        "encoder_input_train = np.delete(encoder_input_train, drop_train, axis=0)\n",
        "decoder_input_train = np.delete(decoder_input_train, drop_train, axis=0)\n",
        "decoder_target_train = np.delete(decoder_target_train, drop_train, axis=0)\n",
        "\n",
        "encoder_input_test = np.delete(encoder_input_test, drop_test, axis=0)\n",
        "decoder_input_test = np.delete(decoder_input_test, drop_test, axis=0)\n",
        "decoder_target_test = np.delete(decoder_target_test, drop_test, axis=0)\n",
        "\n",
        "print('훈련 데이터의 개수 :', len(encoder_input_train))\n",
        "print('훈련 레이블의 개수 :',len(decoder_input_train))\n",
        "print('테스트 데이터의 개수 :',len(encoder_input_test))\n",
        "print('테스트 레이블의 개수 :',len(decoder_input_test))"
      ],
      "execution_count": null,
      "outputs": [
        {
          "output_type": "stream",
          "text": [
            "훈련 데이터의 개수 : 8927\n",
            "훈련 레이블의 개수 : 8927\n",
            "테스트 데이터의 개수 : 2231\n",
            "테스트 레이블의 개수 : 2231\n"
          ],
          "name": "stdout"
        }
      ]
    },
    {
      "cell_type": "markdown",
      "metadata": {
        "id": "UtaCvw7Pf2LW"
      },
      "source": [
        "## Padding"
      ]
    },
    {
      "cell_type": "code",
      "metadata": {
        "id": "GNhArlQSf2LW"
      },
      "source": [
        "encoder_input_train = pad_sequences(encoder_input_train, maxlen = text_max_len, padding='post')\n",
        "encoder_input_test = pad_sequences(encoder_input_test, maxlen = text_max_len, padding='post')\n",
        "decoder_input_train = pad_sequences(decoder_input_train, maxlen = summary_max_len, padding='post')\n",
        "decoder_target_train = pad_sequences(decoder_target_train, maxlen = summary_max_len, padding='post')\n",
        "decoder_input_test = pad_sequences(decoder_input_test, maxlen = summary_max_len, padding='post')\n",
        "decoder_target_test = pad_sequences(decoder_target_test, maxlen = summary_max_len, padding='post')"
      ],
      "execution_count": null,
      "outputs": []
    },
    {
      "cell_type": "markdown",
      "metadata": {
        "id": "KadADuxlf2LW"
      },
      "source": [
        "## Seq2Seq + Attention Summary Model"
      ]
    },
    {
      "cell_type": "code",
      "metadata": {
        "id": "ljWtz6K9f2LW"
      },
      "source": [
        "from tensorflow.keras.layers import Input, LSTM, Embedding, Dense, Concatenate\n",
        "from tensorflow.keras.models import Model\n",
        "from tensorflow.keras.callbacks import EarlyStopping, ModelCheckpoint"
      ],
      "execution_count": null,
      "outputs": []
    },
    {
      "cell_type": "code",
      "metadata": {
        "colab": {
          "base_uri": "https://localhost:8080/"
        },
        "id": "26Y-2ojqf2LW",
        "outputId": "0e1f4861-8664-4653-c362-6fe5f27a5d32"
      },
      "source": [
        "embedding_dim = 128\n",
        "hidden_size = 256\n",
        "\n",
        "# 인코더\n",
        "encoder_inputs = Input(shape=(text_max_len,))\n",
        "\n",
        "# 인코더의 임베딩 층\n",
        "enc_emb = Embedding(src_vocab, embedding_dim)(encoder_inputs)\n",
        "\n",
        "# 인코더의 LSTM 1\n",
        "encoder_lstm1 = LSTM(hidden_size, return_sequences=True, return_state=True ,dropout = 0.4, recurrent_dropout = 0.4)\n",
        "encoder_output1, state_h1, state_c1 = encoder_lstm1(enc_emb)\n",
        "\n",
        "# 인코더의 LSTM 2\n",
        "encoder_lstm2 = LSTM(hidden_size, return_sequences=True, return_state=True, dropout=0.4, recurrent_dropout=0.4)\n",
        "encoder_output2, state_h2, state_c2 = encoder_lstm2(encoder_output1)\n",
        "\n",
        "# 인코더의 LSTM 3\n",
        "encoder_lstm3 = LSTM(hidden_size, return_state=True, return_sequences=True, dropout=0.4, recurrent_dropout=0.4)\n",
        "encoder_outputs, state_h, state_c= encoder_lstm3(encoder_output2)"
      ],
      "execution_count": null,
      "outputs": [
        {
          "output_type": "stream",
          "text": [
            "WARNING:tensorflow:Layer lstm_12 will not use cuDNN kernel since it doesn't meet the cuDNN kernel criteria. It will use generic GPU kernel as fallback when running on GPU\n",
            "WARNING:tensorflow:Layer lstm_13 will not use cuDNN kernel since it doesn't meet the cuDNN kernel criteria. It will use generic GPU kernel as fallback when running on GPU\n",
            "WARNING:tensorflow:Layer lstm_14 will not use cuDNN kernel since it doesn't meet the cuDNN kernel criteria. It will use generic GPU kernel as fallback when running on GPU\n"
          ],
          "name": "stdout"
        }
      ]
    },
    {
      "cell_type": "code",
      "metadata": {
        "colab": {
          "base_uri": "https://localhost:8080/"
        },
        "id": "wPYbNF6vf2LW",
        "outputId": "5959ed15-0501-4ce6-cbb2-85329ec40e35"
      },
      "source": [
        "# 디코더\n",
        "decoder_inputs = Input(shape=(None,))\n",
        "\n",
        "# 디코더의 임베딩 층\n",
        "dec_emb_layer = Embedding(tar_vocab, embedding_dim)\n",
        "dec_emb = dec_emb_layer(decoder_inputs)\n",
        "\n",
        "# 디코더의 LSTM\n",
        "decoder_lstm = LSTM(hidden_size, return_sequences = True, return_state = True, dropout = 0.4, recurrent_dropout=0.2)\n",
        "decoder_outputs, _, _ = decoder_lstm(dec_emb, initial_state = [state_h, state_c])"
      ],
      "execution_count": null,
      "outputs": [
        {
          "output_type": "stream",
          "text": [
            "WARNING:tensorflow:Layer lstm_15 will not use cuDNN kernel since it doesn't meet the cuDNN kernel criteria. It will use generic GPU kernel as fallback when running on GPU\n"
          ],
          "name": "stdout"
        }
      ]
    },
    {
      "cell_type": "code",
      "metadata": {
        "colab": {
          "base_uri": "https://localhost:8080/"
        },
        "id": "O0Ecc59qf2LW",
        "outputId": "fd62b166-6ef5-49fa-cc1e-f51037d29f6a"
      },
      "source": [
        "# 디코더의 출력층\n",
        "decoder_softmax_layer = Dense(tar_vocab, activation = 'softmax')\n",
        "decoder_softmax_outputs = decoder_softmax_layer(decoder_outputs) \n",
        "\n",
        "# 모델 정의\n",
        "model = Model([encoder_inputs, decoder_inputs], decoder_softmax_outputs)\n",
        "model.summary()"
      ],
      "execution_count": null,
      "outputs": [
        {
          "output_type": "stream",
          "text": [
            "Model: \"functional_21\"\n",
            "__________________________________________________________________________________________________\n",
            "Layer (type)                    Output Shape         Param #     Connected to                     \n",
            "==================================================================================================\n",
            "input_13 (InputLayer)           [(None, 300)]        0                                            \n",
            "__________________________________________________________________________________________________\n",
            "embedding_6 (Embedding)         (None, 300, 128)     6400000     input_13[0][0]                   \n",
            "__________________________________________________________________________________________________\n",
            "lstm_12 (LSTM)                  [(None, 300, 256), ( 394240      embedding_6[0][0]                \n",
            "__________________________________________________________________________________________________\n",
            "input_14 (InputLayer)           [(None, None)]       0                                            \n",
            "__________________________________________________________________________________________________\n",
            "lstm_13 (LSTM)                  [(None, 300, 256), ( 525312      lstm_12[0][0]                    \n",
            "__________________________________________________________________________________________________\n",
            "embedding_7 (Embedding)         (None, None, 128)    6400000     input_14[0][0]                   \n",
            "__________________________________________________________________________________________________\n",
            "lstm_14 (LSTM)                  [(None, 300, 256), ( 525312      lstm_13[0][0]                    \n",
            "__________________________________________________________________________________________________\n",
            "lstm_15 (LSTM)                  [(None, None, 256),  394240      embedding_7[0][0]                \n",
            "                                                                 lstm_14[0][1]                    \n",
            "                                                                 lstm_14[0][2]                    \n",
            "__________________________________________________________________________________________________\n",
            "dense_6 (Dense)                 (None, None, 50000)  12850000    lstm_15[0][0]                    \n",
            "==================================================================================================\n",
            "Total params: 27,489,104\n",
            "Trainable params: 27,489,104\n",
            "Non-trainable params: 0\n",
            "__________________________________________________________________________________________________\n"
          ],
          "name": "stdout"
        }
      ]
    },
    {
      "cell_type": "code",
      "metadata": {
        "id": "dgFP5r0vf2LX"
      },
      "source": [
        "urllib.request.urlretrieve(\"https://raw.githubusercontent.com/thushv89/attention_keras/master/src/layers/attention.py\", filename=\"attention.py\")\n",
        "from attention import AttentionLayer"
      ],
      "execution_count": null,
      "outputs": []
    },
    {
      "cell_type": "code",
      "metadata": {
        "colab": {
          "base_uri": "https://localhost:8080/"
        },
        "id": "O8YU6nZEf2LX",
        "outputId": "f9124f91-c61b-4a35-a0c3-0e7334ed135e"
      },
      "source": [
        "# 어텐션 층(어텐션 함수)\n",
        "attn_layer = AttentionLayer(name='attention_layer')\n",
        "attn_out, attn_states = attn_layer([encoder_outputs, decoder_outputs])\n",
        "\n",
        "# 어텐션의 결과와 디코더의 hidden state들을 연결\n",
        "decoder_concat_input = Concatenate(axis = -1, name='concat_layer')([decoder_outputs, attn_out])\n",
        "\n",
        "# 디코더의 출력층\n",
        "decoder_softmax_layer = Dense(tar_vocab, activation='softmax')\n",
        "decoder_softmax_outputs = decoder_softmax_layer(decoder_concat_input)\n",
        "\n",
        "# 모델 정의\n",
        "model = Model([encoder_inputs, decoder_inputs], decoder_softmax_outputs)\n",
        "model.summary()"
      ],
      "execution_count": null,
      "outputs": [
        {
          "output_type": "stream",
          "text": [
            "Model: \"functional_23\"\n",
            "__________________________________________________________________________________________________\n",
            "Layer (type)                    Output Shape         Param #     Connected to                     \n",
            "==================================================================================================\n",
            "input_13 (InputLayer)           [(None, 300)]        0                                            \n",
            "__________________________________________________________________________________________________\n",
            "embedding_6 (Embedding)         (None, 300, 128)     6400000     input_13[0][0]                   \n",
            "__________________________________________________________________________________________________\n",
            "lstm_12 (LSTM)                  [(None, 300, 256), ( 394240      embedding_6[0][0]                \n",
            "__________________________________________________________________________________________________\n",
            "input_14 (InputLayer)           [(None, None)]       0                                            \n",
            "__________________________________________________________________________________________________\n",
            "lstm_13 (LSTM)                  [(None, 300, 256), ( 525312      lstm_12[0][0]                    \n",
            "__________________________________________________________________________________________________\n",
            "embedding_7 (Embedding)         (None, None, 128)    6400000     input_14[0][0]                   \n",
            "__________________________________________________________________________________________________\n",
            "lstm_14 (LSTM)                  [(None, 300, 256), ( 525312      lstm_13[0][0]                    \n",
            "__________________________________________________________________________________________________\n",
            "lstm_15 (LSTM)                  [(None, None, 256),  394240      embedding_7[0][0]                \n",
            "                                                                 lstm_14[0][1]                    \n",
            "                                                                 lstm_14[0][2]                    \n",
            "__________________________________________________________________________________________________\n",
            "attention_layer (AttentionLayer ((None, None, 256),  131328      lstm_14[0][0]                    \n",
            "                                                                 lstm_15[0][0]                    \n",
            "__________________________________________________________________________________________________\n",
            "concat_layer (Concatenate)      (None, None, 512)    0           lstm_15[0][0]                    \n",
            "                                                                 attention_layer[0][0]            \n",
            "__________________________________________________________________________________________________\n",
            "dense_7 (Dense)                 (None, None, 50000)  25650000    concat_layer[0][0]               \n",
            "==================================================================================================\n",
            "Total params: 40,420,432\n",
            "Trainable params: 40,420,432\n",
            "Non-trainable params: 0\n",
            "__________________________________________________________________________________________________\n"
          ],
          "name": "stdout"
        }
      ]
    },
    {
      "cell_type": "code",
      "metadata": {
        "id": "ZVUvAkOYf2LX"
      },
      "source": [
        "model.compile(optimizer='rmsprop', loss='sparse_categorical_crossentropy')"
      ],
      "execution_count": null,
      "outputs": []
    },
    {
      "cell_type": "code",
      "metadata": {
        "scrolled": true,
        "colab": {
          "base_uri": "https://localhost:8080/"
        },
        "id": "aeEpa4Eif2LX",
        "outputId": "679bd39f-d4b5-47bb-ebdb-01ea59bf9d9e"
      },
      "source": [
        "es = EarlyStopping(monitor='val_loss', mode='min', verbose=1, patience = 5)\n",
        "history = model.fit(x = [encoder_input_train, decoder_input_train], y = decoder_target_train, \\\n",
        "          validation_data = ([encoder_input_test, decoder_input_test], decoder_target_test),\n",
        "          batch_size = 32, callbacks=[es], epochs = 20)"
      ],
      "execution_count": null,
      "outputs": [
        {
          "output_type": "stream",
          "text": [
            "Epoch 1/20\n",
            "279/279 [==============================] - 1007s 4s/step - loss: 6.1816 - val_loss: 5.7932\n",
            "Epoch 2/20\n",
            "279/279 [==============================] - 1004s 4s/step - loss: 5.9237 - val_loss: 5.9227\n",
            "Epoch 3/20\n",
            "279/279 [==============================] - 1004s 4s/step - loss: 5.8385 - val_loss: 5.8447\n",
            "Epoch 4/20\n",
            "279/279 [==============================] - 1005s 4s/step - loss: 5.7729 - val_loss: 5.8635\n",
            "Epoch 5/20\n",
            "279/279 [==============================] - 1007s 4s/step - loss: 5.6950 - val_loss: 5.9991\n",
            "Epoch 6/20\n",
            "279/279 [==============================] - 1006s 4s/step - loss: 5.6458 - val_loss: 5.9444\n",
            "Epoch 00006: early stopping\n"
          ],
          "name": "stdout"
        }
      ]
    },
    {
      "cell_type": "code",
      "metadata": {
        "colab": {
          "base_uri": "https://localhost:8080/",
          "height": 266
        },
        "id": "jaNCc_wVf2LX",
        "outputId": "b9087b9b-cb9e-4097-ec6d-32558c074cc4"
      },
      "source": [
        "plt.plot(history.history['loss'], label='train')\n",
        "plt.plot(history.history['val_loss'], label='test')\n",
        "plt.legend()\n",
        "plt.show()"
      ],
      "execution_count": null,
      "outputs": [
        {
          "output_type": "display_data",
          "data": {
            "image/png": "[encoded data removed]",
            "text/plain": [
              "<Figure size 432x288 with 1 Axes>"
            ]
          },
          "metadata": {
            "tags": [],
            "needs_background": "light"
          }
        }
      ]
    },
    {
      "cell_type": "markdown",
      "metadata": {
        "id": "8Yf4Tinaf2LX"
      },
      "source": [
        "## Evaluation"
      ]
    },
    {
      "cell_type": "code",
      "metadata": {
        "id": "T94_Sx0Gf2LX"
      },
      "source": [
        "src_index_to_word = src_tokenizer.index_word # 원문 단어 집합에서 정수 -> 단어를 얻음\n",
        "tar_word_to_index = tar_tokenizer.word_index # 요약 단어 집합에서 단어 -> 정수를 얻음\n",
        "tar_index_to_word = tar_tokenizer.index_word # 요약 단어 집합에서 정수 -> 단어를 얻음"
      ],
      "execution_count": null,
      "outputs": []
    },
    {
      "cell_type": "code",
      "metadata": {
        "id": "hO63d92sf2LX"
      },
      "source": [
        "# 인코더 설계\n",
        "encoder_model = Model(inputs=encoder_inputs, outputs=[encoder_outputs, state_h, state_c])"
      ],
      "execution_count": null,
      "outputs": []
    },
    {
      "cell_type": "code",
      "metadata": {
        "id": "9ad4vzRdf2LX"
      },
      "source": [
        "# 이전 시점의 상태들을 저장하는 텐서\n",
        "decoder_state_input_h = Input(shape=(hidden_size,))\n",
        "decoder_state_input_c = Input(shape=(hidden_size,))\n",
        "\n",
        "dec_emb2 = dec_emb_layer(decoder_inputs)\n",
        "# 문장의 다음 단어를 예측하기 위해서 초기 상태(initial_state)를 이전 시점의 상태로 사용. 이는 뒤의 함수 decode_sequence()에 구현\n",
        "# 훈련 과정에서와 달리 LSTM의 리턴하는 은닉 상태와 셀 상태인 state_h와 state_c를 버리지 않음.\n",
        "decoder_outputs2, state_h2, state_c2 = decoder_lstm(dec_emb2, initial_state=[decoder_state_input_h, decoder_state_input_c])"
      ],
      "execution_count": null,
      "outputs": []
    },
    {
      "cell_type": "code",
      "metadata": {
        "id": "H-p_btksf2LX"
      },
      "source": [
        "# 어텐션 함수\n",
        "decoder_hidden_state_input = Input(shape=(text_max_len, hidden_size))\n",
        "attn_out_inf, attn_states_inf = attn_layer([decoder_hidden_state_input, decoder_outputs2])\n",
        "decoder_inf_concat = Concatenate(axis=-1, name='concat')([decoder_outputs2, attn_out_inf])\n",
        "\n",
        "# 디코더의 출력층\n",
        "decoder_outputs2 = decoder_softmax_layer(decoder_inf_concat) \n",
        "\n",
        "# 최종 디코더 모델\n",
        "decoder_model = Model(\n",
        "    [decoder_inputs] + [decoder_hidden_state_input,decoder_state_input_h, decoder_state_input_c],\n",
        "    [decoder_outputs2] + [state_h2, state_c2])"
      ],
      "execution_count": null,
      "outputs": []
    },
    {
      "cell_type": "code",
      "metadata": {
        "id": "70ElgDmvf2LX"
      },
      "source": [
        "def decode_sequence(input_seq):\n",
        "    # 입력으로부터 인코더의 상태를 얻음\n",
        "    e_out, e_h, e_c = encoder_model.predict(input_seq)\n",
        "\n",
        "     # <SOS>에 해당하는 토큰 생성\n",
        "    target_seq = np.zeros((1,1))\n",
        "    target_seq[0, 0] = tar_word_to_index['sostoken']\n",
        "\n",
        "    stop_condition = False\n",
        "    decoded_sentence = ''\n",
        "    while not stop_condition: # stop_condition이 True가 될 때까지 루프 반복\n",
        "\n",
        "        output_tokens, h, c = decoder_model.predict([target_seq] + [e_out, e_h, e_c])\n",
        "        sampled_token_index = np.argmax(output_tokens[0, -1, :])\n",
        "        if sampled_token_index != 0:\n",
        "          sampled_token = tar_index_to_word[sampled_token_index]\n",
        "        else:\n",
        "          sampled_token = 'eostoken'\n",
        "\n",
        "        if(sampled_token!='eostoken'):\n",
        "            decoded_sentence += ' '+sampled_token\n",
        "\n",
        "        #  <eos>에 도달하거나 최대 길이를 넘으면 중단.\n",
        "        if (sampled_token == 'eostoken'  or len(decoded_sentence.split()) >= (summary_max_len-1)):\n",
        "            stop_condition = True\n",
        "\n",
        "        # 길이가 1인 타겟 시퀀스를 업데이트\n",
        "        target_seq = np.zeros((1,1))\n",
        "        target_seq[0, 0] = sampled_token_index\n",
        "\n",
        "        # 상태를 업데이트 합니다.\n",
        "        e_h, e_c = h, c\n",
        "\n",
        "    return decoded_sentence"
      ],
      "execution_count": null,
      "outputs": []
    },
    {
      "cell_type": "code",
      "metadata": {
        "id": "AyOorp5Hf2LX"
      },
      "source": [
        "# 원문의 정수 시퀀스를 텍스트 시퀀스로 변환\n",
        "def seq2text(input_seq):\n",
        "    temp=''\n",
        "    for i in input_seq:\n",
        "        if(i!=0):\n",
        "            temp = temp + src_index_to_word[i]+' '\n",
        "    return temp\n",
        "\n",
        "# 요약문의 정수 시퀀스를 텍스트 시퀀스로 변환\n",
        "def seq2summary(input_seq):\n",
        "    temp=''\n",
        "    for i in input_seq:\n",
        "        if((i!=0 and i!=tar_word_to_index['sostoken']) and i!=tar_word_to_index['eostoken']):\n",
        "            temp = temp + tar_index_to_word[i] + ' '\n",
        "    return temp"
      ],
      "execution_count": null,
      "outputs": []
    },
    {
      "cell_type": "code",
      "metadata": {
        "colab": {
          "base_uri": "https://localhost:8080/"
        },
        "id": "tHY855Cof2LX",
        "outputId": "09a005da-0058-4dd1-faf9-48e657672c08"
      },
      "source": [
        "for i in range(500, 510):\n",
        "    print(\"원문 : \",seq2text(encoder_input_test[i]))\n",
        "    print(\"실제 요약문 :\",seq2summary(decoder_input_test[i]))\n",
        "    print(\"예측 요약문 :\",decode_sequence(encoder_input_test[i].reshape(1, text_max_len)))\n",
        "    print(\"\\n\")"
      ],
      "execution_count": null,
      "outputs": [
        {
          "output_type": "stream",
          "text": [
            "원문 :  이은창 낡은 학교 새긴 섬마을 아이들 여수 전교생 3일간 벽화 작업 전남 여수 학생들이 낡은 자신들의 꿈을 그린 그림으로 꾸몄다 전남도교육청 제공 바닷가 낡은 학교 건물 아이들의 꿈을 담은 아름다운 여수 전교생 8명은 최근 활동의 일환으로 교사와 함께 닮은 우리들의 완성했다 학생들이 중심이 추진한 벽화 동시에 이뤄졌다 주제로 아이들의 생각과 아름다운 세상을 표현했다 상징인 백야 바다 아이들의 모습을 그렸다 작업은 전교생 교직원들이 함께 동안 진행했다 학생들은 교내 다목적실에서 그림을 그린 전문가의 자문을 받아 벽에 그림 부착했다 벽화 전교생 8명과 교직원 학부모들이 함께 참여해 3일 동안 직접 그림을 작업을 했다 지난 4월 구상을 별로 작업을 진행했다 이번 통해 낡고 오래 미관을 학교 건물의 산뜻하게 작업 과정에서 간의 선후배 친구와 협력과 배려를 배우는 의미있는 시간도 가졌다 교사는 “학생들이 자신의 손으로 학교를 아름답게 꾸밀 있어 자부심을 가졌고 학교 사랑과 자랑스럽게 생각하는 갖게 됐다”고 말했다 6학년 예쁘게 바뀌어 학교에 오는 것이 소감을 밝혔다 교장은 통해 학생과 교직원 아니라 지역주민들에게 새로운 감성과 주고 있어 앞으로도 지속적으로 아름다운 교육 공간을 만들기 위해 노력하겠다”고 말했다 이은창 lec namdonews \n",
            "실제 요약문 : 과정에서 사제 간의 선후배 친밀감 친구와 협력과 배려를 배우는 의미있는 시간도 가졌다 교사는 “학생들이 자신의 손으로 학교를 아름답게 꾸밀 있어 자부심을 가졌고 학교 사랑과 자랑스럽게 생각하는 갖게 됐다”고 말했다 6학년 예쁘게 바뀌어 학교에 오는 것이 소감을 밝혔다 교장은 통해 학생과 교직원 아니라 지역주민들에게 새로운 감성과 행복감을 주고 있어 앞으로도 지속적으로 아름다운 교육 공간을 만들기 위해 노력하겠다”고 말했다 이은창 lec namdonews \n",
            "예측 요약문 :  전남 지난 따르면 위해 위해 위해 위해 밝혔다 밝혔다 밝혔다 밝혔다 밝혔다 밝혔다 밝혔다 밝혔다 밝혔다 밝혔다 밝혔다 밝혔다 밝혔다 위해 위해 있다 있다 있다 있다 있다 있다 통해 통해 통해 통해 통해 통해 있는 있는 있는 있는\n",
            "\n",
            "\n",
            "원문 :  박성철 21일부터 25일까지 교실 어울림 축제’를 개최한다고 22일 밝혔다 2012년부터 세계 여러 나라의 다양한 문화 체험을 통해 다문화가정 자녀 일반 학생들의 적성을 문화 상호 이해를 높이기 위해 매년 어울림 축제를 운영하고 있다 올해 주제는 선정하고 어울림 어울림 어울림 어울림 다양한 프로그램을 준비했다 어울림 연계해 친구들 국가의 나라 언어로 함께 부르며 공감대를 형성할 있도록 했고 어울림 다문화 영역 프로그램으로 운영된 한국문화 어린이 외교관 활동을 통해 배우고 익힌 태권도 한국 동요 기타 연주와 학생 공연 등이 이뤄졌다 또한 안산 뮤지컬 ai 공연을 통해 학생들이 자신의 재능과 끼를 표현하고 다양한 문화를 체험할 있는 기회도 마련했다 21일과 22일에는 한국 학생들과 다문화가정 학생들이 함께 하나가 되는 운영됐다 더불어 살아가는 자질과 마음가짐을 다지기 위해 연계한 사랑의 만들기 나라의 문화로 꾸미기 문화와 표현을 통해 자신의 모습을 살펴보고 스스로를 가꾸는 나만의 만들기 행사 등이 진행됐다 만들기와 체험 등이 이뤄지는 다양한 게임을 통해 즐겁게 맛보고 체험할 있는 아이스하키 보드게임 등을 체험할 있는 등이 진행될 예정이다 축제의 학생회 주관으로 아마존 보호 운영해 중요성과 파괴 실태를 알리고 학생들이 지구촌 문제에 관심을 가질 있는 계기를 제공할 예정이다 축제를 주관한 교사는 주제를 가지고 깊이 있게 체험하는 축제를 준비했다 축제를 통해 아직 학교생활에 익숙하지 않은 친구들과 모든 친구들이 서로에게 도움을 주며 소속감과 적응력을 높이는 행사가 되길 바란다고 말했다 \n",
            "실제 요약문 : 즐겁게 맛보고 체험할 있는 아이스하키 보드게임 등을 체험할 있는 등이 진행될 예정이다 축제의 학생회 주관으로 아마존 보호 운영해 중요성과 파괴 실태를 알리고 학생들이 지구촌 문제에 관심을 가질 있는 계기를 제공할 예정이다 축제를 주관한 교사는 주제를 가지고 깊이 있게 체험하는 축제를 준비했다 축제를 통해 아직 학교생활에 익숙하지 않은 친구들과 모든 친구들이 서로에게 도움을 주며 소속감과 적응력을 높이는 행사가 되길 바란다고 말했다 \n",
            "예측 요약문 :  지난 지난 따르면 위해 위해 위해 위해 밝혔다 밝혔다 밝혔다 밝혔다 밝혔다 밝혔다 밝혔다 밝혔다 밝혔다 밝혔다 밝혔다 밝혔다 밝혔다 위해 위해 위해 있다 있다 있다 있다 있다 통해 통해 통해 통해 통해 통해 통해 통해 있는 있는\n",
            "\n",
            "\n",
            "원문 :  경기도와 경기도시공사가 주력하고 있는 3기 신도시 개발사업 참여 지분 비율 확대에 경기도의회 역시 힘을 싣고 나설 것으로 전망된다 21일 도의회에 따르면 3기 신도시 개발사업 하남 과천 공공주택지구 조성에 대한 신규투자사업 추진 동의안을 도의회에 제출했다 국토교통부 한국토지주택공사 등과 3기 신도시 사업 참여 비율 역할에 대한 협의를 진행 중인 가운데 도의회의 사업 승인을 기반으로 사업 참여 비율 확대에 대응할 방침이다 제출된 하남 40 50 까지 참여율 확보를 추진하겠다는 사업의 참여 비율 제시됐다 하남 조성사업의 사업비는 각각 원으로 도시공사가 40 참여 비율 확보 달성 각각 원을 된다 도의회의 이번 동의안 승인 여부는 도시공사의 3기 신도시 확보 제고에 영향을 미칠 예정으로 도의회 역시 나설 것으로 있다 도의회 산하 공기업이 힘을 받을 있어야 한다 이전부터 논의된 사안인 만큼 것이라며 26일 상임위 논의를 통해 동의안 처리 방향을 결정할 것이라고 말했다 여기에 더해 비롯한 도의원 3기 신도시 사업 참여 지분 확대 발의 국토부와 국회 lh 등에 3기 신도시 사업에 대한 도시공사 참여 비율 확대를 촉구할 예정이다 의원 등은 지금까지 신도시 사업 대부분은 lh가 주택 공급 도민의 지역 개발사업에 있다며 이를 해결하기 위해서는 도내 개발사업을 맡아 도시공사가 3기 신도시 사업에 주도적으로 참여해 안정적으로 추진되도록 해야 한다고 밝혔다 남궁진 why0524 \n",
            "실제 요약문 : 방향을 결정할 것이라고 말했다 여기에 더해 비롯한 도의원 3기 신도시 사업 참여 지분 확대 발의 국토부와 국회 lh 등에 3기 신도시 사업에 대한 도시공사 참여 비율 확대를 촉구할 예정이다 의원 등은 지금까지 신도시 사업 대부분은 lh가 주택 공급 도민의 지역 개발사업에 있다며 이를 해결하기 위해서는 도내 개발사업을 맡아 3기 신도시 사업에 주도적으로 참여해 안정적으로 추진되도록 해야 한다고 밝혔다 남궁진 why0524 \n",
            "예측 요약문 :  지난 지난 따르면 위해 위해 위해 위해 밝혔다 밝혔다 밝혔다 밝혔다 밝혔다 밝혔다 밝혔다 밝혔다 밝혔다 밝혔다 밝혔다 밝혔다 밝혔다 위해 위해 있다 있다 있다 있다 있다 있다 통해 통해 통해 통해 통해 통해 통해 있는 있는 있는\n",
            "\n",
            "\n",
            "원문 :  최연수 여수 인구 이전 수준으로 줄어 감소세 상반기에만 유출 신규 아파트 분양 주소지 옮긴 여수시 인구가 안돼 키우며 증가 이전 수준의 하락세로 돌아섰다 결국 여수시 인구 증가 정책의 문제점이 고스란히 드러나면서 근본 대책 마련이 시급하다는 지적이 나오고 있다 2일 여수시에 따르면 기준 여수시의 인구는 5월 줄었다 여수시가 대대적인 홍보에 4월말 기준 비교해도 오히려 수치다 이는 감소한 수치로 지속적인 감소세를 보여 흐름을 못한 것이라는 분석이다 앞서 여수시는 지난 4월말 인구가 시장의 강력한 인구 증가 의지가 담긴 책임 되기 효과를 대대적인 홍보에 나섰다 특히 4월 입주를 시작한 웅천지구 한화 주요 꼽았다 하지만 2천여 세대에 이르는 입주 시작과 공무원들을 이전 효과도 달이 못하면서 여수시 한계를 고스란히 드러냈다 실제 4월 본격적인 입주를 시작한 현재 1천300여 세대에 이르고 있는 점을 감안하면 여수시의 오히려 폭을 키우고 있다는 분석이다 지역 일각에서는 여수시의 지속적 최근 개발 바람에 급격한 부동산 가격 상승 주거 때문이라는 지적도 나오고 있다 이와 관련 여수시는 “최근 순천지역 신규 아파트 분양을 위해 순천으로 주소지를 인구가 상당한 때문인 것”으로 분석했다 인구 감소가 일시적 것이란 여전한 인구감소 흐름을 면치 못하고 있는 여수시의 보다 적극적인 행정이 요구된다 한편 여수시 인구는 지난 1998년 여수시와 통합 이후 기록했다 통합 이후 선을 유지하다 2006년 3월 기록하며 선이 무너졌다 동부취재본부 최연수 karma4 namdonews co \n",
            "실제 요약문 : 가격 상승 주거 때문이라는 지적도 나오고 있다 이와 관련 여수시는 “최근 순천지역 신규 아파트 분양을 위해 주소지를 인구가 상당한 때문인 것”으로 분석했다 인구 감소가 일시적 것이란 여전한 인구감소 흐름을 면치 못하고 있는 여수시의 보다 적극적인 행정이 요구된다 한편 여수시 인구는 지난 1998년 여수시와 통합 이후 기록했다 통합 이후 선을 유지하다 2006년 3월 기록하며 선이 무너졌다 동부취재본부 최연수 karma4 namdonews co \n",
            "예측 요약문 :  전남 지난 따르면 위해 위해 위해 위해 밝혔다 밝혔다 밝혔다 밝혔다 밝혔다 밝혔다 밝혔다 밝혔다 밝혔다 밝혔다 밝혔다 밝혔다 밝혔다 위해 위해 있다 있다 있다 있다 있다 있다 통해 통해 통해 통해 통해 있는 있는 있는 있는\n",
            "\n",
            "\n",
            "원문 :  남궁진 방지 조례 도의회 15일 22일 심의 경기도내 어린이들의 피해를 최소화하기 위해 가정과 어린이 방지 사항을 규정한 조례 제정이 추진된다 경기도의회 ‘경기도 어린이 방지 조례안’을 10일 밝혔다 조례안은 오는 열리는 임시회에서 조례안은 어린이의 방지를 위한 환경 조성과 정책 수립 시행을 위한 협력체계 구축 지원 방안 마련 등을 도지사의 담았다 도는 어린이 방지를 위한 각종 프로그램 개발 등의 사업에 나설 있도록 했다 도민들의 포함 도민들이 의한 동시에 어린이가 노출되지 않도록 노력해야 한다는 내용을 포함했다 특히 가정 주변 등에 대한 방지 조항을 마련해 어린이 보호자는 가정 내에서 뿐만 아니라 어린이가 노출되지 않도록 등에 않도록 하고 어린이집 학교 어린이 관련 시설 주변에서 방지에 나서야 한다는 노력 사항을 반영했다 김원기 부의장은 어린이는 스스로의 의지로 피하기 어려워 보호의 필요성이 더욱 어린이가 쾌적한 환경에서 성장할 있도록 하는 것은 전체의 인식 아래 제도적 근거를 마련하기 위한 것이라고 발의 배경을 설명했다 \n",
            "실제 요약문 : 주변 등에 대한 간접흡연 방지 조항을 마련해 어린이 보호자는 가정 내에서 뿐만 아니라 어린이가 노출되지 않도록 등에 않도록 하고 어린이집 학교 어린이 관련 시설 주변에서 간접흡연 방지에 나서야 한다는 노력 사항을 반영했다 김원기 부의장은 어린이는 스스로의 의지로 피하기 어려워 보호의 필요성이 더욱 어린이가 쾌적한 환경에서 성장할 있도록 하는 것은 전체의 인식 아래 제도적 근거를 마련하기 위한 것이라고 발의 배경을 설명했다 \n",
            "예측 요약문 :  인천시 지난 따르면 위해 위해 위해 위해 있다 밝혔다 밝혔다 밝혔다 밝혔다 밝혔다 밝혔다 밝혔다 밝혔다 밝혔다 밝혔다 밝혔다 위해 위해 있다 있다 있다 있다\n",
            "\n",
            "\n",
            "원문 :  김상현 도교육청 경기 북부 학생 토론회 50여 참여 남북 교류 정치 교실 운영 제안 경기도교육청이 28일 개최한 ‘지역 함께하는 교육정책 토론회’에서 경기북부지역 학생들이 이재정 기념촬영을 하고 있다 경기도교육청은 ‘지역 함께 하는 교육정책 토론회’를 열고 경기북부지역 학생들이 제시한 교육정책 아이디어를 적극 29일 밝혔다 지난 28일 도교육청 북부청사 실시된 토론회는 이재정 교육감과 학교 50여 명이 참석했다 토론회는 지역 순차적으로 제안하면 이재정 교육감이 일일이 답변하는 형식으로 이뤄졌다 학생들은 학생 외교관 제도 도입과 수립 학생 참여를 요구했다 파주지역 학생들도 학교민주주의 학생자치 활성화를 위해 학생들이 참여해야 한다고 주장하는 학교 운영 전반에 학생 참여율을 쏟아냈다 특히 정치 통일 이슈 등을 활용한 맞춤형 제안도 상당수 나왔다 학생들은 접경지역의 지리적 이점을 활용하고 통일을 대비한 인재 양성을 위해 북한 특화한 설립을 제안했다 학생들은 남북 학생 교류 활성화와 멘토 시스템 운영을 학생들은 사회를 비롯해 정치 문제에 대한 향상을 위해 운영을 요구했다 외에도 학생들은 도시 재개발사업으로 인해 방치된 새로운 학생들을 위한 활용해야 한다고 강조했다 이재정 교육감은 바로 실행할 있는 제안은 적극 반영하고 현실적으로 어려운 대안으로 대체하는 토론회를 계기로 학교 현장을 \n",
            "실제 요약문 : 나왔다 학생들은 접경지역의 지리적 이점을 활용하고 통일을 대비한 인재 양성을 위해 북한 설립을 제안했다 학생들은 남북 학생 교류 활성화와 멘토 시스템 운영을 학생들은 사회를 비롯해 정치 문제에 대한 향상을 위해 운영을 요구했다 외에도 학생들은 도시 재개발사업으로 인해 방치된 새로운 학생들을 위한 활용해야 한다고 강조했다 이재정 교육감은 바로 실행할 있는 제안은 적극 반영하고 현실적으로 어려운 대안으로 대체하는 토론회를 계기로 학교 현장을 \n",
            "예측 요약문 :  전남 지난 따르면 위해 위해 위해 위해 밝혔다 밝혔다 밝혔다 밝혔다 밝혔다 밝혔다 밝혔다 밝혔다 밝혔다 밝혔다 밝혔다 밝혔다 밝혔다 위해 위해 있다 있다 있다 있다 있다 있다 통해 통해 통해 통해 통해 통해 통해 있는 있는 있는\n",
            "\n",
            "\n",
            "원문 :  정은빈 “더 나은 복지 제공하고 지역 강원 산불 역할 청원 참여 돌파 국가직 공무원으로 전환해 달라는 요청이 잇따르고 있다 7일 제목의 청원 참여 인원은 게시 이틀 만에 명을 돌파했다 강원 등지에 대형 다음날인 지난 5일 청와대 국민청원에 올라왔다 청원인은 두고 지역이 세금으로 관련 예산을 하면 면적이 인구 수가 적은 지역은 화재에 수밖에 없다”면서 전환해 나은 복지를 제공하고 모든 지역의 안전 수준을 높여야 한다”고 촉구했다 국가직 전환을 바라는 대형 화재가 잇따르자 높아졌다 특히 강원 산불 진화에 전국 소방관이 동원된 점이 기폭제가 됐다 지난 4일 오후 시작된 불이 주변으로 빠르게 대구 전국 지시했다 강원 산불 소방차 현재 소방 공무원은 기준으로 2 뿐이다 국가직 등에서 근무하는 해당한다 나머지 98 8 는 각자 시·도의 속해 해당 지휘를 받는다 일선 소방관이 대형 발생해 지역의 지원이 필요할 현재보다 빠르게 대응할 있다 소방 업무가 지방 것은 화재 규모가 비교적 시·도 지원의 필요성도 적었다 소방 대한 논의는 지난 2014년부터 이뤄졌지만 국회를 통과하지 못하고 있다 지방공무원법 이른바 지방자치단체에 두는 관한 법률 4가지 법률을 한다 이들 법률 개정안은 지난해 11월 국회 최종 이르지 못했다 당초 상반기에 개정이 이뤄지면 관련 규정을 하반기부터 국가직 전환을 했다 하지만 법안이 이달 국회를 통과하지 못하면 연내 불투명한 상황이다 등을 통해 구조 구급 생활안전 응급의료 업무가 상당히 지방 향상과 발전을 위해 정책과 제도로 뒷받침하고 지방은 위한 역할을 한다”고 밝힌 있다 \n",
            "실제 요약문 : 국회를 통과하지 못하고 있다 이른바 지방자치단체에 두는 관한 법률 4가지 법률을 한다 이들 법률 개정안은 지난해 11월 국회 최종 이르지 못했다 당초 상반기에 개정이 이뤄지면 관련 규정을 하반기부터 국가직 전환을 했다 하지만 법안이 이달 국회를 통과하지 못하면 연내 불투명한 상황이다 등을 통해 구조 구급 생활안전 응급의료 업무가 상당히 지방 향상과 발전을 위해 정책과 제도로 지방은 위한 역할을 한다”고 밝힌 있다 \n",
            "예측 요약문 :  전남 지난 따르면 위해 위해 위해 위해 밝혔다 밝혔다 밝혔다 밝혔다 밝혔다 밝혔다 밝혔다 밝혔다 밝혔다 밝혔다 밝혔다 밝혔다 밝혔다 위해 위해 있다 있다 있다 있다 있다 이번 통해 통해 통해 통해 통해 있는 있는 있는 있는\n",
            "\n",
            "\n",
            "원문 :  홍봄 액션 15세 관람가 받은 영화 새로운 이야기를 그렸다 영화에서 꿈꾸는 거듭된 좌절을 삶은 멀리서 봤을 사람을 즐겁게 하는 하지만 영화에서 그의 삶은 극단적 감정 사이에서 없는 있다 들어가면 가짜 이름으로 담겨 있다 거짓 웃음 자신을 가려 장면이 가져오는 그대로 같다 웃음을 보며 감정을 동시에 느끼게 된다 시리즈 사상 가장 두려운 있을 정도로 영화는 영화 시리즈의 감독이 연출과 제작을 맡았다 감독 성공한 배우 제작에 참여했다 감독은 현실로 어둡고 넘치는 아름답게 그려 낸다 앞서 등장한 작품인 그를 만날 있다 보면 차가운 간직한 최초로 설명하고 있다 굉장히 있게 불안정한 안에서 겪는 일들이 때로는 자신의 고통을 타인에게 다가온다 결국 통해 나타나는 결여된 사회에 대한 메시지를 남긴다 그저 사람들에게 웃음을 주고 싶어 되고 싶어 하지만 결여된 사람들은 그를 사회적 꿈이 절박한 남자 그가 이상 못하게 되는 상황에 접어들면서 진짜 드러내는 순간 관객들은 된다 영화 2일 \n",
            "실제 요약문 : 작품인 그를 만날 있다 보면 차가운 간직한 최초로 설명하고 있다 굉장히 있게 불안정한 안에서 겪는 일들이 때로는 자신의 고통을 타인에게 다가온다 결국 통해 나타나는 공감이 결여된 사회에 대한 메시지를 남긴다 그저 사람들에게 웃음을 주고 싶어 되고 싶어 하지만 공감이 결여된 사람들은 그를 사회적 꿈이 절박한 남자 그가 이상 못하게 되는 상황에 접어들면서 진짜 드러내는 순간 관객들은 된다 영화 2일 개봉한다 \n",
            "예측 요약문 :  지난 지난 따르면 위해 위해 위해 위해 밝혔다 밝혔다 밝혔다 밝혔다 밝혔다 밝혔다 밝혔다 밝혔다 밝혔다 밝혔다 밝혔다 밝혔다 밝혔다 위해 위해 있다 있다 있다 있다 있다 통해 통해 통해 통해 통해 통해 통해 통해 있는 있는 있는\n",
            "\n",
            "\n",
            "원문 :  윤부섭 대구한의대 다문화 가족 연수 심포지엄 세계 각국 비교 발전방향 다문화가족 연수 체험을 하고 있는 다문화 학생들 대구한의대 대구시 함께 최근 세미나실에서 대한 다문화 가족 연수 심포지엄’을 개최했다 이번 다문화 학생들에게 우리나라 세계 각국의 대해 설명하고 우리나라 통한 발표 체험 등을 통해 중요성에 대한 공감대를 형성하기 위해 실시했다 특히 이번 주제는 ‘우리 동네 대구한의대 학생들이 중국 베트남 캄보디아 일본의 대해 발표하고 비교하는 등의 토론 시간을 가졌다 중국의 대해 발표한 중국의 최고 점이 한국의 대통령 발표했다 베트남의 대해 발표한 국민의 위원 가능해 선거에 대한 참여율이 낮고 정치 관심이 말했다 학과장은 통해 결혼이주여성 다문화 학생들이 한국과 여러 국가의 대해 자세히 알아보고 특히 나라의 대한 발전방향을 \n",
            "실제 요약문 : 대한 공감대를 형성하기 위해 실시했다 특히 이번 주제는 ‘우리 동네 대구한의대 학생들이 중국 베트남 캄보디아 일본의 대해 발표하고 비교하는 등의 토론 시간을 가졌다 중국의 대해 발표한 중국의 최고 점이 한국의 대통령 발표했다 베트남의 대해 발표한 국민의 위원 가능해 선거에 대한 참여율이 낮고 정치 관심이 말했다 학과장은 통해 결혼이주여성 다문화 학생들이 한국과 여러 국가의 대해 자세히 알아보고 특히 나라의 대한 발전방향을 \n",
            "예측 요약문 :  전남 지난 따르면 위해 위해 위해 위해 밝혔다 밝혔다 밝혔다 밝혔다 밝혔다 밝혔다 밝혔다 밝혔다 밝혔다 밝혔다 밝혔다 밝혔다 밝혔다 위해 위해 있다 있다 있다 있다 있다 이번 통해 통해 통해 통해 통해 통해 있는 있는 있는\n",
            "\n",
            "\n",
            "원문 :  7일 인천시 미추홀구 문을 열었다 7일 인천시 미추홀구 열려 진영 비롯해 내빈들이 제막식을 하고 있다 정부의 국가기관 청사 사업으로 마련된 건물은 지하 지상 15층 규모로 6개 기관이 입주해 있다 이진우 ljw kihoilbo co kr 정부의 국가기관 사업의 일환으로 마련된 사업비 원을 들여 터에 총면적 지하 1층·지상 15층 규모로 6개 기관이 이곳에는 공무원이 근무할 예정이다 친환경 불린다 배출 저감 사업의 일환으로 시스템 led 등을 설치했다 시설들을 기반으로 1 등급 녹색건축 장애물 없는 생활환경 지능형 건축물 1등급 등을 획득했다 또한 인접해 접근성이 뛰어나고 주변 조화를 고려하는 시민들이 이용하기 편한 전망이다 진영 행정안전부 장관은 편리한 지역주민들에게 보다 편리한 행정서비스를 제공할 것이라며 특히 개발사업과 연계해 지역 균형발전에 크게 기여할 것으로 기대한다고 말했다 장원석 stone \n",
            "실제 요약문 : 공무원이 근무할 예정이다 친환경 불린다 탄소 배출 저감 사업의 일환으로 시스템 led 등을 설치했다 시설들을 기반으로 1 등급 녹색건축 장애물 없는 생활환경 지능형 건축물 1등급 등을 획득했다 또한 인접해 접근성이 뛰어나고 주변 조화를 고려하는 시민들이 이용하기 편한 전망이다 진영 행정안전부 장관은 편리한 지역주민들에게 보다 편리한 행정서비스를 제공할 것이라며 특히 개발사업과 연계해 지역 균형발전에 크게 기여할 것으로 기대한다고 말했다 장원석 stone \n",
            "예측 요약문 :  지난 지난 따르면 위해 위해 위해 위해 밝혔다 밝혔다 밝혔다 밝혔다 밝혔다 밝혔다 밝혔다 밝혔다 밝혔다 밝혔다 밝혔다 밝혔다 밝혔다 위해 위해 있다 있다 있다 있다 있다 있다 통해 통해 통해 통해 통해 통해 있는 있는 있는 있는\n",
            "\n",
            "\n"
          ],
          "name": "stdout"
        }
      ]
    },
    {
      "cell_type": "code",
      "metadata": {
        "id": "lVYJCDi9f2LX"
      },
      "source": [
        ""
      ],
      "execution_count": null,
      "outputs": []
    },
    {
      "cell_type": "code",
      "metadata": {
        "id": "Tb_WoXy_f2LX"
      },
      "source": [
        ""
      ],
      "execution_count": null,
      "outputs": []
    }
  ]
}